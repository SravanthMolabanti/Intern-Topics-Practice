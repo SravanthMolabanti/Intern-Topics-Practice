{
 "cells": [
  {
   "cell_type": "code",
   "execution_count": 0,
   "metadata": {
    "application/vnd.databricks.v1+cell": {
     "cellMetadata": {
      "byteLimit": 2048000,
      "rowLimit": 10000
     },
     "inputWidgets": {},
     "nuid": "de9c40c5-8032-468c-9277-38cefc3132c3",
     "showTitle": false,
     "tableResultSettingsMap": {},
     "title": ""
    }
   },
   "outputs": [
    {
     "output_type": "stream",
     "name": "stdout",
     "output_type": "stream",
     "text": [
      "Python interpreter will be restarted.\nRequirement already satisfied: kaggle in /local_disk0/.ephemeral_nfs/envs/pythonEnv-b9644803-0b70-41d1-b76a-40fe12fd56e6/lib/python3.9/site-packages (1.6.17)\nRequirement already satisfied: python-slugify in /local_disk0/.ephemeral_nfs/envs/pythonEnv-b9644803-0b70-41d1-b76a-40fe12fd56e6/lib/python3.9/site-packages (from kaggle) (8.0.4)\nRequirement already satisfied: tqdm in /local_disk0/.ephemeral_nfs/envs/pythonEnv-b9644803-0b70-41d1-b76a-40fe12fd56e6/lib/python3.9/site-packages (from kaggle) (4.67.1)\nRequirement already satisfied: requests in /databricks/python3/lib/python3.9/site-packages (from kaggle) (2.27.1)\nRequirement already satisfied: urllib3 in /databricks/python3/lib/python3.9/site-packages (from kaggle) (1.26.9)\nRequirement already satisfied: python-dateutil in /databricks/python3/lib/python3.9/site-packages (from kaggle) (2.8.2)\nRequirement already satisfied: six>=1.10 in /databricks/python3/lib/python3.9/site-packages (from kaggle) (1.16.0)\nRequirement already satisfied: certifi>=2023.7.22 in /local_disk0/.ephemeral_nfs/envs/pythonEnv-b9644803-0b70-41d1-b76a-40fe12fd56e6/lib/python3.9/site-packages (from kaggle) (2025.1.31)\nRequirement already satisfied: bleach in /databricks/python3/lib/python3.9/site-packages (from kaggle) (4.1.0)\nRequirement already satisfied: packaging in /databricks/python3/lib/python3.9/site-packages (from bleach->kaggle) (21.3)\nRequirement already satisfied: webencodings in /databricks/python3/lib/python3.9/site-packages (from bleach->kaggle) (0.5.1)\nRequirement already satisfied: pyparsing!=3.0.5,>=2.0.2 in /databricks/python3/lib/python3.9/site-packages (from packaging->bleach->kaggle) (3.0.4)\nRequirement already satisfied: text-unidecode>=1.3 in /local_disk0/.ephemeral_nfs/envs/pythonEnv-b9644803-0b70-41d1-b76a-40fe12fd56e6/lib/python3.9/site-packages (from python-slugify->kaggle) (1.3)\nRequirement already satisfied: charset-normalizer~=2.0.0 in /databricks/python3/lib/python3.9/site-packages (from requests->kaggle) (2.0.4)\nRequirement already satisfied: idna<4,>=2.5 in /databricks/python3/lib/python3.9/site-packages (from requests->kaggle) (3.3)\nPython interpreter will be restarted.\n"
     ]
    }
   ],
   "source": [
    "   pip install kaggle\n"
   ]
  },
  {
   "cell_type": "code",
   "execution_count": 0,
   "metadata": {
    "application/vnd.databricks.v1+cell": {
     "cellMetadata": {
      "byteLimit": 2048000,
      "rowLimit": 10000
     },
     "inputWidgets": {},
     "nuid": "3d31a833-41c4-4379-bf42-e1cf9571fc74",
     "showTitle": false,
     "tableResultSettingsMap": {},
     "title": ""
    }
   },
   "outputs": [],
   "source": [
    "   import pandas as pd\n",
    "\n",
    "   import kaggle\n"
   ]
  },
  {
   "cell_type": "code",
   "execution_count": 0,
   "metadata": {
    "application/vnd.databricks.v1+cell": {
     "cellMetadata": {
      "byteLimit": 2048000,
      "rowLimit": 10000
     },
     "inputWidgets": {},
     "nuid": "fe1da47c-76fd-4784-aaf4-cc9ec9a309f1",
     "showTitle": false,
     "tableResultSettingsMap": {},
     "title": ""
    }
   },
   "outputs": [
    {
     "output_type": "stream",
     "name": "stdout",
     "output_type": "stream",
     "text": [
      "Dataset URL: https://www.kaggle.com/datasets/aemyjutt/salesdata\n"
     ]
    }
   ],
   "source": [
    "   # Replace with your dataset's username and name\n",
    "\n",
    "   # kaggle.datasets.download_dataset(\"aemyjutt/salesdata\")\n",
    "kaggle.api.dataset_download_files(\"aemyjutt/salesdata\")"
   ]
  },
  {
   "cell_type": "code",
   "execution_count": 0,
   "metadata": {
    "application/vnd.databricks.v1+cell": {
     "cellMetadata": {
      "byteLimit": 2048000,
      "rowLimit": 10000
     },
     "inputWidgets": {},
     "nuid": "17d6060d-cd26-4859-8337-852f8f20507f",
     "showTitle": false,
     "tableResultSettingsMap": {},
     "title": ""
    }
   },
   "outputs": [],
   "source": [
    "   # Assuming the downloaded file is a CSV\n",
    "\n",
    "   df = pd.read_csv(\"sales_data.csv\") \n"
   ]
  },
  {
   "cell_type": "code",
   "execution_count": 0,
   "metadata": {
    "application/vnd.databricks.v1+cell": {
     "cellMetadata": {
      "byteLimit": 2048000,
      "rowLimit": 10000
     },
     "inputWidgets": {},
     "nuid": "57a799e4-ed35-40cf-bf2d-a32ec7f3234f",
     "showTitle": false,
     "tableResultSettingsMap": {},
     "title": ""
    }
   },
   "outputs": [
    {
     "output_type": "stream",
     "name": "stdout",
     "output_type": "stream",
     "text": [
      "Python interpreter will be restarted.\nRequirement already satisfied: kaggle in /local_disk0/.ephemeral_nfs/envs/pythonEnv-b9644803-0b70-41d1-b76a-40fe12fd56e6/lib/python3.9/site-packages (1.6.17)\nRequirement already satisfied: python-slugify in /local_disk0/.ephemeral_nfs/envs/pythonEnv-b9644803-0b70-41d1-b76a-40fe12fd56e6/lib/python3.9/site-packages (from kaggle) (8.0.4)\nRequirement already satisfied: tqdm in /local_disk0/.ephemeral_nfs/envs/pythonEnv-b9644803-0b70-41d1-b76a-40fe12fd56e6/lib/python3.9/site-packages (from kaggle) (4.67.1)\nRequirement already satisfied: requests in /databricks/python3/lib/python3.9/site-packages (from kaggle) (2.27.1)\nRequirement already satisfied: urllib3 in /databricks/python3/lib/python3.9/site-packages (from kaggle) (1.26.9)\nRequirement already satisfied: python-dateutil in /databricks/python3/lib/python3.9/site-packages (from kaggle) (2.8.2)\nRequirement already satisfied: six>=1.10 in /databricks/python3/lib/python3.9/site-packages (from kaggle) (1.16.0)\nRequirement already satisfied: certifi>=2023.7.22 in /local_disk0/.ephemeral_nfs/envs/pythonEnv-b9644803-0b70-41d1-b76a-40fe12fd56e6/lib/python3.9/site-packages (from kaggle) (2025.1.31)\nRequirement already satisfied: bleach in /databricks/python3/lib/python3.9/site-packages (from kaggle) (4.1.0)\nRequirement already satisfied: packaging in /databricks/python3/lib/python3.9/site-packages (from bleach->kaggle) (21.3)\nRequirement already satisfied: webencodings in /databricks/python3/lib/python3.9/site-packages (from bleach->kaggle) (0.5.1)\nRequirement already satisfied: pyparsing!=3.0.5,>=2.0.2 in /databricks/python3/lib/python3.9/site-packages (from packaging->bleach->kaggle) (3.0.4)\nRequirement already satisfied: text-unidecode>=1.3 in /local_disk0/.ephemeral_nfs/envs/pythonEnv-b9644803-0b70-41d1-b76a-40fe12fd56e6/lib/python3.9/site-packages (from python-slugify->kaggle) (1.3)\nRequirement already satisfied: charset-normalizer~=2.0.0 in /databricks/python3/lib/python3.9/site-packages (from requests->kaggle) (2.0.4)\nRequirement already satisfied: idna<4,>=2.5 in /databricks/python3/lib/python3.9/site-packages (from requests->kaggle) (3.3)\nPython interpreter will be restarted.\nPython interpreter will be restarted.\nCollecting snowflake-connector-python\n  Downloading snowflake_connector_python-3.13.2-cp39-cp39-manylinux_2_17_x86_64.manylinux2014_x86_64.whl (2.5 MB)\nRequirement already satisfied: filelock<4,>=3.5 in /usr/local/lib/python3.9/dist-packages (from snowflake-connector-python) (3.9.0)\nRequirement already satisfied: certifi>=2017.4.17 in /local_disk0/.ephemeral_nfs/envs/pythonEnv-b9644803-0b70-41d1-b76a-40fe12fd56e6/lib/python3.9/site-packages (from snowflake-connector-python) (2025.1.31)\nCollecting pyOpenSSL<25.0.0,>=22.0.0\n  Downloading pyOpenSSL-24.3.0-py3-none-any.whl (56 kB)\nCollecting pyjwt<3.0.0\n  Downloading PyJWT-2.10.1-py3-none-any.whl (22 kB)\nRequirement already satisfied: packaging in /databricks/python3/lib/python3.9/site-packages (from snowflake-connector-python) (21.3)\nCollecting sortedcontainers>=2.4.0\n  Downloading sortedcontainers-2.4.0-py2.py3-none-any.whl (29 kB)\nRequirement already satisfied: idna<4,>=2.5 in /databricks/python3/lib/python3.9/site-packages (from snowflake-connector-python) (3.3)\nCollecting tomlkit\n  Downloading tomlkit-0.13.2-py3-none-any.whl (37 kB)\nCollecting typing_extensions<5,>=4.3\n  Downloading typing_extensions-4.12.2-py3-none-any.whl (37 kB)\nCollecting asn1crypto<2.0.0,>0.24.0\n  Downloading asn1crypto-1.5.1-py2.py3-none-any.whl (105 kB)\nRequirement already satisfied: urllib3<2.0.0,>=1.21.1 in /databricks/python3/lib/python3.9/site-packages (from snowflake-connector-python) (1.26.9)\nRequirement already satisfied: platformdirs<5.0.0,>=2.6.0 in /usr/local/lib/python3.9/dist-packages (from snowflake-connector-python) (2.6.2)\nRequirement already satisfied: pytz in /databricks/python3/lib/python3.9/site-packages (from snowflake-connector-python) (2021.3)\nRequirement already satisfied: cffi<2.0.0,>=1.9 in /databricks/python3/lib/python3.9/site-packages (from snowflake-connector-python) (1.15.0)\nRequirement already satisfied: charset_normalizer<4,>=2 in /databricks/python3/lib/python3.9/site-packages (from snowflake-connector-python) (2.0.4)\nRequirement already satisfied: cryptography>=3.1.0 in /databricks/python3/lib/python3.9/site-packages (from snowflake-connector-python) (3.4.8)\nRequirement already satisfied: requests<3.0.0 in /databricks/python3/lib/python3.9/site-packages (from snowflake-connector-python) (2.27.1)\nRequirement already satisfied: pycparser in /databricks/python3/lib/python3.9/site-packages (from cffi<2.0.0,>=1.9->snowflake-connector-python) (2.21)\nCollecting cryptography>=3.1.0\n  Downloading cryptography-44.0.0-cp39-abi3-manylinux_2_28_x86_64.whl (4.2 MB)\nRequirement already satisfied: pyparsing!=3.0.5,>=2.0.2 in /databricks/python3/lib/python3.9/site-packages (from packaging->snowflake-connector-python) (3.0.4)\nInstalling collected packages: cryptography, typing-extensions, tomlkit, sortedcontainers, pyOpenSSL, pyjwt, asn1crypto, snowflake-connector-python\n  Attempting uninstall: cryptography\n    Found existing installation: cryptography 3.4.8\n    Not uninstalling cryptography at /databricks/python3/lib/python3.9/site-packages, outside environment /local_disk0/.ephemeral_nfs/envs/pythonEnv-b9644803-0b70-41d1-b76a-40fe12fd56e6\n    Can't uninstall 'cryptography'. No files were found to uninstall.\n  Attempting uninstall: typing-extensions\n    Found existing installation: typing-extensions 4.1.1\n    Not uninstalling typing-extensions at /databricks/python3/lib/python3.9/site-packages, outside environment /local_disk0/.ephemeral_nfs/envs/pythonEnv-b9644803-0b70-41d1-b76a-40fe12fd56e6\n    Can't uninstall 'typing-extensions'. No files were found to uninstall.\nSuccessfully installed asn1crypto-1.5.1 cryptography-44.0.0 pyOpenSSL-24.3.0 pyjwt-2.10.1 snowflake-connector-python-3.13.2 sortedcontainers-2.4.0 tomlkit-0.13.2 typing-extensions-4.12.2\nPython interpreter will be restarted.\n"
     ]
    }
   ],
   "source": [
    "%pip install kaggle\n",
    "%pip install snowflake-connector-python"
   ]
  },
  {
   "cell_type": "code",
   "execution_count": 0,
   "metadata": {
    "application/vnd.databricks.v1+cell": {
     "cellMetadata": {
      "byteLimit": 2048000,
      "rowLimit": 10000
     },
     "inputWidgets": {},
     "nuid": "0d4aecbc-fddd-4a91-b6b6-37d545d9a1d8",
     "showTitle": false,
     "tableResultSettingsMap": {},
     "title": ""
    }
   },
   "outputs": [
    {
     "output_type": "stream",
     "name": "stdout",
     "output_type": "stream",
     "text": [
      "Setup successful\n"
     ]
    }
   ],
   "source": [
    "import json\n",
    "import os\n",
    "\n",
    "def kaggle_auth_setup(kaggle_auth, output_file):\n",
    "    try:\n",
    "        data = json.loads(kaggle_auth)  # Parse JSON string\n",
    "        \n",
    "        # Ensure the directory exists\n",
    "        os.makedirs(os.path.dirname(output_file), exist_ok=True)\n",
    "        \n",
    "        # Write to the file\n",
    "        with open(output_file, 'w') as file:\n",
    "            json.dump(data, file, indent=4)\n",
    "        \n",
    "        print('Setup successful')\n",
    "    except Exception as e:\n",
    "        print(f\"Setup Failed: {e}\")\n",
    "\n",
    "kaggle_auth_setup('{\"username\":\"sravanthmolabanti\",\"key\":\"4e1b14b5769ccf1af478697619ef0a68\"}', '/dbfs/FileStore/kaggle/kaggle.json')\n",
    "\n"
   ]
  },
  {
   "cell_type": "code",
   "execution_count": 0,
   "metadata": {
    "application/vnd.databricks.v1+cell": {
     "cellMetadata": {
      "byteLimit": 2048000,
      "rowLimit": 10000
     },
     "inputWidgets": {},
     "nuid": "fed25410-306c-4bb7-97ca-06b8624fcce2",
     "showTitle": false,
     "tableResultSettingsMap": {},
     "title": ""
    }
   },
   "outputs": [
    {
     "output_type": "stream",
     "name": "stdout",
     "output_type": "stream",
     "text": [
      "{\n    \"username\": \"sravanthmolabanti\",\n    \"key\": \"4e1b14b5769ccf1af478697619ef0a68\"\n}"
     ]
    }
   ],
   "source": [
    "%sh\n",
    "cat /dbfs/FileStore/kaggle/kaggle.json"
   ]
  },
  {
   "cell_type": "code",
   "execution_count": 0,
   "metadata": {
    "application/vnd.databricks.v1+cell": {
     "cellMetadata": {
      "byteLimit": 2048000,
      "rowLimit": 10000
     },
     "inputWidgets": {},
     "nuid": "b8376ef1-b394-4f73-85ba-d9a92a7d4ca2",
     "showTitle": false,
     "tableResultSettingsMap": {},
     "title": ""
    }
   },
   "outputs": [
    {
     "output_type": "stream",
     "name": "stdout",
     "output_type": "stream",
     "text": [
      "Warning: Your Kaggle API key is readable by other users on this system! To fix this, you can run 'chmod 600 /root/.kaggle/kaggle.json'\nref                                                           title                                              size  lastUpdated          downloadCount  voteCount  usabilityRating  \n------------------------------------------------------------  ------------------------------------------------  -----  -------------------  -------------  ---------  ---------------  \nanandshaw2001/netflix-movies-and-tv-shows                     Netflix Movies and TV Shows                         1MB  2025-01-03 10:33:01          13338        346  1.0              \nasinow/car-price-dataset                                      Car Price Dataset                                 135KB  2025-01-26 19:53:28           2858         42  1.0              \nankushpanday1/alzheimers-prediction-dataset-global            Alzheimer’s Prediction Dataset (Global)             1MB  2025-01-30 14:38:39           1201         29  1.0              \nhimelsarder/road-accident-survival-dataset                    Road Accident Survival Dataset                      1KB  2025-01-18 06:00:32           1957         26  1.0              \nmuhammadhabibna/hospital-data-in-indonesia                    Hospital data in Indonesia                        144KB  2025-02-01 04:11:47            602         25  1.0              \nasinow/airplane-price-dataset                                 Airplane Price Dataset                            238KB  2025-01-28 18:36:41           2028         33  0.9411765        \nankushpanday1/global-road-accidents-dataset                   Global Road Accidents Dataset                      12MB  2025-01-25 04:22:29           2262         57  1.0              \nankushpanday1/usa-statewise-daily-temperature-december-2024   USA Statewise Daily Temperature: December 2024      6KB  2025-01-28 05:35:09            829         24  1.0              \noktayrdeki/traffic-accidents                                  Traffic Accidents                                   5MB  2025-01-20 10:33:44           3050         63  1.0              \nshriyashjagtap/heart-attack-risk-assessment-dataset           Heart Attack Risk Assessment Dataset               49KB  2025-01-31 15:41:10            852         33  1.0              \nashaychoudhary/dataset-mba-decision-after-bachelors           Dataset: MBA Decision After Bachelor's            284KB  2025-01-17 04:41:28           2963         67  1.0              \nashaychoudhary/the-power-of-social-media-engagement           The Power Of Social Media Engagement               25KB  2025-01-31 05:08:21            642         21  1.0              \nashaychoudhary/anxiety-attack-factors-symptoms-and-severity   Anxiety Attack : Factors, Symptoms, and Severity  244KB  2025-01-19 11:56:21           3225         57  1.0              \nsamithsachidanandan/gdp-by-country-1960-2023                  GDP By Country 1960 - 2023 🌍                       80KB  2025-01-24 16:26:01            916         26  1.0              \nankushpanday1/pancreatic-cancer-prediction-dataset            Pancreatic Cancer Prediction Dataset              599KB  2025-01-31 13:24:14            448         25  1.0              \nruchikakumbhar/placement-prediction-dataset                   Placement Prediction Dataset                      100KB  2025-01-20 06:48:57           1661         31  1.0              \nsrgiomanhes/steam-games-dataset-2025                          Steam games Dataset 2025                            4MB  2025-01-27 20:07:57            978         34  1.0              \nochid7/predict-the-weather                                    Predict the weather                                 2KB  2025-01-15 13:01:04           1031         22  1.0              \nahmedmohamed2003/cafe-sales-dirty-data-for-cleaning-training  Cafe Sales - Dirty Data for Cleaning Training     111KB  2025-01-17 19:49:39           3094         62  1.0              \nmichaelmatta0/movies-ultimate-metrics-features-and-metadata   Movies Ultimate Metrics, Features and Statistics    3MB  2025-01-30 09:29:26            589         22  1.0              \n"
     ]
    }
   ],
   "source": [
    "%sh\n",
    "kaggle datasets list"
   ]
  },
  {
   "cell_type": "code",
   "execution_count": 0,
   "metadata": {
    "application/vnd.databricks.v1+cell": {
     "cellMetadata": {
      "byteLimit": 2048000,
      "rowLimit": 10000
     },
     "inputWidgets": {},
     "nuid": "9fca95b1-0aff-4495-99a5-cd383568bade",
     "showTitle": false,
     "tableResultSettingsMap": {},
     "title": ""
    }
   },
   "outputs": [
    {
     "output_type": "stream",
     "name": "stdout",
     "output_type": "stream",
     "text": [
      "Warning: Your Kaggle API key is readable by other users on this system! To fix this, you can run 'chmod 600 /root/.kaggle/kaggle.json'\nDataset URL: https://www.kaggle.com/datasets/aemyjutt/salesdata\nLicense(s): CC0-1.0\nDownloading salesdata.zip to /dbfs/FileStore/kaggle\n\n  0%|          | 0.00/4.57M [00:00<?, ?B/s]\n100%|██████████| 4.57M/4.57M [00:00<00:00, 54.4MB/s]\n\n"
     ]
    }
   ],
   "source": [
    "%sh\n",
    "kaggle datasets download -d aemyjutt/salesdata -p /dbfs/FileStore/kaggle/ --unzip\n"
   ]
  },
  {
   "cell_type": "code",
   "execution_count": 0,
   "metadata": {
    "application/vnd.databricks.v1+cell": {
     "cellMetadata": {
      "byteLimit": 2048000,
      "rowLimit": 10000
     },
     "inputWidgets": {},
     "nuid": "9731fe78-f5ba-4601-b879-4f6c06792068",
     "showTitle": false,
     "tableResultSettingsMap": {},
     "title": ""
    }
   },
   "outputs": [
    {
     "output_type": "stream",
     "name": "stdout",
     "output_type": "stream",
     "text": [
      "kaggle.json\nsales_data.csv\n"
     ]
    }
   ],
   "source": [
    "%sh\n",
    "ls /dbfs/FileStore/kaggle/\n"
   ]
  },
  {
   "cell_type": "code",
   "execution_count": 0,
   "metadata": {
    "application/vnd.databricks.v1+cell": {
     "cellMetadata": {
      "byteLimit": 2048000,
      "rowLimit": 10000
     },
     "inputWidgets": {},
     "nuid": "37c4ef75-cd72-4256-8951-0e0524c785f9",
     "showTitle": false,
     "tableResultSettingsMap": {},
     "title": ""
    }
   },
   "outputs": [
    {
     "output_type": "stream",
     "name": "stdout",
     "output_type": "stream",
     "text": [
      "kaggle.json\nsales_data.csv\n"
     ]
    }
   ],
   "source": [
    "%sh\n",
    "ls /dbfs/FileStore/kaggle/\n"
   ]
  },
  {
   "cell_type": "code",
   "execution_count": 0,
   "metadata": {
    "application/vnd.databricks.v1+cell": {
     "cellMetadata": {
      "byteLimit": 2048000,
      "rowLimit": 10000
     },
     "inputWidgets": {},
     "nuid": "6998bac1-612a-4802-bf25-fb5d204f92da",
     "showTitle": false,
     "tableResultSettingsMap": {},
     "title": ""
    }
   },
   "outputs": [],
   "source": [
    "df = spark.read.csv(\"dbfs:/FileStore/kaggle/sales_data.csv\", header=True, inferSchema=True)\n",
    "df.show()\n"
   ]
  },
  {
   "cell_type": "code",
   "execution_count": 0,
   "metadata": {
    "application/vnd.databricks.v1+cell": {
     "cellMetadata": {
      "byteLimit": 2048000,
      "rowLimit": 10000
     },
     "inputWidgets": {},
     "nuid": "20c03885-ebcf-4e22-a32c-60be65464867",
     "showTitle": false,
     "tableResultSettingsMap": {},
     "title": ""
    }
   },
   "outputs": [
    {
     "output_type": "stream",
     "name": "stdout",
     "output_type": "stream",
     "text": [
      "total 25M\n-rw-r--r-- 1 root root  86 Feb  4 05:37 kaggle.json\n-rw-r--r-- 1 root root 25M Feb  4 05:39 sales_data.csv\n"
     ]
    }
   ],
   "source": [
    "%sh\n",
    "ls -lh /dbfs/FileStore/kaggle/\n"
   ]
  },
  {
   "cell_type": "code",
   "execution_count": 0,
   "metadata": {
    "application/vnd.databricks.v1+cell": {
     "cellMetadata": {
      "byteLimit": 2048000,
      "rowLimit": 10000
     },
     "inputWidgets": {},
     "nuid": "329c223e-a742-405c-8af8-cec1518701ab",
     "showTitle": false,
     "tableResultSettingsMap": {},
     "title": ""
    }
   },
   "outputs": [
    {
     "output_type": "stream",
     "name": "stdout",
     "output_type": "stream",
     "text": [
      "Order Date,Order ID,Product,Product_ean,catégorie,Purchase Address,Quantity Ordered,Price Each,Cost price,turnover,margin\n2019-01-22 21:25:00,141234,iPhone,5638008983335.0,Vêtements,\"944 Walnut St, Boston, MA 02215\",1,700.0,231.0,700.0,469.0\n2019-01-28 14:15:00,141235,Lightning Charging Cable,5563319511488.0,Alimentation,\"185 Maple St, Portland, OR 97035\",1,14.95,7.475,14.95,7.475\n2019-01-17 13:33:00,141236,Wired Headphones,2113973395220.0,Vêtements,\"538 Adams St, San Francisco, CA 94016\",2,11.99,5.995,23.98,11.99\n2019-01-05 20:33:00,141237,27in FHD Monitor,3069156759167.0,Sports,\"738 10th St, Los Angeles, CA 90001\",1,149.99,97.49350000000001,149.99,52.4965\n2019-01-25 11:59:00,141238,Wired Headphones,9692680938163.0,Électronique,\"387 10th St, Austin, TX 73301\",1,11.99,5.995,11.99,5.995\n2019-01-29 20:22:00,141239,AAA Batteries (4-pack),2953868554188.0,Alimentation,\"775 Willow St, San Francisco, CA 94016\",1,2.99,1.495,2.99,1.495\n2019-01-26 12:16:00,141240,27in 4K Gaming Monitor,5173670800988.0,Vêtements,\"979 Park St, Los Angeles, CA 90001\",1,389.99,128.69670000000002,389.99,261.2933\n2019-01-05 12:04:00,141241,USB-C Charging Cable,8051736777568.0,Vêtements,\"181 6th St, San Francisco, CA 94016\",1,11.95,5.975,11.95,5.975\n2019-01-01 10:30:00,141242,Bose SoundSport Headphones,1508418177978.0,Électronique,\"867 Willow St, Los Angeles, CA 90001\",1,99.99,49.995,99.99,49.995\n"
     ]
    }
   ],
   "source": [
    "%sh\n",
    "head /dbfs/FileStore/kaggle/sales_data.csv\n"
   ]
  },
  {
   "cell_type": "code",
   "execution_count": 0,
   "metadata": {
    "application/vnd.databricks.v1+cell": {
     "cellMetadata": {
      "byteLimit": 2048000,
      "rowLimit": 10000
     },
     "inputWidgets": {},
     "nuid": "0ec55570-24ed-40c4-b436-cb372cb127a5",
     "showTitle": false,
     "tableResultSettingsMap": {},
     "title": ""
    }
   },
   "outputs": [
    {
     "output_type": "stream",
     "name": "stdout",
     "output_type": "stream",
     "text": [
      "Warning: Your Kaggle API key is readable by other users on this system! To fix this, you can run 'chmod 600 /root/.kaggle/kaggle.json'\nDataset URL: https://www.kaggle.com/datasets/aemyjutt/salesdata\nLicense(s): CC0-1.0\nDownloading salesdata.zip to /dbfs/FileStore/kaggle\n\n  0%|          | 0.00/4.57M [00:00<?, ?B/s]\n100%|██████████| 4.57M/4.57M [00:00<00:00, 50.6MB/s]\n\n"
     ]
    }
   ],
   "source": [
    "%sh\n",
    "kaggle datasets download -d aemyjutt/salesdata -p /dbfs/FileStore/kaggle/ --unzip\n"
   ]
  },
  {
   "cell_type": "code",
   "execution_count": 0,
   "metadata": {
    "application/vnd.databricks.v1+cell": {
     "cellMetadata": {
      "byteLimit": 2048000,
      "rowLimit": 10000
     },
     "inputWidgets": {},
     "nuid": "6710e1e1-36a2-496d-9a59-591124dfa7fa",
     "showTitle": false,
     "tableResultSettingsMap": {},
     "title": ""
    }
   },
   "outputs": [],
   "source": [
    "%fs ls dbfs:/FileStore/kaggle/\n"
   ]
  },
  {
   "cell_type": "code",
   "execution_count": 0,
   "metadata": {
    "application/vnd.databricks.v1+cell": {
     "cellMetadata": {
      "byteLimit": 2048000,
      "rowLimit": 10000
     },
     "inputWidgets": {},
     "nuid": "883f7644-ef49-4aed-8a9c-12681bcc2bbd",
     "showTitle": false,
     "tableResultSettingsMap": {},
     "title": ""
    }
   },
   "outputs": [],
   "source": [
    "df = spark.read.csv(\"dbfs:/FileStore/kaggle/sales_data.csv\", header=True, inferSchema=True)\n",
    "df.show()\n"
   ]
  },
  {
   "cell_type": "code",
   "execution_count": 0,
   "metadata": {
    "application/vnd.databricks.v1+cell": {
     "cellMetadata": {
      "byteLimit": 2048000,
      "rowLimit": 10000
     },
     "inputWidgets": {},
     "nuid": "8ce9a7cb-c8f0-4a05-8438-6f3623757998",
     "showTitle": false,
     "tableResultSettingsMap": {},
     "title": ""
    }
   },
   "outputs": [
    {
     "output_type": "stream",
     "name": "stdout",
     "output_type": "stream",
     "text": [
      "mv: cannot stat '/dbfs/FileStore/kaggle/salesdata/*': No such file or directory\n"
     ]
    }
   ],
   "source": [
    "%sh\n",
    "mv /dbfs/FileStore/kaggle/salesdata/* /dbfs/FileStore/kaggle/\n"
   ]
  },
  {
   "cell_type": "code",
   "execution_count": 0,
   "metadata": {
    "application/vnd.databricks.v1+cell": {
     "cellMetadata": {
      "byteLimit": 2048000,
      "rowLimit": 10000
     },
     "inputWidgets": {},
     "nuid": "332d82eb-3c5a-455f-9c36-ea47254a0d37",
     "showTitle": false,
     "tableResultSettingsMap": {},
     "title": ""
    }
   },
   "outputs": [],
   "source": [
    "%fs ls dbfs:/FileStore/kaggle/\n"
   ]
  },
  {
   "cell_type": "code",
   "execution_count": 0,
   "metadata": {
    "application/vnd.databricks.v1+cell": {
     "cellMetadata": {
      "byteLimit": 2048000,
      "rowLimit": 10000
     },
     "inputWidgets": {},
     "nuid": "f1019b34-cc33-4300-b625-19d61dc8186c",
     "showTitle": false,
     "tableResultSettingsMap": {},
     "title": ""
    }
   },
   "outputs": [
    {
     "output_type": "stream",
     "name": "stdout",
     "output_type": "stream",
     "text": [
      "Out[14]: True"
     ]
    }
   ],
   "source": [
    "dbutils.fs.mv('file:/databricks/driver/sales_data.csv', 'dbfs:/Filestore/', recurse=True)"
   ]
  },
  {
   "cell_type": "code",
   "execution_count": 0,
   "metadata": {
    "application/vnd.databricks.v1+cell": {
     "cellMetadata": {
      "byteLimit": 2048000,
      "rowLimit": 10000
     },
     "inputWidgets": {},
     "nuid": "23786fcc-6477-4e02-ae57-219a45f3b93e",
     "showTitle": false,
     "tableResultSettingsMap": {},
     "title": ""
    }
   },
   "outputs": [
    {
     "output_type": "stream",
     "name": "stdout",
     "output_type": "stream",
     "text": [
      "Out[15]: [FileInfo(path='dbfs:/Filestore', name='Filestore', size=25956568, modificationTime=1738646355000)]"
     ]
    }
   ],
   "source": [
    "dbutils.fs.ls('dbfs:/Filestore')"
   ]
  },
  {
   "cell_type": "markdown",
   "metadata": {
    "application/vnd.databricks.v1+cell": {
     "cellMetadata": {},
     "inputWidgets": {},
     "nuid": "321f1f63-2ec3-4877-bf4c-651461f59e3d",
     "showTitle": false,
     "tableResultSettingsMap": {},
     "title": ""
    }
   },
   "source": [
    "### Working with API"
   ]
  },
  {
   "cell_type": "code",
   "execution_count": 0,
   "metadata": {
    "application/vnd.databricks.v1+cell": {
     "cellMetadata": {
      "byteLimit": 2048000,
      "rowLimit": 10000
     },
     "inputWidgets": {},
     "nuid": "357f13a4-0aba-4e29-b0af-9ccfee7d71c6",
     "showTitle": false,
     "tableResultSettingsMap": {},
     "title": ""
    }
   },
   "outputs": [
    {
     "output_type": "display_data",
     "data": {
      "text/html": [
       "<style scoped>\n",
       "  .table-result-container {\n",
       "    max-height: 300px;\n",
       "    overflow: auto;\n",
       "  }\n",
       "  table, th, td {\n",
       "    border: 1px solid black;\n",
       "    border-collapse: collapse;\n",
       "  }\n",
       "  th, td {\n",
       "    padding: 5px;\n",
       "  }\n",
       "  th {\n",
       "    text-align: left;\n",
       "  }\n",
       "</style><div class='table-result-container'><table class='table-result'><thead style='background-color: white'><tr><th>userId</th><th>id</th><th>title</th><th>body</th></tr></thead><tbody><tr><td>1</td><td>1</td><td>sunt aut facere repellat provident occaecati excepturi optio reprehenderit</td><td>quia et suscipit\n",
       "suscipit recusandae consequuntur expedita et cum\n",
       "reprehenderit molestiae ut ut quas totam\n",
       "nostrum rerum est autem sunt rem eveniet architecto</td></tr><tr><td>1</td><td>2</td><td>qui est esse</td><td>est rerum tempore vitae\n",
       "sequi sint nihil reprehenderit dolor beatae ea dolores neque\n",
       "fugiat blanditiis voluptate porro vel nihil molestiae ut reiciendis\n",
       "qui aperiam non debitis possimus qui neque nisi nulla</td></tr><tr><td>1</td><td>3</td><td>ea molestias quasi exercitationem repellat qui ipsa sit aut</td><td>et iusto sed quo iure\n",
       "voluptatem occaecati omnis eligendi aut ad\n",
       "voluptatem doloribus vel accusantium quis pariatur\n",
       "molestiae porro eius odio et labore et velit aut</td></tr><tr><td>1</td><td>4</td><td>eum et est occaecati</td><td>ullam et saepe reiciendis voluptatem adipisci\n",
       "sit amet autem assumenda provident rerum culpa\n",
       "quis hic commodi nesciunt rem tenetur doloremque ipsam iure\n",
       "quis sunt voluptatem rerum illo velit</td></tr><tr><td>1</td><td>5</td><td>nesciunt quas odio</td><td>repudiandae veniam quaerat sunt sed\n",
       "alias aut fugiat sit autem sed est\n",
       "voluptatem omnis possimus esse voluptatibus quis\n",
       "est aut tenetur dolor neque</td></tr><tr><td>1</td><td>6</td><td>dolorem eum magni eos aperiam quia</td><td>ut aspernatur corporis harum nihil quis provident sequi\n",
       "mollitia nobis aliquid molestiae\n",
       "perspiciatis et ea nemo ab reprehenderit accusantium quas\n",
       "voluptate dolores velit et doloremque molestiae</td></tr><tr><td>1</td><td>7</td><td>magnam facilis autem</td><td>dolore placeat quibusdam ea quo vitae\n",
       "magni quis enim qui quis quo nemo aut saepe\n",
       "quidem repellat excepturi ut quia\n",
       "sunt ut sequi eos ea sed quas</td></tr><tr><td>1</td><td>8</td><td>dolorem dolore est ipsam</td><td>dignissimos aperiam dolorem qui eum\n",
       "facilis quibusdam animi sint suscipit qui sint possimus cum\n",
       "quaerat magni maiores excepturi\n",
       "ipsam ut commodi dolor voluptatum modi aut vitae</td></tr><tr><td>1</td><td>9</td><td>nesciunt iure omnis dolorem tempora et accusantium</td><td>consectetur animi nesciunt iure dolore\n",
       "enim quia ad\n",
       "veniam autem ut quam aut nobis\n",
       "et est aut quod aut provident voluptas autem voluptas</td></tr><tr><td>1</td><td>10</td><td>optio molestias id quia eum</td><td>quo et expedita modi cum officia vel magni\n",
       "doloribus qui repudiandae\n",
       "vero nisi sit\n",
       "quos veniam quod sed accusamus veritatis error</td></tr><tr><td>2</td><td>11</td><td>et ea vero quia laudantium autem</td><td>delectus reiciendis molestiae occaecati non minima eveniet qui voluptatibus\n",
       "accusamus in eum beatae sit\n",
       "vel qui neque voluptates ut commodi qui incidunt\n",
       "ut animi commodi</td></tr><tr><td>2</td><td>12</td><td>in quibusdam tempore odit est dolorem</td><td>itaque id aut magnam\n",
       "praesentium quia et ea odit et ea voluptas et\n",
       "sapiente quia nihil amet occaecati quia id voluptatem\n",
       "incidunt ea est distinctio odio</td></tr><tr><td>2</td><td>13</td><td>dolorum ut in voluptas mollitia et saepe quo animi</td><td>aut dicta possimus sint mollitia voluptas commodi quo doloremque\n",
       "iste corrupti reiciendis voluptatem eius rerum\n",
       "sit cumque quod eligendi laborum minima\n",
       "perferendis recusandae assumenda consectetur porro architecto ipsum ipsam</td></tr><tr><td>2</td><td>14</td><td>voluptatem eligendi optio</td><td>fuga et accusamus dolorum perferendis illo voluptas\n",
       "non doloremque neque facere\n",
       "ad qui dolorum molestiae beatae\n",
       "sed aut voluptas totam sit illum</td></tr><tr><td>2</td><td>15</td><td>eveniet quod temporibus</td><td>reprehenderit quos placeat\n",
       "velit minima officia dolores impedit repudiandae molestiae nam\n",
       "voluptas recusandae quis delectus\n",
       "officiis harum fugiat vitae</td></tr><tr><td>2</td><td>16</td><td>sint suscipit perspiciatis velit dolorum rerum ipsa laboriosam odio</td><td>suscipit nam nisi quo aperiam aut\n",
       "asperiores eos fugit maiores voluptatibus quia\n",
       "voluptatem quis ullam qui in alias quia est\n",
       "consequatur magni mollitia accusamus ea nisi voluptate dicta</td></tr><tr><td>2</td><td>17</td><td>fugit voluptas sed molestias voluptatem provident</td><td>eos voluptas et aut odit natus earum\n",
       "aspernatur fuga molestiae ullam\n",
       "deserunt ratione qui eos\n",
       "qui nihil ratione nemo velit ut aut id quo</td></tr><tr><td>2</td><td>18</td><td>voluptate et itaque vero tempora molestiae</td><td>eveniet quo quis\n",
       "laborum totam consequatur non dolor\n",
       "ut et est repudiandae\n",
       "est voluptatem vel debitis et magnam</td></tr><tr><td>2</td><td>19</td><td>adipisci placeat illum aut reiciendis qui</td><td>illum quis cupiditate provident sit magnam\n",
       "ea sed aut omnis\n",
       "veniam maiores ullam consequatur atque\n",
       "adipisci quo iste expedita sit quos voluptas</td></tr><tr><td>2</td><td>20</td><td>doloribus ad provident suscipit at</td><td>qui consequuntur ducimus possimus quisquam amet similique\n",
       "suscipit porro ipsam amet\n",
       "eos veritatis officiis exercitationem vel fugit aut necessitatibus totam\n",
       "omnis rerum consequatur expedita quidem cumque explicabo</td></tr><tr><td>3</td><td>21</td><td>asperiores ea ipsam voluptatibus modi minima quia sint</td><td>repellat aliquid praesentium dolorem quo\n",
       "sed totam minus non itaque\n",
       "nihil labore molestiae sunt dolor eveniet hic recusandae veniam\n",
       "tempora et tenetur expedita sunt</td></tr><tr><td>3</td><td>22</td><td>dolor sint quo a velit explicabo quia nam</td><td>eos qui et ipsum ipsam suscipit aut\n",
       "sed omnis non odio\n",
       "expedita earum mollitia molestiae aut atque rem suscipit\n",
       "nam impedit esse</td></tr><tr><td>3</td><td>23</td><td>maxime id vitae nihil numquam</td><td>veritatis unde neque eligendi\n",
       "quae quod architecto quo neque vitae\n",
       "est illo sit tempora doloremque fugit quod\n",
       "et et vel beatae sequi ullam sed tenetur perspiciatis</td></tr><tr><td>3</td><td>24</td><td>autem hic labore sunt dolores incidunt</td><td>enim et ex nulla\n",
       "omnis voluptas quia qui\n",
       "voluptatem consequatur numquam aliquam sunt\n",
       "totam recusandae id dignissimos aut sed asperiores deserunt</td></tr><tr><td>3</td><td>25</td><td>rem alias distinctio quo quis</td><td>ullam consequatur ut\n",
       "omnis quis sit vel consequuntur\n",
       "ipsa eligendi ipsum molestiae et omnis error nostrum\n",
       "molestiae illo tempore quia et distinctio</td></tr><tr><td>3</td><td>26</td><td>est et quae odit qui non</td><td>similique esse doloribus nihil accusamus\n",
       "omnis dolorem fuga consequuntur reprehenderit fugit recusandae temporibus\n",
       "perspiciatis cum ut laudantium\n",
       "omnis aut molestiae vel vero</td></tr><tr><td>3</td><td>27</td><td>quasi id et eos tenetur aut quo autem</td><td>eum sed dolores ipsam sint possimus debitis occaecati\n",
       "debitis qui qui et\n",
       "ut placeat enim earum aut odit facilis\n",
       "consequatur suscipit necessitatibus rerum sed inventore temporibus consequatur</td></tr><tr><td>3</td><td>28</td><td>delectus ullam et corporis nulla voluptas sequi</td><td>non et quaerat ex quae ad maiores\n",
       "maiores recusandae totam aut blanditiis mollitia quas illo\n",
       "ut voluptatibus voluptatem\n",
       "similique nostrum eum</td></tr><tr><td>3</td><td>29</td><td>iusto eius quod necessitatibus culpa ea</td><td>odit magnam ut saepe sed non qui\n",
       "tempora atque nihil\n",
       "accusamus illum doloribus illo dolor\n",
       "eligendi repudiandae odit magni similique sed cum maiores</td></tr><tr><td>3</td><td>30</td><td>a quo magni similique perferendis</td><td>alias dolor cumque\n",
       "impedit blanditiis non eveniet odio maxime\n",
       "blanditiis amet eius quis tempora quia autem rem\n",
       "a provident perspiciatis quia</td></tr><tr><td>4</td><td>31</td><td>ullam ut quidem id aut vel consequuntur</td><td>debitis eius sed quibusdam non quis consectetur vitae\n",
       "impedit ut qui consequatur sed aut in\n",
       "quidem sit nostrum et maiores adipisci atque\n",
       "quaerat voluptatem adipisci repudiandae</td></tr><tr><td>4</td><td>32</td><td>doloremque illum aliquid sunt</td><td>deserunt eos nobis asperiores et hic\n",
       "est debitis repellat molestiae optio\n",
       "nihil ratione ut eos beatae quibusdam distinctio maiores\n",
       "earum voluptates et aut adipisci ea maiores voluptas maxime</td></tr><tr><td>4</td><td>33</td><td>qui explicabo molestiae dolorem</td><td>rerum ut et numquam laborum odit est sit\n",
       "id qui sint in\n",
       "quasi tenetur tempore aperiam et quaerat qui in\n",
       "rerum officiis sequi cumque quod</td></tr><tr><td>4</td><td>34</td><td>magnam ut rerum iure</td><td>ea velit perferendis earum ut voluptatem voluptate itaque iusto\n",
       "totam pariatur in\n",
       "nemo voluptatem voluptatem autem magni tempora minima in\n",
       "est distinctio qui assumenda accusamus dignissimos officia nesciunt nobis</td></tr><tr><td>4</td><td>35</td><td>id nihil consequatur molestias animi provident</td><td>nisi error delectus possimus ut eligendi vitae\n",
       "placeat eos harum cupiditate facilis reprehenderit voluptatem beatae\n",
       "modi ducimus quo illum voluptas eligendi\n",
       "et nobis quia fugit</td></tr><tr><td>4</td><td>36</td><td>fuga nam accusamus voluptas reiciendis itaque</td><td>ad mollitia et omnis minus architecto odit\n",
       "voluptas doloremque maxime aut non ipsa qui alias veniam\n",
       "blanditiis culpa aut quia nihil cumque facere et occaecati\n",
       "qui aspernatur quia eaque ut aperiam inventore</td></tr><tr><td>4</td><td>37</td><td>provident vel ut sit ratione est</td><td>debitis et eaque non officia sed nesciunt pariatur vel\n",
       "voluptatem iste vero et ea\n",
       "numquam aut expedita ipsum nulla in\n",
       "voluptates omnis consequatur aut enim officiis in quam qui</td></tr><tr><td>4</td><td>38</td><td>explicabo et eos deleniti nostrum ab id repellendus</td><td>animi esse sit aut sit nesciunt assumenda eum voluptas\n",
       "quia voluptatibus provident quia necessitatibus ea\n",
       "rerum repudiandae quia voluptatem delectus fugit aut id quia\n",
       "ratione optio eos iusto veniam iure</td></tr><tr><td>4</td><td>39</td><td>eos dolorem iste accusantium est eaque quam</td><td>corporis rerum ducimus vel eum accusantium\n",
       "maxime aspernatur a porro possimus iste omnis\n",
       "est in deleniti asperiores fuga aut\n",
       "voluptas sapiente vel dolore minus voluptatem incidunt ex</td></tr><tr><td>4</td><td>40</td><td>enim quo cumque</td><td>ut voluptatum aliquid illo tenetur nemo sequi quo facilis\n",
       "ipsum rem optio mollitia quas\n",
       "voluptatem eum voluptas qui\n",
       "unde omnis voluptatem iure quasi maxime voluptas nam</td></tr><tr><td>5</td><td>41</td><td>non est facere</td><td>molestias id nostrum\n",
       "excepturi molestiae dolore omnis repellendus quaerat saepe\n",
       "consectetur iste quaerat tenetur asperiores accusamus ex ut\n",
       "nam quidem est ducimus sunt debitis saepe</td></tr><tr><td>5</td><td>42</td><td>commodi ullam sint et excepturi error explicabo praesentium voluptas</td><td>odio fugit voluptatum ducimus earum autem est incidunt voluptatem\n",
       "odit reiciendis aliquam sunt sequi nulla dolorem\n",
       "non facere repellendus voluptates quia\n",
       "ratione harum vitae ut</td></tr><tr><td>5</td><td>43</td><td>eligendi iste nostrum consequuntur adipisci praesentium sit beatae perferendis</td><td>similique fugit est\n",
       "illum et dolorum harum et voluptate eaque quidem\n",
       "exercitationem quos nam commodi possimus cum odio nihil nulla\n",
       "dolorum exercitationem magnam ex et a et distinctio debitis</td></tr><tr><td>5</td><td>44</td><td>optio dolor molestias sit</td><td>temporibus est consectetur dolore\n",
       "et libero debitis vel velit laboriosam quia\n",
       "ipsum quibusdam qui itaque fuga rem aut\n",
       "ea et iure quam sed maxime ut distinctio quae</td></tr><tr><td>5</td><td>45</td><td>ut numquam possimus omnis eius suscipit laudantium iure</td><td>est natus reiciendis nihil possimus aut provident\n",
       "ex et dolor\n",
       "repellat pariatur est\n",
       "nobis rerum repellendus dolorem autem</td></tr><tr><td>5</td><td>46</td><td>aut quo modi neque nostrum ducimus</td><td>voluptatem quisquam iste\n",
       "voluptatibus natus officiis facilis dolorem\n",
       "quis quas ipsam\n",
       "vel et voluptatum in aliquid</td></tr><tr><td>5</td><td>47</td><td>quibusdam cumque rem aut deserunt</td><td>voluptatem assumenda ut qui ut cupiditate aut impedit veniam\n",
       "occaecati nemo illum voluptatem laudantium\n",
       "molestiae beatae rerum ea iure soluta nostrum\n",
       "eligendi et voluptate</td></tr><tr><td>5</td><td>48</td><td>ut voluptatem illum ea doloribus itaque eos</td><td>voluptates quo voluptatem facilis iure occaecati\n",
       "vel assumenda rerum officia et\n",
       "illum perspiciatis ab deleniti\n",
       "laudantium repellat ad ut et autem reprehenderit</td></tr><tr><td>5</td><td>49</td><td>laborum non sunt aut ut assumenda perspiciatis voluptas</td><td>inventore ab sint\n",
       "natus fugit id nulla sequi architecto nihil quaerat\n",
       "eos tenetur in in eum veritatis non\n",
       "quibusdam officiis aspernatur cumque aut commodi aut</td></tr><tr><td>5</td><td>50</td><td>repellendus qui recusandae incidunt voluptates tenetur qui omnis exercitationem</td><td>error suscipit maxime adipisci consequuntur recusandae\n",
       "voluptas eligendi et est et voluptates\n",
       "quia distinctio ab amet quaerat molestiae et vitae\n",
       "adipisci impedit sequi nesciunt quis consectetur</td></tr><tr><td>6</td><td>51</td><td>soluta aliquam aperiam consequatur illo quis voluptas</td><td>sunt dolores aut doloribus\n",
       "dolore doloribus voluptates tempora et\n",
       "doloremque et quo\n",
       "cum asperiores sit consectetur dolorem</td></tr><tr><td>6</td><td>52</td><td>qui enim et consequuntur quia animi quis voluptate quibusdam</td><td>iusto est quibusdam fuga quas quaerat molestias\n",
       "a enim ut sit accusamus enim\n",
       "temporibus iusto accusantium provident architecto\n",
       "soluta esse reprehenderit qui laborum</td></tr><tr><td>6</td><td>53</td><td>ut quo aut ducimus alias</td><td>minima harum praesentium eum rerum illo dolore\n",
       "quasi exercitationem rerum nam\n",
       "porro quis neque quo\n",
       "consequatur minus dolor quidem veritatis sunt non explicabo similique</td></tr><tr><td>6</td><td>54</td><td>sit asperiores ipsam eveniet odio non quia</td><td>totam corporis dignissimos\n",
       "vitae dolorem ut occaecati accusamus\n",
       "ex velit deserunt\n",
       "et exercitationem vero incidunt corrupti mollitia</td></tr><tr><td>6</td><td>55</td><td>sit vel voluptatem et non libero</td><td>debitis excepturi ea perferendis harum libero optio\n",
       "eos accusamus cum fuga ut sapiente repudiandae\n",
       "et ut incidunt omnis molestiae\n",
       "nihil ut eum odit</td></tr><tr><td>6</td><td>56</td><td>qui et at rerum necessitatibus</td><td>aut est omnis dolores\n",
       "neque rerum quod ea rerum velit pariatur beatae excepturi\n",
       "et provident voluptas corrupti\n",
       "corporis harum reprehenderit dolores eligendi</td></tr><tr><td>6</td><td>57</td><td>sed ab est est</td><td>at pariatur consequuntur earum quidem\n",
       "quo est laudantium soluta voluptatem\n",
       "qui ullam et est\n",
       "et cum voluptas voluptatum repellat est</td></tr><tr><td>6</td><td>58</td><td>voluptatum itaque dolores nisi et quasi</td><td>veniam voluptatum quae adipisci id\n",
       "et id quia eos ad et dolorem\n",
       "aliquam quo nisi sunt eos impedit error\n",
       "ad similique veniam</td></tr><tr><td>6</td><td>59</td><td>qui commodi dolor at maiores et quis id accusantium</td><td>perspiciatis et quam ea autem temporibus non voluptatibus qui\n",
       "beatae a earum officia nesciunt dolores suscipit voluptas et\n",
       "animi doloribus cum rerum quas et magni\n",
       "et hic ut ut commodi expedita sunt</td></tr><tr><td>6</td><td>60</td><td>consequatur placeat omnis quisquam quia reprehenderit fugit veritatis facere</td><td>asperiores sunt ab assumenda cumque modi velit\n",
       "qui esse omnis\n",
       "voluptate et fuga perferendis voluptas\n",
       "illo ratione amet aut et omnis</td></tr><tr><td>7</td><td>61</td><td>voluptatem doloribus consectetur est ut ducimus</td><td>ab nemo optio odio\n",
       "delectus tenetur corporis similique nobis repellendus rerum omnis facilis\n",
       "vero blanditiis debitis in nesciunt doloribus dicta dolores\n",
       "magnam minus velit</td></tr><tr><td>7</td><td>62</td><td>beatae enim quia vel</td><td>enim aspernatur illo distinctio quae praesentium\n",
       "beatae alias amet delectus qui voluptate distinctio\n",
       "odit sint accusantium autem omnis\n",
       "quo molestiae omnis ea eveniet optio</td></tr><tr><td>7</td><td>63</td><td>voluptas blanditiis repellendus animi ducimus error sapiente et suscipit</td><td>enim adipisci aspernatur nemo\n",
       "numquam omnis facere dolorem dolor ex quis temporibus incidunt\n",
       "ab delectus culpa quo reprehenderit blanditiis asperiores\n",
       "accusantium ut quam in voluptatibus voluptas ipsam dicta</td></tr><tr><td>7</td><td>64</td><td>et fugit quas eum in in aperiam quod</td><td>id velit blanditiis\n",
       "eum ea voluptatem\n",
       "molestiae sint occaecati est eos perspiciatis\n",
       "incidunt a error provident eaque aut aut qui</td></tr><tr><td>7</td><td>65</td><td>consequatur id enim sunt et et</td><td>voluptatibus ex esse\n",
       "sint explicabo est aliquid cumque adipisci fuga repellat labore\n",
       "molestiae corrupti ex saepe at asperiores et perferendis\n",
       "natus id esse incidunt pariatur</td></tr><tr><td>7</td><td>66</td><td>repudiandae ea animi iusto</td><td>officia veritatis tenetur vero qui itaque\n",
       "sint non ratione\n",
       "sed et ut asperiores iusto eos molestiae nostrum\n",
       "veritatis quibusdam et nemo iusto saepe</td></tr><tr><td>7</td><td>67</td><td>aliquid eos sed fuga est maxime repellendus</td><td>reprehenderit id nostrum\n",
       "voluptas doloremque pariatur sint et accusantium quia quod aspernatur\n",
       "et fugiat amet\n",
       "non sapiente et consequatur necessitatibus molestiae</td></tr><tr><td>7</td><td>68</td><td>odio quis facere architecto reiciendis optio</td><td>magnam molestiae perferendis quisquam\n",
       "qui cum reiciendis\n",
       "quaerat animi amet hic inventore\n",
       "ea quia deleniti quidem saepe porro velit</td></tr><tr><td>7</td><td>69</td><td>fugiat quod pariatur odit minima</td><td>officiis error culpa consequatur modi asperiores et\n",
       "dolorum assumenda voluptas et vel qui aut vel rerum\n",
       "voluptatum quisquam perspiciatis quia rerum consequatur totam quas\n",
       "sequi commodi repudiandae asperiores et saepe a</td></tr><tr><td>7</td><td>70</td><td>voluptatem laborum magni</td><td>sunt repellendus quae\n",
       "est asperiores aut deleniti esse accusamus repellendus quia aut\n",
       "quia dolorem unde\n",
       "eum tempora esse dolore</td></tr><tr><td>8</td><td>71</td><td>et iusto veniam et illum aut fuga</td><td>occaecati a doloribus\n",
       "iste saepe consectetur placeat eum voluptate dolorem et\n",
       "qui quo quia voluptas\n",
       "rerum ut id enim velit est perferendis</td></tr><tr><td>8</td><td>72</td><td>sint hic doloribus consequatur eos non id</td><td>quam occaecati qui deleniti consectetur\n",
       "consequatur aut facere quas exercitationem aliquam hic voluptas\n",
       "neque id sunt ut aut accusamus\n",
       "sunt consectetur expedita inventore velit</td></tr><tr><td>8</td><td>73</td><td>consequuntur deleniti eos quia temporibus ab aliquid at</td><td>voluptatem cumque tenetur consequatur expedita ipsum nemo quia explicabo\n",
       "aut eum minima consequatur\n",
       "tempore cumque quae est et\n",
       "et in consequuntur voluptatem voluptates aut</td></tr><tr><td>8</td><td>74</td><td>enim unde ratione doloribus quas enim ut sit sapiente</td><td>odit qui et et necessitatibus sint veniam\n",
       "mollitia amet doloremque molestiae commodi similique magnam et quam\n",
       "blanditiis est itaque\n",
       "quo et tenetur ratione occaecati molestiae tempora</td></tr><tr><td>8</td><td>75</td><td>dignissimos eum dolor ut enim et delectus in</td><td>commodi non non omnis et voluptas sit\n",
       "autem aut nobis magnam et sapiente voluptatem\n",
       "et laborum repellat qui delectus facilis temporibus\n",
       "rerum amet et nemo voluptate expedita adipisci error dolorem</td></tr><tr><td>8</td><td>76</td><td>doloremque officiis ad et non perferendis</td><td>ut animi facere\n",
       "totam iusto tempore\n",
       "molestiae eum aut et dolorem aperiam\n",
       "quaerat recusandae totam odio</td></tr><tr><td>8</td><td>77</td><td>necessitatibus quasi exercitationem odio</td><td>modi ut in nulla repudiandae dolorum nostrum eos\n",
       "aut consequatur omnis\n",
       "ut incidunt est omnis iste et quam\n",
       "voluptates sapiente aliquam asperiores nobis amet corrupti repudiandae provident</td></tr><tr><td>8</td><td>78</td><td>quam voluptatibus rerum veritatis</td><td>nobis facilis odit tempore cupiditate quia\n",
       "assumenda doloribus rerum qui ea\n",
       "illum et qui totam\n",
       "aut veniam repellendus</td></tr><tr><td>8</td><td>79</td><td>pariatur consequatur quia magnam autem omnis non amet</td><td>libero accusantium et et facere incidunt sit dolorem\n",
       "non excepturi qui quia sed laudantium\n",
       "quisquam molestiae ducimus est\n",
       "officiis esse molestiae iste et quos</td></tr><tr><td>8</td><td>80</td><td>labore in ex et explicabo corporis aut quas</td><td>ex quod dolorem ea eum iure qui provident amet\n",
       "quia qui facere excepturi et repudiandae\n",
       "asperiores molestias provident\n",
       "minus incidunt vero fugit rerum sint sunt excepturi provident</td></tr><tr><td>9</td><td>81</td><td>tempora rem veritatis voluptas quo dolores vero</td><td>facere qui nesciunt est voluptatum voluptatem nisi\n",
       "sequi eligendi necessitatibus ea at rerum itaque\n",
       "harum non ratione velit laboriosam quis consequuntur\n",
       "ex officiis minima doloremque voluptas ut aut</td></tr><tr><td>9</td><td>82</td><td>laudantium voluptate suscipit sunt enim enim</td><td>ut libero sit aut totam inventore sunt\n",
       "porro sint qui sunt molestiae\n",
       "consequatur cupiditate qui iste ducimus adipisci\n",
       "dolor enim assumenda soluta laboriosam amet iste delectus hic</td></tr><tr><td>9</td><td>83</td><td>odit et voluptates doloribus alias odio et</td><td>est molestiae facilis quis tempora numquam nihil qui\n",
       "voluptate sapiente consequatur est qui\n",
       "necessitatibus autem aut ipsa aperiam modi dolore numquam\n",
       "reprehenderit eius rem quibusdam</td></tr><tr><td>9</td><td>84</td><td>optio ipsam molestias necessitatibus occaecati facilis veritatis dolores aut</td><td>sint molestiae magni a et quos\n",
       "eaque et quasi\n",
       "ut rerum debitis similique veniam\n",
       "recusandae dignissimos dolor incidunt consequatur odio</td></tr><tr><td>9</td><td>85</td><td>dolore veritatis porro provident adipisci blanditiis et sunt</td><td>similique sed nisi voluptas iusto omnis\n",
       "mollitia et quo\n",
       "assumenda suscipit officia magnam sint sed tempora\n",
       "enim provident pariatur praesentium atque animi amet ratione</td></tr><tr><td>9</td><td>86</td><td>placeat quia et porro iste</td><td>quasi excepturi consequatur iste autem temporibus sed molestiae beatae\n",
       "et quaerat et esse ut\n",
       "voluptatem occaecati et vel explicabo autem\n",
       "asperiores pariatur deserunt optio</td></tr><tr><td>9</td><td>87</td><td>nostrum quis quasi placeat</td><td>eos et molestiae\n",
       "nesciunt ut a\n",
       "dolores perspiciatis repellendus repellat aliquid\n",
       "magnam sint rem ipsum est</td></tr><tr><td>9</td><td>88</td><td>sapiente omnis fugit eos</td><td>consequatur omnis est praesentium\n",
       "ducimus non iste\n",
       "neque hic deserunt\n",
       "voluptatibus veniam cum et rerum sed</td></tr><tr><td>9</td><td>89</td><td>sint soluta et vel magnam aut ut sed qui</td><td>repellat aut aperiam totam temporibus autem et\n",
       "architecto magnam ut\n",
       "consequatur qui cupiditate rerum quia soluta dignissimos nihil iure\n",
       "tempore quas est</td></tr><tr><td>9</td><td>90</td><td>ad iusto omnis odit dolor voluptatibus</td><td>minus omnis soluta quia\n",
       "qui sed adipisci voluptates illum ipsam voluptatem\n",
       "eligendi officia ut in\n",
       "eos soluta similique molestias praesentium blanditiis</td></tr><tr><td>10</td><td>91</td><td>aut amet sed</td><td>libero voluptate eveniet aperiam sed\n",
       "sunt placeat suscipit molestias\n",
       "similique fugit nam natus\n",
       "expedita consequatur consequatur dolores quia eos et placeat</td></tr><tr><td>10</td><td>92</td><td>ratione ex tenetur perferendis</td><td>aut et excepturi dicta laudantium sint rerum nihil\n",
       "laudantium et at\n",
       "a neque minima officia et similique libero et\n",
       "commodi voluptate qui</td></tr><tr><td>10</td><td>93</td><td>beatae soluta recusandae</td><td>dolorem quibusdam ducimus consequuntur dicta aut quo laboriosam\n",
       "voluptatem quis enim recusandae ut sed sunt\n",
       "nostrum est odit totam\n",
       "sit error sed sunt eveniet provident qui nulla</td></tr><tr><td>10</td><td>94</td><td>qui qui voluptates illo iste minima</td><td>aspernatur expedita soluta quo ab ut similique\n",
       "expedita dolores amet\n",
       "sed temporibus distinctio magnam saepe deleniti\n",
       "omnis facilis nam ipsum natus sint similique omnis</td></tr><tr><td>10</td><td>95</td><td>id minus libero illum nam ad officiis</td><td>earum voluptatem facere provident blanditiis velit laboriosam\n",
       "pariatur accusamus odio saepe\n",
       "cumque dolor qui a dicta ab doloribus consequatur omnis\n",
       "corporis cupiditate eaque assumenda ad nesciunt</td></tr><tr><td>10</td><td>96</td><td>quaerat velit veniam amet cupiditate aut numquam ut sequi</td><td>in non odio excepturi sint eum\n",
       "labore voluptates vitae quia qui et\n",
       "inventore itaque rerum\n",
       "veniam non exercitationem delectus aut</td></tr><tr><td>10</td><td>97</td><td>quas fugiat ut perspiciatis vero provident</td><td>eum non blanditiis soluta porro quibusdam voluptas\n",
       "vel voluptatem qui placeat dolores qui velit aut\n",
       "vel inventore aut cumque culpa explicabo aliquid at\n",
       "perspiciatis est et voluptatem dignissimos dolor itaque sit nam</td></tr><tr><td>10</td><td>98</td><td>laboriosam dolor voluptates</td><td>doloremque ex facilis sit sint culpa\n",
       "soluta assumenda eligendi non ut eius\n",
       "sequi ducimus vel quasi\n",
       "veritatis est dolores</td></tr><tr><td>10</td><td>99</td><td>temporibus sit alias delectus eligendi possimus magni</td><td>quo deleniti praesentium dicta non quod\n",
       "aut est molestias\n",
       "molestias et officia quis nihil\n",
       "itaque dolorem quia</td></tr><tr><td>10</td><td>100</td><td>at nam consequatur ea labore ea harum</td><td>cupiditate quo est a modi nesciunt soluta\n",
       "ipsa voluptas error itaque dicta in\n",
       "autem qui minus magnam et distinctio eum\n",
       "accusamus ratione error aut</td></tr></tbody></table></div>"
      ]
     },
     "metadata": {
      "application/vnd.databricks.v1+output": {
       "addedWidgets": {},
       "aggData": [],
       "aggError": "",
       "aggOverflow": false,
       "aggSchema": [],
       "aggSeriesLimitReached": false,
       "aggType": "",
       "arguments": {},
       "columnCustomDisplayInfos": {},
       "data": [
        [
         1,
         1,
         "sunt aut facere repellat provident occaecati excepturi optio reprehenderit",
         "quia et suscipit\nsuscipit recusandae consequuntur expedita et cum\nreprehenderit molestiae ut ut quas totam\nnostrum rerum est autem sunt rem eveniet architecto"
        ],
        [
         1,
         2,
         "qui est esse",
         "est rerum tempore vitae\nsequi sint nihil reprehenderit dolor beatae ea dolores neque\nfugiat blanditiis voluptate porro vel nihil molestiae ut reiciendis\nqui aperiam non debitis possimus qui neque nisi nulla"
        ],
        [
         1,
         3,
         "ea molestias quasi exercitationem repellat qui ipsa sit aut",
         "et iusto sed quo iure\nvoluptatem occaecati omnis eligendi aut ad\nvoluptatem doloribus vel accusantium quis pariatur\nmolestiae porro eius odio et labore et velit aut"
        ],
        [
         1,
         4,
         "eum et est occaecati",
         "ullam et saepe reiciendis voluptatem adipisci\nsit amet autem assumenda provident rerum culpa\nquis hic commodi nesciunt rem tenetur doloremque ipsam iure\nquis sunt voluptatem rerum illo velit"
        ],
        [
         1,
         5,
         "nesciunt quas odio",
         "repudiandae veniam quaerat sunt sed\nalias aut fugiat sit autem sed est\nvoluptatem omnis possimus esse voluptatibus quis\nest aut tenetur dolor neque"
        ],
        [
         1,
         6,
         "dolorem eum magni eos aperiam quia",
         "ut aspernatur corporis harum nihil quis provident sequi\nmollitia nobis aliquid molestiae\nperspiciatis et ea nemo ab reprehenderit accusantium quas\nvoluptate dolores velit et doloremque molestiae"
        ],
        [
         1,
         7,
         "magnam facilis autem",
         "dolore placeat quibusdam ea quo vitae\nmagni quis enim qui quis quo nemo aut saepe\nquidem repellat excepturi ut quia\nsunt ut sequi eos ea sed quas"
        ],
        [
         1,
         8,
         "dolorem dolore est ipsam",
         "dignissimos aperiam dolorem qui eum\nfacilis quibusdam animi sint suscipit qui sint possimus cum\nquaerat magni maiores excepturi\nipsam ut commodi dolor voluptatum modi aut vitae"
        ],
        [
         1,
         9,
         "nesciunt iure omnis dolorem tempora et accusantium",
         "consectetur animi nesciunt iure dolore\nenim quia ad\nveniam autem ut quam aut nobis\net est aut quod aut provident voluptas autem voluptas"
        ],
        [
         1,
         10,
         "optio molestias id quia eum",
         "quo et expedita modi cum officia vel magni\ndoloribus qui repudiandae\nvero nisi sit\nquos veniam quod sed accusamus veritatis error"
        ],
        [
         2,
         11,
         "et ea vero quia laudantium autem",
         "delectus reiciendis molestiae occaecati non minima eveniet qui voluptatibus\naccusamus in eum beatae sit\nvel qui neque voluptates ut commodi qui incidunt\nut animi commodi"
        ],
        [
         2,
         12,
         "in quibusdam tempore odit est dolorem",
         "itaque id aut magnam\npraesentium quia et ea odit et ea voluptas et\nsapiente quia nihil amet occaecati quia id voluptatem\nincidunt ea est distinctio odio"
        ],
        [
         2,
         13,
         "dolorum ut in voluptas mollitia et saepe quo animi",
         "aut dicta possimus sint mollitia voluptas commodi quo doloremque\niste corrupti reiciendis voluptatem eius rerum\nsit cumque quod eligendi laborum minima\nperferendis recusandae assumenda consectetur porro architecto ipsum ipsam"
        ],
        [
         2,
         14,
         "voluptatem eligendi optio",
         "fuga et accusamus dolorum perferendis illo voluptas\nnon doloremque neque facere\nad qui dolorum molestiae beatae\nsed aut voluptas totam sit illum"
        ],
        [
         2,
         15,
         "eveniet quod temporibus",
         "reprehenderit quos placeat\nvelit minima officia dolores impedit repudiandae molestiae nam\nvoluptas recusandae quis delectus\nofficiis harum fugiat vitae"
        ],
        [
         2,
         16,
         "sint suscipit perspiciatis velit dolorum rerum ipsa laboriosam odio",
         "suscipit nam nisi quo aperiam aut\nasperiores eos fugit maiores voluptatibus quia\nvoluptatem quis ullam qui in alias quia est\nconsequatur magni mollitia accusamus ea nisi voluptate dicta"
        ],
        [
         2,
         17,
         "fugit voluptas sed molestias voluptatem provident",
         "eos voluptas et aut odit natus earum\naspernatur fuga molestiae ullam\ndeserunt ratione qui eos\nqui nihil ratione nemo velit ut aut id quo"
        ],
        [
         2,
         18,
         "voluptate et itaque vero tempora molestiae",
         "eveniet quo quis\nlaborum totam consequatur non dolor\nut et est repudiandae\nest voluptatem vel debitis et magnam"
        ],
        [
         2,
         19,
         "adipisci placeat illum aut reiciendis qui",
         "illum quis cupiditate provident sit magnam\nea sed aut omnis\nveniam maiores ullam consequatur atque\nadipisci quo iste expedita sit quos voluptas"
        ],
        [
         2,
         20,
         "doloribus ad provident suscipit at",
         "qui consequuntur ducimus possimus quisquam amet similique\nsuscipit porro ipsam amet\neos veritatis officiis exercitationem vel fugit aut necessitatibus totam\nomnis rerum consequatur expedita quidem cumque explicabo"
        ],
        [
         3,
         21,
         "asperiores ea ipsam voluptatibus modi minima quia sint",
         "repellat aliquid praesentium dolorem quo\nsed totam minus non itaque\nnihil labore molestiae sunt dolor eveniet hic recusandae veniam\ntempora et tenetur expedita sunt"
        ],
        [
         3,
         22,
         "dolor sint quo a velit explicabo quia nam",
         "eos qui et ipsum ipsam suscipit aut\nsed omnis non odio\nexpedita earum mollitia molestiae aut atque rem suscipit\nnam impedit esse"
        ],
        [
         3,
         23,
         "maxime id vitae nihil numquam",
         "veritatis unde neque eligendi\nquae quod architecto quo neque vitae\nest illo sit tempora doloremque fugit quod\net et vel beatae sequi ullam sed tenetur perspiciatis"
        ],
        [
         3,
         24,
         "autem hic labore sunt dolores incidunt",
         "enim et ex nulla\nomnis voluptas quia qui\nvoluptatem consequatur numquam aliquam sunt\ntotam recusandae id dignissimos aut sed asperiores deserunt"
        ],
        [
         3,
         25,
         "rem alias distinctio quo quis",
         "ullam consequatur ut\nomnis quis sit vel consequuntur\nipsa eligendi ipsum molestiae et omnis error nostrum\nmolestiae illo tempore quia et distinctio"
        ],
        [
         3,
         26,
         "est et quae odit qui non",
         "similique esse doloribus nihil accusamus\nomnis dolorem fuga consequuntur reprehenderit fugit recusandae temporibus\nperspiciatis cum ut laudantium\nomnis aut molestiae vel vero"
        ],
        [
         3,
         27,
         "quasi id et eos tenetur aut quo autem",
         "eum sed dolores ipsam sint possimus debitis occaecati\ndebitis qui qui et\nut placeat enim earum aut odit facilis\nconsequatur suscipit necessitatibus rerum sed inventore temporibus consequatur"
        ],
        [
         3,
         28,
         "delectus ullam et corporis nulla voluptas sequi",
         "non et quaerat ex quae ad maiores\nmaiores recusandae totam aut blanditiis mollitia quas illo\nut voluptatibus voluptatem\nsimilique nostrum eum"
        ],
        [
         3,
         29,
         "iusto eius quod necessitatibus culpa ea",
         "odit magnam ut saepe sed non qui\ntempora atque nihil\naccusamus illum doloribus illo dolor\neligendi repudiandae odit magni similique sed cum maiores"
        ],
        [
         3,
         30,
         "a quo magni similique perferendis",
         "alias dolor cumque\nimpedit blanditiis non eveniet odio maxime\nblanditiis amet eius quis tempora quia autem rem\na provident perspiciatis quia"
        ],
        [
         4,
         31,
         "ullam ut quidem id aut vel consequuntur",
         "debitis eius sed quibusdam non quis consectetur vitae\nimpedit ut qui consequatur sed aut in\nquidem sit nostrum et maiores adipisci atque\nquaerat voluptatem adipisci repudiandae"
        ],
        [
         4,
         32,
         "doloremque illum aliquid sunt",
         "deserunt eos nobis asperiores et hic\nest debitis repellat molestiae optio\nnihil ratione ut eos beatae quibusdam distinctio maiores\nearum voluptates et aut adipisci ea maiores voluptas maxime"
        ],
        [
         4,
         33,
         "qui explicabo molestiae dolorem",
         "rerum ut et numquam laborum odit est sit\nid qui sint in\nquasi tenetur tempore aperiam et quaerat qui in\nrerum officiis sequi cumque quod"
        ],
        [
         4,
         34,
         "magnam ut rerum iure",
         "ea velit perferendis earum ut voluptatem voluptate itaque iusto\ntotam pariatur in\nnemo voluptatem voluptatem autem magni tempora minima in\nest distinctio qui assumenda accusamus dignissimos officia nesciunt nobis"
        ],
        [
         4,
         35,
         "id nihil consequatur molestias animi provident",
         "nisi error delectus possimus ut eligendi vitae\nplaceat eos harum cupiditate facilis reprehenderit voluptatem beatae\nmodi ducimus quo illum voluptas eligendi\net nobis quia fugit"
        ],
        [
         4,
         36,
         "fuga nam accusamus voluptas reiciendis itaque",
         "ad mollitia et omnis minus architecto odit\nvoluptas doloremque maxime aut non ipsa qui alias veniam\nblanditiis culpa aut quia nihil cumque facere et occaecati\nqui aspernatur quia eaque ut aperiam inventore"
        ],
        [
         4,
         37,
         "provident vel ut sit ratione est",
         "debitis et eaque non officia sed nesciunt pariatur vel\nvoluptatem iste vero et ea\nnumquam aut expedita ipsum nulla in\nvoluptates omnis consequatur aut enim officiis in quam qui"
        ],
        [
         4,
         38,
         "explicabo et eos deleniti nostrum ab id repellendus",
         "animi esse sit aut sit nesciunt assumenda eum voluptas\nquia voluptatibus provident quia necessitatibus ea\nrerum repudiandae quia voluptatem delectus fugit aut id quia\nratione optio eos iusto veniam iure"
        ],
        [
         4,
         39,
         "eos dolorem iste accusantium est eaque quam",
         "corporis rerum ducimus vel eum accusantium\nmaxime aspernatur a porro possimus iste omnis\nest in deleniti asperiores fuga aut\nvoluptas sapiente vel dolore minus voluptatem incidunt ex"
        ],
        [
         4,
         40,
         "enim quo cumque",
         "ut voluptatum aliquid illo tenetur nemo sequi quo facilis\nipsum rem optio mollitia quas\nvoluptatem eum voluptas qui\nunde omnis voluptatem iure quasi maxime voluptas nam"
        ],
        [
         5,
         41,
         "non est facere",
         "molestias id nostrum\nexcepturi molestiae dolore omnis repellendus quaerat saepe\nconsectetur iste quaerat tenetur asperiores accusamus ex ut\nnam quidem est ducimus sunt debitis saepe"
        ],
        [
         5,
         42,
         "commodi ullam sint et excepturi error explicabo praesentium voluptas",
         "odio fugit voluptatum ducimus earum autem est incidunt voluptatem\nodit reiciendis aliquam sunt sequi nulla dolorem\nnon facere repellendus voluptates quia\nratione harum vitae ut"
        ],
        [
         5,
         43,
         "eligendi iste nostrum consequuntur adipisci praesentium sit beatae perferendis",
         "similique fugit est\nillum et dolorum harum et voluptate eaque quidem\nexercitationem quos nam commodi possimus cum odio nihil nulla\ndolorum exercitationem magnam ex et a et distinctio debitis"
        ],
        [
         5,
         44,
         "optio dolor molestias sit",
         "temporibus est consectetur dolore\net libero debitis vel velit laboriosam quia\nipsum quibusdam qui itaque fuga rem aut\nea et iure quam sed maxime ut distinctio quae"
        ],
        [
         5,
         45,
         "ut numquam possimus omnis eius suscipit laudantium iure",
         "est natus reiciendis nihil possimus aut provident\nex et dolor\nrepellat pariatur est\nnobis rerum repellendus dolorem autem"
        ],
        [
         5,
         46,
         "aut quo modi neque nostrum ducimus",
         "voluptatem quisquam iste\nvoluptatibus natus officiis facilis dolorem\nquis quas ipsam\nvel et voluptatum in aliquid"
        ],
        [
         5,
         47,
         "quibusdam cumque rem aut deserunt",
         "voluptatem assumenda ut qui ut cupiditate aut impedit veniam\noccaecati nemo illum voluptatem laudantium\nmolestiae beatae rerum ea iure soluta nostrum\neligendi et voluptate"
        ],
        [
         5,
         48,
         "ut voluptatem illum ea doloribus itaque eos",
         "voluptates quo voluptatem facilis iure occaecati\nvel assumenda rerum officia et\nillum perspiciatis ab deleniti\nlaudantium repellat ad ut et autem reprehenderit"
        ],
        [
         5,
         49,
         "laborum non sunt aut ut assumenda perspiciatis voluptas",
         "inventore ab sint\nnatus fugit id nulla sequi architecto nihil quaerat\neos tenetur in in eum veritatis non\nquibusdam officiis aspernatur cumque aut commodi aut"
        ],
        [
         5,
         50,
         "repellendus qui recusandae incidunt voluptates tenetur qui omnis exercitationem",
         "error suscipit maxime adipisci consequuntur recusandae\nvoluptas eligendi et est et voluptates\nquia distinctio ab amet quaerat molestiae et vitae\nadipisci impedit sequi nesciunt quis consectetur"
        ],
        [
         6,
         51,
         "soluta aliquam aperiam consequatur illo quis voluptas",
         "sunt dolores aut doloribus\ndolore doloribus voluptates tempora et\ndoloremque et quo\ncum asperiores sit consectetur dolorem"
        ],
        [
         6,
         52,
         "qui enim et consequuntur quia animi quis voluptate quibusdam",
         "iusto est quibusdam fuga quas quaerat molestias\na enim ut sit accusamus enim\ntemporibus iusto accusantium provident architecto\nsoluta esse reprehenderit qui laborum"
        ],
        [
         6,
         53,
         "ut quo aut ducimus alias",
         "minima harum praesentium eum rerum illo dolore\nquasi exercitationem rerum nam\nporro quis neque quo\nconsequatur minus dolor quidem veritatis sunt non explicabo similique"
        ],
        [
         6,
         54,
         "sit asperiores ipsam eveniet odio non quia",
         "totam corporis dignissimos\nvitae dolorem ut occaecati accusamus\nex velit deserunt\net exercitationem vero incidunt corrupti mollitia"
        ],
        [
         6,
         55,
         "sit vel voluptatem et non libero",
         "debitis excepturi ea perferendis harum libero optio\neos accusamus cum fuga ut sapiente repudiandae\net ut incidunt omnis molestiae\nnihil ut eum odit"
        ],
        [
         6,
         56,
         "qui et at rerum necessitatibus",
         "aut est omnis dolores\nneque rerum quod ea rerum velit pariatur beatae excepturi\net provident voluptas corrupti\ncorporis harum reprehenderit dolores eligendi"
        ],
        [
         6,
         57,
         "sed ab est est",
         "at pariatur consequuntur earum quidem\nquo est laudantium soluta voluptatem\nqui ullam et est\net cum voluptas voluptatum repellat est"
        ],
        [
         6,
         58,
         "voluptatum itaque dolores nisi et quasi",
         "veniam voluptatum quae adipisci id\net id quia eos ad et dolorem\naliquam quo nisi sunt eos impedit error\nad similique veniam"
        ],
        [
         6,
         59,
         "qui commodi dolor at maiores et quis id accusantium",
         "perspiciatis et quam ea autem temporibus non voluptatibus qui\nbeatae a earum officia nesciunt dolores suscipit voluptas et\nanimi doloribus cum rerum quas et magni\net hic ut ut commodi expedita sunt"
        ],
        [
         6,
         60,
         "consequatur placeat omnis quisquam quia reprehenderit fugit veritatis facere",
         "asperiores sunt ab assumenda cumque modi velit\nqui esse omnis\nvoluptate et fuga perferendis voluptas\nillo ratione amet aut et omnis"
        ],
        [
         7,
         61,
         "voluptatem doloribus consectetur est ut ducimus",
         "ab nemo optio odio\ndelectus tenetur corporis similique nobis repellendus rerum omnis facilis\nvero blanditiis debitis in nesciunt doloribus dicta dolores\nmagnam minus velit"
        ],
        [
         7,
         62,
         "beatae enim quia vel",
         "enim aspernatur illo distinctio quae praesentium\nbeatae alias amet delectus qui voluptate distinctio\nodit sint accusantium autem omnis\nquo molestiae omnis ea eveniet optio"
        ],
        [
         7,
         63,
         "voluptas blanditiis repellendus animi ducimus error sapiente et suscipit",
         "enim adipisci aspernatur nemo\nnumquam omnis facere dolorem dolor ex quis temporibus incidunt\nab delectus culpa quo reprehenderit blanditiis asperiores\naccusantium ut quam in voluptatibus voluptas ipsam dicta"
        ],
        [
         7,
         64,
         "et fugit quas eum in in aperiam quod",
         "id velit blanditiis\neum ea voluptatem\nmolestiae sint occaecati est eos perspiciatis\nincidunt a error provident eaque aut aut qui"
        ],
        [
         7,
         65,
         "consequatur id enim sunt et et",
         "voluptatibus ex esse\nsint explicabo est aliquid cumque adipisci fuga repellat labore\nmolestiae corrupti ex saepe at asperiores et perferendis\nnatus id esse incidunt pariatur"
        ],
        [
         7,
         66,
         "repudiandae ea animi iusto",
         "officia veritatis tenetur vero qui itaque\nsint non ratione\nsed et ut asperiores iusto eos molestiae nostrum\nveritatis quibusdam et nemo iusto saepe"
        ],
        [
         7,
         67,
         "aliquid eos sed fuga est maxime repellendus",
         "reprehenderit id nostrum\nvoluptas doloremque pariatur sint et accusantium quia quod aspernatur\net fugiat amet\nnon sapiente et consequatur necessitatibus molestiae"
        ],
        [
         7,
         68,
         "odio quis facere architecto reiciendis optio",
         "magnam molestiae perferendis quisquam\nqui cum reiciendis\nquaerat animi amet hic inventore\nea quia deleniti quidem saepe porro velit"
        ],
        [
         7,
         69,
         "fugiat quod pariatur odit minima",
         "officiis error culpa consequatur modi asperiores et\ndolorum assumenda voluptas et vel qui aut vel rerum\nvoluptatum quisquam perspiciatis quia rerum consequatur totam quas\nsequi commodi repudiandae asperiores et saepe a"
        ],
        [
         7,
         70,
         "voluptatem laborum magni",
         "sunt repellendus quae\nest asperiores aut deleniti esse accusamus repellendus quia aut\nquia dolorem unde\neum tempora esse dolore"
        ],
        [
         8,
         71,
         "et iusto veniam et illum aut fuga",
         "occaecati a doloribus\niste saepe consectetur placeat eum voluptate dolorem et\nqui quo quia voluptas\nrerum ut id enim velit est perferendis"
        ],
        [
         8,
         72,
         "sint hic doloribus consequatur eos non id",
         "quam occaecati qui deleniti consectetur\nconsequatur aut facere quas exercitationem aliquam hic voluptas\nneque id sunt ut aut accusamus\nsunt consectetur expedita inventore velit"
        ],
        [
         8,
         73,
         "consequuntur deleniti eos quia temporibus ab aliquid at",
         "voluptatem cumque tenetur consequatur expedita ipsum nemo quia explicabo\naut eum minima consequatur\ntempore cumque quae est et\net in consequuntur voluptatem voluptates aut"
        ],
        [
         8,
         74,
         "enim unde ratione doloribus quas enim ut sit sapiente",
         "odit qui et et necessitatibus sint veniam\nmollitia amet doloremque molestiae commodi similique magnam et quam\nblanditiis est itaque\nquo et tenetur ratione occaecati molestiae tempora"
        ],
        [
         8,
         75,
         "dignissimos eum dolor ut enim et delectus in",
         "commodi non non omnis et voluptas sit\nautem aut nobis magnam et sapiente voluptatem\net laborum repellat qui delectus facilis temporibus\nrerum amet et nemo voluptate expedita adipisci error dolorem"
        ],
        [
         8,
         76,
         "doloremque officiis ad et non perferendis",
         "ut animi facere\ntotam iusto tempore\nmolestiae eum aut et dolorem aperiam\nquaerat recusandae totam odio"
        ],
        [
         8,
         77,
         "necessitatibus quasi exercitationem odio",
         "modi ut in nulla repudiandae dolorum nostrum eos\naut consequatur omnis\nut incidunt est omnis iste et quam\nvoluptates sapiente aliquam asperiores nobis amet corrupti repudiandae provident"
        ],
        [
         8,
         78,
         "quam voluptatibus rerum veritatis",
         "nobis facilis odit tempore cupiditate quia\nassumenda doloribus rerum qui ea\nillum et qui totam\naut veniam repellendus"
        ],
        [
         8,
         79,
         "pariatur consequatur quia magnam autem omnis non amet",
         "libero accusantium et et facere incidunt sit dolorem\nnon excepturi qui quia sed laudantium\nquisquam molestiae ducimus est\nofficiis esse molestiae iste et quos"
        ],
        [
         8,
         80,
         "labore in ex et explicabo corporis aut quas",
         "ex quod dolorem ea eum iure qui provident amet\nquia qui facere excepturi et repudiandae\nasperiores molestias provident\nminus incidunt vero fugit rerum sint sunt excepturi provident"
        ],
        [
         9,
         81,
         "tempora rem veritatis voluptas quo dolores vero",
         "facere qui nesciunt est voluptatum voluptatem nisi\nsequi eligendi necessitatibus ea at rerum itaque\nharum non ratione velit laboriosam quis consequuntur\nex officiis minima doloremque voluptas ut aut"
        ],
        [
         9,
         82,
         "laudantium voluptate suscipit sunt enim enim",
         "ut libero sit aut totam inventore sunt\nporro sint qui sunt molestiae\nconsequatur cupiditate qui iste ducimus adipisci\ndolor enim assumenda soluta laboriosam amet iste delectus hic"
        ],
        [
         9,
         83,
         "odit et voluptates doloribus alias odio et",
         "est molestiae facilis quis tempora numquam nihil qui\nvoluptate sapiente consequatur est qui\nnecessitatibus autem aut ipsa aperiam modi dolore numquam\nreprehenderit eius rem quibusdam"
        ],
        [
         9,
         84,
         "optio ipsam molestias necessitatibus occaecati facilis veritatis dolores aut",
         "sint molestiae magni a et quos\neaque et quasi\nut rerum debitis similique veniam\nrecusandae dignissimos dolor incidunt consequatur odio"
        ],
        [
         9,
         85,
         "dolore veritatis porro provident adipisci blanditiis et sunt",
         "similique sed nisi voluptas iusto omnis\nmollitia et quo\nassumenda suscipit officia magnam sint sed tempora\nenim provident pariatur praesentium atque animi amet ratione"
        ],
        [
         9,
         86,
         "placeat quia et porro iste",
         "quasi excepturi consequatur iste autem temporibus sed molestiae beatae\net quaerat et esse ut\nvoluptatem occaecati et vel explicabo autem\nasperiores pariatur deserunt optio"
        ],
        [
         9,
         87,
         "nostrum quis quasi placeat",
         "eos et molestiae\nnesciunt ut a\ndolores perspiciatis repellendus repellat aliquid\nmagnam sint rem ipsum est"
        ],
        [
         9,
         88,
         "sapiente omnis fugit eos",
         "consequatur omnis est praesentium\nducimus non iste\nneque hic deserunt\nvoluptatibus veniam cum et rerum sed"
        ],
        [
         9,
         89,
         "sint soluta et vel magnam aut ut sed qui",
         "repellat aut aperiam totam temporibus autem et\narchitecto magnam ut\nconsequatur qui cupiditate rerum quia soluta dignissimos nihil iure\ntempore quas est"
        ],
        [
         9,
         90,
         "ad iusto omnis odit dolor voluptatibus",
         "minus omnis soluta quia\nqui sed adipisci voluptates illum ipsam voluptatem\neligendi officia ut in\neos soluta similique molestias praesentium blanditiis"
        ],
        [
         10,
         91,
         "aut amet sed",
         "libero voluptate eveniet aperiam sed\nsunt placeat suscipit molestias\nsimilique fugit nam natus\nexpedita consequatur consequatur dolores quia eos et placeat"
        ],
        [
         10,
         92,
         "ratione ex tenetur perferendis",
         "aut et excepturi dicta laudantium sint rerum nihil\nlaudantium et at\na neque minima officia et similique libero et\ncommodi voluptate qui"
        ],
        [
         10,
         93,
         "beatae soluta recusandae",
         "dolorem quibusdam ducimus consequuntur dicta aut quo laboriosam\nvoluptatem quis enim recusandae ut sed sunt\nnostrum est odit totam\nsit error sed sunt eveniet provident qui nulla"
        ],
        [
         10,
         94,
         "qui qui voluptates illo iste minima",
         "aspernatur expedita soluta quo ab ut similique\nexpedita dolores amet\nsed temporibus distinctio magnam saepe deleniti\nomnis facilis nam ipsum natus sint similique omnis"
        ],
        [
         10,
         95,
         "id minus libero illum nam ad officiis",
         "earum voluptatem facere provident blanditiis velit laboriosam\npariatur accusamus odio saepe\ncumque dolor qui a dicta ab doloribus consequatur omnis\ncorporis cupiditate eaque assumenda ad nesciunt"
        ],
        [
         10,
         96,
         "quaerat velit veniam amet cupiditate aut numquam ut sequi",
         "in non odio excepturi sint eum\nlabore voluptates vitae quia qui et\ninventore itaque rerum\nveniam non exercitationem delectus aut"
        ],
        [
         10,
         97,
         "quas fugiat ut perspiciatis vero provident",
         "eum non blanditiis soluta porro quibusdam voluptas\nvel voluptatem qui placeat dolores qui velit aut\nvel inventore aut cumque culpa explicabo aliquid at\nperspiciatis est et voluptatem dignissimos dolor itaque sit nam"
        ],
        [
         10,
         98,
         "laboriosam dolor voluptates",
         "doloremque ex facilis sit sint culpa\nsoluta assumenda eligendi non ut eius\nsequi ducimus vel quasi\nveritatis est dolores"
        ],
        [
         10,
         99,
         "temporibus sit alias delectus eligendi possimus magni",
         "quo deleniti praesentium dicta non quod\naut est molestias\nmolestias et officia quis nihil\nitaque dolorem quia"
        ],
        [
         10,
         100,
         "at nam consequatur ea labore ea harum",
         "cupiditate quo est a modi nesciunt soluta\nipsa voluptas error itaque dicta in\nautem qui minus magnam et distinctio eum\naccusamus ratione error aut"
        ]
       ],
       "datasetInfos": [],
       "dbfsResultPath": null,
       "isJsonSchema": true,
       "metadata": {},
       "overflow": false,
       "plotOptions": {
        "customPlotOptions": {},
        "displayType": "table",
        "pivotAggregation": null,
        "pivotColumns": null,
        "xColumns": null,
        "yColumns": null
       },
       "removedWidgets": [],
       "schema": [
        {
         "metadata": "{}",
         "name": "userId",
         "type": "\"long\""
        },
        {
         "metadata": "{}",
         "name": "id",
         "type": "\"long\""
        },
        {
         "metadata": "{}",
         "name": "title",
         "type": "\"string\""
        },
        {
         "metadata": "{}",
         "name": "body",
         "type": "\"string\""
        }
       ],
       "type": "table"
      }
     },
     "output_type": "display_data"
    }
   ],
   "source": [
    "import requests\n",
    "import pandas as pd\n",
    " \n",
    "# API URL (Replace with your API endpoint)\n",
    "api_url = \"https://jsonplaceholder.typicode.com/posts\"\n",
    " \n",
    "# Make a GET request\n",
    "response = requests.get(api_url)\n",
    " \n",
    "# Check if the request was successful\n",
    "if response.status_code == 200:\n",
    "    data = response.json()  # Convert JSON response to Python dict\n",
    "    df = pd.DataFrame(data)  # Convert to Pandas DataFrame\n",
    "    display(df)  # Show in Databricks notebook\n",
    "else:\n",
    "    print(f\"Failed to fetch data: {response.status_code}\")"
   ]
  },
  {
   "cell_type": "code",
   "execution_count": 0,
   "metadata": {
    "application/vnd.databricks.v1+cell": {
     "cellMetadata": {
      "byteLimit": 2048000,
      "rowLimit": 10000
     },
     "inputWidgets": {},
     "nuid": "b95ece02-4e0a-4d1f-9022-3f3d3c3240da",
     "showTitle": false,
     "tableResultSettingsMap": {},
     "title": ""
    }
   },
   "outputs": [
    {
     "output_type": "stream",
     "name": "stdout",
     "output_type": "stream",
     "text": [
      "   confirmed  recovered   deaths   country\n0  676570149        NaN  6881804    global\n1          0        0.0        0     china\n2  676570149        NaN  6881804  nonChina\n"
     ]
    }
   ],
   "source": [
    "import requests\n",
    "import pandas as pd\n",
    "\n",
    "# API URL\n",
    "api_url = \"https://coronavirus.m.pipedream.net\"\n",
    "\n",
    "# Make a GET request\n",
    "response = requests.get(api_url)\n",
    "\n",
    "# Check if the request was successful\n",
    "if response.status_code == 200:\n",
    "    data = response.json()  # Convert JSON response to Python dictionary\n",
    "    \n",
    "    # Extract the relevant summaryStats\n",
    "    summary_stats = data.get(\"summaryStats\", {})\n",
    "\n",
    "    # Convert the nested dictionary into a list of dictionaries\n",
    "    records = []\n",
    "    for country, stats in summary_stats.items():\n",
    "        stats[\"country\"] = country  # Add country name to each record\n",
    "        records.append(stats)\n",
    "\n",
    "    # Convert the processed data to DataFrame\n",
    "    df = pd.DataFrame(records)\n",
    "\n",
    "    print(df)  # Print or use display(df) if in Databricks\n",
    "else:\n",
    "    print(f\"Failed to fetch data: {response.status_code}\")\n"
   ]
  },
  {
   "cell_type": "code",
   "execution_count": 0,
   "metadata": {
    "application/vnd.databricks.v1+cell": {
     "cellMetadata": {
      "byteLimit": 2048000,
      "rowLimit": 10000
     },
     "inputWidgets": {},
     "nuid": "213aeae7-8221-48cf-8b00-540a3bcd939c",
     "showTitle": false,
     "tableResultSettingsMap": {},
     "title": ""
    }
   },
   "outputs": [
    {
     "output_type": "display_data",
     "data": {
      "text/html": [
       "<style scoped>\n",
       "  .table-result-container {\n",
       "    max-height: 300px;\n",
       "    overflow: auto;\n",
       "  }\n",
       "  table, th, td {\n",
       "    border: 1px solid black;\n",
       "    border-collapse: collapse;\n",
       "  }\n",
       "  th, td {\n",
       "    padding: 5px;\n",
       "  }\n",
       "  th {\n",
       "    text-align: left;\n",
       "  }\n",
       "</style><div class='table-result-container'><table class='table-result'><thead style='background-color: white'><tr><th>confirmed</th><th>recovered</th><th>deaths</th><th>country</th></tr></thead><tbody><tr><td>676570149</td><td>null</td><td>6881804</td><td>global</td></tr><tr><td>0</td><td>0.0</td><td>0</td><td>china</td></tr><tr><td>676570149</td><td>null</td><td>6881804</td><td>nonChina</td></tr></tbody></table></div>"
      ]
     },
     "metadata": {
      "application/vnd.databricks.v1+output": {
       "addedWidgets": {},
       "aggData": [],
       "aggError": "",
       "aggOverflow": false,
       "aggSchema": [],
       "aggSeriesLimitReached": false,
       "aggType": "",
       "arguments": {},
       "columnCustomDisplayInfos": {},
       "data": [
        [
         676570149,
         null,
         6881804,
         "global"
        ],
        [
         0,
         0.0,
         0,
         "china"
        ],
        [
         676570149,
         null,
         6881804,
         "nonChina"
        ]
       ],
       "datasetInfos": [],
       "dbfsResultPath": null,
       "isJsonSchema": true,
       "metadata": {},
       "overflow": false,
       "plotOptions": {
        "customPlotOptions": {},
        "displayType": "table",
        "pivotAggregation": null,
        "pivotColumns": null,
        "xColumns": null,
        "yColumns": null
       },
       "removedWidgets": [],
       "schema": [
        {
         "metadata": "{}",
         "name": "confirmed",
         "type": "\"long\""
        },
        {
         "metadata": "{}",
         "name": "recovered",
         "type": "\"double\""
        },
        {
         "metadata": "{}",
         "name": "deaths",
         "type": "\"long\""
        },
        {
         "metadata": "{}",
         "name": "country",
         "type": "\"string\""
        }
       ],
       "type": "table"
      }
     },
     "output_type": "display_data"
    }
   ],
   "source": [
    "df.display()"
   ]
  },
  {
   "cell_type": "code",
   "execution_count": 0,
   "metadata": {
    "application/vnd.databricks.v1+cell": {
     "cellMetadata": {
      "byteLimit": 2048000,
      "rowLimit": 10000
     },
     "inputWidgets": {},
     "nuid": "339a1789-2212-4771-a311-894a02056ec9",
     "showTitle": false,
     "tableResultSettingsMap": {},
     "title": ""
    }
   },
   "outputs": [
    {
     "output_type": "stream",
     "name": "stdout",
     "output_type": "stream",
     "text": [
      "{\n    \"summaryStats\": {\n        \"global\": {\n            \"confirmed\": 676570149,\n            \"recovered\": null,\n            \"deaths\": 6881804\n        },\n        \"china\": {\n            \"confirmed\": 0,\n            \"recovered\": 0,\n            \"deaths\": 0\n        },\n        \"nonChina\": {\n            \"confirmed\": 676570149,\n            \"recovered\": null,\n            \"deaths\": 6881804\n        }\n    },\n    \"cache\": {\n        \"lastUpdated\": \"3 minutes ago\",\n        \"expires\": \"in 2 minutes\",\n        \"lastUpdatedTimestamp\": 1738646464189,\n        \"expiresTimestamp\": 1738646764189\n    },\n    \"dataSource\": {\n        \"url\": \"https://raw.githubusercontent.com/CSSEGISandData/COVID-19/master/csse_covid_19_data/csse_covid_19_daily_reports/03-09-2023.csv\",\n        \"lastGithubCommit\": \"2023-03-10T04:51:58Z\",\n        \"publishedBy\": \"John Hopkins University Center for Systems Science and Engineering\",\n        \"ref\": \"https://github.com/CSSEGISandData/COVID-19\"\n    },\n    \"apiSourceCode\": \"https://pipedream.com/@/p_G6CLVM\",\n    \"rawData\": [\n        {\n            \"FIPS\": \"\",\n            \"Admin2\": \"\",\n            \"Province_State\": \"\",\n            \"Country_Region\": \"Afghanistan\",\n            \"Last_Update\": \"2023-03-10 04:21:03\",\n            \"Lat\": \"33.93911\",\n            \"Long_\": \"67.709953\",\n            \"Confirmed\": \"209451\",\n            \"Deaths\": \"7896\",\n            \"Recovered\": \"\",\n            \"Active\": \"\",\n            \"Combined_Key\": \"Afghanistan\",\n            \"Incident_Rate\": \"538.0424508714615\",\n            \"Case_Fatality_Ratio\": \"3.76985547932452\"\n        },\n        {\n            \"FIPS\": \"\",\n            \"Admin2\": \"\",\n            \"Province_State\": \"\",\n            \"Country_Region\": \"Albania\",\n            \"Last_Update\": \"2023-03-10 04:21:03\",\n            \"Lat\": \"41.1533\",\n            \"Long_\": \"20.1683\",\n            \"Confirmed\": \"334457\",\n            \"Deaths\": \"3598\",\n            \"Recovered\": \"\",\n            \"Active\": \"\",\n            \"Combined_Key\": \"Albania\",\n            \"Incident_Rate\": \"11621.96817012996\",\n            \"Case_Fatality_Ratio\": \"1.075773567304616\"\n        },\n        {\n            \"FIPS\": \"\",\n            \"Admin2\": \"\",\n            \"Province_State\": \"\",\n            \"Country_Region\": \"Algeria\",\n            \"Last_Update\": \"2023-03-10 04:21:03\",\n            \"Lat\": \"28.0339\",\n            \"Long_\": \"1.6596\",\n            \"Confirmed\": \"271496\",\n            \"Deaths\": \"6881\",\n            \"Recovered\": \"\",\n            \"Active\": \"\",\n            \"Combined_Key\": \"Algeria\",\n            \"Incident_Rate\": \"619.132365905185\",\n            \"Case_Fatality_Ratio\": \"2.534475646050034\"\n        },\n        {\n            \"FIPS\": \"\",\n            \"Admin2\": \"\",\n            \"Province_State\": \"\",\n            \"Country_Region\": \"Andorra\",\n            \"Last_Update\": \"2023-03-10 04:21:03\",\n            \"Lat\": \"42.5063\",\n            \"Long_\": \"1.5218\",\n            \"Confirmed\": \"47890\",\n            \"Deaths\": \"165\",\n            \"Recovered\": \"\",\n            \"Active\": \"\",\n            \"Combined_Key\": \"Andorra\",\n            \"Incident_Rate\": \"61981.49226687375\",\n            \"Case_Fatality_Ratio\": \"0.34453956984756734\"\n        },\n        {\n            \"FIPS\": \"\",\n            \"Admin2\": \"\",\n            \"Province_State\": \"\",\n            \"Country_Region\": \"Angola\",\n            \"Last_Update\": \"2023-03-10 04:21:03\",\n            \"Lat\": \"-11.2027\",\n            \"Long_\": \"17.8739\",\n            \"Confirmed\": \"105288\",\n            \"Deaths\": \"1933\",\n            \"Recovered\": \"\",\n            \"Active\": \"\",\n            \"Combined_Key\": \"Angola\",\n            \"Incident_Rate\": \"320.35277020195906\",\n            \"Case_Fatality_Ratio\": \"1.835916723653218\"\n        },\n        {\n            \"FIPS\": \"\",\n            \"Admin2\": \"\",\n            \"Province_State\": \"\",\n            \"Country_Region\": \"Antarctica\",\n            \"Last_Update\": \"2023-03-10 04:21:03\",\n            \"Lat\": \"-71.9499\",\n            \"Long_\": \"23.347\",\n            \"Confirmed\": \"11\",\n            \"Deaths\": \"0\",\n            \"Recovered\": \"\",\n            \"Active\": \"\",\n            \"Combined_Key\": \"Antarctica\",\n            \"Incident_Rate\": \"\",\n            \"Case_Fatality_Ratio\": \"0.0\"\n        },\n        {\n            \"FIPS\": \"\",\n            \"Admin2\": \"\",\n            \"Province_State\": \"\",\n            \"Country_Region\": \"Antigua and Barbuda\",\n            \"Last_Update\": \"2023-03-10 04:21:03\",\n            \"Lat\": \"17.0608\",\n            \"Long_\": \"-61.7964\",\n            \"Confirmed\": \"9106\",\n            \"Deaths\": \"146\",\n            \"Recovered\": \"\",\n            \"Active\": \"\",\n            \"Combined_Key\": \"Antigua and Barbuda\",\n            \"Incident_Rate\": \"9298.668409443671\",\n            \"Case_Fatality_Ratio\": \"1.6033384581594552\"\n        },\n        {\n            \"FIPS\": \"\",\n            \"Admin2\": \"\",\n            \"Province_State\": \"\",\n            \"Country_Region\": \"Argentina\",\n            \"Last_Update\": \"2023-03-10 04:21:03\",\n            \"Lat\": \"-38.4161\",\n            \"Long_\": \"-63.6167\",\n            \"Confirmed\": \"10044957\",\n            \"Deaths\": \"130472\",\n            \"Recovered\": \"\",\n            \"Active\": \"\",\n            \"Combined_Key\": \"Argentina\",\n            \"Incident_Rate\": \"22225.43269916568\",\n            \"Case_Fatality_Ratio\": \"1.2988806223859395\"\n        },\n        {\n            \"FIPS\": \"\",\n            \"Admin2\": \"\",\n            \"Province_State\": \"\",\n            \"Country_Region\": \"Armenia\",\n            \"Last_Update\": \"2023-03-10 04:21:03\",\n            \"Lat\": \"40.0691\",\n            \"Long_\": \"45.0382\",\n            \"Confirmed\": \"447308\",\n            \"Deaths\": \"8727\",\n            \"Recovered\": \"\",\n            \"Active\": \"\",\n            \"Combined_Key\": \"Armenia\",\n            \"Incident_Rate\": \"15095.264160710898\",\n            \"Case_Fatality_Ratio\": \"1.9510046768669462\"\n        },\n        {\n            \"FIPS\": \"\",\n            \"Admin2\": \"\",\n            \"Province_State\": \"Australian Capital Territory\",\n            \"Country_Region\": \"Australia\",\n            \"Last_Update\": \"2023-03-10 04:21:03\",\n            \"Lat\": \"-35.4735\",\n            \"Long_\": \"149.0124\",\n            \"Confirmed\": \"232974\",\n            \"Deaths\": \"228\",\n            \"Recovered\": \"\",\n            \"Active\": \"\",\n            \"Combined_Key\": \"Australian Capital Territory, Australia\",\n            \"Incident_Rate\": \"54420.46250875964\",\n            \"Case_Fatality_Ratio\": \"0.09786499781091453\"\n        },\n        {\n            \"FIPS\": \"\",\n            \"Admin2\": \"\",\n            \"Province_State\": \"New South Wales\",\n            \"Country_Region\": \"Australia\",\n            \"Last_Update\": \"2023-03-10 04:21:03\",\n            \"Lat\": \"-33.8688\",\n            \"Long_\": \"151.2093\",\n            \"Confirmed\": \"3915992\",\n            \"Deaths\": \"6529\",\n            \"Recovered\": \"\",\n            \"Active\": \"\",\n            \"Combined_Key\": \"New South Wales, Australia\",\n            \"Incident_Rate\": \"48238.38383838384\",\n            \"Case_Fatality_Ratio\": \"0.1667265918827209\"\n        },\n        {\n            \"FIPS\": \"\",\n            \"Admin2\": \"\",\n            \"Province_State\": \"Northern Territory\",\n            \"Country_Region\": \"Australia\",\n            \"Last_Update\": \"2023-03-10 04:21:03\",\n            \"Lat\": \"-12.4634\",\n            \"Long_\": \"130.8456\",\n            \"Confirmed\": \"105111\",\n            \"Deaths\": \"91\",\n            \"Recovered\": \"\",\n            \"Active\": \"\",\n            \"Combined_Key\": \"Northern Territory, Australia\",\n            \"Incident_Rate\": \"42797.63843648208\",\n            \"Case_Fatality_Ratio\": \"0.08657514437118856\"\n        },\n        {\n            \"FIPS\": \"\",\n            \"Admin2\": \"\",\n            \"Province_State\": \"Queensland\",\n            \"Country_Region\": \"Australia\",\n            \"Last_Update\": \"2023-03-10 04:21:03\",\n            \"Lat\": \"-27.4698\",\n            \"Long_\": \"153.0251\",\n            \"Confirmed\": \"1800236\",\n            \"Deaths\": \"2783\",\n            \"Recovered\": \"\",\n            \"Active\": \"\",\n            \"Combined_Key\": \"Queensland, Australia\",\n            \"Incident_Rate\": \"35191.78965887988\",\n            \"Case_Fatality_Ratio\": \"0.15459084253397887\"\n        },\n        {\n            \"FIPS\": \"\",\n            \"Admin2\": \"\",\n            \"Province_State\": \"South Australia\",\n            \"Country_Region\": \"Australia\",\n            \"Last_Update\": \"2023-03-10 04:21:03\",\n            \"Lat\": \"-34.9285\",\n            \"Long_\": \"138.6007\",\n            \"Confirmed\": \"883620\",\n            \"Deaths\": \"1365\",\n            \"Recovered\": \"\",\n            \"Active\": \"\",\n            \"Combined_Key\": \"South Australia, Australia\",\n            \"Incident_Rate\": \"50305.72160546541\",\n            \"Case_Fatality_Ratio\": \"0.15447816934881511\"\n        },\n        {\n            \"FIPS\": \"\",\n            \"Admin2\": \"\",\n            \"Province_State\": \"Tasmania\",\n            \"Country_Region\": \"Australia\",\n            \"Last_Update\": \"2023-03-10 04:21:03\",\n            \"Lat\": \"-42.8821\",\n            \"Long_\": \"147.3272\",\n            \"Confirmed\": \"287507\",\n            \"Deaths\": \"256\",\n            \"Recovered\": \"\",\n            \"Active\": \"\",\n            \"Combined_Key\": \"Tasmania, Australia\",\n            \"Incident_Rate\": \"53689.44911297853\",\n            \"Case_Fatality_Ratio\": \"0.08904131029853186\"\n        },\n        {\n            \"FIPS\": \"\",\n            \"Admin2\": \"\",\n            \"Province_State\": \"Victoria\",\n            \"Country_Region\": \"Australia\",\n            \"Last_Update\": \"2023-03-10 04:21:03\",\n            \"Lat\": \"-37.8136\",\n            \"Long_\": \"144.9631\",\n            \"Confirmed\": \"2880559\",\n            \"Deaths\": \"7370\",\n            \"Recovered\": \"\",\n            \"Active\": \"\",\n            \"Combined_Key\": \"Victoria, Australia\",\n            \"Incident_Rate\": \"43448.00072399282\",\n            \"Case_Fatality_Ratio\": \"0.25585311739839384\"\n        },\n        {\n            \"FIPS\": \"\",\n            \"Admin2\": \"\",\n            \"Province_State\": \"Western Australia\",\n            \"Country_Region\": \"Australia\",\n            \"Last_Update\": \"2023-03-10 04:21:03\",\n            \"Lat\": \"-31.9505\",\n            \"Long_\": \"115.8605\",\n            \"Confirmed\": \"1293461\",\n            \"Deaths\": \"952\",\n            \"Recovered\": \"\",\n            \"Active\": \"\",\n            \"Combined_Key\": \"Western Australia, Australia\",\n            \"Incident_Rate\": \"49169.80916901087\",\n            \"Case_Fatality_Ratio\": \"0.07360098217108982\"\n        },\n        {\n            \"FIPS\": \"\",\n            \"Admin2\": \"\",\n            \"Province_State\": \"\",\n            \"Country_Region\": \"Austria\",\n            \"Last_Update\": \"2023-03-10 04:21:03\",\n            \"Lat\": \"47.5162\",\n            \"Long_\": \"14.5501\",\n            \"Confirmed\": \"5961143\",\n            \"Deaths\": \"21970\",\n            \"Recovered\": \"\",\n            \"Active\": \"\",\n            \"Combined_Key\": \"Austria\",\n            \"Incident_Rate\": \"66187.85530289572\",\n            \"Case_Fatality_Ratio\": \"0.36855348043152125\"\n        },\n        {\n            \"FIPS\": \"\",\n            \"Admin2\": \"\",\n            \"Province_State\": \"\",\n            \"Country_Region\": \"Azerbaijan\",\n            \"Last_Update\": \"2023-03-10 04:21:03\",\n            \"Lat\": \"40.1431\",\n            \"Long_\": \"47.5769\",\n            \"Confirmed\": \"828825\",\n            \"Deaths\": \"10138\",\n            \"Recovered\": \"\",\n            \"Active\": \"\",\n            \"Combined_Key\": \"Azerbaijan\",\n            \"Incident_Rate\": \"8174.481651613667\",\n            \"Case_Fatality_Ratio\": \"1.2231773896781588\"\n        },\n        {\n            \"FIPS\": \"\",\n            \"Admin2\": \"\",\n            \"Province_State\": \"\",\n            \"Country_Region\": \"Bahamas\",\n            \"Last_Update\": \"2023-03-10 04:21:03\",\n            \"Lat\": \"25.025885\",\n            \"Long_\": \"-78.035889\",\n            \"Confirmed\": \"37491\",\n            \"Deaths\": \"833\",\n            \"Recovered\": \"\",\n            \"Active\": \"\",\n            \"Combined_Key\": \"Bahamas\",\n            \"Incident_Rate\": \"9533.678492961184\",\n            \"Case_Fatality_Ratio\": \"2.2218665813128484\"\n        },\n        {\n            \"FIPS\": \"\",\n            \"Admin2\": \"\",\n            \"Province_State\": \"\",\n            \"Country_Region\": \"Bahrain\",\n            \"Last_Update\": \"2023-03-10 04:21:03\",\n            \"Lat\": \"26.0275\",\n            \"Long_\": \"50.55\",\n            \"Confirmed\": \"710693\",\n            \"Deaths\": \"1553\",\n            \"Recovered\": \"\",\n            \"Active\": \"\",\n            \"Combined_Key\": \"Bahrain\",\n            \"Incident_Rate\": \"41766.57853304834\",\n            \"Case_Fatality_Ratio\": \"0.21851910740643288\"\n        },\n        {\n            \"FIPS\": \"\",\n            \"Admin2\": \"\",\n            \"Province_State\": \"\",\n            \"Country_Region\": \"Bangladesh\",\n            \"Last_Update\": \"2023-03-10 04:21:03\",\n            \"Lat\": \"23.685\",\n            \"Long_\": \"90.3563\",\n            \"Confirmed\": \"2037871\",\n            \"Deaths\": \"29445\",\n            \"Recovered\": \"\",\n            \"Active\": \"\",\n            \"Combined_Key\": \"Bangladesh\",\n            \"Incident_Rate\": \"1237.402777809909\",\n            \"Case_Fatality_Ratio\": \"1.4448902801011447\"\n        },\n        {\n            \"FIPS\": \"\",\n            \"Admin2\": \"\",\n            \"Province_State\": \"\",\n            \"Country_Region\": \"Barbados\",\n            \"Last_Update\": \"2023-03-10 04:21:03\",\n            \"Lat\": \"13.1939\",\n            \"Long_\": \"-59.5432\",\n            \"Confirmed\": \"106798\",\n            \"Deaths\": \"579\",\n            \"Recovered\": \"\",\n            \"Active\": \"\",\n            \"Combined_Key\": \"Barbados\",\n            \"Incident_Rate\": \"37163.80567280624\",\n            \"Case_Fatality_Ratio\": \"0.5421449839884642\"\n        },\n        {\n            \"FIPS\": \"\",\n            \"Admin2\": \"\",\n            \"Province_State\": \"\",\n            \"Country_Region\": \"Belarus\",\n            \"Last_Update\": \"2023-03-10 04:21:03\",\n            \"Lat\": \"53.7098\",\n            \"Long_\": \"27.9534\",\n            \"Confirmed\": \"994037\",\n            \"Deaths\": \"7118\",\n            \"Recovered\": \"\",\n            \"Active\": \"\",\n            \"Combined_Key\": \"Belarus\",\n            \"Incident_Rate\": \"10519.665910386577\",\n            \"Case_Fatality_Ratio\": \"0.7160699249625517\"\n        },\n        {\n            \"FIPS\": \"\",\n            \"Admin2\": \"\",\n            \"Province_State\": \"Antwerp\",\n            \"Country_Region\": \"Belgium\",\n            \"Last_Update\": \"2023-03-10 04:21:03\",\n            \"Lat\": \"51.2195\",\n            \"Long_\": \"4.4024\",\n            \"Confirmed\": \"766206\",\n            \"Deaths\": \"0\",\n            \"Recovered\": \"\",\n            \"Active\": \"\",\n            \"Combined_Key\": \"Antwerp, Belgium\",\n            \"Incident_Rate\": \"41238.52386401189\",\n            \"Case_Fatality_Ratio\": \"0.0\"\n        },\n        {\n            \"FIPS\": \"\",\n            \"Admin2\": \"\",\n            \"Province_State\": \"Brussels\",\n            \"Country_Region\": \"Belgium\",\n            \"Last_Update\": \"2023-03-10 04:21:03\",\n            \"Lat\": \"50.8503\",\n            \"Long_\": \"4.3517\",\n            \"Confirmed\": \"505467\",\n            \"Deaths\": \"0\",\n            \"Recovered\": \"\",\n            \"Active\": \"\",\n            \"Combined_Key\": \"Brussels, Belgium\",\n            \"Incident_Rate\": \"41824.5290606367\",\n            \"Case_Fatality_Ratio\": \"0.0\"\n        },\n        {\n            \"FIPS\": \"\",\n            \"Admin2\": \"\",\n            \"Province_State\": \"East Flanders\",\n            \"Country_Region\": \"Belgium\",\n            \"Last_Update\": \"2023-03-10 04:21:03\",\n            \"Lat\": \"51.0362\",\n            \"Long_\": \"3.7373\",\n            \"Confirmed\": \"645338\",\n            \"Deaths\": \"0\",\n            \"Recovered\": \"\",\n            \"Active\": \"\",\n            \"Combined_Key\": \"East Flanders, Belgium\",\n            \"Incident_Rate\": \"42594.7682738155\",\n            \"Case_Fatality_Ratio\": \"0.0\"\n        },\n        {\n            \"FIPS\": \"\",\n            \"Admin2\": \"\",\n            \"Province_State\": \"Flemish Brabant\",\n            \"Country_Region\": \"Belgium\",\n            \"Last_Update\": \"2023-03-10 04:21:03\",\n            \"Lat\": \"50.9167\",\n            \"Long_\": \"4.5833\",\n            \"Confirmed\": \"464722\",\n            \"Deaths\": \"0\",\n            \"Recovered\": \"\",\n            \"Active\": \"\",\n            \"Combined_Key\": \"Flemish Brabant, Belgium\",\n            \"Incident_Rate\": \"40545.46644273344\",\n            \"Case_Fatality_Ratio\": \"0.0\"\n        },\n        {\n            \"FIPS\": \"\",\n            \"Admin2\": \"\",\n            \"Province_State\": \"Hainaut\",\n            \"Country_Region\": \"Belgium\",\n            \"Last_Update\": \"2023-03-10 04:21:03\",\n            \"Lat\": \"50.5257\",\n            \"Long_\": \"4.0621\",\n            \"Confirmed\": \"519111\",\n            \"Deaths\": \"0\",\n            \"Recovered\": \"\",\n            \"Active\": \"\",\n            \"Combined_Key\": \"Hainaut, Belgium\",\n            \"Incident_Rate\": \"38617.40565865793\",\n            \"Case_Fatality_Ratio\": \"0.0\"\n        },\n        {\n            \"FIPS\": \"\",\n            \"Admin2\": \"\",\n            \"Province_State\": \"Liege\",\n            \"Country_Region\": \"Belgium\",\n            \"Last_Update\": \"2023-03-10 04:21:03\",\n            \"Lat\": \"50.4496\",\n            \"Long_\": \"5.8492\",\n            \"Confirmed\": \"419029\",\n            \"Deaths\": \"0\",\n            \"Recovered\": \"\",\n            \"Active\": \"\",\n            \"Combined_Key\": \"Liege, Belgium\",\n            \"Incident_Rate\": \"37852.93841328573\",\n            \"Case_Fatality_Ratio\": \"0.0\"\n        },\n        {\n            \"FIPS\": \"\",\n            \"Admin2\": \"\",\n            \"Province_State\": \"Limburg\",\n            \"Country_Region\": \"Belgium\",\n            \"Last_Update\": \"2023-03-10 04:21:03\",\n            \"Lat\": \"50.9739\",\n            \"Long_\": \"5.342\",\n            \"Confirmed\": \"351474\",\n            \"Deaths\": \"0\",\n            \"Recovered\": \"\",\n            \"Active\": \"\",\n            \"Combined_Key\": \"Limburg, Belgium\",\n            \"Incident_Rate\": \"40212.20802518855\",\n            \"Case_Fatality_Ratio\": \"0.0\"\n        },\n        {\n            \"FIPS\": \"\",\n            \"Admin2\": \"\",\n            \"Province_State\": \"Luxembourg\",\n            \"Country_Region\": \"Belgium\",\n            \"Last_Update\": \"2023-03-10 04:21:03\",\n            \"Lat\": \"50.0547\",\n            \"Long_\": \"5.4677\",\n            \"Confirmed\": \"122942\",\n            \"Deaths\": \"0\",\n            \"Recovered\": \"\",\n            \"Active\": \"\",\n            \"Combined_Key\": \"Luxembourg, Belgium\",\n            \"Incident_Rate\": \"43192.4057926208\",\n            \"Case_Fatality_Ratio\": \"0.0\"\n        },\n        {\n            \"FIPS\": \"\",\n            \"Admin2\": \"\",\n            \"Province_State\": \"Namur\",\n            \"Country_Region\": \"Belgium\",\n            \"Last_Update\": \"2023-03-10 04:21:03\",\n            \"Lat\": \"50.331\",\n            \"Long_\": \"4.8221\",\n            \"Confirmed\": \"202905\",\n            \"Deaths\": \"0\",\n            \"Recovered\": \"\",\n            \"Active\": \"\",\n            \"Combined_Key\": \"Namur, Belgium\",\n            \"Incident_Rate\": \"41046.88211197087\",\n            \"Case_Fatality_Ratio\": \"0.0\"\n        },\n        {\n            \"FIPS\": \"\",\n            \"Admin2\": \"\",\n            \"Province_State\": \"Unknown\",\n            \"Country_Region\": \"Belgium\",\n            \"Last_Update\": \"2023-03-10 04:21:03\",\n            \"Lat\": \"\",\n            \"Long_\": \"\",\n            \"Confirmed\": \"63364\",\n            \"Deaths\": \"33814\",\n            \"Recovered\": \"\",\n            \"Active\": \"\",\n            \"Combined_Key\": \"Unknown, Belgium\",\n            \"Incident_Rate\": \"\",\n            \"Case_Fatality_Ratio\": \"53.36468657281737\"\n        },\n        {\n            \"FIPS\": \"\",\n            \"Admin2\": \"\",\n            \"Province_State\": \"Walloon Brabant\",\n            \"Country_Region\": \"Belgium\",\n            \"Last_Update\": \"2023-03-10 04:21:03\",\n            \"Lat\": \"50.4\",\n            \"Long_\": \"4.35\",\n            \"Confirmed\": \"173827\",\n            \"Deaths\": \"0\",\n            \"Recovered\": \"\",\n            \"Active\": \"\",\n            \"Combined_Key\": \"Walloon Brabant, Belgium\",\n            \"Incident_Rate\": \"43069.23456202815\",\n            \"Case_Fatality_Ratio\": \"0.0\"\n        },\n        {\n            \"FIPS\": \"\",\n            \"Admin2\": \"\",\n            \"Province_State\": \"West Flanders\",\n            \"Country_Region\": \"Belgium\",\n            \"Last_Update\": \"2023-03-10 04:21:03\",\n            \"Lat\": \"51.0536\",\n            \"Long_\": \"3.1458\",\n            \"Confirmed\": \"504980\",\n            \"Deaths\": \"0\",\n            \"Recovered\": \"\",\n            \"Active\": \"\",\n            \"Combined_Key\": \"West Flanders, Belgium\",\n            \"Incident_Rate\": \"42229.611070784646\",\n            \"Case_Fatality_Ratio\": \"0.0\"\n        },\n        {\n            \"FIPS\": \"\",\n            \"Admin2\": \"\",\n            \"Province_State\": \"\",\n            \"Country_Region\": \"Belize\",\n            \"Last_Update\": \"2023-03-10 04:21:03\",\n            \"Lat\": \"17.1899\",\n            \"Long_\": \"-88.4976\",\n            \"Confirmed\": \"70757\",\n            \"Deaths\": \"688\",\n            \"Recovered\": \"\",\n            \"Active\": \"\",\n            \"Combined_Key\": \"Belize\",\n            \"Incident_Rate\": \"17795.086275624275\",\n            \"Case_Fatality_Ratio\": \"0.9723419590994531\"\n        },\n        {\n            \"FIPS\": \"\",\n            \"Admin2\": \"\",\n            \"Province_State\": \"\",\n            \"Country_Region\": \"Benin\",\n            \"Last_Update\": \"2023-03-10 04:21:03\",\n            \"Lat\": \"9.3077\",\n            \"Long_\": \"2.3158\",\n            \"Confirmed\": \"27999\",\n            \"Deaths\": \"163\",\n            \"Recovered\": \"\",\n            \"Active\": \"\",\n            \"Combined_Key\": \"Benin\",\n            \"Incident_Rate\": \"230.95391166588223\",\n            \"Case_Fatality_Ratio\": \"0.5821636487017393\"\n        },\n        {\n            \"FIPS\": \"\",\n            \"Admin2\": \"\",\n            \"Province_State\": \"\",\n            \"Country_Region\": \"Bhutan\",\n            \"Last_Update\": \"2023-03-10 04:21:03\",\n            \"Lat\": \"27.5142\",\n            \"Long_\": \"90.4336\",\n            \"Confirmed\": \"62627\",\n            \"Deaths\": \"21\",\n            \"Recovered\": \"\",\n            \"Active\": \"\",\n            \"Combined_Key\": \"Bhutan\",\n            \"Incident_Rate\": \"8116.384918845223\",\n            \"Case_Fatality_Ratio\": \"0.03353186325386814\"\n        },\n        {\n            \"FIPS\": \"\",\n            \"Admin2\": \"\",\n            \"Province_State\": \"\",\n            \"Country_Region\": \"Bolivia\",\n            \"Last_Update\": \"2023-03-10 04:21:03\",\n            \"Lat\": \"-16.2902\",\n            \"Long_\": \"-63.5887\",\n            \"Confirmed\": \"1194277\",\n            \"Deaths\": \"22365\",\n            \"Recovered\": \"\",\n            \"Active\": \"\",\n            \"Combined_Key\": \"Bolivia\",\n            \"Incident_Rate\": \"10231.080553299404\",\n            \"Case_Fatality_Ratio\": \"1.8726811284149323\"\n        },\n        {\n            \"FIPS\": \"\",\n            \"Admin2\": \"\",\n            \"Province_State\": \"\",\n            \"Country_Region\": \"Bosnia and Herzegovina\",\n            \"Last_Update\": \"2023-03-10 04:21:03\",\n            \"Lat\": \"43.9159\",\n            \"Long_\": \"17.6791\",\n            \"Confirmed\": \"401729\",\n            \"Deaths\": \"16280\",\n            \"Recovered\": \"\",\n            \"Active\": \"\",\n            \"Combined_Key\": \"Bosnia and Herzegovina\",\n            \"Incident_Rate\": \"12244.79283348802\",\n            \"Case_Fatality_Ratio\": \"4.052483141620346\"\n        },\n        {\n            \"FIPS\": \"\",\n            \"Admin2\": \"\",\n            \"Province_State\": \"\",\n            \"Country_Region\": \"Botswana\",\n            \"Last_Update\": \"2023-03-10 04:21:03\",\n            \"Lat\": \"-22.3285\",\n            \"Long_\": \"24.6849\",\n            \"Confirmed\": \"329758\",\n            \"Deaths\": \"2801\",\n            \"Recovered\": \"\",\n            \"Active\": \"\",\n            \"Combined_Key\": \"Botswana\",\n            \"Incident_Rate\": \"14022.558868867272\",\n            \"Case_Fatality_Ratio\": \"0.8494107800265649\"\n        },\n        {\n            \"FIPS\": \"\",\n            \"Admin2\": \"\",\n            \"Province_State\": \"Acre\",\n            \"Country_Region\": \"Brazil\",\n            \"Last_Update\": \"2023-03-10 04:21:03\",\n            \"Lat\": \"-9.0238\",\n            \"Long_\": \"-70.812\",\n            \"Confirmed\": \"160433\",\n            \"Deaths\": \"2043\",\n            \"Recovered\": \"\",\n            \"Active\": \"\",\n            \"Combined_Key\": \"Acre, Brazil\",\n            \"Incident_Rate\": \"18191.02314796442\",\n            \"Case_Fatality_Ratio\": \"1.2734287833550455\"\n        },\n        {\n            \"FIPS\": \"\",\n            \"Admin2\": \"\",\n            \"Province_State\": \"Alagoas\",\n            \"Country_Region\": \"Brazil\",\n            \"Last_Update\": \"2023-03-10 04:21:03\",\n            \"Lat\": \"-9.5713\",\n            \"Long_\": \"-36.782\",\n            \"Confirmed\": \"337535\",\n            \"Deaths\": \"7242\",\n            \"Recovered\": \"\",\n            \"Active\": \"\",\n            \"Combined_Key\": \"Alagoas, Brazil\",\n            \"Incident_Rate\": \"10113.841581826577\",\n            \"Case_Fatality_Ratio\": \"2.1455552757491816\"\n        },\n        {\n            \"FIPS\": \"\",\n            \"Admin2\": \"\",\n            \"Province_State\": \"Amapa\",\n            \"Country_Region\": \"Brazil\",\n            \"Last_Update\": \"2023-03-10 04:21:03\",\n            \"Lat\": \"0.902\",\n            \"Long_\": \"-52.003\",\n            \"Confirmed\": \"185668\",\n            \"Deaths\": \"2167\",\n            \"Recovered\": \"\",\n            \"Active\": \"\",\n            \"Combined_Key\": \"Amapa, Brazil\",\n            \"Incident_Rate\": \"21953.552607152866\",\n            \"Case_Fatality_Ratio\": \"1.1671370403085077\"\n        },\n        {\n            \"FIPS\": \"\",\n        \n\n*** WARNING: max output size exceeded, skipping output. ***\n\nong_\": \"32.2623\",\n            \"Confirmed\": \"45117\",\n            \"Deaths\": \"1741\",\n            \"Recovered\": \"\",\n            \"Active\": \"\",\n            \"Combined_Key\": \"Kirovohrad Oblast, Ukraine\",\n            \"Incident_Rate\": \"4771.513692045573\",\n            \"Case_Fatality_Ratio\": \"3.858855863643416\"\n        },\n        {\n            \"FIPS\": \"\",\n            \"Admin2\": \"\",\n            \"Province_State\": \"Luhansk Oblast\",\n            \"Country_Region\": \"Ukraine\",\n            \"Last_Update\": \"2023-03-10 04:21:03\",\n            \"Lat\": \"48.574\",\n            \"Long_\": \"39.3078\",\n            \"Confirmed\": \"80033\",\n            \"Deaths\": \"2392\",\n            \"Recovered\": \"\",\n            \"Active\": \"\",\n            \"Combined_Key\": \"Luhansk Oblast, Ukraine\",\n            \"Incident_Rate\": \"3719.294201734057\",\n            \"Case_Fatality_Ratio\": \"2.9887671335574075\"\n        },\n        {\n            \"FIPS\": \"\",\n            \"Admin2\": \"\",\n            \"Province_State\": \"Lviv Oblast\",\n            \"Country_Region\": \"Ukraine\",\n            \"Last_Update\": \"2023-03-10 04:21:03\",\n            \"Lat\": \"49.8397\",\n            \"Long_\": \"24.0297\",\n            \"Confirmed\": \"303357\",\n            \"Deaths\": \"6569\",\n            \"Recovered\": \"\",\n            \"Active\": \"\",\n            \"Combined_Key\": \"Lviv Oblast, Ukraine\",\n            \"Incident_Rate\": \"12028.329661013924\",\n            \"Case_Fatality_Ratio\": \"2.165435444047772\"\n        },\n        {\n            \"FIPS\": \"\",\n            \"Admin2\": \"\",\n            \"Province_State\": \"Mykolaiv Oblast\",\n            \"Country_Region\": \"Ukraine\",\n            \"Last_Update\": \"2023-03-10 04:21:03\",\n            \"Lat\": \"46.975\",\n            \"Long_\": \"31.9946\",\n            \"Confirmed\": \"146174\",\n            \"Deaths\": \"3530\",\n            \"Recovered\": \"\",\n            \"Active\": \"\",\n            \"Combined_Key\": \"Mykolaiv Oblast, Ukraine\",\n            \"Incident_Rate\": \"5795.907329875525\",\n            \"Case_Fatality_Ratio\": \"2.414930151736971\"\n        },\n        {\n            \"FIPS\": \"\",\n            \"Admin2\": \"\",\n            \"Province_State\": \"Odessa Oblast\",\n            \"Country_Region\": \"Ukraine\",\n            \"Last_Update\": \"2023-03-10 04:21:03\",\n            \"Lat\": \"46.4846\",\n            \"Long_\": \"30.7326\",\n            \"Confirmed\": \"325462\",\n            \"Deaths\": \"5917\",\n            \"Recovered\": \"\",\n            \"Active\": \"\",\n            \"Combined_Key\": \"Odessa Oblast, Ukraine\",\n            \"Incident_Rate\": \"13673.104488998904\",\n            \"Case_Fatality_Ratio\": \"1.8180309836478605\"\n        },\n        {\n            \"FIPS\": \"\",\n            \"Admin2\": \"\",\n            \"Province_State\": \"Poltava Oblast\",\n            \"Country_Region\": \"Ukraine\",\n            \"Last_Update\": \"2023-03-10 04:21:03\",\n            \"Lat\": \"49.5883\",\n            \"Long_\": \"34.5514\",\n            \"Confirmed\": \"179994\",\n            \"Deaths\": \"4181\",\n            \"Recovered\": \"\",\n            \"Active\": \"\",\n            \"Combined_Key\": \"Poltava Oblast, Ukraine\",\n            \"Incident_Rate\": \"12852.684051215369\",\n            \"Case_Fatality_Ratio\": \"2.322855206284654\"\n        },\n        {\n            \"FIPS\": \"\",\n            \"Admin2\": \"\",\n            \"Province_State\": \"Rivne Oblast\",\n            \"Country_Region\": \"Ukraine\",\n            \"Last_Update\": \"2023-03-10 04:21:03\",\n            \"Lat\": \"50.6199\",\n            \"Long_\": \"26.2516\",\n            \"Confirmed\": \"171031\",\n            \"Deaths\": \"2530\",\n            \"Recovered\": \"\",\n            \"Active\": \"\",\n            \"Combined_Key\": \"Rivne Oblast, Ukraine\",\n            \"Incident_Rate\": \"14778.437070390504\",\n            \"Case_Fatality_Ratio\": \"1.4792639930772784\"\n        },\n        {\n            \"FIPS\": \"\",\n            \"Admin2\": \"\",\n            \"Province_State\": \"Sevastopol*\",\n            \"Country_Region\": \"Ukraine\",\n            \"Last_Update\": \"2023-03-10 04:21:03\",\n            \"Lat\": \"44.6054\",\n            \"Long_\": \"33.522\",\n            \"Confirmed\": \"99770\",\n            \"Deaths\": \"2562\",\n            \"Recovered\": \"\",\n            \"Active\": \"\",\n            \"Combined_Key\": \"Sevastopol*, Ukraine\",\n            \"Incident_Rate\": \"22510.72288368294\",\n            \"Case_Fatality_Ratio\": \"2.5679061842237147\"\n        },\n        {\n            \"FIPS\": \"\",\n            \"Admin2\": \"\",\n            \"Province_State\": \"Sumy Oblast\",\n            \"Country_Region\": \"Ukraine\",\n            \"Last_Update\": \"2023-03-10 04:21:03\",\n            \"Lat\": \"50.9077\",\n            \"Long_\": \"34.7981\",\n            \"Confirmed\": \"182268\",\n            \"Deaths\": \"3208\",\n            \"Recovered\": \"\",\n            \"Active\": \"\",\n            \"Combined_Key\": \"Sumy Oblast, Ukraine\",\n            \"Incident_Rate\": \"16854.53728345561\",\n            \"Case_Fatality_Ratio\": \"1.760045647069151\"\n        },\n        {\n            \"FIPS\": \"\",\n            \"Admin2\": \"\",\n            \"Province_State\": \"Ternopil Oblast\",\n            \"Country_Region\": \"Ukraine\",\n            \"Last_Update\": \"2023-03-10 04:21:03\",\n            \"Lat\": \"49.5535\",\n            \"Long_\": \"25.5948\",\n            \"Confirmed\": \"146363\",\n            \"Deaths\": \"2391\",\n            \"Recovered\": \"\",\n            \"Active\": \"\",\n            \"Combined_Key\": \"Ternopil Oblast, Ukraine\",\n            \"Incident_Rate\": \"13994.257461905248\",\n            \"Case_Fatality_Ratio\": \"1.6336095871224285\"\n        },\n        {\n            \"FIPS\": \"\",\n            \"Admin2\": \"\",\n            \"Province_State\": \"Unknown\",\n            \"Country_Region\": \"Ukraine\",\n            \"Last_Update\": \"2023-03-10 04:21:03\",\n            \"Lat\": \"\",\n            \"Long_\": \"\",\n            \"Confirmed\": \"589607\",\n            \"Deaths\": \"5793\",\n            \"Recovered\": \"\",\n            \"Active\": \"\",\n            \"Combined_Key\": \"Unknown, Ukraine\",\n            \"Incident_Rate\": \"\",\n            \"Case_Fatality_Ratio\": \"0.9825188642604311\"\n        },\n        {\n            \"FIPS\": \"\",\n            \"Admin2\": \"\",\n            \"Province_State\": \"Vinnytsia Oblast\",\n            \"Country_Region\": \"Ukraine\",\n            \"Last_Update\": \"2023-03-10 04:21:03\",\n            \"Lat\": \"49.2331\",\n            \"Long_\": \"28.4682\",\n            \"Confirmed\": \"149845\",\n            \"Deaths\": \"3546\",\n            \"Recovered\": \"\",\n            \"Active\": \"\",\n            \"Combined_Key\": \"Vinnytsia Oblast, Ukraine\",\n            \"Incident_Rate\": \"9603.023338977207\",\n            \"Case_Fatality_Ratio\": \"2.366445326837732\"\n        },\n        {\n            \"FIPS\": \"\",\n            \"Admin2\": \"\",\n            \"Province_State\": \"Volyn Oblast\",\n            \"Country_Region\": \"Ukraine\",\n            \"Last_Update\": \"2023-03-10 04:21:03\",\n            \"Lat\": \"50.7472\",\n            \"Long_\": \"25.3254\",\n            \"Confirmed\": \"132045\",\n            \"Deaths\": \"2394\",\n            \"Recovered\": \"\",\n            \"Active\": \"\",\n            \"Combined_Key\": \"Volyn Oblast, Ukraine\",\n            \"Incident_Rate\": \"12753.90455217177\",\n            \"Case_Fatality_Ratio\": \"1.8130182892195843\"\n        },\n        {\n            \"FIPS\": \"\",\n            \"Admin2\": \"\",\n            \"Province_State\": \"Zakarpattia Oblast\",\n            \"Country_Region\": \"Ukraine\",\n            \"Last_Update\": \"2023-03-10 04:21:03\",\n            \"Lat\": \"48.6208\",\n            \"Long_\": \"22.2879\",\n            \"Confirmed\": \"112462\",\n            \"Deaths\": \"2724\",\n            \"Recovered\": \"\",\n            \"Active\": \"\",\n            \"Combined_Key\": \"Zakarpattia Oblast, Ukraine\",\n            \"Incident_Rate\": \"8948.267109695878\",\n            \"Case_Fatality_Ratio\": \"2.4221514822784584\"\n        },\n        {\n            \"FIPS\": \"\",\n            \"Admin2\": \"\",\n            \"Province_State\": \"Zaporizhia Oblast\",\n            \"Country_Region\": \"Ukraine\",\n            \"Last_Update\": \"2023-03-10 04:21:03\",\n            \"Lat\": \"47.8388\",\n            \"Long_\": \"35.1396\",\n            \"Confirmed\": \"215070\",\n            \"Deaths\": \"5866\",\n            \"Recovered\": \"\",\n            \"Active\": \"\",\n            \"Combined_Key\": \"Zaporizhia Oblast, Ukraine\",\n            \"Incident_Rate\": \"12607.894311059212\",\n            \"Case_Fatality_Ratio\": \"2.7274840749523412\"\n        },\n        {\n            \"FIPS\": \"\",\n            \"Admin2\": \"\",\n            \"Province_State\": \"Zhytomyr Oblast\",\n            \"Country_Region\": \"Ukraine\",\n            \"Last_Update\": \"2023-03-10 04:21:03\",\n            \"Lat\": \"50.2547\",\n            \"Long_\": \"28.6587\",\n            \"Confirmed\": \"192801\",\n            \"Deaths\": \"3538\",\n            \"Recovered\": \"\",\n            \"Active\": \"\",\n            \"Combined_Key\": \"Zhytomyr Oblast, Ukraine\",\n            \"Incident_Rate\": \"15800.861011331814\",\n            \"Case_Fatality_Ratio\": \"1.8350527227555873\"\n        },\n        {\n            \"FIPS\": \"\",\n            \"Admin2\": \"\",\n            \"Province_State\": \"\",\n            \"Country_Region\": \"United Arab Emirates\",\n            \"Last_Update\": \"2023-03-10 04:21:03\",\n            \"Lat\": \"23.424076\",\n            \"Long_\": \"53.847818\",\n            \"Confirmed\": \"1053213\",\n            \"Deaths\": \"2349\",\n            \"Recovered\": \"\",\n            \"Active\": \"\",\n            \"Combined_Key\": \"United Arab Emirates\",\n            \"Incident_Rate\": \"10648.84130065518\",\n            \"Case_Fatality_Ratio\": \"0.22303180838064096\"\n        },\n        {\n            \"FIPS\": \"\",\n            \"Admin2\": \"\",\n            \"Province_State\": \"Anguilla\",\n            \"Country_Region\": \"United Kingdom\",\n            \"Last_Update\": \"2023-03-10 04:21:03\",\n            \"Lat\": \"18.2206\",\n            \"Long_\": \"-63.0686\",\n            \"Confirmed\": \"3904\",\n            \"Deaths\": \"12\",\n            \"Recovered\": \"\",\n            \"Active\": \"\",\n            \"Combined_Key\": \"Anguilla, United Kingdom\",\n            \"Incident_Rate\": \"26023.19690707905\",\n            \"Case_Fatality_Ratio\": \"0.3073770491803279\"\n        },\n        {\n            \"FIPS\": \"\",\n            \"Admin2\": \"\",\n            \"Province_State\": \"Bermuda\",\n            \"Country_Region\": \"United Kingdom\",\n            \"Last_Update\": \"2023-03-10 04:21:03\",\n            \"Lat\": \"32.3078\",\n            \"Long_\": \"-64.7505\",\n            \"Confirmed\": \"18828\",\n            \"Deaths\": \"160\",\n            \"Recovered\": \"\",\n            \"Active\": \"\",\n            \"Combined_Key\": \"Bermuda, United Kingdom\",\n            \"Incident_Rate\": \"30234.612111187835\",\n            \"Case_Fatality_Ratio\": \"0.8497981729339282\"\n        },\n        {\n            \"FIPS\": \"\",\n            \"Admin2\": \"\",\n            \"Province_State\": \"British Virgin Islands\",\n            \"Country_Region\": \"United Kingdom\",\n            \"Last_Update\": \"2023-03-10 04:21:03\",\n            \"Lat\": \"18.4207\",\n            \"Long_\": \"-64.64\",\n            \"Confirmed\": \"7305\",\n            \"Deaths\": \"64\",\n            \"Recovered\": \"\",\n            \"Active\": \"\",\n            \"Combined_Key\": \"British Virgin Islands, United Kingdom\",\n            \"Incident_Rate\": \"24159.142772100407\",\n            \"Case_Fatality_Ratio\": \"0.8761122518822724\"\n        },\n        {\n            \"FIPS\": \"\",\n            \"Admin2\": \"\",\n            \"Province_State\": \"Cayman Islands\",\n            \"Country_Region\": \"United Kingdom\",\n            \"Last_Update\": \"2023-03-10 04:21:03\",\n            \"Lat\": \"19.3133\",\n            \"Long_\": \"-81.2546\",\n            \"Confirmed\": \"31472\",\n            \"Deaths\": \"37\",\n            \"Recovered\": \"\",\n            \"Active\": \"\",\n            \"Combined_Key\": \"Cayman Islands, United Kingdom\",\n            \"Incident_Rate\": \"47888.009738283625\",\n            \"Case_Fatality_Ratio\": \"0.1175648195221149\"\n        },\n        {\n            \"FIPS\": \"\",\n            \"Admin2\": \"\",\n            \"Province_State\": \"Channel Islands\",\n            \"Country_Region\": \"United Kingdom\",\n            \"Last_Update\": \"2023-03-10 04:21:03\",\n            \"Lat\": \"49.3723\",\n            \"Long_\": \"-2.3644\",\n            \"Confirmed\": \"0\",\n            \"Deaths\": \"0\",\n            \"Recovered\": \"\",\n            \"Active\": \"\",\n            \"Combined_Key\": \"Channel Islands, United Kingdom\",\n            \"Incident_Rate\": \"0.0\",\n            \"Case_Fatality_Ratio\": \"\"\n        },\n        {\n            \"FIPS\": \"\",\n            \"Admin2\": \"\",\n            \"Province_State\": \"England\",\n            \"Country_Region\": \"United Kingdom\",\n            \"Last_Update\": \"2023-03-10 04:21:03\",\n            \"Lat\": \"52.3555\",\n            \"Long_\": \"-1.1743\",\n            \"Confirmed\": \"20656177\",\n            \"Deaths\": \"186138\",\n            \"Recovered\": \"\",\n            \"Active\": \"\",\n            \"Combined_Key\": \"England, United Kingdom\",\n            \"Incident_Rate\": \"36901.05435784569\",\n            \"Case_Fatality_Ratio\": \"0.9011251210715323\"\n        },\n        {\n            \"FIPS\": \"\",\n            \"Admin2\": \"\",\n            \"Province_State\": \"Falkland Islands (Malvinas)\",\n            \"Country_Region\": \"United Kingdom\",\n            \"Last_Update\": \"2023-03-10 04:21:03\",\n            \"Lat\": \"-51.7963\",\n            \"Long_\": \"-59.5236\",\n            \"Confirmed\": \"1930\",\n            \"Deaths\": \"0\",\n            \"Recovered\": \"\",\n            \"Active\": \"\",\n            \"Combined_Key\": \"Falkland Islands (Malvinas), United Kingdom\",\n            \"Incident_Rate\": \"55412.00114843526\",\n            \"Case_Fatality_Ratio\": \"0.0\"\n        },\n        {\n            \"FIPS\": \"\",\n            \"Admin2\": \"\",\n            \"Province_State\": \"Gibraltar\",\n            \"Country_Region\": \"United Kingdom\",\n            \"Last_Update\": \"2023-03-10 04:21:03\",\n            \"Lat\": \"36.1408\",\n            \"Long_\": \"-5.3536\",\n            \"Confirmed\": \"20433\",\n            \"Deaths\": \"111\",\n            \"Recovered\": \"\",\n            \"Active\": \"\",\n            \"Combined_Key\": \"Gibraltar, United Kingdom\",\n            \"Incident_Rate\": \"60648.24433825057\",\n            \"Case_Fatality_Ratio\": \"0.543238878285127\"\n        },\n        {\n            \"FIPS\": \"\",\n            \"Admin2\": \"\",\n            \"Province_State\": \"Guernsey\",\n            \"Country_Region\": \"United Kingdom\",\n            \"Last_Update\": \"2023-03-10 04:21:03\",\n            \"Lat\": \"49.448196\",\n            \"Long_\": \"-2.58949\",\n            \"Confirmed\": \"34991\",\n            \"Deaths\": \"66\",\n            \"Recovered\": \"\",\n            \"Active\": \"\",\n            \"Combined_Key\": \"Guernsey, United Kingdom\",\n            \"Incident_Rate\": \"55541.269841269845\",\n            \"Case_Fatality_Ratio\": \"0.18861993083935868\"\n        },\n        {\n            \"FIPS\": \"\",\n            \"Admin2\": \"\",\n            \"Province_State\": \"Isle of Man\",\n            \"Country_Region\": \"United Kingdom\",\n            \"Last_Update\": \"2023-03-10 04:21:03\",\n            \"Lat\": \"54.2361\",\n            \"Long_\": \"-4.5481\",\n            \"Confirmed\": \"38008\",\n            \"Deaths\": \"116\",\n            \"Recovered\": \"\",\n            \"Active\": \"\",\n            \"Combined_Key\": \"Isle of Man, United Kingdom\",\n            \"Incident_Rate\": \"44698.46645968576\",\n            \"Case_Fatality_Ratio\": \"0.3051989054935803\"\n        },\n        {\n            \"FIPS\": \"\",\n            \"Admin2\": \"\",\n            \"Province_State\": \"Jersey\",\n            \"Country_Region\": \"United Kingdom\",\n            \"Last_Update\": \"2023-03-10 04:21:03\",\n            \"Lat\": \"49.2138\",\n            \"Long_\": \"-2.1358\",\n            \"Confirmed\": \"66391\",\n            \"Deaths\": \"161\",\n            \"Recovered\": \"\",\n            \"Active\": \"\",\n            \"Combined_Key\": \"Jersey, United Kingdom\",\n            \"Incident_Rate\": \"60741.9945105215\",\n            \"Case_Fatality_Ratio\": \"0.24250274886656323\"\n        },\n        {\n            \"FIPS\": \"\",\n            \"Admin2\": \"\",\n            \"Province_State\": \"Montserrat\",\n            \"Country_Region\": \"United Kingdom\",\n            \"Last_Update\": \"2023-03-10 04:21:03\",\n            \"Lat\": \"16.742498\",\n            \"Long_\": \"-62.187366\",\n            \"Confirmed\": \"1403\",\n            \"Deaths\": \"8\",\n            \"Recovered\": \"\",\n            \"Active\": \"\",\n            \"Combined_Key\": \"Montserrat, United Kingdom\",\n            \"Incident_Rate\": \"28065.613122624523\",\n            \"Case_Fatality_Ratio\": \"0.5702066999287242\"\n        },\n        {\n            \"FIPS\": \"\",\n            \"Admin2\": \"\",\n            \"Province_State\": \"Northern Ireland\",\n            \"Country_Region\": \"United Kingdom\",\n            \"Last_Update\": \"2023-03-10 04:21:03\",\n            \"Lat\": \"54.7877\",\n            \"Long_\": \"-6.4923\",\n            \"Confirmed\": \"713294\",\n            \"Deaths\": \"5166\",\n            \"Recovered\": \"\",\n            \"Active\": \"\",\n            \"Combined_Key\": \"Northern Ireland, United Kingdom\",\n            \"Incident_Rate\": \"37908.90731292517\",\n            \"Case_Fatality_Ratio\": \"0.7242455425112225\"\n        },\n        {\n            \"FIPS\": \"\",\n            \"Admin2\": \"\",\n            \"Province_State\": \"Pitcairn Islands\",\n            \"Country_Region\": \"United Kingdom\",\n            \"Last_Update\": \"2023-03-10 04:21:03\",\n            \"Lat\": \"-24.3768\",\n            \"Long_\": \"-128.3242\",\n            \"Confirmed\": \"4\",\n            \"Deaths\": \"0\",\n            \"Recovered\": \"\",\n            \"Active\": \"\",\n            \"Combined_Key\": \"Pitcairn Islands, United Kingdom\",\n            \"Incident_Rate\": \"5970.149253731343\",\n            \"Case_Fatality_Ratio\": \"0.0\"\n        },\n        {\n            \"FIPS\": \"\",\n            \"Admin2\": \"\",\n            \"Province_State\": \"Saint Helena, Ascension and Tristan da Cunha\",\n            \"Country_Region\": \"United Kingdom\",\n            \"Last_Update\": \"2023-03-10 04:21:03\",\n            \"Lat\": \"-7.9467\",\n            \"Long_\": \"-14.3559\",\n            \"Confirmed\": \"2166\",\n            \"Deaths\": \"0\",\n            \"Recovered\": \"\",\n            \"Active\": \"\",\n            \"Combined_Key\": \"Saint Helena, Ascension and Tristan da Cunha, United Kingdom\",\n            \"Incident_Rate\": \"38261.79120296767\",\n            \"Case_Fatality_Ratio\": \"0.0\"\n        },\n        {\n            \"FIPS\": \"\",\n            \"Admin2\": \"\",\n            \"Province_State\": \"Scotland\",\n            \"Country_Region\": \"United Kingdom\",\n            \"Last_Update\": \"2023-03-10 04:21:03\",\n            \"Lat\": \"56.4907\",\n            \"Long_\": \"-4.2026\",\n            \"Confirmed\": \"2157720\",\n            \"Deaths\": \"16806\",\n            \"Recovered\": \"\",\n            \"Active\": \"\",\n            \"Combined_Key\": \"Scotland, United Kingdom\",\n            \"Incident_Rate\": \"39494.81082862007\",\n            \"Case_Fatality_Ratio\": \"0.778877704243368\"\n        },\n        {\n            \"FIPS\": \"\",\n            \"Admin2\": \"\",\n            \"Province_State\": \"Turks and Caicos Islands\",\n            \"Country_Region\": \"United Kingdom\",\n            \"Last_Update\": \"2023-03-10 04:21:03\",\n            \"Lat\": \"21.694\",\n            \"Long_\": \"-71.7979\",\n            \"Confirmed\": \"6561\",\n            \"Deaths\": \"38\",\n            \"Recovered\": \"\",\n            \"Active\": \"\",\n            \"Combined_Key\": \"Turks and Caicos Islands, United Kingdom\",\n            \"Incident_Rate\": \"16945.60669456067\",\n            \"Case_Fatality_Ratio\": \"0.5791800030483159\"\n        },\n        {\n            \"FIPS\": \"\",\n            \"Admin2\": \"\",\n            \"Province_State\": \"Unknown\",\n            \"Country_Region\": \"United Kingdom\",\n            \"Last_Update\": \"2023-03-10 04:21:03\",\n            \"Lat\": \"\",\n            \"Long_\": \"\",\n            \"Confirmed\": \"0\",\n            \"Deaths\": \"338\",\n            \"Recovered\": \"\",\n            \"Active\": \"\",\n            \"Combined_Key\": \"Unknown, United Kingdom\",\n            \"Incident_Rate\": \"\",\n            \"Case_Fatality_Ratio\": \"\"\n        },\n        {\n            \"FIPS\": \"\",\n            \"Admin2\": \"\",\n            \"Province_State\": \"Wales\",\n            \"Country_Region\": \"United Kingdom\",\n            \"Last_Update\": \"2023-03-10 04:21:03\",\n            \"Lat\": \"52.1307\",\n            \"Long_\": \"-3.7837\",\n            \"Confirmed\": \"898118\",\n            \"Deaths\": \"11500\",\n            \"Recovered\": \"\",\n            \"Active\": \"\",\n            \"Combined_Key\": \"Wales, United Kingdom\",\n            \"Incident_Rate\": \"28615.24246479322\",\n            \"Case_Fatality_Ratio\": \"1.2804553521920283\"\n        },\n        {\n            \"FIPS\": \"\",\n            \"Admin2\": \"\",\n            \"Province_State\": \"\",\n            \"Country_Region\": \"Uruguay\",\n            \"Last_Update\": \"2023-03-10 04:21:03\",\n            \"Lat\": \"-32.5228\",\n            \"Long_\": \"-55.7658\",\n            \"Confirmed\": \"1034303\",\n            \"Deaths\": \"7617\",\n            \"Recovered\": \"\",\n            \"Active\": \"\",\n            \"Combined_Key\": \"Uruguay\",\n            \"Incident_Rate\": \"29775.022619797124\",\n            \"Case_Fatality_Ratio\": \"0.7364379683709706\"\n        },\n        {\n            \"FIPS\": \"\",\n            \"Admin2\": \"\",\n            \"Province_State\": \"\",\n            \"Country_Region\": \"Uzbekistan\",\n            \"Last_Update\": \"2023-03-10 04:21:03\",\n            \"Lat\": \"41.377491\",\n            \"Long_\": \"64.585262\",\n            \"Confirmed\": \"251247\",\n            \"Deaths\": \"1637\",\n            \"Recovered\": \"\",\n            \"Active\": \"\",\n            \"Combined_Key\": \"Uzbekistan\",\n            \"Incident_Rate\": \"750.6812457627086\",\n            \"Case_Fatality_Ratio\": \"0.6515500682595216\"\n        },\n        {\n            \"FIPS\": \"\",\n            \"Admin2\": \"\",\n            \"Province_State\": \"\",\n            \"Country_Region\": \"Vanuatu\",\n            \"Last_Update\": \"2023-03-10 04:21:03\",\n            \"Lat\": \"-15.3767\",\n            \"Long_\": \"166.9592\",\n            \"Confirmed\": \"12014\",\n            \"Deaths\": \"14\",\n            \"Recovered\": \"\",\n            \"Active\": \"\",\n            \"Combined_Key\": \"Vanuatu\",\n            \"Incident_Rate\": \"4104.824381577149\",\n            \"Case_Fatality_Ratio\": \"0.1165307141668054\"\n        },\n        {\n            \"FIPS\": \"\",\n            \"Admin2\": \"\",\n            \"Province_State\": \"\",\n            \"Country_Region\": \"Venezuela\",\n            \"Last_Update\": \"2023-03-10 04:21:03\",\n            \"Lat\": \"6.4238\",\n            \"Long_\": \"-66.5897\",\n            \"Confirmed\": \"552162\",\n            \"Deaths\": \"5854\",\n            \"Recovered\": \"\",\n            \"Active\": \"\",\n            \"Combined_Key\": \"Venezuela\",\n            \"Incident_Rate\": \"1941.774886804352\",\n            \"Case_Fatality_Ratio\": \"1.0601961018686545\"\n        },\n        {\n            \"FIPS\": \"\",\n            \"Admin2\": \"\",\n            \"Province_State\": \"\",\n            \"Country_Region\": \"Vietnam\",\n            \"Last_Update\": \"2023-03-10 04:21:03\",\n            \"Lat\": \"14.058324\",\n            \"Long_\": \"108.277199\",\n            \"Confirmed\": \"11526994\",\n            \"Deaths\": \"43186\",\n            \"Recovered\": \"\",\n            \"Active\": \"\",\n            \"Combined_Key\": \"Vietnam\",\n            \"Incident_Rate\": \"11842.163348525424\",\n            \"Case_Fatality_Ratio\": \"0.3746510148265888\"\n        },\n        {\n            \"FIPS\": \"\",\n            \"Admin2\": \"\",\n            \"Province_State\": \"\",\n            \"Country_Region\": \"West Bank and Gaza\",\n            \"Last_Update\": \"2023-03-10 04:21:03\",\n            \"Lat\": \"31.9522\",\n            \"Long_\": \"35.2332\",\n            \"Confirmed\": \"703228\",\n            \"Deaths\": \"5708\",\n            \"Recovered\": \"\",\n            \"Active\": \"\",\n            \"Combined_Key\": \"West Bank and Gaza\",\n            \"Incident_Rate\": \"13784.956960969268\",\n            \"Case_Fatality_Ratio\": \"0.8116855415313383\"\n        },\n        {\n            \"FIPS\": \"\",\n            \"Admin2\": \"\",\n            \"Province_State\": \"\",\n            \"Country_Region\": \"Winter Olympics 2022\",\n            \"Last_Update\": \"2023-03-10 04:21:03\",\n            \"Lat\": \"39.9042\",\n            \"Long_\": \"116.4074\",\n            \"Confirmed\": \"535\",\n            \"Deaths\": \"0\",\n            \"Recovered\": \"\",\n            \"Active\": \"\",\n            \"Combined_Key\": \"Winter Olympics 2022\",\n            \"Incident_Rate\": \"\",\n            \"Case_Fatality_Ratio\": \"0.0\"\n        },\n        {\n            \"FIPS\": \"\",\n            \"Admin2\": \"\",\n            \"Province_State\": \"\",\n            \"Country_Region\": \"Yemen\",\n            \"Last_Update\": \"2023-03-10 04:21:03\",\n            \"Lat\": \"15.552727\",\n            \"Long_\": \"48.516388\",\n            \"Confirmed\": \"11945\",\n            \"Deaths\": \"2159\",\n            \"Recovered\": \"\",\n            \"Active\": \"\",\n            \"Combined_Key\": \"Yemen\",\n            \"Incident_Rate\": \"40.04899354817252\",\n            \"Case_Fatality_Ratio\": \"18.07450816241105\"\n        },\n        {\n            \"FIPS\": \"\",\n            \"Admin2\": \"\",\n            \"Province_State\": \"\",\n            \"Country_Region\": \"Zambia\",\n            \"Last_Update\": \"2023-03-10 04:21:03\",\n            \"Lat\": \"-13.133897\",\n            \"Long_\": \"27.849332\",\n            \"Confirmed\": \"343135\",\n            \"Deaths\": \"4057\",\n            \"Recovered\": \"\",\n            \"Active\": \"\",\n            \"Combined_Key\": \"Zambia\",\n            \"Incident_Rate\": \"1866.491629984319\",\n            \"Case_Fatality_Ratio\": \"1.1823334839057513\"\n        },\n        {\n            \"FIPS\": \"\",\n            \"Admin2\": \"\",\n            \"Province_State\": \"\",\n            \"Country_Region\": \"Zimbabwe\",\n            \"Last_Update\": \"2023-03-10 04:21:03\",\n            \"Lat\": \"-19.015438\",\n            \"Long_\": \"29.154857\",\n            \"Confirmed\": \"264276\",\n            \"Deaths\": \"5671\",\n            \"Recovered\": \"\",\n            \"Active\": \"\",\n            \"Combined_Key\": \"Zimbabwe\",\n            \"Incident_Rate\": \"1778.0885285919792\",\n            \"Case_Fatality_Ratio\": \"2.1458626587355645\"\n        }\n    ]\n}\n"
     ]
    }
   ],
   "source": [
    "# import requests\n",
    "# import pandas as pd\n",
    " \n",
    "# # API URL (Replace with your API endpoint)\n",
    "# api_url = \"https://coronavirus.m.pipedream.net\"\n",
    " \n",
    "# # Make a GET request\n",
    "# response = requests.get(api_url)\n",
    " \n",
    "# # Check if the request was successful\n",
    "# if response.status_code == 200:\n",
    "#     data = response.json()  # Convert JSON response to Python dict\n",
    "#     df = pd.DataFrame(data)  # Convert to Pandas DataFrame\n",
    "#     display(df)  # Show in Databricks notebook\n",
    "# else:\n",
    "#     print(f\"Failed to fetch data: {response.status_code}\")\n",
    "\n",
    "\n",
    "import requests\n",
    "import json\n",
    "\n",
    "api_url = \"https://coronavirus.m.pipedream.net\"\n",
    "\n",
    "response = requests.get(api_url)\n",
    "if response.status_code == 200:\n",
    "    data = response.json()  # Convert response to Python dictionary\n",
    "    print(json.dumps(data, indent=4))  # Pretty print the JSON response\n",
    "else:\n",
    "    print(f\"Failed to fetch data: {response.status_code}\")\n",
    "\n"
   ]
  },
  {
   "cell_type": "code",
   "execution_count": 0,
   "metadata": {
    "application/vnd.databricks.v1+cell": {
     "cellMetadata": {
      "byteLimit": 2048000,
      "rowLimit": 10000
     },
     "inputWidgets": {},
     "nuid": "2ae96d09-347b-46d6-8a2e-f0ccd4bd14c5",
     "showTitle": false,
     "tableResultSettingsMap": {},
     "title": ""
    }
   },
   "outputs": [
    {
     "output_type": "stream",
     "name": "stdout",
     "output_type": "stream",
     "text": [
      "Global Summary:\n  location  confirmed  recovered   deaths\n0   Global  676570149        NaN  6881804\n1    China          0        0.0        0\n\nCountry-Level Data:\n  FIPS Admin2 Province_State Country_Region          Last_Update       Lat  \\\n0                               Afghanistan  2023-03-10 04:21:03  33.93911   \n1                                   Albania  2023-03-10 04:21:03   41.1533   \n2                                   Algeria  2023-03-10 04:21:03   28.0339   \n3                                   Andorra  2023-03-10 04:21:03   42.5063   \n4                                    Angola  2023-03-10 04:21:03  -11.2027   \n\n       Long_ Confirmed Deaths Recovered Active Combined_Key  \\\n0  67.709953    209451   7896                   Afghanistan   \n1    20.1683    334457   3598                       Albania   \n2     1.6596    271496   6881                       Algeria   \n3     1.5218     47890    165                       Andorra   \n4    17.8739    105288   1933                        Angola   \n\n        Incident_Rate  Case_Fatality_Ratio  \n0   538.0424508714615     3.76985547932452  \n1   11621.96817012996    1.075773567304616  \n2    619.132365905185    2.534475646050034  \n3   61981.49226687375  0.34453956984756734  \n4  320.35277020195906    1.835916723653218  \n"
     ]
    }
   ],
   "source": [
    "import requests\n",
    "import pandas as pd\n",
    "\n",
    "# API URL\n",
    "api_url = \"https://coronavirus.m.pipedream.net\"\n",
    "\n",
    "# Fetch data\n",
    "response = requests.get(api_url)\n",
    "\n",
    "if response.status_code == 200:\n",
    "    data = response.json()  # Convert response to Python dict\n",
    "    \n",
    "    # Extract summary statistics\n",
    "    summary_stats = data.get(\"summaryStats\", {})\n",
    "\n",
    "    # Convert summaryStats to DataFrame\n",
    "    summary_df = pd.DataFrame([\n",
    "        {\"location\": \"Global\", **summary_stats.get(\"global\", {})},\n",
    "        {\"location\": \"China\", **summary_stats.get(\"china\", {})}\n",
    "    ])\n",
    "\n",
    "    # Extract raw country-level data\n",
    "    country_data = data.get(\"rawData\", [])\n",
    "    \n",
    "    # Convert to DataFrame if data is present\n",
    "    if country_data:\n",
    "        country_df = pd.DataFrame(country_data)\n",
    "    else:\n",
    "        country_df = pd.DataFrame()\n",
    "\n",
    "    # Display both DataFrames\n",
    "    print(\"Global Summary:\")\n",
    "    print(summary_df)\n",
    "\n",
    "    print(\"\\nCountry-Level Data:\")\n",
    "    print(country_df.head())  # Show first few rows\n",
    "    \n",
    "else:\n",
    "    print(f\"Failed to fetch data: {response.status_code}\")\n"
   ]
  },
  {
   "cell_type": "code",
   "execution_count": 0,
   "metadata": {
    "application/vnd.databricks.v1+cell": {
     "cellMetadata": {
      "byteLimit": 2048000,
      "rowLimit": 10000
     },
     "inputWidgets": {},
     "nuid": "6843fd24-68c4-4ec5-8a4f-87af80ca9160",
     "showTitle": false,
     "tableResultSettingsMap": {},
     "title": ""
    }
   },
   "outputs": [
    {
     "output_type": "display_data",
     "data": {
      "text/html": [
       "<style scoped>\n",
       "  .table-result-container {\n",
       "    max-height: 300px;\n",
       "    overflow: auto;\n",
       "  }\n",
       "  table, th, td {\n",
       "    border: 1px solid black;\n",
       "    border-collapse: collapse;\n",
       "  }\n",
       "  th, td {\n",
       "    padding: 5px;\n",
       "  }\n",
       "  th {\n",
       "    text-align: left;\n",
       "  }\n",
       "</style><div class='table-result-container'><table class='table-result'><thead style='background-color: white'><tr><th>location</th><th>confirmed</th><th>recovered</th><th>deaths</th></tr></thead><tbody><tr><td>Global</td><td>676570149</td><td>null</td><td>6881804</td></tr><tr><td>China</td><td>0</td><td>0.0</td><td>0</td></tr></tbody></table></div>"
      ]
     },
     "metadata": {
      "application/vnd.databricks.v1+output": {
       "addedWidgets": {},
       "aggData": [],
       "aggError": "",
       "aggOverflow": false,
       "aggSchema": [],
       "aggSeriesLimitReached": false,
       "aggType": "",
       "arguments": {},
       "columnCustomDisplayInfos": {},
       "data": [
        [
         "Global",
         676570149,
         null,
         6881804
        ],
        [
         "China",
         0,
         0.0,
         0
        ]
       ],
       "datasetInfos": [],
       "dbfsResultPath": null,
       "isJsonSchema": true,
       "metadata": {},
       "overflow": false,
       "plotOptions": {
        "customPlotOptions": {},
        "displayType": "table",
        "pivotAggregation": null,
        "pivotColumns": null,
        "xColumns": null,
        "yColumns": null
       },
       "removedWidgets": [],
       "schema": [
        {
         "metadata": "{}",
         "name": "location",
         "type": "\"string\""
        },
        {
         "metadata": "{}",
         "name": "confirmed",
         "type": "\"long\""
        },
        {
         "metadata": "{}",
         "name": "recovered",
         "type": "\"double\""
        },
        {
         "metadata": "{}",
         "name": "deaths",
         "type": "\"long\""
        }
       ],
       "type": "table"
      }
     },
     "output_type": "display_data"
    }
   ],
   "source": [
    "summary_df.display()"
   ]
  },
  {
   "cell_type": "code",
   "execution_count": 0,
   "metadata": {
    "application/vnd.databricks.v1+cell": {
     "cellMetadata": {
      "byteLimit": 2048000,
      "rowLimit": 10000
     },
     "inputWidgets": {},
     "nuid": "009c20bc-a2f8-4a60-bfc3-46dba727885c",
     "showTitle": false,
     "tableResultSettingsMap": {},
     "title": ""
    }
   },
   "outputs": [
    {
     "output_type": "display_data",
     "data": {
      "text/html": [
       "<div>\n",
       "<style scoped>\n",
       "    .dataframe tbody tr th:only-of-type {\n",
       "        vertical-align: middle;\n",
       "    }\n",
       "\n",
       "    .dataframe tbody tr th {\n",
       "        vertical-align: top;\n",
       "    }\n",
       "\n",
       "    .dataframe thead th {\n",
       "        text-align: right;\n",
       "    }\n",
       "</style>\n",
       "<table border=\"1\" class=\"dataframe\">\n",
       "  <thead>\n",
       "    <tr style=\"text-align: right;\">\n",
       "      <th></th>\n",
       "      <th>FIPS</th>\n",
       "      <th>Admin2</th>\n",
       "      <th>Province_State</th>\n",
       "      <th>Country_Region</th>\n",
       "      <th>Last_Update</th>\n",
       "      <th>Lat</th>\n",
       "      <th>Long_</th>\n",
       "      <th>Confirmed</th>\n",
       "      <th>Deaths</th>\n",
       "      <th>Recovered</th>\n",
       "      <th>Active</th>\n",
       "      <th>Combined_Key</th>\n",
       "      <th>Incident_Rate</th>\n",
       "      <th>Case_Fatality_Ratio</th>\n",
       "    </tr>\n",
       "  </thead>\n",
       "  <tbody>\n",
       "    <tr>\n",
       "      <th>0</th>\n",
       "      <td></td>\n",
       "      <td></td>\n",
       "      <td></td>\n",
       "      <td>Afghanistan</td>\n",
       "      <td>2023-03-10 04:21:03</td>\n",
       "      <td>33.93911</td>\n",
       "      <td>67.709953</td>\n",
       "      <td>209451</td>\n",
       "      <td>7896</td>\n",
       "      <td></td>\n",
       "      <td></td>\n",
       "      <td>Afghanistan</td>\n",
       "      <td>538.0424508714615</td>\n",
       "      <td>3.76985547932452</td>\n",
       "    </tr>\n",
       "    <tr>\n",
       "      <th>1</th>\n",
       "      <td></td>\n",
       "      <td></td>\n",
       "      <td></td>\n",
       "      <td>Albania</td>\n",
       "      <td>2023-03-10 04:21:03</td>\n",
       "      <td>41.1533</td>\n",
       "      <td>20.1683</td>\n",
       "      <td>334457</td>\n",
       "      <td>3598</td>\n",
       "      <td></td>\n",
       "      <td></td>\n",
       "      <td>Albania</td>\n",
       "      <td>11621.96817012996</td>\n",
       "      <td>1.075773567304616</td>\n",
       "    </tr>\n",
       "    <tr>\n",
       "      <th>2</th>\n",
       "      <td></td>\n",
       "      <td></td>\n",
       "      <td></td>\n",
       "      <td>Algeria</td>\n",
       "      <td>2023-03-10 04:21:03</td>\n",
       "      <td>28.0339</td>\n",
       "      <td>1.6596</td>\n",
       "      <td>271496</td>\n",
       "      <td>6881</td>\n",
       "      <td></td>\n",
       "      <td></td>\n",
       "      <td>Algeria</td>\n",
       "      <td>619.132365905185</td>\n",
       "      <td>2.534475646050034</td>\n",
       "    </tr>\n",
       "    <tr>\n",
       "      <th>3</th>\n",
       "      <td></td>\n",
       "      <td></td>\n",
       "      <td></td>\n",
       "      <td>Andorra</td>\n",
       "      <td>2023-03-10 04:21:03</td>\n",
       "      <td>42.5063</td>\n",
       "      <td>1.5218</td>\n",
       "      <td>47890</td>\n",
       "      <td>165</td>\n",
       "      <td></td>\n",
       "      <td></td>\n",
       "      <td>Andorra</td>\n",
       "      <td>61981.49226687375</td>\n",
       "      <td>0.34453956984756734</td>\n",
       "    </tr>\n",
       "    <tr>\n",
       "      <th>4</th>\n",
       "      <td></td>\n",
       "      <td></td>\n",
       "      <td></td>\n",
       "      <td>Angola</td>\n",
       "      <td>2023-03-10 04:21:03</td>\n",
       "      <td>-11.2027</td>\n",
       "      <td>17.8739</td>\n",
       "      <td>105288</td>\n",
       "      <td>1933</td>\n",
       "      <td></td>\n",
       "      <td></td>\n",
       "      <td>Angola</td>\n",
       "      <td>320.35277020195906</td>\n",
       "      <td>1.835916723653218</td>\n",
       "    </tr>\n",
       "  </tbody>\n",
       "</table>\n",
       "</div>"
      ]
     },
     "metadata": {
      "application/vnd.databricks.v1+output": {
       "addedWidgets": {},
       "arguments": {},
       "data": "<div>\n<style scoped>\n    .dataframe tbody tr th:only-of-type {\n        vertical-align: middle;\n    }\n\n    .dataframe tbody tr th {\n        vertical-align: top;\n    }\n\n    .dataframe thead th {\n        text-align: right;\n    }\n</style>\n<table border=\"1\" class=\"dataframe\">\n  <thead>\n    <tr style=\"text-align: right;\">\n      <th></th>\n      <th>FIPS</th>\n      <th>Admin2</th>\n      <th>Province_State</th>\n      <th>Country_Region</th>\n      <th>Last_Update</th>\n      <th>Lat</th>\n      <th>Long_</th>\n      <th>Confirmed</th>\n      <th>Deaths</th>\n      <th>Recovered</th>\n      <th>Active</th>\n      <th>Combined_Key</th>\n      <th>Incident_Rate</th>\n      <th>Case_Fatality_Ratio</th>\n    </tr>\n  </thead>\n  <tbody>\n    <tr>\n      <th>0</th>\n      <td></td>\n      <td></td>\n      <td></td>\n      <td>Afghanistan</td>\n      <td>2023-03-10 04:21:03</td>\n      <td>33.93911</td>\n      <td>67.709953</td>\n      <td>209451</td>\n      <td>7896</td>\n      <td></td>\n      <td></td>\n      <td>Afghanistan</td>\n      <td>538.0424508714615</td>\n      <td>3.76985547932452</td>\n    </tr>\n    <tr>\n      <th>1</th>\n      <td></td>\n      <td></td>\n      <td></td>\n      <td>Albania</td>\n      <td>2023-03-10 04:21:03</td>\n      <td>41.1533</td>\n      <td>20.1683</td>\n      <td>334457</td>\n      <td>3598</td>\n      <td></td>\n      <td></td>\n      <td>Albania</td>\n      <td>11621.96817012996</td>\n      <td>1.075773567304616</td>\n    </tr>\n    <tr>\n      <th>2</th>\n      <td></td>\n      <td></td>\n      <td></td>\n      <td>Algeria</td>\n      <td>2023-03-10 04:21:03</td>\n      <td>28.0339</td>\n      <td>1.6596</td>\n      <td>271496</td>\n      <td>6881</td>\n      <td></td>\n      <td></td>\n      <td>Algeria</td>\n      <td>619.132365905185</td>\n      <td>2.534475646050034</td>\n    </tr>\n    <tr>\n      <th>3</th>\n      <td></td>\n      <td></td>\n      <td></td>\n      <td>Andorra</td>\n      <td>2023-03-10 04:21:03</td>\n      <td>42.5063</td>\n      <td>1.5218</td>\n      <td>47890</td>\n      <td>165</td>\n      <td></td>\n      <td></td>\n      <td>Andorra</td>\n      <td>61981.49226687375</td>\n      <td>0.34453956984756734</td>\n    </tr>\n    <tr>\n      <th>4</th>\n      <td></td>\n      <td></td>\n      <td></td>\n      <td>Angola</td>\n      <td>2023-03-10 04:21:03</td>\n      <td>-11.2027</td>\n      <td>17.8739</td>\n      <td>105288</td>\n      <td>1933</td>\n      <td></td>\n      <td></td>\n      <td>Angola</td>\n      <td>320.35277020195906</td>\n      <td>1.835916723653218</td>\n    </tr>\n  </tbody>\n</table>\n</div>",
       "datasetInfos": [],
       "metadata": {},
       "removedWidgets": [],
       "textData": null,
       "type": "htmlSandbox"
      }
     },
     "output_type": "display_data"
    }
   ],
   "source": [
    "country_df.head()"
   ]
  }
 ],
 "metadata": {
  "application/vnd.databricks.v1+notebook": {
   "computePreferences": null,
   "dashboards": [],
   "environmentMetadata": {
    "base_environment": "",
    "client": "1"
   },
   "language": "python",
   "notebookMetadata": {
    "mostRecentlyExecutedCommandWithImplicitDF": {
     "commandId": 2063595868111081,
     "dataframes": [
      "_sqldf"
     ]
    },
    "pythonIndentUnit": 4
   },
   "notebookName": "API Practice 2025-02-04 10:25:59",
   "widgets": {}
  }
 },
 "nbformat": 4,
 "nbformat_minor": 0
}
