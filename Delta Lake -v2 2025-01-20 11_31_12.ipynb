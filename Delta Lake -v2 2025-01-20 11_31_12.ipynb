{
 "cells": [
  {
   "cell_type": "code",
   "execution_count": 0,
   "metadata": {
    "application/vnd.databricks.v1+cell": {
     "cellMetadata": {
      "byteLimit": 2048000,
      "rowLimit": 10000
     },
     "inputWidgets": {},
     "nuid": "6d61da45-02f1-437d-bf3e-f79749c652fd",
     "showTitle": false,
     "tableResultSettingsMap": {},
     "title": ""
    }
   },
   "outputs": [
    {
     "output_type": "stream",
     "name": "stdout",
     "output_type": "stream",
     "text": [
      "Out[1]: <delta.tables.DeltaTable at 0x7f0698284c10>"
     ]
    }
   ],
   "source": [
    "from delta.tables import *\n",
    "\n",
    "DeltaTable.create(spark) \\\n",
    "    .tableName(\"emp_demo\") \\\n",
    "        .addColumn(\"emp_id\",\"INT\") \\\n",
    "            .addColumn(\"emp_name\",\"STRING\") \\\n",
    "                .addColumn(\"gender\",\"STRING\") \\\n",
    "                    .addColumn(\"salary\",\"INT\") \\\n",
    "                        .addColumn(\"dept\",\"STRING\") \\\n",
    "                            .property(\"description\",\"table created for demo purpose\") \\\n",
    "                                .location(\"/FileStore/tables/delta/createtable\") \\\n",
    "                                    .execute()\n"
   ]
  },
  {
   "cell_type": "code",
   "execution_count": 0,
   "metadata": {
    "application/vnd.databricks.v1+cell": {
     "cellMetadata": {
      "byteLimit": 2048000,
      "implicitDf": true,
      "rowLimit": 10000
     },
     "inputWidgets": {},
     "nuid": "fca4ecbf-cdec-468b-ad51-4bf1e126e4f3",
     "showTitle": false,
     "tableResultSettingsMap": {},
     "title": ""
    }
   },
   "outputs": [
    {
     "output_type": "display_data",
     "data": {
      "text/html": [
       "<style scoped>\n",
       "  .table-result-container {\n",
       "    max-height: 300px;\n",
       "    overflow: auto;\n",
       "  }\n",
       "  table, th, td {\n",
       "    border: 1px solid black;\n",
       "    border-collapse: collapse;\n",
       "  }\n",
       "  th, td {\n",
       "    padding: 5px;\n",
       "  }\n",
       "  th {\n",
       "    text-align: left;\n",
       "  }\n",
       "</style><div class='table-result-container'><table class='table-result'><thead style='background-color: white'><tr><th>emp_id</th><th>emp_name</th><th>gender</th><th>salary</th><th>dept</th></tr></thead><tbody><tr><td>100</td><td>Stephen</td><td>M</td><td>2000</td><td>IT</td></tr><tr><td>100</td><td>Stephen</td><td>M</td><td>2000</td><td>IT</td></tr><tr><td>300</td><td>Lara</td><td>F</td><td>6000</td><td>SALES</td></tr><tr><td>300</td><td>Lara</td><td>F</td><td>6000</td><td>SALES</td></tr><tr><td>200</td><td>Philips</td><td>M</td><td>8000</td><td>HR</td></tr><tr><td>200</td><td>Philips</td><td>M</td><td>8000</td><td>HR</td></tr><tr><td>200</td><td>Philips</td><td>M</td><td>8000</td><td>HR</td></tr></tbody></table></div>"
      ]
     },
     "metadata": {
      "application/vnd.databricks.v1+output": {
       "addedWidgets": {},
       "aggData": [],
       "aggError": "",
       "aggOverflow": false,
       "aggSchema": [],
       "aggSeriesLimitReached": false,
       "aggType": "",
       "arguments": {},
       "columnCustomDisplayInfos": {},
       "data": [
        [
         100,
         "Stephen",
         "M",
         2000,
         "IT"
        ],
        [
         100,
         "Stephen",
         "M",
         2000,
         "IT"
        ],
        [
         300,
         "Lara",
         "F",
         6000,
         "SALES"
        ],
        [
         300,
         "Lara",
         "F",
         6000,
         "SALES"
        ],
        [
         200,
         "Philips",
         "M",
         8000,
         "HR"
        ],
        [
         200,
         "Philips",
         "M",
         8000,
         "HR"
        ],
        [
         200,
         "Philips",
         "M",
         8000,
         "HR"
        ]
       ],
       "datasetInfos": [],
       "dbfsResultPath": null,
       "isJsonSchema": true,
       "metadata": {},
       "overflow": false,
       "plotOptions": {
        "customPlotOptions": {},
        "displayType": "table",
        "pivotAggregation": null,
        "pivotColumns": null,
        "xColumns": null,
        "yColumns": null
       },
       "removedWidgets": [],
       "schema": [
        {
         "metadata": "{}",
         "name": "emp_id",
         "type": "\"integer\""
        },
        {
         "metadata": "{}",
         "name": "emp_name",
         "type": "\"string\""
        },
        {
         "metadata": "{}",
         "name": "gender",
         "type": "\"string\""
        },
        {
         "metadata": "{}",
         "name": "salary",
         "type": "\"integer\""
        },
        {
         "metadata": "{}",
         "name": "dept",
         "type": "\"string\""
        }
       ],
       "type": "table"
      }
     },
     "output_type": "display_data"
    }
   ],
   "source": [
    "%sql\n",
    "\n",
    "select * from emp_demo"
   ]
  },
  {
   "cell_type": "code",
   "execution_count": 0,
   "metadata": {
    "application/vnd.databricks.v1+cell": {
     "cellMetadata": {
      "byteLimit": 2048000,
      "rowLimit": 10000
     },
     "inputWidgets": {},
     "nuid": "4394af5a-207a-4e29-986f-296f8bb476b2",
     "showTitle": false,
     "tableResultSettingsMap": {},
     "title": ""
    }
   },
   "outputs": [
    {
     "output_type": "display_data",
     "data": {
      "text/html": [
       "<style scoped>\n",
       "  .table-result-container {\n",
       "    max-height: 300px;\n",
       "    overflow: auto;\n",
       "  }\n",
       "  table, th, td {\n",
       "    border: 1px solid black;\n",
       "    border-collapse: collapse;\n",
       "  }\n",
       "  th, td {\n",
       "    padding: 5px;\n",
       "  }\n",
       "  th {\n",
       "    text-align: left;\n",
       "  }\n",
       "</style><div class='table-result-container'><table class='table-result'><thead style='background-color: white'><tr><th>emp_id</th><th>emp_name</th><th>gender</th><th>salary</th><th>dept</th></tr></thead><tbody><tr><td>100</td><td>Stephen</td><td>M</td><td>2000</td><td>IT</td></tr><tr><td>200</td><td>Philips</td><td>M</td><td>8000</td><td>HR</td></tr><tr><td>300</td><td>Lara</td><td>F</td><td>6000</td><td>SALES</td></tr></tbody></table></div>"
      ]
     },
     "metadata": {
      "application/vnd.databricks.v1+output": {
       "addedWidgets": {},
       "aggData": [],
       "aggError": "",
       "aggOverflow": false,
       "aggSchema": [],
       "aggSeriesLimitReached": false,
       "aggType": "",
       "arguments": {},
       "columnCustomDisplayInfos": {},
       "data": [
        [
         100,
         "Stephen",
         "M",
         2000,
         "IT"
        ],
        [
         200,
         "Philips",
         "M",
         8000,
         "HR"
        ],
        [
         300,
         "Lara",
         "F",
         6000,
         "SALES"
        ]
       ],
       "datasetInfos": [],
       "dbfsResultPath": null,
       "isJsonSchema": true,
       "metadata": {},
       "overflow": false,
       "plotOptions": {
        "customPlotOptions": {},
        "displayType": "table",
        "pivotAggregation": null,
        "pivotColumns": null,
        "xColumns": null,
        "yColumns": null
       },
       "removedWidgets": [],
       "schema": [
        {
         "metadata": "{}",
         "name": "emp_id",
         "type": "\"long\""
        },
        {
         "metadata": "{}",
         "name": "emp_name",
         "type": "\"string\""
        },
        {
         "metadata": "{}",
         "name": "gender",
         "type": "\"string\""
        },
        {
         "metadata": "{}",
         "name": "salary",
         "type": "\"long\""
        },
        {
         "metadata": "{}",
         "name": "dept",
         "type": "\"string\""
        }
       ],
       "type": "table"
      }
     },
     "output_type": "display_data"
    }
   ],
   "source": [
    "employee_data=[(100,\"Stephen\",\"M\",2000,\"IT\"),\n",
    "               (200,\"Philips\",\"M\",8000,\"HR\"),\n",
    "               (300,\"Lara\",\"F\",6000,\"SALES\")]\n",
    "\n",
    "employee_schema=[\"emp_id\",\"emp_name\",\"gender\",\"salary\",\"dept\"]\n",
    "\n",
    "df=spark.createDataFrame(data=employee_data,schema=employee_schema)\n",
    "\n",
    "display(df)"
   ]
  },
  {
   "cell_type": "code",
   "execution_count": 0,
   "metadata": {
    "application/vnd.databricks.v1+cell": {
     "cellMetadata": {
      "byteLimit": 2048000,
      "implicitDf": true,
      "rowLimit": 10000
     },
     "inputWidgets": {},
     "nuid": "320f984f-8a59-42b1-a5bc-47dd60827fa4",
     "showTitle": false,
     "tableResultSettingsMap": {},
     "title": ""
    }
   },
   "outputs": [
    {
     "output_type": "display_data",
     "data": {
      "text/plain": [
       "\u001B[0;31m---------------------------------------------------------------------------\u001B[0m\n",
       "\u001B[0;31mAnalysisException\u001B[0m                         Traceback (most recent call last)\n",
       "File \u001B[0;32m<command-508200138522915>:7\u001B[0m\n",
       "\u001B[1;32m      5\u001B[0m     display(df)\n",
       "\u001B[1;32m      6\u001B[0m     \u001B[38;5;28;01mreturn\u001B[39;00m df\n",
       "\u001B[0;32m----> 7\u001B[0m   _sqldf \u001B[38;5;241m=\u001B[39m \u001B[43m____databricks_percent_sql\u001B[49m\u001B[43m(\u001B[49m\u001B[43m)\u001B[49m\n",
       "\u001B[1;32m      8\u001B[0m \u001B[38;5;28;01mfinally\u001B[39;00m:\n",
       "\u001B[1;32m      9\u001B[0m   \u001B[38;5;28;01mdel\u001B[39;00m ____databricks_percent_sql\n",
       "\n",
       "File \u001B[0;32m<command-508200138522915>:4\u001B[0m, in \u001B[0;36m____databricks_percent_sql\u001B[0;34m()\u001B[0m\n",
       "\u001B[1;32m      2\u001B[0m \u001B[38;5;28;01mdef\u001B[39;00m \u001B[38;5;21m____databricks_percent_sql\u001B[39m():\n",
       "\u001B[1;32m      3\u001B[0m   \u001B[38;5;28;01mimport\u001B[39;00m \u001B[38;5;21;01mbase64\u001B[39;00m\n",
       "\u001B[0;32m----> 4\u001B[0m   df \u001B[38;5;241m=\u001B[39m \u001B[43mspark\u001B[49m\u001B[38;5;241;43m.\u001B[39;49m\u001B[43msql\u001B[49m\u001B[43m(\u001B[49m\u001B[43mbase64\u001B[49m\u001B[38;5;241;43m.\u001B[39;49m\u001B[43mstandard_b64decode\u001B[49m\u001B[43m(\u001B[49m\u001B[38;5;124;43m\"\u001B[39;49m\u001B[38;5;124;43mc2VsZWN0ICogZnJvbSBlbXBfZGVtbzE=\u001B[39;49m\u001B[38;5;124;43m\"\u001B[39;49m\u001B[43m)\u001B[49m\u001B[38;5;241;43m.\u001B[39;49m\u001B[43mdecode\u001B[49m\u001B[43m(\u001B[49m\u001B[43m)\u001B[49m\u001B[43m)\u001B[49m\n",
       "\u001B[1;32m      5\u001B[0m   display(df)\n",
       "\u001B[1;32m      6\u001B[0m   \u001B[38;5;28;01mreturn\u001B[39;00m df\n",
       "\n",
       "File \u001B[0;32m/databricks/spark/python/pyspark/instrumentation_utils.py:48\u001B[0m, in \u001B[0;36m_wrap_function.<locals>.wrapper\u001B[0;34m(*args, **kwargs)\u001B[0m\n",
       "\u001B[1;32m     46\u001B[0m start \u001B[38;5;241m=\u001B[39m time\u001B[38;5;241m.\u001B[39mperf_counter()\n",
       "\u001B[1;32m     47\u001B[0m \u001B[38;5;28;01mtry\u001B[39;00m:\n",
       "\u001B[0;32m---> 48\u001B[0m     res \u001B[38;5;241m=\u001B[39m \u001B[43mfunc\u001B[49m\u001B[43m(\u001B[49m\u001B[38;5;241;43m*\u001B[39;49m\u001B[43margs\u001B[49m\u001B[43m,\u001B[49m\u001B[43m \u001B[49m\u001B[38;5;241;43m*\u001B[39;49m\u001B[38;5;241;43m*\u001B[39;49m\u001B[43mkwargs\u001B[49m\u001B[43m)\u001B[49m\n",
       "\u001B[1;32m     49\u001B[0m     logger\u001B[38;5;241m.\u001B[39mlog_success(\n",
       "\u001B[1;32m     50\u001B[0m         module_name, class_name, function_name, time\u001B[38;5;241m.\u001B[39mperf_counter() \u001B[38;5;241m-\u001B[39m start, signature\n",
       "\u001B[1;32m     51\u001B[0m     )\n",
       "\u001B[1;32m     52\u001B[0m     \u001B[38;5;28;01mreturn\u001B[39;00m res\n",
       "\n",
       "File \u001B[0;32m/databricks/spark/python/pyspark/sql/session.py:1387\u001B[0m, in \u001B[0;36mSparkSession.sql\u001B[0;34m(self, sqlQuery, args, **kwargs)\u001B[0m\n",
       "\u001B[1;32m   1385\u001B[0m \u001B[38;5;28;01mtry\u001B[39;00m:\n",
       "\u001B[1;32m   1386\u001B[0m     litArgs \u001B[38;5;241m=\u001B[39m {k: _to_java_column(lit(v)) \u001B[38;5;28;01mfor\u001B[39;00m k, v \u001B[38;5;129;01min\u001B[39;00m (args \u001B[38;5;129;01mor\u001B[39;00m {})\u001B[38;5;241m.\u001B[39mitems()}\n",
       "\u001B[0;32m-> 1387\u001B[0m     \u001B[38;5;28;01mreturn\u001B[39;00m DataFrame(\u001B[38;5;28;43mself\u001B[39;49m\u001B[38;5;241;43m.\u001B[39;49m\u001B[43m_jsparkSession\u001B[49m\u001B[38;5;241;43m.\u001B[39;49m\u001B[43msql\u001B[49m\u001B[43m(\u001B[49m\u001B[43msqlQuery\u001B[49m\u001B[43m,\u001B[49m\u001B[43m \u001B[49m\u001B[43mlitArgs\u001B[49m\u001B[43m)\u001B[49m, \u001B[38;5;28mself\u001B[39m)\n",
       "\u001B[1;32m   1388\u001B[0m \u001B[38;5;28;01mfinally\u001B[39;00m:\n",
       "\u001B[1;32m   1389\u001B[0m     \u001B[38;5;28;01mif\u001B[39;00m \u001B[38;5;28mlen\u001B[39m(kwargs) \u001B[38;5;241m>\u001B[39m \u001B[38;5;241m0\u001B[39m:\n",
       "\n",
       "File \u001B[0;32m/databricks/spark/python/lib/py4j-0.10.9.5-src.zip/py4j/java_gateway.py:1321\u001B[0m, in \u001B[0;36mJavaMember.__call__\u001B[0;34m(self, *args)\u001B[0m\n",
       "\u001B[1;32m   1315\u001B[0m command \u001B[38;5;241m=\u001B[39m proto\u001B[38;5;241m.\u001B[39mCALL_COMMAND_NAME \u001B[38;5;241m+\u001B[39m\\\n",
       "\u001B[1;32m   1316\u001B[0m     \u001B[38;5;28mself\u001B[39m\u001B[38;5;241m.\u001B[39mcommand_header \u001B[38;5;241m+\u001B[39m\\\n",
       "\u001B[1;32m   1317\u001B[0m     args_command \u001B[38;5;241m+\u001B[39m\\\n",
       "\u001B[1;32m   1318\u001B[0m     proto\u001B[38;5;241m.\u001B[39mEND_COMMAND_PART\n",
       "\u001B[1;32m   1320\u001B[0m answer \u001B[38;5;241m=\u001B[39m \u001B[38;5;28mself\u001B[39m\u001B[38;5;241m.\u001B[39mgateway_client\u001B[38;5;241m.\u001B[39msend_command(command)\n",
       "\u001B[0;32m-> 1321\u001B[0m return_value \u001B[38;5;241m=\u001B[39m \u001B[43mget_return_value\u001B[49m\u001B[43m(\u001B[49m\n",
       "\u001B[1;32m   1322\u001B[0m \u001B[43m    \u001B[49m\u001B[43manswer\u001B[49m\u001B[43m,\u001B[49m\u001B[43m \u001B[49m\u001B[38;5;28;43mself\u001B[39;49m\u001B[38;5;241;43m.\u001B[39;49m\u001B[43mgateway_client\u001B[49m\u001B[43m,\u001B[49m\u001B[43m \u001B[49m\u001B[38;5;28;43mself\u001B[39;49m\u001B[38;5;241;43m.\u001B[39;49m\u001B[43mtarget_id\u001B[49m\u001B[43m,\u001B[49m\u001B[43m \u001B[49m\u001B[38;5;28;43mself\u001B[39;49m\u001B[38;5;241;43m.\u001B[39;49m\u001B[43mname\u001B[49m\u001B[43m)\u001B[49m\n",
       "\u001B[1;32m   1324\u001B[0m \u001B[38;5;28;01mfor\u001B[39;00m temp_arg \u001B[38;5;129;01min\u001B[39;00m temp_args:\n",
       "\u001B[1;32m   1325\u001B[0m     temp_arg\u001B[38;5;241m.\u001B[39m_detach()\n",
       "\n",
       "File \u001B[0;32m/databricks/spark/python/pyspark/errors/exceptions.py:234\u001B[0m, in \u001B[0;36mcapture_sql_exception.<locals>.deco\u001B[0;34m(*a, **kw)\u001B[0m\n",
       "\u001B[1;32m    230\u001B[0m converted \u001B[38;5;241m=\u001B[39m convert_exception(e\u001B[38;5;241m.\u001B[39mjava_exception)\n",
       "\u001B[1;32m    231\u001B[0m \u001B[38;5;28;01mif\u001B[39;00m \u001B[38;5;129;01mnot\u001B[39;00m \u001B[38;5;28misinstance\u001B[39m(converted, UnknownException):\n",
       "\u001B[1;32m    232\u001B[0m     \u001B[38;5;66;03m# Hide where the exception came from that shows a non-Pythonic\u001B[39;00m\n",
       "\u001B[1;32m    233\u001B[0m     \u001B[38;5;66;03m# JVM exception message.\u001B[39;00m\n",
       "\u001B[0;32m--> 234\u001B[0m     \u001B[38;5;28;01mraise\u001B[39;00m converted \u001B[38;5;28;01mfrom\u001B[39;00m \u001B[38;5;28mNone\u001B[39m\n",
       "\u001B[1;32m    235\u001B[0m \u001B[38;5;28;01melse\u001B[39;00m:\n",
       "\u001B[1;32m    236\u001B[0m     \u001B[38;5;28;01mraise\u001B[39;00m\n",
       "\n",
       "\u001B[0;31mAnalysisException\u001B[0m: [TABLE_OR_VIEW_NOT_FOUND] The table or view `emp_demo1` cannot be found. Verify the spelling and correctness of the schema and catalog.\n",
       "If you did not qualify the name with a schema, verify the current_schema() output, or qualify the name with the correct schema and catalog.\n",
       "To tolerate the error on drop use DROP VIEW IF EXISTS or DROP TABLE IF EXISTS.; line 1 pos 14;\n",
       "'Project [*]\n",
       "+- 'UnresolvedRelation [emp_demo1], [], false\n"
      ]
     },
     "metadata": {
      "application/vnd.databricks.v1+output": {
       "arguments": {},
       "data": "\u001B[0;31m---------------------------------------------------------------------------\u001B[0m\n\u001B[0;31mAnalysisException\u001B[0m                         Traceback (most recent call last)\nFile \u001B[0;32m<command-508200138522915>:7\u001B[0m\n\u001B[1;32m      5\u001B[0m     display(df)\n\u001B[1;32m      6\u001B[0m     \u001B[38;5;28;01mreturn\u001B[39;00m df\n\u001B[0;32m----> 7\u001B[0m   _sqldf \u001B[38;5;241m=\u001B[39m \u001B[43m____databricks_percent_sql\u001B[49m\u001B[43m(\u001B[49m\u001B[43m)\u001B[49m\n\u001B[1;32m      8\u001B[0m \u001B[38;5;28;01mfinally\u001B[39;00m:\n\u001B[1;32m      9\u001B[0m   \u001B[38;5;28;01mdel\u001B[39;00m ____databricks_percent_sql\n\nFile \u001B[0;32m<command-508200138522915>:4\u001B[0m, in \u001B[0;36m____databricks_percent_sql\u001B[0;34m()\u001B[0m\n\u001B[1;32m      2\u001B[0m \u001B[38;5;28;01mdef\u001B[39;00m \u001B[38;5;21m____databricks_percent_sql\u001B[39m():\n\u001B[1;32m      3\u001B[0m   \u001B[38;5;28;01mimport\u001B[39;00m \u001B[38;5;21;01mbase64\u001B[39;00m\n\u001B[0;32m----> 4\u001B[0m   df \u001B[38;5;241m=\u001B[39m \u001B[43mspark\u001B[49m\u001B[38;5;241;43m.\u001B[39;49m\u001B[43msql\u001B[49m\u001B[43m(\u001B[49m\u001B[43mbase64\u001B[49m\u001B[38;5;241;43m.\u001B[39;49m\u001B[43mstandard_b64decode\u001B[49m\u001B[43m(\u001B[49m\u001B[38;5;124;43m\"\u001B[39;49m\u001B[38;5;124;43mc2VsZWN0ICogZnJvbSBlbXBfZGVtbzE=\u001B[39;49m\u001B[38;5;124;43m\"\u001B[39;49m\u001B[43m)\u001B[49m\u001B[38;5;241;43m.\u001B[39;49m\u001B[43mdecode\u001B[49m\u001B[43m(\u001B[49m\u001B[43m)\u001B[49m\u001B[43m)\u001B[49m\n\u001B[1;32m      5\u001B[0m   display(df)\n\u001B[1;32m      6\u001B[0m   \u001B[38;5;28;01mreturn\u001B[39;00m df\n\nFile \u001B[0;32m/databricks/spark/python/pyspark/instrumentation_utils.py:48\u001B[0m, in \u001B[0;36m_wrap_function.<locals>.wrapper\u001B[0;34m(*args, **kwargs)\u001B[0m\n\u001B[1;32m     46\u001B[0m start \u001B[38;5;241m=\u001B[39m time\u001B[38;5;241m.\u001B[39mperf_counter()\n\u001B[1;32m     47\u001B[0m \u001B[38;5;28;01mtry\u001B[39;00m:\n\u001B[0;32m---> 48\u001B[0m     res \u001B[38;5;241m=\u001B[39m \u001B[43mfunc\u001B[49m\u001B[43m(\u001B[49m\u001B[38;5;241;43m*\u001B[39;49m\u001B[43margs\u001B[49m\u001B[43m,\u001B[49m\u001B[43m \u001B[49m\u001B[38;5;241;43m*\u001B[39;49m\u001B[38;5;241;43m*\u001B[39;49m\u001B[43mkwargs\u001B[49m\u001B[43m)\u001B[49m\n\u001B[1;32m     49\u001B[0m     logger\u001B[38;5;241m.\u001B[39mlog_success(\n\u001B[1;32m     50\u001B[0m         module_name, class_name, function_name, time\u001B[38;5;241m.\u001B[39mperf_counter() \u001B[38;5;241m-\u001B[39m start, signature\n\u001B[1;32m     51\u001B[0m     )\n\u001B[1;32m     52\u001B[0m     \u001B[38;5;28;01mreturn\u001B[39;00m res\n\nFile \u001B[0;32m/databricks/spark/python/pyspark/sql/session.py:1387\u001B[0m, in \u001B[0;36mSparkSession.sql\u001B[0;34m(self, sqlQuery, args, **kwargs)\u001B[0m\n\u001B[1;32m   1385\u001B[0m \u001B[38;5;28;01mtry\u001B[39;00m:\n\u001B[1;32m   1386\u001B[0m     litArgs \u001B[38;5;241m=\u001B[39m {k: _to_java_column(lit(v)) \u001B[38;5;28;01mfor\u001B[39;00m k, v \u001B[38;5;129;01min\u001B[39;00m (args \u001B[38;5;129;01mor\u001B[39;00m {})\u001B[38;5;241m.\u001B[39mitems()}\n\u001B[0;32m-> 1387\u001B[0m     \u001B[38;5;28;01mreturn\u001B[39;00m DataFrame(\u001B[38;5;28;43mself\u001B[39;49m\u001B[38;5;241;43m.\u001B[39;49m\u001B[43m_jsparkSession\u001B[49m\u001B[38;5;241;43m.\u001B[39;49m\u001B[43msql\u001B[49m\u001B[43m(\u001B[49m\u001B[43msqlQuery\u001B[49m\u001B[43m,\u001B[49m\u001B[43m \u001B[49m\u001B[43mlitArgs\u001B[49m\u001B[43m)\u001B[49m, \u001B[38;5;28mself\u001B[39m)\n\u001B[1;32m   1388\u001B[0m \u001B[38;5;28;01mfinally\u001B[39;00m:\n\u001B[1;32m   1389\u001B[0m     \u001B[38;5;28;01mif\u001B[39;00m \u001B[38;5;28mlen\u001B[39m(kwargs) \u001B[38;5;241m>\u001B[39m \u001B[38;5;241m0\u001B[39m:\n\nFile \u001B[0;32m/databricks/spark/python/lib/py4j-0.10.9.5-src.zip/py4j/java_gateway.py:1321\u001B[0m, in \u001B[0;36mJavaMember.__call__\u001B[0;34m(self, *args)\u001B[0m\n\u001B[1;32m   1315\u001B[0m command \u001B[38;5;241m=\u001B[39m proto\u001B[38;5;241m.\u001B[39mCALL_COMMAND_NAME \u001B[38;5;241m+\u001B[39m\\\n\u001B[1;32m   1316\u001B[0m     \u001B[38;5;28mself\u001B[39m\u001B[38;5;241m.\u001B[39mcommand_header \u001B[38;5;241m+\u001B[39m\\\n\u001B[1;32m   1317\u001B[0m     args_command \u001B[38;5;241m+\u001B[39m\\\n\u001B[1;32m   1318\u001B[0m     proto\u001B[38;5;241m.\u001B[39mEND_COMMAND_PART\n\u001B[1;32m   1320\u001B[0m answer \u001B[38;5;241m=\u001B[39m \u001B[38;5;28mself\u001B[39m\u001B[38;5;241m.\u001B[39mgateway_client\u001B[38;5;241m.\u001B[39msend_command(command)\n\u001B[0;32m-> 1321\u001B[0m return_value \u001B[38;5;241m=\u001B[39m \u001B[43mget_return_value\u001B[49m\u001B[43m(\u001B[49m\n\u001B[1;32m   1322\u001B[0m \u001B[43m    \u001B[49m\u001B[43manswer\u001B[49m\u001B[43m,\u001B[49m\u001B[43m \u001B[49m\u001B[38;5;28;43mself\u001B[39;49m\u001B[38;5;241;43m.\u001B[39;49m\u001B[43mgateway_client\u001B[49m\u001B[43m,\u001B[49m\u001B[43m \u001B[49m\u001B[38;5;28;43mself\u001B[39;49m\u001B[38;5;241;43m.\u001B[39;49m\u001B[43mtarget_id\u001B[49m\u001B[43m,\u001B[49m\u001B[43m \u001B[49m\u001B[38;5;28;43mself\u001B[39;49m\u001B[38;5;241;43m.\u001B[39;49m\u001B[43mname\u001B[49m\u001B[43m)\u001B[49m\n\u001B[1;32m   1324\u001B[0m \u001B[38;5;28;01mfor\u001B[39;00m temp_arg \u001B[38;5;129;01min\u001B[39;00m temp_args:\n\u001B[1;32m   1325\u001B[0m     temp_arg\u001B[38;5;241m.\u001B[39m_detach()\n\nFile \u001B[0;32m/databricks/spark/python/pyspark/errors/exceptions.py:234\u001B[0m, in \u001B[0;36mcapture_sql_exception.<locals>.deco\u001B[0;34m(*a, **kw)\u001B[0m\n\u001B[1;32m    230\u001B[0m converted \u001B[38;5;241m=\u001B[39m convert_exception(e\u001B[38;5;241m.\u001B[39mjava_exception)\n\u001B[1;32m    231\u001B[0m \u001B[38;5;28;01mif\u001B[39;00m \u001B[38;5;129;01mnot\u001B[39;00m \u001B[38;5;28misinstance\u001B[39m(converted, UnknownException):\n\u001B[1;32m    232\u001B[0m     \u001B[38;5;66;03m# Hide where the exception came from that shows a non-Pythonic\u001B[39;00m\n\u001B[1;32m    233\u001B[0m     \u001B[38;5;66;03m# JVM exception message.\u001B[39;00m\n\u001B[0;32m--> 234\u001B[0m     \u001B[38;5;28;01mraise\u001B[39;00m converted \u001B[38;5;28;01mfrom\u001B[39;00m \u001B[38;5;28mNone\u001B[39m\n\u001B[1;32m    235\u001B[0m \u001B[38;5;28;01melse\u001B[39;00m:\n\u001B[1;32m    236\u001B[0m     \u001B[38;5;28;01mraise\u001B[39;00m\n\n\u001B[0;31mAnalysisException\u001B[0m: [TABLE_OR_VIEW_NOT_FOUND] The table or view `emp_demo1` cannot be found. Verify the spelling and correctness of the schema and catalog.\nIf you did not qualify the name with a schema, verify the current_schema() output, or qualify the name with the correct schema and catalog.\nTo tolerate the error on drop use DROP VIEW IF EXISTS or DROP TABLE IF EXISTS.; line 1 pos 14;\n'Project [*]\n+- 'UnresolvedRelation [emp_demo1], [], false\n",
       "errorSummary": "<span class='ansi-red-fg'>AnalysisException</span>: [TABLE_OR_VIEW_NOT_FOUND] The table or view `emp_demo1` cannot be found. Verify the spelling and correctness of the schema and catalog.\nIf you did not qualify the name with a schema, verify the current_schema() output, or qualify the name with the correct schema and catalog.\nTo tolerate the error on drop use DROP VIEW IF EXISTS or DROP TABLE IF EXISTS.; line 1 pos 14;\n'Project [*]\n+- 'UnresolvedRelation [emp_demo1], [], false\n",
       "errorTraceType": "ansi",
       "metadata": {},
       "type": "ipynbError"
      }
     },
     "output_type": "display_data"
    }
   ],
   "source": [
    "%sql\n",
    "\n",
    "select * from emp_demo1"
   ]
  },
  {
   "cell_type": "code",
   "execution_count": 0,
   "metadata": {
    "application/vnd.databricks.v1+cell": {
     "cellMetadata": {
      "byteLimit": 2048000,
      "rowLimit": 10000
     },
     "inputWidgets": {},
     "nuid": "ead2d213-6fdc-4a08-8b5e-9980caf9307e",
     "showTitle": false,
     "tableResultSettingsMap": {},
     "title": ""
    }
   },
   "outputs": [],
   "source": [
    "di=DeltaTable.forPath(spark,\"/FileStore/tables/delta/createtable\")"
   ]
  },
  {
   "cell_type": "code",
   "execution_count": 0,
   "metadata": {
    "application/vnd.databricks.v1+cell": {
     "cellMetadata": {
      "byteLimit": 2048000,
      "implicitDf": true,
      "rowLimit": 10000
     },
     "inputWidgets": {},
     "nuid": "b96e9610-1723-4b3f-ba3b-d196cfa0561b",
     "showTitle": false,
     "tableResultSettingsMap": {},
     "title": ""
    }
   },
   "outputs": [
    {
     "output_type": "display_data",
     "data": {
      "text/html": [
       "<style scoped>\n",
       "  .table-result-container {\n",
       "    max-height: 300px;\n",
       "    overflow: auto;\n",
       "  }\n",
       "  table, th, td {\n",
       "    border: 1px solid black;\n",
       "    border-collapse: collapse;\n",
       "  }\n",
       "  th, td {\n",
       "    padding: 5px;\n",
       "  }\n",
       "  th {\n",
       "    text-align: left;\n",
       "  }\n",
       "</style><div class='table-result-container'><table class='table-result'><thead style='background-color: white'><tr><th>emp_id</th><th>emp_name</th><th>gender</th><th>salary</th><th>dept</th></tr></thead><tbody><tr><td>100</td><td>Stephen</td><td>M</td><td>2000</td><td>IT</td></tr><tr><td>100</td><td>Stephen</td><td>M</td><td>2000</td><td>IT</td></tr><tr><td>300</td><td>Lara</td><td>F</td><td>6000</td><td>SALES</td></tr><tr><td>300</td><td>Lara</td><td>F</td><td>6000</td><td>SALES</td></tr><tr><td>200</td><td>Philips</td><td>M</td><td>8000</td><td>HR</td></tr><tr><td>200</td><td>Philips</td><td>M</td><td>8000</td><td>HR</td></tr><tr><td>200</td><td>Philips</td><td>M</td><td>8000</td><td>HR</td></tr></tbody></table></div>"
      ]
     },
     "metadata": {
      "application/vnd.databricks.v1+output": {
       "addedWidgets": {},
       "aggData": [],
       "aggError": "",
       "aggOverflow": false,
       "aggSchema": [],
       "aggSeriesLimitReached": false,
       "aggType": "",
       "arguments": {},
       "columnCustomDisplayInfos": {},
       "data": [
        [
         100,
         "Stephen",
         "M",
         2000,
         "IT"
        ],
        [
         100,
         "Stephen",
         "M",
         2000,
         "IT"
        ],
        [
         300,
         "Lara",
         "F",
         6000,
         "SALES"
        ],
        [
         300,
         "Lara",
         "F",
         6000,
         "SALES"
        ],
        [
         200,
         "Philips",
         "M",
         8000,
         "HR"
        ],
        [
         200,
         "Philips",
         "M",
         8000,
         "HR"
        ],
        [
         200,
         "Philips",
         "M",
         8000,
         "HR"
        ]
       ],
       "datasetInfos": [],
       "dbfsResultPath": null,
       "isJsonSchema": true,
       "metadata": {},
       "overflow": false,
       "plotOptions": {
        "customPlotOptions": {},
        "displayType": "table",
        "pivotAggregation": null,
        "pivotColumns": null,
        "xColumns": null,
        "yColumns": null
       },
       "removedWidgets": [],
       "schema": [
        {
         "metadata": "{}",
         "name": "emp_id",
         "type": "\"integer\""
        },
        {
         "metadata": "{}",
         "name": "emp_name",
         "type": "\"string\""
        },
        {
         "metadata": "{}",
         "name": "gender",
         "type": "\"string\""
        },
        {
         "metadata": "{}",
         "name": "salary",
         "type": "\"integer\""
        },
        {
         "metadata": "{}",
         "name": "dept",
         "type": "\"string\""
        }
       ],
       "type": "table"
      }
     },
     "output_type": "display_data"
    }
   ],
   "source": [
    "%sql\n",
    "\n",
    "select * from emp_demo"
   ]
  },
  {
   "cell_type": "code",
   "execution_count": 0,
   "metadata": {
    "application/vnd.databricks.v1+cell": {
     "cellMetadata": {
      "byteLimit": 2048000,
      "rowLimit": 10000
     },
     "inputWidgets": {},
     "nuid": "09b80cee-c577-49a7-9d36-b6a090afd6d8",
     "showTitle": false,
     "tableResultSettingsMap": {},
     "title": ""
    }
   },
   "outputs": [
    {
     "output_type": "display_data",
     "data": {
      "text/html": [
       "<style scoped>\n",
       "  .table-result-container {\n",
       "    max-height: 300px;\n",
       "    overflow: auto;\n",
       "  }\n",
       "  table, th, td {\n",
       "    border: 1px solid black;\n",
       "    border-collapse: collapse;\n",
       "  }\n",
       "  th, td {\n",
       "    padding: 5px;\n",
       "  }\n",
       "  th {\n",
       "    text-align: left;\n",
       "  }\n",
       "</style><div class='table-result-container'><table class='table-result'><thead style='background-color: white'><tr><th>emp_id</th><th>emp_name</th><th>gender</th><th>salary</th><th>dept</th></tr></thead><tbody><tr><td>100</td><td>Stephen</td><td>M</td><td>2000</td><td>IT</td></tr><tr><td>100</td><td>Stephen</td><td>M</td><td>2000</td><td>IT</td></tr><tr><td>300</td><td>Lara</td><td>F</td><td>6000</td><td>SALES</td></tr><tr><td>300</td><td>Lara</td><td>F</td><td>6000</td><td>SALES</td></tr><tr><td>200</td><td>Philips</td><td>M</td><td>8000</td><td>HR</td></tr><tr><td>200</td><td>Philips</td><td>M</td><td>8000</td><td>HR</td></tr><tr><td>200</td><td>Philips</td><td>M</td><td>8000</td><td>HR</td></tr></tbody></table></div>"
      ]
     },
     "metadata": {
      "application/vnd.databricks.v1+output": {
       "addedWidgets": {},
       "aggData": [],
       "aggError": "",
       "aggOverflow": false,
       "aggSchema": [],
       "aggSeriesLimitReached": false,
       "aggType": "",
       "arguments": {},
       "columnCustomDisplayInfos": {},
       "data": [
        [
         100,
         "Stephen",
         "M",
         2000,
         "IT"
        ],
        [
         100,
         "Stephen",
         "M",
         2000,
         "IT"
        ],
        [
         300,
         "Lara",
         "F",
         6000,
         "SALES"
        ],
        [
         300,
         "Lara",
         "F",
         6000,
         "SALES"
        ],
        [
         200,
         "Philips",
         "M",
         8000,
         "HR"
        ],
        [
         200,
         "Philips",
         "M",
         8000,
         "HR"
        ],
        [
         200,
         "Philips",
         "M",
         8000,
         "HR"
        ]
       ],
       "datasetInfos": [],
       "dbfsResultPath": null,
       "isJsonSchema": true,
       "metadata": {},
       "overflow": false,
       "plotOptions": {
        "customPlotOptions": {},
        "displayType": "table",
        "pivotAggregation": null,
        "pivotColumns": null,
        "xColumns": null,
        "yColumns": null
       },
       "removedWidgets": [],
       "schema": [
        {
         "metadata": "{}",
         "name": "emp_id",
         "type": "\"integer\""
        },
        {
         "metadata": "{}",
         "name": "emp_name",
         "type": "\"string\""
        },
        {
         "metadata": "{}",
         "name": "gender",
         "type": "\"string\""
        },
        {
         "metadata": "{}",
         "name": "salary",
         "type": "\"integer\""
        },
        {
         "metadata": "{}",
         "name": "dept",
         "type": "\"string\""
        }
       ],
       "type": "table"
      }
     },
     "output_type": "display_data"
    }
   ],
   "source": [
    "display(di.toDF())"
   ]
  },
  {
   "cell_type": "code",
   "execution_count": 0,
   "metadata": {
    "application/vnd.databricks.v1+cell": {
     "cellMetadata": {
      "byteLimit": 2048000,
      "implicitDf": true,
      "rowLimit": 10000
     },
     "inputWidgets": {},
     "nuid": "17839d18-080a-416d-ab08-61f811995b64",
     "showTitle": false,
     "tableResultSettingsMap": {},
     "title": ""
    }
   },
   "outputs": [
    {
     "output_type": "display_data",
     "data": {
      "text/html": [
       "<style scoped>\n",
       "  .table-result-container {\n",
       "    max-height: 300px;\n",
       "    overflow: auto;\n",
       "  }\n",
       "  table, th, td {\n",
       "    border: 1px solid black;\n",
       "    border-collapse: collapse;\n",
       "  }\n",
       "  th, td {\n",
       "    padding: 5px;\n",
       "  }\n",
       "  th {\n",
       "    text-align: left;\n",
       "  }\n",
       "</style><div class='table-result-container'><table class='table-result'><thead style='background-color: white'><tr><th>num_affected_rows</th><th>num_inserted_rows</th></tr></thead><tbody><tr><td>1</td><td>1</td></tr></tbody></table></div>"
      ]
     },
     "metadata": {
      "application/vnd.databricks.v1+output": {
       "addedWidgets": {},
       "aggData": [],
       "aggError": "",
       "aggOverflow": false,
       "aggSchema": [],
       "aggSeriesLimitReached": false,
       "aggType": "",
       "arguments": {},
       "columnCustomDisplayInfos": {},
       "data": [
        [
         1,
         1
        ]
       ],
       "datasetInfos": [],
       "dbfsResultPath": null,
       "isJsonSchema": true,
       "metadata": {},
       "overflow": false,
       "plotOptions": {
        "customPlotOptions": {},
        "displayType": "table",
        "pivotAggregation": null,
        "pivotColumns": null,
        "xColumns": null,
        "yColumns": null
       },
       "removedWidgets": [],
       "schema": [
        {
         "metadata": "{}",
         "name": "num_affected_rows",
         "type": "\"long\""
        },
        {
         "metadata": "{}",
         "name": "num_inserted_rows",
         "type": "\"long\""
        }
       ],
       "type": "table"
      }
     },
     "output_type": "display_data"
    }
   ],
   "source": [
    "%sql\n",
    "insert into emp_demo values(100,\"Stephen\",\"M\",2000,\"IT\")"
   ]
  },
  {
   "cell_type": "code",
   "execution_count": 0,
   "metadata": {
    "application/vnd.databricks.v1+cell": {
     "cellMetadata": {
      "byteLimit": 2048000,
      "rowLimit": 10000
     },
     "inputWidgets": {},
     "nuid": "a6252673-d2b8-4403-88b0-339533840f7a",
     "showTitle": false,
     "tableResultSettingsMap": {},
     "title": ""
    }
   },
   "outputs": [
    {
     "output_type": "display_data",
     "data": {
      "text/html": [
       "<style scoped>\n",
       "  .table-result-container {\n",
       "    max-height: 300px;\n",
       "    overflow: auto;\n",
       "  }\n",
       "  table, th, td {\n",
       "    border: 1px solid black;\n",
       "    border-collapse: collapse;\n",
       "  }\n",
       "  th, td {\n",
       "    padding: 5px;\n",
       "  }\n",
       "  th {\n",
       "    text-align: left;\n",
       "  }\n",
       "</style><div class='table-result-container'><table class='table-result'><thead style='background-color: white'><tr><th>emp_id</th><th>emp_name</th><th>gender</th><th>salary</th><th>dept</th></tr></thead><tbody><tr><td>100</td><td>Stephen</td><td>M</td><td>2000</td><td>IT</td></tr><tr><td>100</td><td>Stephen</td><td>M</td><td>2000</td><td>IT</td></tr><tr><td>300</td><td>Lara</td><td>F</td><td>6000</td><td>SALES</td></tr><tr><td>300</td><td>Lara</td><td>F</td><td>6000</td><td>SALES</td></tr><tr><td>100</td><td>Stephen</td><td>M</td><td>2000</td><td>IT</td></tr><tr><td>200</td><td>Philips</td><td>M</td><td>8000</td><td>HR</td></tr><tr><td>200</td><td>Philips</td><td>M</td><td>8000</td><td>HR</td></tr><tr><td>200</td><td>Philips</td><td>M</td><td>8000</td><td>HR</td></tr></tbody></table></div>"
      ]
     },
     "metadata": {
      "application/vnd.databricks.v1+output": {
       "addedWidgets": {},
       "aggData": [],
       "aggError": "",
       "aggOverflow": false,
       "aggSchema": [],
       "aggSeriesLimitReached": false,
       "aggType": "",
       "arguments": {},
       "columnCustomDisplayInfos": {},
       "data": [
        [
         100,
         "Stephen",
         "M",
         2000,
         "IT"
        ],
        [
         100,
         "Stephen",
         "M",
         2000,
         "IT"
        ],
        [
         300,
         "Lara",
         "F",
         6000,
         "SALES"
        ],
        [
         300,
         "Lara",
         "F",
         6000,
         "SALES"
        ],
        [
         100,
         "Stephen",
         "M",
         2000,
         "IT"
        ],
        [
         200,
         "Philips",
         "M",
         8000,
         "HR"
        ],
        [
         200,
         "Philips",
         "M",
         8000,
         "HR"
        ],
        [
         200,
         "Philips",
         "M",
         8000,
         "HR"
        ]
       ],
       "datasetInfos": [],
       "dbfsResultPath": null,
       "isJsonSchema": true,
       "metadata": {},
       "overflow": false,
       "plotOptions": {
        "customPlotOptions": {},
        "displayType": "table",
        "pivotAggregation": null,
        "pivotColumns": null,
        "xColumns": null,
        "yColumns": null
       },
       "removedWidgets": [],
       "schema": [
        {
         "metadata": "{}",
         "name": "emp_id",
         "type": "\"integer\""
        },
        {
         "metadata": "{}",
         "name": "emp_name",
         "type": "\"string\""
        },
        {
         "metadata": "{}",
         "name": "gender",
         "type": "\"string\""
        },
        {
         "metadata": "{}",
         "name": "salary",
         "type": "\"integer\""
        },
        {
         "metadata": "{}",
         "name": "dept",
         "type": "\"string\""
        }
       ],
       "type": "table"
      }
     },
     "output_type": "display_data"
    }
   ],
   "source": [
    "# display(di.toDF())\n",
    "display(spark.sql(\"select * from emp_demo\"))"
   ]
  },
  {
   "cell_type": "code",
   "execution_count": 0,
   "metadata": {
    "application/vnd.databricks.v1+cell": {
     "cellMetadata": {
      "byteLimit": 2048000,
      "rowLimit": 10000
     },
     "inputWidgets": {},
     "nuid": "bb21bfcf-0362-4963-b64e-737443fc8051",
     "showTitle": false,
     "tableResultSettingsMap": {},
     "title": ""
    }
   },
   "outputs": [
    {
     "output_type": "display_data",
     "data": {
      "text/html": [
       "<style scoped>\n",
       "  .table-result-container {\n",
       "    max-height: 300px;\n",
       "    overflow: auto;\n",
       "  }\n",
       "  table, th, td {\n",
       "    border: 1px solid black;\n",
       "    border-collapse: collapse;\n",
       "  }\n",
       "  th, td {\n",
       "    padding: 5px;\n",
       "  }\n",
       "  th {\n",
       "    text-align: left;\n",
       "  }\n",
       "</style><div class='table-result-container'><table class='table-result'><thead style='background-color: white'><tr><th>emp_id</th><th>emp_name</th><th>gender</th><th>salary</th><th>dept</th></tr></thead><tbody><tr><td>200</td><td>Philips</td><td>M</td><td>8000</td><td>HR</td></tr></tbody></table></div>"
      ]
     },
     "metadata": {
      "application/vnd.databricks.v1+output": {
       "addedWidgets": {},
       "aggData": [],
       "aggError": "",
       "aggOverflow": false,
       "aggSchema": [],
       "aggSeriesLimitReached": false,
       "aggType": "",
       "arguments": {},
       "columnCustomDisplayInfos": {},
       "data": [
        [
         200,
         "Philips",
         "M",
         8000,
         "HR"
        ]
       ],
       "datasetInfos": [],
       "dbfsResultPath": null,
       "isJsonSchema": true,
       "metadata": {},
       "overflow": false,
       "plotOptions": {
        "customPlotOptions": {},
        "displayType": "table",
        "pivotAggregation": null,
        "pivotColumns": null,
        "xColumns": null,
        "yColumns": null
       },
       "removedWidgets": [],
       "schema": [
        {
         "metadata": "{}",
         "name": "emp_id",
         "type": "\"integer\""
        },
        {
         "metadata": "{}",
         "name": "emp_name",
         "type": "\"string\""
        },
        {
         "metadata": "{}",
         "name": "gender",
         "type": "\"string\""
        },
        {
         "metadata": "{}",
         "name": "salary",
         "type": "\"integer\""
        },
        {
         "metadata": "{}",
         "name": "dept",
         "type": "\"string\""
        }
       ],
       "type": "table"
      }
     },
     "output_type": "display_data"
    }
   ],
   "source": [
    "from pyspark.sql.types import *\n",
    "emp_data=[(200,\"Philips\",\"M\",8000,\"HR\")]\n",
    "\n",
    "emp_schema=StructType([ \\\n",
    "    StructField(\"emp_id\",IntegerType(),False), \\\n",
    "    StructField(\"emp_name\",StringType(),True), \\\n",
    "    StructField(\"gender\",StringType(),True), \\\n",
    "    StructField(\"salary\",IntegerType(),True), \\\n",
    "    StructField(\"dept\",StringType(),True), \\\n",
    "    ])\n",
    "\n",
    "df=spark.createDataFrame(data=emp_data,schema=emp_schema)\n",
    "\n",
    "display(df)"
   ]
  },
  {
   "cell_type": "code",
   "execution_count": 0,
   "metadata": {
    "application/vnd.databricks.v1+cell": {
     "cellMetadata": {
      "byteLimit": 2048000,
      "implicitDf": true,
      "rowLimit": 10000
     },
     "inputWidgets": {},
     "nuid": "d40d43fe-3e22-4159-80f4-0b0d9bd9e54b",
     "showTitle": false,
     "tableResultSettingsMap": {},
     "title": ""
    }
   },
   "outputs": [
    {
     "output_type": "display_data",
     "data": {
      "text/html": [
       "<style scoped>\n",
       "  .table-result-container {\n",
       "    max-height: 300px;\n",
       "    overflow: auto;\n",
       "  }\n",
       "  table, th, td {\n",
       "    border: 1px solid black;\n",
       "    border-collapse: collapse;\n",
       "  }\n",
       "  th, td {\n",
       "    padding: 5px;\n",
       "  }\n",
       "  th {\n",
       "    text-align: left;\n",
       "  }\n",
       "</style><div class='table-result-container'><table class='table-result'><thead style='background-color: white'><tr><th>emp_id</th><th>emp_name</th><th>gender</th><th>salary</th><th>dept</th></tr></thead><tbody><tr><td>100</td><td>Stephen</td><td>M</td><td>2000</td><td>IT</td></tr><tr><td>100</td><td>Stephen</td><td>M</td><td>2000</td><td>IT</td></tr><tr><td>300</td><td>Lara</td><td>F</td><td>6000</td><td>SALES</td></tr><tr><td>300</td><td>Lara</td><td>F</td><td>6000</td><td>SALES</td></tr><tr><td>100</td><td>Stephen</td><td>M</td><td>2000</td><td>IT</td></tr><tr><td>200</td><td>Philips</td><td>M</td><td>8000</td><td>HR</td></tr><tr><td>200</td><td>Philips</td><td>M</td><td>8000</td><td>HR</td></tr><tr><td>200</td><td>Philips</td><td>M</td><td>8000</td><td>HR</td></tr></tbody></table></div>"
      ]
     },
     "metadata": {
      "application/vnd.databricks.v1+output": {
       "addedWidgets": {},
       "aggData": [],
       "aggError": "",
       "aggOverflow": false,
       "aggSchema": [],
       "aggSeriesLimitReached": false,
       "aggType": "",
       "arguments": {},
       "columnCustomDisplayInfos": {},
       "data": [
        [
         100,
         "Stephen",
         "M",
         2000,
         "IT"
        ],
        [
         100,
         "Stephen",
         "M",
         2000,
         "IT"
        ],
        [
         300,
         "Lara",
         "F",
         6000,
         "SALES"
        ],
        [
         300,
         "Lara",
         "F",
         6000,
         "SALES"
        ],
        [
         100,
         "Stephen",
         "M",
         2000,
         "IT"
        ],
        [
         200,
         "Philips",
         "M",
         8000,
         "HR"
        ],
        [
         200,
         "Philips",
         "M",
         8000,
         "HR"
        ],
        [
         200,
         "Philips",
         "M",
         8000,
         "HR"
        ]
       ],
       "datasetInfos": [],
       "dbfsResultPath": null,
       "isJsonSchema": true,
       "metadata": {},
       "overflow": false,
       "plotOptions": {
        "customPlotOptions": {},
        "displayType": "table",
        "pivotAggregation": null,
        "pivotColumns": null,
        "xColumns": null,
        "yColumns": null
       },
       "removedWidgets": [],
       "schema": [
        {
         "metadata": "{}",
         "name": "emp_id",
         "type": "\"integer\""
        },
        {
         "metadata": "{}",
         "name": "emp_name",
         "type": "\"string\""
        },
        {
         "metadata": "{}",
         "name": "gender",
         "type": "\"string\""
        },
        {
         "metadata": "{}",
         "name": "salary",
         "type": "\"integer\""
        },
        {
         "metadata": "{}",
         "name": "dept",
         "type": "\"string\""
        }
       ],
       "type": "table"
      }
     },
     "output_type": "display_data"
    }
   ],
   "source": [
    "%sql\n",
    "\n",
    "select * from emp_demo"
   ]
  },
  {
   "cell_type": "code",
   "execution_count": 0,
   "metadata": {
    "application/vnd.databricks.v1+cell": {
     "cellMetadata": {
      "byteLimit": 2048000,
      "rowLimit": 10000
     },
     "inputWidgets": {},
     "nuid": "52b6ae79-a8d9-48a6-831d-bbea09ccf842",
     "showTitle": false,
     "tableResultSettingsMap": {},
     "title": ""
    }
   },
   "outputs": [],
   "source": [
    "df.write.format(\"delta\").mode(\"append\").saveAsTable(\"emp_demo\")"
   ]
  },
  {
   "cell_type": "code",
   "execution_count": 0,
   "metadata": {
    "application/vnd.databricks.v1+cell": {
     "cellMetadata": {
      "byteLimit": 2048000,
      "implicitDf": true,
      "rowLimit": 10000
     },
     "inputWidgets": {},
     "nuid": "2dac81bf-380c-42c0-b63e-b87b032685f8",
     "showTitle": false,
     "tableResultSettingsMap": {},
     "title": ""
    }
   },
   "outputs": [
    {
     "output_type": "display_data",
     "data": {
      "text/html": [
       "<style scoped>\n",
       "  .table-result-container {\n",
       "    max-height: 300px;\n",
       "    overflow: auto;\n",
       "  }\n",
       "  table, th, td {\n",
       "    border: 1px solid black;\n",
       "    border-collapse: collapse;\n",
       "  }\n",
       "  th, td {\n",
       "    padding: 5px;\n",
       "  }\n",
       "  th {\n",
       "    text-align: left;\n",
       "  }\n",
       "</style><div class='table-result-container'><table class='table-result'><thead style='background-color: white'><tr><th>emp_id</th><th>emp_name</th><th>gender</th><th>salary</th><th>dept</th></tr></thead><tbody><tr><td>100</td><td>Stephen</td><td>M</td><td>2000</td><td>IT</td></tr><tr><td>100</td><td>Stephen</td><td>M</td><td>2000</td><td>IT</td></tr><tr><td>300</td><td>Lara</td><td>F</td><td>6000</td><td>SALES</td></tr><tr><td>300</td><td>Lara</td><td>F</td><td>6000</td><td>SALES</td></tr><tr><td>100</td><td>Stephen</td><td>M</td><td>2000</td><td>IT</td></tr><tr><td>200</td><td>Philips</td><td>M</td><td>8000</td><td>HR</td></tr><tr><td>200</td><td>Philips</td><td>M</td><td>8000</td><td>HR</td></tr><tr><td>200</td><td>Philips</td><td>M</td><td>8000</td><td>HR</td></tr><tr><td>200</td><td>Philips</td><td>M</td><td>8000</td><td>HR</td></tr></tbody></table></div>"
      ]
     },
     "metadata": {
      "application/vnd.databricks.v1+output": {
       "addedWidgets": {},
       "aggData": [],
       "aggError": "",
       "aggOverflow": false,
       "aggSchema": [],
       "aggSeriesLimitReached": false,
       "aggType": "",
       "arguments": {},
       "columnCustomDisplayInfos": {},
       "data": [
        [
         100,
         "Stephen",
         "M",
         2000,
         "IT"
        ],
        [
         100,
         "Stephen",
         "M",
         2000,
         "IT"
        ],
        [
         300,
         "Lara",
         "F",
         6000,
         "SALES"
        ],
        [
         300,
         "Lara",
         "F",
         6000,
         "SALES"
        ],
        [
         100,
         "Stephen",
         "M",
         2000,
         "IT"
        ],
        [
         200,
         "Philips",
         "M",
         8000,
         "HR"
        ],
        [
         200,
         "Philips",
         "M",
         8000,
         "HR"
        ],
        [
         200,
         "Philips",
         "M",
         8000,
         "HR"
        ],
        [
         200,
         "Philips",
         "M",
         8000,
         "HR"
        ]
       ],
       "datasetInfos": [],
       "dbfsResultPath": null,
       "isJsonSchema": true,
       "metadata": {},
       "overflow": false,
       "plotOptions": {
        "customPlotOptions": {},
        "displayType": "table",
        "pivotAggregation": null,
        "pivotColumns": null,
        "xColumns": null,
        "yColumns": null
       },
       "removedWidgets": [],
       "schema": [
        {
         "metadata": "{}",
         "name": "emp_id",
         "type": "\"integer\""
        },
        {
         "metadata": "{}",
         "name": "emp_name",
         "type": "\"string\""
        },
        {
         "metadata": "{}",
         "name": "gender",
         "type": "\"string\""
        },
        {
         "metadata": "{}",
         "name": "salary",
         "type": "\"integer\""
        },
        {
         "metadata": "{}",
         "name": "dept",
         "type": "\"string\""
        }
       ],
       "type": "table"
      }
     },
     "output_type": "display_data"
    }
   ],
   "source": [
    "%sql\n",
    "\n",
    "select * from emp_demo"
   ]
  },
  {
   "cell_type": "code",
   "execution_count": 0,
   "metadata": {
    "application/vnd.databricks.v1+cell": {
     "cellMetadata": {
      "byteLimit": 2048000,
      "rowLimit": 10000
     },
     "inputWidgets": {},
     "nuid": "94bb79ac-25a4-4824-a499-e64db3d83421",
     "showTitle": false,
     "tableResultSettingsMap": {},
     "title": ""
    }
   },
   "outputs": [
    {
     "output_type": "display_data",
     "data": {
      "text/html": [
       "<style scoped>\n",
       "  .table-result-container {\n",
       "    max-height: 300px;\n",
       "    overflow: auto;\n",
       "  }\n",
       "  table, th, td {\n",
       "    border: 1px solid black;\n",
       "    border-collapse: collapse;\n",
       "  }\n",
       "  th, td {\n",
       "    padding: 5px;\n",
       "  }\n",
       "  th {\n",
       "    text-align: left;\n",
       "  }\n",
       "</style><div class='table-result-container'><table class='table-result'><thead style='background-color: white'><tr><th>emp_id</th><th>emp_name</th><th>gender</th><th>salary</th><th>dept</th></tr></thead><tbody><tr><td>300</td><td>Lara</td><td>F</td><td>6000</td><td>SALES</td></tr></tbody></table></div>"
      ]
     },
     "metadata": {
      "application/vnd.databricks.v1+output": {
       "addedWidgets": {},
       "aggData": [],
       "aggError": "",
       "aggOverflow": false,
       "aggSchema": [],
       "aggSeriesLimitReached": false,
       "aggType": "",
       "arguments": {},
       "columnCustomDisplayInfos": {},
       "data": [
        [
         300,
         "Lara",
         "F",
         6000,
         "SALES"
        ]
       ],
       "datasetInfos": [],
       "dbfsResultPath": null,
       "isJsonSchema": true,
       "metadata": {},
       "overflow": false,
       "plotOptions": {
        "customPlotOptions": {},
        "displayType": "table",
        "pivotAggregation": null,
        "pivotColumns": null,
        "xColumns": null,
        "yColumns": null
       },
       "removedWidgets": [],
       "schema": [
        {
         "metadata": "{}",
         "name": "emp_id",
         "type": "\"integer\""
        },
        {
         "metadata": "{}",
         "name": "emp_name",
         "type": "\"string\""
        },
        {
         "metadata": "{}",
         "name": "gender",
         "type": "\"string\""
        },
        {
         "metadata": "{}",
         "name": "salary",
         "type": "\"integer\""
        },
        {
         "metadata": "{}",
         "name": "dept",
         "type": "\"string\""
        }
       ],
       "type": "table"
      }
     },
     "output_type": "display_data"
    }
   ],
   "source": [
    "from pyspark.sql.types import *\n",
    "emp_data=[(300,\"Lara\",\"F\",6000,\"SALES\")]\n",
    "\n",
    "emp_schema=StructType([ \\\n",
    "    StructField(\"emp_id\",IntegerType(),False), \\\n",
    "    StructField(\"emp_name\",StringType(),True), \\\n",
    "    StructField(\"gender\",StringType(),True), \\\n",
    "    StructField(\"salary\",IntegerType(),True), \\\n",
    "    StructField(\"dept\",StringType(),True), \\\n",
    "    ])\n",
    "\n",
    "df1=spark.createDataFrame(data=emp_data,schema=emp_schema)\n",
    "\n",
    "display(df1)"
   ]
  },
  {
   "cell_type": "code",
   "execution_count": 0,
   "metadata": {
    "application/vnd.databricks.v1+cell": {
     "cellMetadata": {
      "byteLimit": 2048000,
      "rowLimit": 10000
     },
     "inputWidgets": {},
     "nuid": "0a083a11-45ec-4802-9dab-cb8b6843163f",
     "showTitle": false,
     "tableResultSettingsMap": {},
     "title": ""
    }
   },
   "outputs": [],
   "source": [
    "df1.write.insertInto('emp_demo',overwrite=False)"
   ]
  },
  {
   "cell_type": "code",
   "execution_count": 0,
   "metadata": {
    "application/vnd.databricks.v1+cell": {
     "cellMetadata": {
      "byteLimit": 2048000,
      "implicitDf": true,
      "rowLimit": 10000
     },
     "inputWidgets": {},
     "nuid": "0957f689-35c4-4785-96fb-a0d0836d3195",
     "showTitle": false,
     "tableResultSettingsMap": {},
     "title": ""
    }
   },
   "outputs": [
    {
     "output_type": "display_data",
     "data": {
      "text/html": [
       "<style scoped>\n",
       "  .table-result-container {\n",
       "    max-height: 300px;\n",
       "    overflow: auto;\n",
       "  }\n",
       "  table, th, td {\n",
       "    border: 1px solid black;\n",
       "    border-collapse: collapse;\n",
       "  }\n",
       "  th, td {\n",
       "    padding: 5px;\n",
       "  }\n",
       "  th {\n",
       "    text-align: left;\n",
       "  }\n",
       "</style><div class='table-result-container'><table class='table-result'><thead style='background-color: white'><tr><th>emp_id</th><th>emp_name</th><th>gender</th><th>salary</th><th>dept</th></tr></thead><tbody><tr><td>100</td><td>Stephen</td><td>M</td><td>2000</td><td>IT</td></tr><tr><td>100</td><td>Stephen</td><td>M</td><td>2000</td><td>IT</td></tr><tr><td>300</td><td>Lara</td><td>F</td><td>6000</td><td>SALES</td></tr><tr><td>300</td><td>Lara</td><td>F</td><td>6000</td><td>SALES</td></tr><tr><td>100</td><td>Stephen</td><td>M</td><td>2000</td><td>IT</td></tr><tr><td>300</td><td>Lara</td><td>F</td><td>6000</td><td>SALES</td></tr><tr><td>200</td><td>Philips</td><td>M</td><td>8000</td><td>HR</td></tr><tr><td>200</td><td>Philips</td><td>M</td><td>8000</td><td>HR</td></tr><tr><td>200</td><td>Philips</td><td>M</td><td>8000</td><td>HR</td></tr><tr><td>200</td><td>Philips</td><td>M</td><td>8000</td><td>HR</td></tr></tbody></table></div>"
      ]
     },
     "metadata": {
      "application/vnd.databricks.v1+output": {
       "addedWidgets": {},
       "aggData": [],
       "aggError": "",
       "aggOverflow": false,
       "aggSchema": [],
       "aggSeriesLimitReached": false,
       "aggType": "",
       "arguments": {},
       "columnCustomDisplayInfos": {},
       "data": [
        [
         100,
         "Stephen",
         "M",
         2000,
         "IT"
        ],
        [
         100,
         "Stephen",
         "M",
         2000,
         "IT"
        ],
        [
         300,
         "Lara",
         "F",
         6000,
         "SALES"
        ],
        [
         300,
         "Lara",
         "F",
         6000,
         "SALES"
        ],
        [
         100,
         "Stephen",
         "M",
         2000,
         "IT"
        ],
        [
         300,
         "Lara",
         "F",
         6000,
         "SALES"
        ],
        [
         200,
         "Philips",
         "M",
         8000,
         "HR"
        ],
        [
         200,
         "Philips",
         "M",
         8000,
         "HR"
        ],
        [
         200,
         "Philips",
         "M",
         8000,
         "HR"
        ],
        [
         200,
         "Philips",
         "M",
         8000,
         "HR"
        ]
       ],
       "datasetInfos": [],
       "dbfsResultPath": null,
       "isJsonSchema": true,
       "metadata": {},
       "overflow": false,
       "plotOptions": {
        "customPlotOptions": {},
        "displayType": "table",
        "pivotAggregation": null,
        "pivotColumns": null,
        "xColumns": null,
        "yColumns": null
       },
       "removedWidgets": [],
       "schema": [
        {
         "metadata": "{}",
         "name": "emp_id",
         "type": "\"integer\""
        },
        {
         "metadata": "{}",
         "name": "emp_name",
         "type": "\"string\""
        },
        {
         "metadata": "{}",
         "name": "gender",
         "type": "\"string\""
        },
        {
         "metadata": "{}",
         "name": "salary",
         "type": "\"integer\""
        },
        {
         "metadata": "{}",
         "name": "dept",
         "type": "\"string\""
        }
       ],
       "type": "table"
      }
     },
     "output_type": "display_data"
    }
   ],
   "source": [
    "%sql\n",
    "\n",
    "select * from emp_demo"
   ]
  },
  {
   "cell_type": "code",
   "execution_count": 0,
   "metadata": {
    "application/vnd.databricks.v1+cell": {
     "cellMetadata": {
      "byteLimit": 2048000,
      "rowLimit": 10000
     },
     "inputWidgets": {},
     "nuid": "e1a86baa-5dff-4404-bb3f-5e78c832a1c3",
     "showTitle": false,
     "tableResultSettingsMap": {},
     "title": ""
    }
   },
   "outputs": [],
   "source": [
    "df1.createOrReplaceTempView(\"deltadata\")"
   ]
  },
  {
   "cell_type": "code",
   "execution_count": 0,
   "metadata": {
    "application/vnd.databricks.v1+cell": {
     "cellMetadata": {
      "byteLimit": 2048000,
      "implicitDf": true,
      "rowLimit": 10000
     },
     "inputWidgets": {},
     "nuid": "9dd8b737-fd3b-4934-9a5c-5d1494420ebf",
     "showTitle": false,
     "tableResultSettingsMap": {},
     "title": ""
    }
   },
   "outputs": [
    {
     "output_type": "display_data",
     "data": {
      "text/html": [
       "<style scoped>\n",
       "  .table-result-container {\n",
       "    max-height: 300px;\n",
       "    overflow: auto;\n",
       "  }\n",
       "  table, th, td {\n",
       "    border: 1px solid black;\n",
       "    border-collapse: collapse;\n",
       "  }\n",
       "  th, td {\n",
       "    padding: 5px;\n",
       "  }\n",
       "  th {\n",
       "    text-align: left;\n",
       "  }\n",
       "</style><div class='table-result-container'><table class='table-result'><thead style='background-color: white'><tr><th>num_affected_rows</th><th>num_inserted_rows</th></tr></thead><tbody><tr><td>1</td><td>1</td></tr></tbody></table></div>"
      ]
     },
     "metadata": {
      "application/vnd.databricks.v1+output": {
       "addedWidgets": {},
       "aggData": [],
       "aggError": "",
       "aggOverflow": false,
       "aggSchema": [],
       "aggSeriesLimitReached": false,
       "aggType": "",
       "arguments": {},
       "columnCustomDisplayInfos": {},
       "data": [
        [
         1,
         1
        ]
       ],
       "datasetInfos": [],
       "dbfsResultPath": null,
       "isJsonSchema": true,
       "metadata": {},
       "overflow": false,
       "plotOptions": {
        "customPlotOptions": {},
        "displayType": "table",
        "pivotAggregation": null,
        "pivotColumns": null,
        "xColumns": null,
        "yColumns": null
       },
       "removedWidgets": [],
       "schema": [
        {
         "metadata": "{}",
         "name": "num_affected_rows",
         "type": "\"long\""
        },
        {
         "metadata": "{}",
         "name": "num_inserted_rows",
         "type": "\"long\""
        }
       ],
       "type": "table"
      }
     },
     "output_type": "display_data"
    }
   ],
   "source": [
    "%sql\n",
    "insert into emp_demo\n",
    "select * from deltadata"
   ]
  },
  {
   "cell_type": "code",
   "execution_count": 0,
   "metadata": {
    "application/vnd.databricks.v1+cell": {
     "cellMetadata": {
      "byteLimit": 2048000,
      "rowLimit": 10000
     },
     "inputWidgets": {},
     "nuid": "ff544325-6ae3-4282-b188-08a98f86497b",
     "showTitle": false,
     "tableResultSettingsMap": {},
     "title": ""
    }
   },
   "outputs": [
    {
     "output_type": "stream",
     "name": "stdout",
     "output_type": "stream",
     "text": [
      "Out[20]: DataFrame[num_affected_rows: bigint, num_inserted_rows: bigint]"
     ]
    }
   ],
   "source": [
    "spark.sql(\"insert into emp_demo select * from deltadata\")"
   ]
  },
  {
   "cell_type": "code",
   "execution_count": 0,
   "metadata": {
    "application/vnd.databricks.v1+cell": {
     "cellMetadata": {
      "byteLimit": 2048000,
      "rowLimit": 10000
     },
     "inputWidgets": {},
     "nuid": "a958b6ba-a306-47d4-acf9-0b430a386a3c",
     "showTitle": false,
     "tableResultSettingsMap": {},
     "title": ""
    }
   },
   "outputs": [
    {
     "output_type": "display_data",
     "data": {
      "text/html": [
       "<style scoped>\n",
       "  .table-result-container {\n",
       "    max-height: 300px;\n",
       "    overflow: auto;\n",
       "  }\n",
       "  table, th, td {\n",
       "    border: 1px solid black;\n",
       "    border-collapse: collapse;\n",
       "  }\n",
       "  th, td {\n",
       "    padding: 5px;\n",
       "  }\n",
       "  th {\n",
       "    text-align: left;\n",
       "  }\n",
       "</style><div class='table-result-container'><table class='table-result'><thead style='background-color: white'><tr><th>emp_id</th><th>emp_name</th><th>gender</th><th>salary</th><th>dept</th></tr></thead><tbody><tr><td>100</td><td>Stephen</td><td>M</td><td>2000</td><td>IT</td></tr><tr><td>100</td><td>Stephen</td><td>M</td><td>2000</td><td>IT</td></tr><tr><td>300</td><td>Lara</td><td>F</td><td>6000</td><td>SALES</td></tr><tr><td>300</td><td>Lara</td><td>F</td><td>6000</td><td>SALES</td></tr><tr><td>100</td><td>Stephen</td><td>M</td><td>2000</td><td>IT</td></tr><tr><td>300</td><td>Lara</td><td>F</td><td>6000</td><td>SALES</td></tr><tr><td>300</td><td>Lara</td><td>F</td><td>6000</td><td>SALES</td></tr><tr><td>300</td><td>Lara</td><td>F</td><td>6000</td><td>SALES</td></tr><tr><td>200</td><td>Philips</td><td>M</td><td>8000</td><td>HR</td></tr><tr><td>200</td><td>Philips</td><td>M</td><td>8000</td><td>HR</td></tr><tr><td>200</td><td>Philips</td><td>M</td><td>8000</td><td>HR</td></tr><tr><td>200</td><td>Philips</td><td>M</td><td>8000</td><td>HR</td></tr></tbody></table></div>"
      ]
     },
     "metadata": {
      "application/vnd.databricks.v1+output": {
       "addedWidgets": {},
       "aggData": [],
       "aggError": "",
       "aggOverflow": false,
       "aggSchema": [],
       "aggSeriesLimitReached": false,
       "aggType": "",
       "arguments": {},
       "columnCustomDisplayInfos": {},
       "data": [
        [
         100,
         "Stephen",
         "M",
         2000,
         "IT"
        ],
        [
         100,
         "Stephen",
         "M",
         2000,
         "IT"
        ],
        [
         300,
         "Lara",
         "F",
         6000,
         "SALES"
        ],
        [
         300,
         "Lara",
         "F",
         6000,
         "SALES"
        ],
        [
         100,
         "Stephen",
         "M",
         2000,
         "IT"
        ],
        [
         300,
         "Lara",
         "F",
         6000,
         "SALES"
        ],
        [
         300,
         "Lara",
         "F",
         6000,
         "SALES"
        ],
        [
         300,
         "Lara",
         "F",
         6000,
         "SALES"
        ],
        [
         200,
         "Philips",
         "M",
         8000,
         "HR"
        ],
        [
         200,
         "Philips",
         "M",
         8000,
         "HR"
        ],
        [
         200,
         "Philips",
         "M",
         8000,
         "HR"
        ],
        [
         200,
         "Philips",
         "M",
         8000,
         "HR"
        ]
       ],
       "datasetInfos": [],
       "dbfsResultPath": null,
       "isJsonSchema": true,
       "metadata": {},
       "overflow": false,
       "plotOptions": {
        "customPlotOptions": {},
        "displayType": "table",
        "pivotAggregation": null,
        "pivotColumns": null,
        "xColumns": null,
        "yColumns": null
       },
       "removedWidgets": [],
       "schema": [
        {
         "metadata": "{}",
         "name": "emp_id",
         "type": "\"integer\""
        },
        {
         "metadata": "{}",
         "name": "emp_name",
         "type": "\"string\""
        },
        {
         "metadata": "{}",
         "name": "gender",
         "type": "\"string\""
        },
        {
         "metadata": "{}",
         "name": "salary",
         "type": "\"integer\""
        },
        {
         "metadata": "{}",
         "name": "dept",
         "type": "\"string\""
        }
       ],
       "type": "table"
      }
     },
     "output_type": "display_data"
    }
   ],
   "source": [
    "display(spark.sql(\"select * from emp_demo\"))"
   ]
  },
  {
   "cell_type": "code",
   "execution_count": 0,
   "metadata": {
    "application/vnd.databricks.v1+cell": {
     "cellMetadata": {
      "byteLimit": 2048000,
      "implicitDf": true,
      "rowLimit": 10000
     },
     "inputWidgets": {},
     "nuid": "d5c63a1e-33ff-4b70-bcd9-66c2e9df56d4",
     "showTitle": false,
     "tableResultSettingsMap": {},
     "title": ""
    }
   },
   "outputs": [
    {
     "output_type": "display_data",
     "data": {
      "text/html": [
       "<style scoped>\n",
       "  .table-result-container {\n",
       "    max-height: 300px;\n",
       "    overflow: auto;\n",
       "  }\n",
       "  table, th, td {\n",
       "    border: 1px solid black;\n",
       "    border-collapse: collapse;\n",
       "  }\n",
       "  th, td {\n",
       "    padding: 5px;\n",
       "  }\n",
       "  th {\n",
       "    text-align: left;\n",
       "  }\n",
       "</style><div class='table-result-container'><table class='table-result'><thead style='background-color: white'><tr><th>num_affected_rows</th></tr></thead><tbody><tr><td>4</td></tr></tbody></table></div>"
      ]
     },
     "metadata": {
      "application/vnd.databricks.v1+output": {
       "addedWidgets": {},
       "aggData": [],
       "aggError": "",
       "aggOverflow": false,
       "aggSchema": [],
       "aggSeriesLimitReached": false,
       "aggType": "",
       "arguments": {},
       "columnCustomDisplayInfos": {},
       "data": [
        [
         4
        ]
       ],
       "datasetInfos": [],
       "dbfsResultPath": null,
       "isJsonSchema": true,
       "metadata": {},
       "overflow": false,
       "plotOptions": {
        "customPlotOptions": {},
        "displayType": "table",
        "pivotAggregation": null,
        "pivotColumns": null,
        "xColumns": null,
        "yColumns": null
       },
       "removedWidgets": [],
       "schema": [
        {
         "metadata": "{}",
         "name": "num_affected_rows",
         "type": "\"long\""
        }
       ],
       "type": "table"
      }
     },
     "output_type": "display_data"
    }
   ],
   "source": [
    "%sql\n",
    "delete from emp_demo where emp_id=200"
   ]
  },
  {
   "cell_type": "code",
   "execution_count": 0,
   "metadata": {
    "application/vnd.databricks.v1+cell": {
     "cellMetadata": {
      "byteLimit": 2048000,
      "rowLimit": 10000
     },
     "inputWidgets": {},
     "nuid": "ae613afe-a042-4c99-a4cd-ec2b05023c38",
     "showTitle": false,
     "tableResultSettingsMap": {},
     "title": ""
    }
   },
   "outputs": [
    {
     "output_type": "display_data",
     "data": {
      "text/html": [
       "<style scoped>\n",
       "  .table-result-container {\n",
       "    max-height: 300px;\n",
       "    overflow: auto;\n",
       "  }\n",
       "  table, th, td {\n",
       "    border: 1px solid black;\n",
       "    border-collapse: collapse;\n",
       "  }\n",
       "  th, td {\n",
       "    padding: 5px;\n",
       "  }\n",
       "  th {\n",
       "    text-align: left;\n",
       "  }\n",
       "</style><div class='table-result-container'><table class='table-result'><thead style='background-color: white'><tr><th>emp_id</th><th>emp_name</th><th>gender</th><th>salary</th><th>dept</th></tr></thead><tbody><tr><td>100</td><td>Stephen</td><td>M</td><td>2000</td><td>IT</td></tr><tr><td>100</td><td>Stephen</td><td>M</td><td>2000</td><td>IT</td></tr><tr><td>300</td><td>Lara</td><td>F</td><td>6000</td><td>SALES</td></tr><tr><td>300</td><td>Lara</td><td>F</td><td>6000</td><td>SALES</td></tr><tr><td>100</td><td>Stephen</td><td>M</td><td>2000</td><td>IT</td></tr><tr><td>300</td><td>Lara</td><td>F</td><td>6000</td><td>SALES</td></tr><tr><td>300</td><td>Lara</td><td>F</td><td>6000</td><td>SALES</td></tr><tr><td>300</td><td>Lara</td><td>F</td><td>6000</td><td>SALES</td></tr></tbody></table></div>"
      ]
     },
     "metadata": {
      "application/vnd.databricks.v1+output": {
       "addedWidgets": {},
       "aggData": [],
       "aggError": "",
       "aggOverflow": false,
       "aggSchema": [],
       "aggSeriesLimitReached": false,
       "aggType": "",
       "arguments": {},
       "columnCustomDisplayInfos": {},
       "data": [
        [
         100,
         "Stephen",
         "M",
         2000,
         "IT"
        ],
        [
         100,
         "Stephen",
         "M",
         2000,
         "IT"
        ],
        [
         300,
         "Lara",
         "F",
         6000,
         "SALES"
        ],
        [
         300,
         "Lara",
         "F",
         6000,
         "SALES"
        ],
        [
         100,
         "Stephen",
         "M",
         2000,
         "IT"
        ],
        [
         300,
         "Lara",
         "F",
         6000,
         "SALES"
        ],
        [
         300,
         "Lara",
         "F",
         6000,
         "SALES"
        ],
        [
         300,
         "Lara",
         "F",
         6000,
         "SALES"
        ]
       ],
       "datasetInfos": [],
       "dbfsResultPath": null,
       "isJsonSchema": true,
       "metadata": {},
       "overflow": false,
       "plotOptions": {
        "customPlotOptions": {},
        "displayType": "table",
        "pivotAggregation": null,
        "pivotColumns": null,
        "xColumns": null,
        "yColumns": null
       },
       "removedWidgets": [],
       "schema": [
        {
         "metadata": "{}",
         "name": "emp_id",
         "type": "\"integer\""
        },
        {
         "metadata": "{}",
         "name": "emp_name",
         "type": "\"string\""
        },
        {
         "metadata": "{}",
         "name": "gender",
         "type": "\"string\""
        },
        {
         "metadata": "{}",
         "name": "salary",
         "type": "\"integer\""
        },
        {
         "metadata": "{}",
         "name": "dept",
         "type": "\"string\""
        }
       ],
       "type": "table"
      }
     },
     "output_type": "display_data"
    }
   ],
   "source": [
    "display(spark.sql(\"select * from emp_demo\"))"
   ]
  },
  {
   "cell_type": "code",
   "execution_count": 0,
   "metadata": {
    "application/vnd.databricks.v1+cell": {
     "cellMetadata": {
      "byteLimit": 2048000,
      "rowLimit": 10000
     },
     "inputWidgets": {},
     "nuid": "970e1657-0487-4c4e-9275-69b5ebe078a3",
     "showTitle": false,
     "tableResultSettingsMap": {},
     "title": ""
    }
   },
   "outputs": [
    {
     "output_type": "stream",
     "name": "stdout",
     "output_type": "stream",
     "text": [
      "Out[24]: DataFrame[num_affected_rows: bigint]"
     ]
    }
   ],
   "source": [
    "spark.sql(\"delete from emp_demo where emp_id=100\")"
   ]
  },
  {
   "cell_type": "code",
   "execution_count": 0,
   "metadata": {
    "application/vnd.databricks.v1+cell": {
     "cellMetadata": {
      "byteLimit": 2048000,
      "rowLimit": 10000
     },
     "inputWidgets": {},
     "nuid": "57eb6f1d-e51b-471d-bace-38e5150046a0",
     "showTitle": false,
     "tableResultSettingsMap": {},
     "title": ""
    }
   },
   "outputs": [
    {
     "output_type": "display_data",
     "data": {
      "text/html": [
       "<style scoped>\n",
       "  .table-result-container {\n",
       "    max-height: 300px;\n",
       "    overflow: auto;\n",
       "  }\n",
       "  table, th, td {\n",
       "    border: 1px solid black;\n",
       "    border-collapse: collapse;\n",
       "  }\n",
       "  th, td {\n",
       "    padding: 5px;\n",
       "  }\n",
       "  th {\n",
       "    text-align: left;\n",
       "  }\n",
       "</style><div class='table-result-container'><table class='table-result'><thead style='background-color: white'><tr><th>emp_id</th><th>emp_name</th><th>gender</th><th>salary</th><th>dept</th></tr></thead><tbody><tr><td>300</td><td>Lara</td><td>F</td><td>6000</td><td>SALES</td></tr><tr><td>300</td><td>Lara</td><td>F</td><td>6000</td><td>SALES</td></tr><tr><td>300</td><td>Lara</td><td>F</td><td>6000</td><td>SALES</td></tr><tr><td>300</td><td>Lara</td><td>F</td><td>6000</td><td>SALES</td></tr><tr><td>300</td><td>Lara</td><td>F</td><td>6000</td><td>SALES</td></tr></tbody></table></div>"
      ]
     },
     "metadata": {
      "application/vnd.databricks.v1+output": {
       "addedWidgets": {},
       "aggData": [],
       "aggError": "",
       "aggOverflow": false,
       "aggSchema": [],
       "aggSeriesLimitReached": false,
       "aggType": "",
       "arguments": {},
       "columnCustomDisplayInfos": {},
       "data": [
        [
         300,
         "Lara",
         "F",
         6000,
         "SALES"
        ],
        [
         300,
         "Lara",
         "F",
         6000,
         "SALES"
        ],
        [
         300,
         "Lara",
         "F",
         6000,
         "SALES"
        ],
        [
         300,
         "Lara",
         "F",
         6000,
         "SALES"
        ],
        [
         300,
         "Lara",
         "F",
         6000,
         "SALES"
        ]
       ],
       "datasetInfos": [],
       "dbfsResultPath": null,
       "isJsonSchema": true,
       "metadata": {},
       "overflow": false,
       "plotOptions": {
        "customPlotOptions": {},
        "displayType": "table",
        "pivotAggregation": null,
        "pivotColumns": null,
        "xColumns": null,
        "yColumns": null
       },
       "removedWidgets": [],
       "schema": [
        {
         "metadata": "{}",
         "name": "emp_id",
         "type": "\"integer\""
        },
        {
         "metadata": "{}",
         "name": "emp_name",
         "type": "\"string\""
        },
        {
         "metadata": "{}",
         "name": "gender",
         "type": "\"string\""
        },
        {
         "metadata": "{}",
         "name": "salary",
         "type": "\"integer\""
        },
        {
         "metadata": "{}",
         "name": "dept",
         "type": "\"string\""
        }
       ],
       "type": "table"
      }
     },
     "output_type": "display_data"
    }
   ],
   "source": [
    "display(spark.sql(\"select * from emp_demo\"))"
   ]
  },
  {
   "cell_type": "code",
   "execution_count": 0,
   "metadata": {
    "application/vnd.databricks.v1+cell": {
     "cellMetadata": {
      "byteLimit": 2048000,
      "rowLimit": 10000
     },
     "inputWidgets": {},
     "nuid": "738378b2-0b72-4aa5-b16c-eb51f46b4627",
     "showTitle": false,
     "tableResultSettingsMap": {},
     "title": ""
    }
   },
   "outputs": [
    {
     "output_type": "display_data",
     "data": {
      "text/html": [
       "<style scoped>\n",
       "  .table-result-container {\n",
       "    max-height: 300px;\n",
       "    overflow: auto;\n",
       "  }\n",
       "  table, th, td {\n",
       "    border: 1px solid black;\n",
       "    border-collapse: collapse;\n",
       "  }\n",
       "  th, td {\n",
       "    padding: 5px;\n",
       "  }\n",
       "  th {\n",
       "    text-align: left;\n",
       "  }\n",
       "</style><div class='table-result-container'><table class='table-result'><thead style='background-color: white'><tr><th>emp_id</th><th>emp_name</th><th>gender</th><th>salary</th><th>dept</th></tr></thead><tbody><tr><td>300</td><td>Lara</td><td>F</td><td>6000</td><td>SALES</td></tr><tr><td>300</td><td>Lara</td><td>F</td><td>6000</td><td>SALES</td></tr><tr><td>300</td><td>Lara</td><td>F</td><td>6000</td><td>SALES</td></tr><tr><td>300</td><td>Lara</td><td>F</td><td>6000</td><td>SALES</td></tr><tr><td>300</td><td>Lara</td><td>F</td><td>6000</td><td>SALES</td></tr></tbody></table></div>"
      ]
     },
     "metadata": {
      "application/vnd.databricks.v1+output": {
       "addedWidgets": {},
       "aggData": [],
       "aggError": "",
       "aggOverflow": false,
       "aggSchema": [],
       "aggSeriesLimitReached": false,
       "aggType": "",
       "arguments": {},
       "columnCustomDisplayInfos": {},
       "data": [
        [
         300,
         "Lara",
         "F",
         6000,
         "SALES"
        ],
        [
         300,
         "Lara",
         "F",
         6000,
         "SALES"
        ],
        [
         300,
         "Lara",
         "F",
         6000,
         "SALES"
        ],
        [
         300,
         "Lara",
         "F",
         6000,
         "SALES"
        ],
        [
         300,
         "Lara",
         "F",
         6000,
         "SALES"
        ]
       ],
       "datasetInfos": [],
       "dbfsResultPath": null,
       "isJsonSchema": true,
       "metadata": {},
       "overflow": false,
       "plotOptions": {
        "customPlotOptions": {},
        "displayType": "table",
        "pivotAggregation": null,
        "pivotColumns": null,
        "xColumns": null,
        "yColumns": null
       },
       "removedWidgets": [],
       "schema": [
        {
         "metadata": "{}",
         "name": "emp_id",
         "type": "\"integer\""
        },
        {
         "metadata": "{}",
         "name": "emp_name",
         "type": "\"string\""
        },
        {
         "metadata": "{}",
         "name": "gender",
         "type": "\"string\""
        },
        {
         "metadata": "{}",
         "name": "salary",
         "type": "\"integer\""
        },
        {
         "metadata": "{}",
         "name": "dept",
         "type": "\"string\""
        }
       ],
       "type": "table"
      }
     },
     "output_type": "display_data"
    }
   ],
   "source": [
    "display(di.toDF())"
   ]
  },
  {
   "cell_type": "code",
   "execution_count": 0,
   "metadata": {
    "application/vnd.databricks.v1+cell": {
     "cellMetadata": {
      "byteLimit": 2048000,
      "rowLimit": 10000
     },
     "inputWidgets": {},
     "nuid": "13c33dd0-5138-4a4e-a932-eb6f09013947",
     "showTitle": false,
     "tableResultSettingsMap": {},
     "title": ""
    }
   },
   "outputs": [],
   "source": [
    "di.delete(\"emp_id=100\")"
   ]
  },
  {
   "cell_type": "code",
   "execution_count": 0,
   "metadata": {
    "application/vnd.databricks.v1+cell": {
     "cellMetadata": {
      "byteLimit": 2048000,
      "rowLimit": 10000
     },
     "inputWidgets": {},
     "nuid": "24060efd-0109-4aaa-9e22-16e3742b5919",
     "showTitle": false,
     "tableResultSettingsMap": {},
     "title": ""
    }
   },
   "outputs": [
    {
     "output_type": "display_data",
     "data": {
      "text/html": [
       "<style scoped>\n",
       "  .table-result-container {\n",
       "    max-height: 300px;\n",
       "    overflow: auto;\n",
       "  }\n",
       "  table, th, td {\n",
       "    border: 1px solid black;\n",
       "    border-collapse: collapse;\n",
       "  }\n",
       "  th, td {\n",
       "    padding: 5px;\n",
       "  }\n",
       "  th {\n",
       "    text-align: left;\n",
       "  }\n",
       "</style><div class='table-result-container'><table class='table-result'><thead style='background-color: white'><tr><th>emp_id</th><th>emp_name</th><th>gender</th><th>salary</th><th>dept</th></tr></thead><tbody><tr><td>300</td><td>Lara</td><td>F</td><td>6000</td><td>SALES</td></tr><tr><td>300</td><td>Lara</td><td>F</td><td>6000</td><td>SALES</td></tr><tr><td>300</td><td>Lara</td><td>F</td><td>6000</td><td>SALES</td></tr><tr><td>300</td><td>Lara</td><td>F</td><td>6000</td><td>SALES</td></tr><tr><td>300</td><td>Lara</td><td>F</td><td>6000</td><td>SALES</td></tr></tbody></table></div>"
      ]
     },
     "metadata": {
      "application/vnd.databricks.v1+output": {
       "addedWidgets": {},
       "aggData": [],
       "aggError": "",
       "aggOverflow": false,
       "aggSchema": [],
       "aggSeriesLimitReached": false,
       "aggType": "",
       "arguments": {},
       "columnCustomDisplayInfos": {},
       "data": [
        [
         300,
         "Lara",
         "F",
         6000,
         "SALES"
        ],
        [
         300,
         "Lara",
         "F",
         6000,
         "SALES"
        ],
        [
         300,
         "Lara",
         "F",
         6000,
         "SALES"
        ],
        [
         300,
         "Lara",
         "F",
         6000,
         "SALES"
        ],
        [
         300,
         "Lara",
         "F",
         6000,
         "SALES"
        ]
       ],
       "datasetInfos": [],
       "dbfsResultPath": null,
       "isJsonSchema": true,
       "metadata": {},
       "overflow": false,
       "plotOptions": {
        "customPlotOptions": {},
        "displayType": "table",
        "pivotAggregation": null,
        "pivotColumns": null,
        "xColumns": null,
        "yColumns": null
       },
       "removedWidgets": [],
       "schema": [
        {
         "metadata": "{}",
         "name": "emp_id",
         "type": "\"integer\""
        },
        {
         "metadata": "{}",
         "name": "emp_name",
         "type": "\"string\""
        },
        {
         "metadata": "{}",
         "name": "gender",
         "type": "\"string\""
        },
        {
         "metadata": "{}",
         "name": "salary",
         "type": "\"integer\""
        },
        {
         "metadata": "{}",
         "name": "dept",
         "type": "\"string\""
        }
       ],
       "type": "table"
      }
     },
     "output_type": "display_data"
    }
   ],
   "source": [
    "display(di.toDF())"
   ]
  },
  {
   "cell_type": "code",
   "execution_count": 0,
   "metadata": {
    "application/vnd.databricks.v1+cell": {
     "cellMetadata": {
      "byteLimit": 2048000,
      "rowLimit": 10000
     },
     "inputWidgets": {},
     "nuid": "659fb3ed-c846-49af-bbb5-ea9d722b3196",
     "showTitle": false,
     "tableResultSettingsMap": {},
     "title": ""
    }
   },
   "outputs": [],
   "source": [
    "di.update(\n",
    "    condition=\"emp_name='Lara'\",\n",
    "    set={\"salary\":\"15000\"}\n",
    ")"
   ]
  },
  {
   "cell_type": "code",
   "execution_count": 0,
   "metadata": {
    "application/vnd.databricks.v1+cell": {
     "cellMetadata": {
      "byteLimit": 2048000,
      "rowLimit": 10000
     },
     "inputWidgets": {},
     "nuid": "e83757ff-8086-4f73-a7e2-069239f50d34",
     "showTitle": false,
     "tableResultSettingsMap": {},
     "title": ""
    }
   },
   "outputs": [
    {
     "output_type": "display_data",
     "data": {
      "text/html": [
       "<style scoped>\n",
       "  .table-result-container {\n",
       "    max-height: 300px;\n",
       "    overflow: auto;\n",
       "  }\n",
       "  table, th, td {\n",
       "    border: 1px solid black;\n",
       "    border-collapse: collapse;\n",
       "  }\n",
       "  th, td {\n",
       "    padding: 5px;\n",
       "  }\n",
       "  th {\n",
       "    text-align: left;\n",
       "  }\n",
       "</style><div class='table-result-container'><table class='table-result'><thead style='background-color: white'><tr><th>emp_id</th><th>emp_name</th><th>gender</th><th>salary</th><th>dept</th></tr></thead><tbody><tr><td>300</td><td>Lara</td><td>F</td><td>15000</td><td>SALES</td></tr><tr><td>300</td><td>Lara</td><td>F</td><td>15000</td><td>SALES</td></tr><tr><td>300</td><td>Lara</td><td>F</td><td>15000</td><td>SALES</td></tr><tr><td>300</td><td>Lara</td><td>F</td><td>15000</td><td>SALES</td></tr><tr><td>300</td><td>Lara</td><td>F</td><td>15000</td><td>SALES</td></tr></tbody></table></div>"
      ]
     },
     "metadata": {
      "application/vnd.databricks.v1+output": {
       "addedWidgets": {},
       "aggData": [],
       "aggError": "",
       "aggOverflow": false,
       "aggSchema": [],
       "aggSeriesLimitReached": false,
       "aggType": "",
       "arguments": {},
       "columnCustomDisplayInfos": {},
       "data": [
        [
         300,
         "Lara",
         "F",
         15000,
         "SALES"
        ],
        [
         300,
         "Lara",
         "F",
         15000,
         "SALES"
        ],
        [
         300,
         "Lara",
         "F",
         15000,
         "SALES"
        ],
        [
         300,
         "Lara",
         "F",
         15000,
         "SALES"
        ],
        [
         300,
         "Lara",
         "F",
         15000,
         "SALES"
        ]
       ],
       "datasetInfos": [],
       "dbfsResultPath": null,
       "isJsonSchema": true,
       "metadata": {},
       "overflow": false,
       "plotOptions": {
        "customPlotOptions": {},
        "displayType": "table",
        "pivotAggregation": null,
        "pivotColumns": null,
        "xColumns": null,
        "yColumns": null
       },
       "removedWidgets": [],
       "schema": [
        {
         "metadata": "{}",
         "name": "emp_id",
         "type": "\"integer\""
        },
        {
         "metadata": "{}",
         "name": "emp_name",
         "type": "\"string\""
        },
        {
         "metadata": "{}",
         "name": "gender",
         "type": "\"string\""
        },
        {
         "metadata": "{}",
         "name": "salary",
         "type": "\"integer\""
        },
        {
         "metadata": "{}",
         "name": "dept",
         "type": "\"string\""
        }
       ],
       "type": "table"
      }
     },
     "output_type": "display_data"
    }
   ],
   "source": [
    "display(di.toDF())"
   ]
  },
  {
   "cell_type": "code",
   "execution_count": 0,
   "metadata": {
    "application/vnd.databricks.v1+cell": {
     "cellMetadata": {
      "byteLimit": 2048000,
      "implicitDf": true,
      "rowLimit": 10000
     },
     "inputWidgets": {},
     "nuid": "4355613e-2de9-4a81-b94e-9380840c2459",
     "showTitle": false,
     "tableResultSettingsMap": {},
     "title": ""
    }
   },
   "outputs": [
    {
     "output_type": "display_data",
     "data": {
      "text/html": [
       "<style scoped>\n",
       "  .table-result-container {\n",
       "    max-height: 300px;\n",
       "    overflow: auto;\n",
       "  }\n",
       "  table, th, td {\n",
       "    border: 1px solid black;\n",
       "    border-collapse: collapse;\n",
       "  }\n",
       "  th, td {\n",
       "    padding: 5px;\n",
       "  }\n",
       "  th {\n",
       "    text-align: left;\n",
       "  }\n",
       "</style><div class='table-result-container'><table class='table-result'><thead style='background-color: white'><tr><th>version</th><th>timestamp</th><th>userId</th><th>userName</th><th>operation</th><th>operationParameters</th><th>job</th><th>notebook</th><th>clusterId</th><th>readVersion</th><th>isolationLevel</th><th>isBlindAppend</th><th>operationMetrics</th><th>userMetadata</th><th>engineInfo</th></tr></thead><tbody><tr><td>23</td><td>2025-01-21T05:03:01.000+0000</td><td>6367521402730934</td><td>molabantisravanth@gmail.com</td><td>UPDATE</td><td>Map(predicate -> [\"(emp_name#962 = Lara)\"])</td><td>null</td><td>List(508200138522909)</td><td>0121-045452-7f69q673</td><td>22</td><td>WriteSerializable</td><td>false</td><td>Map(numRemovedFiles -> 5, numRemovedBytes -> 7605, numCopiedRows -> 0, numDeletionVectorsAdded -> 0, numDeletionVectorsRemoved -> 0, numAddedChangeFiles -> 0, executionTimeMs -> 2630, scanTimeMs -> 1180, numAddedFiles -> 5, numUpdatedRows -> 5, numAddedBytes -> 7605, rewriteTimeMs -> 1449)</td><td>null</td><td>Databricks-Runtime/12.2.x-scala2.12</td></tr><tr><td>22</td><td>2025-01-21T05:02:53.000+0000</td><td>6367521402730934</td><td>molabantisravanth@gmail.com</td><td>DELETE</td><td>Map(predicate -> [\"(emp_id#961 = 100)\"])</td><td>null</td><td>List(508200138522909)</td><td>0121-045452-7f69q673</td><td>21</td><td>WriteSerializable</td><td>false</td><td>Map(numRemovedFiles -> 0, numRemovedBytes -> 0, numCopiedRows -> 0, numDeletionVectorsAdded -> 0, numDeletionVectorsRemoved -> 0, numAddedChangeFiles -> 0, executionTimeMs -> 209, numDeletedRows -> 0, scanTimeMs -> 208, numAddedFiles -> 0, numAddedBytes -> 0, rewriteTimeMs -> 0)</td><td>null</td><td>Databricks-Runtime/12.2.x-scala2.12</td></tr><tr><td>21</td><td>2025-01-21T05:02:46.000+0000</td><td>6367521402730934</td><td>molabantisravanth@gmail.com</td><td>DELETE</td><td>Map(predicate -> [\"(emp_id#6511 = 100)\"])</td><td>null</td><td>List(508200138522909)</td><td>0121-045452-7f69q673</td><td>20</td><td>WriteSerializable</td><td>false</td><td>Map(numRemovedFiles -> 3, numRemovedBytes -> 4563, numCopiedRows -> 0, numDeletionVectorsAdded -> 0, numDeletionVectorsRemoved -> 0, numAddedChangeFiles -> 0, executionTimeMs -> 2075, numDeletedRows -> 3, scanTimeMs -> 1038, numAddedFiles -> 0, numAddedBytes -> 0, rewriteTimeMs -> 1036)</td><td>null</td><td>Databricks-Runtime/12.2.x-scala2.12</td></tr><tr><td>20</td><td>2025-01-21T05:02:36.000+0000</td><td>6367521402730934</td><td>molabantisravanth@gmail.com</td><td>DELETE</td><td>Map(predicate -> [\"(emp_id#5576 = 200)\"])</td><td>null</td><td>List(508200138522909)</td><td>0121-045452-7f69q673</td><td>19</td><td>WriteSerializable</td><td>false</td><td>Map(numRemovedFiles -> 4, numRemovedBytes -> 6080, numCopiedRows -> 0, numDeletionVectorsAdded -> 0, numDeletionVectorsRemoved -> 0, numAddedChangeFiles -> 0, executionTimeMs -> 3758, numDeletedRows -> 4, scanTimeMs -> 2386, numAddedFiles -> 0, numAddedBytes -> 0, rewriteTimeMs -> 1330)</td><td>null</td><td>Databricks-Runtime/12.2.x-scala2.12</td></tr><tr><td>19</td><td>2025-01-21T05:02:23.000+0000</td><td>6367521402730934</td><td>molabantisravanth@gmail.com</td><td>WRITE</td><td>Map(mode -> Append, partitionBy -> [])</td><td>null</td><td>List(508200138522909)</td><td>0121-045452-7f69q673</td><td>18</td><td>WriteSerializable</td><td>true</td><td>Map(numFiles -> 1, numOutputRows -> 1, numOutputBytes -> 1521)</td><td>null</td><td>Databricks-Runtime/12.2.x-scala2.12</td></tr><tr><td>18</td><td>2025-01-21T05:02:19.000+0000</td><td>6367521402730934</td><td>molabantisravanth@gmail.com</td><td>WRITE</td><td>Map(mode -> Append, partitionBy -> [])</td><td>null</td><td>List(508200138522909)</td><td>0121-045452-7f69q673</td><td>17</td><td>WriteSerializable</td><td>true</td><td>Map(numFiles -> 1, numOutputRows -> 1, numOutputBytes -> 1521)</td><td>null</td><td>Databricks-Runtime/12.2.x-scala2.12</td></tr><tr><td>17</td><td>2025-01-21T05:02:09.000+0000</td><td>6367521402730934</td><td>molabantisravanth@gmail.com</td><td>WRITE</td><td>Map(mode -> Append, partitionBy -> [])</td><td>null</td><td>List(508200138522909)</td><td>0121-045452-7f69q673</td><td>16</td><td>WriteSerializable</td><td>true</td><td>Map(numFiles -> 1, numOutputRows -> 1, numOutputBytes -> 1521)</td><td>null</td><td>Databricks-Runtime/12.2.x-scala2.12</td></tr><tr><td>16</td><td>2025-01-21T05:01:58.000+0000</td><td>6367521402730934</td><td>molabantisravanth@gmail.com</td><td>WRITE</td><td>Map(mode -> Append, partitionBy -> [])</td><td>null</td><td>List(508200138522909)</td><td>0121-045452-7f69q673</td><td>15</td><td>WriteSerializable</td><td>true</td><td>Map(numFiles -> 1, numOutputRows -> 1, numOutputBytes -> 1520)</td><td>null</td><td>Databricks-Runtime/12.2.x-scala2.12</td></tr><tr><td>15</td><td>2025-01-21T05:01:41.000+0000</td><td>6367521402730934</td><td>molabantisravanth@gmail.com</td><td>WRITE</td><td>Map(mode -> Append, partitionBy -> [])</td><td>null</td><td>List(508200138522909)</td><td>0121-045452-7f69q673</td><td>14</td><td>WriteSerializable</td><td>true</td><td>Map(numFiles -> 1, numOutputRows -> 1, numOutputBytes -> 1521)</td><td>null</td><td>Databricks-Runtime/12.2.x-scala2.12</td></tr><tr><td>14</td><td>2025-01-20T09:17:15.000+0000</td><td>6367521402730934</td><td>molabantisravanth@gmail.com</td><td>RESTORE</td><td>Map(version -> 7, timestamp -> null)</td><td>null</td><td>List(508200138522909)</td><td>0120-085650-8syifd7w</td><td>13</td><td>Serializable</td><td>false</td><td>Map(numRestoredFiles -> 7, removedFilesSize -> 6084, numRemovedFiles -> 4, restoredFilesSize -> 10644, numOfFilesAfterRestore -> 7, tableSizeAfterRestore -> 10644)</td><td>null</td><td>Databricks-Runtime/12.2.x-scala2.12</td></tr><tr><td>13</td><td>2025-01-20T09:13:12.000+0000</td><td>6367521402730934</td><td>molabantisravanth@gmail.com</td><td>UPDATE</td><td>Map(predicate -> [\"(emp_name#1043 = Lara)\"])</td><td>null</td><td>List(508200138522909)</td><td>0120-085650-8syifd7w</td><td>12</td><td>WriteSerializable</td><td>false</td><td>Map(numRemovedFiles -> 4, numRemovedBytes -> 6084, numCopiedRows -> 0, numDeletionVectorsAdded -> 0, numDeletionVectorsRemoved -> 0, numAddedChangeFiles -> 0, executionTimeMs -> 2861, scanTimeMs -> 1326, numAddedFiles -> 4, numUpdatedRows -> 4, numAddedBytes -> 6084, rewriteTimeMs -> 1535)</td><td>null</td><td>Databricks-Runtime/12.2.x-scala2.12</td></tr><tr><td>12</td><td>2025-01-20T09:08:08.000+0000</td><td>6367521402730934</td><td>molabantisravanth@gmail.com</td><td>DELETE</td><td>Map(predicate -> [\"(emp_id#1042 = 100)\"])</td><td>null</td><td>List(508200138522909)</td><td>0120-085650-8syifd7w</td><td>11</td><td>WriteSerializable</td><td>false</td><td>Map(numRemovedFiles -> 0, numRemovedBytes -> 0, numCopiedRows -> 0, numDeletionVectorsAdded -> 0, numDeletionVectorsRemoved -> 0, numAddedChangeFiles -> 0, executionTimeMs -> 190, numDeletedRows -> 0, scanTimeMs -> 187, numAddedFiles -> 0, numAddedBytes -> 0, rewriteTimeMs -> 0)</td><td>null</td><td>Databricks-Runtime/12.2.x-scala2.12</td></tr><tr><td>11</td><td>2025-01-20T09:05:48.000+0000</td><td>6367521402730934</td><td>molabantisravanth@gmail.com</td><td>DELETE</td><td>Map(predicate -> [\"(emp_id#5453 = 100)\"])</td><td>null</td><td>List(508200138522909)</td><td>0120-085650-8syifd7w</td><td>10</td><td>WriteSerializable</td><td>false</td><td>Map(numRemovedFiles -> 2, numRemovedBytes -> 3042, numCopiedRows -> 0, numDeletionVectorsAdded -> 0, numDeletionVectorsRemoved -> 0, numAddedChangeFiles -> 0, executionTimeMs -> 1936, numDeletedRows -> 2, scanTimeMs -> 1171, numAddedFiles -> 0, numAddedBytes -> 0, rewriteTimeMs -> 760)</td><td>null</td><td>Databricks-Runtime/12.2.x-scala2.12</td></tr><tr><td>10</td><td>2025-01-20T09:04:28.000+0000</td><td>6367521402730934</td><td>molabantisravanth@gmail.com</td><td>DELETE</td><td>Map(predicate -> [\"(emp_id#4653 = 200)\"])</td><td>null</td><td>List(508200138522909)</td><td>0120-085650-8syifd7w</td><td>9</td><td>WriteSerializable</td><td>false</td><td>Map(numRemovedFiles -> 3, numRemovedBytes -> 4560, numCopiedRows -> 0, numDeletionVectorsAdded -> 0, numDeletionVectorsRemoved -> 0, numAddedChangeFiles -> 0, executionTimeMs -> 2953, numDeletedRows -> 3, scanTimeMs -> 1854, numAddedFiles -> 0, numAddedBytes -> 0, rewriteTimeMs -> 1083)</td><td>null</td><td>Databricks-Runtime/12.2.x-scala2.12</td></tr><tr><td>9</td><td>2025-01-20T09:02:27.000+0000</td><td>6367521402730934</td><td>molabantisravanth@gmail.com</td><td>WRITE</td><td>Map(mode -> Append, partitionBy -> [])</td><td>null</td><td>List(508200138522909)</td><td>0120-085650-8syifd7w</td><td>8</td><td>WriteSerializable</td><td>true</td><td>Map(numFiles -> 1, numOutputRows -> 1, numOutputBytes -> 1521)</td><td>null</td><td>Databricks-Runtime/12.2.x-scala2.12</td></tr><tr><td>8</td><td>2025-01-20T09:01:36.000+0000</td><td>6367521402730934</td><td>molabantisravanth@gmail.com</td><td>WRITE</td><td>Map(mode -> Append, partitionBy -> [])</td><td>null</td><td>List(508200138522909)</td><td>0120-085650-8syifd7w</td><td>7</td><td>WriteSerializable</td><td>true</td><td>Map(numFiles -> 1, numOutputRows -> 1, numOutputBytes -> 1521)</td><td>null</td><td>Databricks-Runtime/12.2.x-scala2.12</td></tr><tr><td>7</td><td>2025-01-20T09:00:46.000+0000</td><td>6367521402730934</td><td>molabantisravanth@gmail.com</td><td>WRITE</td><td>Map(mode -> Append, partitionBy -> [])</td><td>null</td><td>List(508200138522909)</td><td>0120-085650-8syifd7w</td><td>6</td><td>WriteSerializable</td><td>true</td><td>Map(numFiles -> 1, numOutputRows -> 1, numOutputBytes -> 1521)</td><td>null</td><td>Databricks-Runtime/12.2.x-scala2.12</td></tr><tr><td>6</td><td>2025-01-20T09:00:29.000+0000</td><td>6367521402730934</td><td>molabantisravanth@gmail.com</td><td>WRITE</td><td>Map(mode -> Append, partitionBy -> [])</td><td>null</td><td>List(508200138522909)</td><td>0120-085650-8syifd7w</td><td>5</td><td>WriteSerializable</td><td>true</td><td>Map(numFiles -> 1, numOutputRows -> 1, numOutputBytes -> 1520)</td><td>null</td><td>Databricks-Runtime/12.2.x-scala2.12</td></tr><tr><td>5</td><td>2025-01-20T09:00:08.000+0000</td><td>6367521402730934</td><td>molabantisravanth@gmail.com</td><td>WRITE</td><td>Map(mode -> Append, partitionBy -> [])</td><td>null</td><td>List(508200138522909)</td><td>0120-085650-8syifd7w</td><td>4</td><td>WriteSerializable</td><td>true</td><td>Map(numFiles -> 1, numOutputRows -> 1, numOutputBytes -> 1521)</td><td>null</td><td>Databricks-Runtime/12.2.x-scala2.12</td></tr><tr><td>4</td><td>2025-01-20T06:55:08.000+0000</td><td>6367521402730934</td><td>molabantisravanth@gmail.com</td><td>WRITE</td><td>Map(mode -> Append, partitionBy -> [])</td><td>null</td><td>List(508200138522909)</td><td>0120-060137-ckmac6d6</td><td>3</td><td>WriteSerializable</td><td>true</td><td>Map(numFiles -> 1, numOutputRows -> 1, numOutputBytes -> 1521)</td><td>null</td><td>Databricks-Runtime/12.2.x-scala2.12</td></tr><tr><td>3</td><td>2025-01-20T06:54:24.000+0000</td><td>6367521402730934</td><td>molabantisravanth@gmail.com</td><td>WRITE</td><td>Map(mode -> Append, partitionBy -> [])</td><td>null</td><td>List(508200138522909)</td><td>0120-060137-ckmac6d6</td><td>2</td><td>WriteSerializable</td><td>true</td><td>Map(numFiles -> 1, numOutputRows -> 1, numOutputBytes -> 1520)</td><td>null</td><td>Databricks-Runtime/12.2.x-scala2.12</td></tr><tr><td>2</td><td>2025-01-20T06:50:56.000+0000</td><td>6367521402730934</td><td>molabantisravanth@gmail.com</td><td>WRITE</td><td>Map(mode -> Append, partitionBy -> [])</td><td>null</td><td>List(508200138522909)</td><td>0120-060137-ckmac6d6</td><td>1</td><td>WriteSerializable</td><td>true</td><td>Map(numFiles -> 1, numOutputRows -> 1, numOutputBytes -> 1520)</td><td>null</td><td>Databricks-Runtime/12.2.x-scala2.12</td></tr><tr><td>1</td><td>2025-01-20T06:41:39.000+0000</td><td>6367521402730934</td><td>molabantisravanth@gmail.com</td><td>WRITE</td><td>Map(mode -> Append, partitionBy -> [])</td><td>null</td><td>List(508200138522909)</td><td>0120-060137-ckmac6d6</td><td>0</td><td>WriteSerializable</td><td>true</td><td>Map(numFiles -> 1, numOutputRows -> 1, numOutputBytes -> 1521)</td><td>null</td><td>Databricks-Runtime/12.2.x-scala2.12</td></tr><tr><td>0</td><td>2025-01-20T06:19:13.000+0000</td><td>6367521402730934</td><td>molabantisravanth@gmail.com</td><td>CREATE TABLE</td><td>Map(isManaged -> false, description -> null, partitionBy -> [], properties -> {\"description\":\"table created for demo purpose\"})</td><td>null</td><td>List(508200138522909)</td><td>0120-060137-ckmac6d6</td><td>null</td><td>WriteSerializable</td><td>true</td><td>Map()</td><td>null</td><td>Databricks-Runtime/12.2.x-scala2.12</td></tr></tbody></table></div>"
      ]
     },
     "metadata": {
      "application/vnd.databricks.v1+output": {
       "addedWidgets": {},
       "aggData": [],
       "aggError": "",
       "aggOverflow": false,
       "aggSchema": [],
       "aggSeriesLimitReached": false,
       "aggType": "",
       "arguments": {},
       "columnCustomDisplayInfos": {},
       "data": [
        [
         23,
         "2025-01-21T05:03:01.000+0000",
         "6367521402730934",
         "molabantisravanth@gmail.com",
         "UPDATE",
         {
          "predicate": "[\"(emp_name#962 = Lara)\"]"
         },
         null,
         [
          "508200138522909"
         ],
         "0121-045452-7f69q673",
         22,
         "WriteSerializable",
         false,
         {
          "executionTimeMs": "2630",
          "numAddedBytes": "7605",
          "numAddedChangeFiles": "0",
          "numAddedFiles": "5",
          "numCopiedRows": "0",
          "numDeletionVectorsAdded": "0",
          "numDeletionVectorsRemoved": "0",
          "numRemovedBytes": "7605",
          "numRemovedFiles": "5",
          "numUpdatedRows": "5",
          "rewriteTimeMs": "1449",
          "scanTimeMs": "1180"
         },
         null,
         "Databricks-Runtime/12.2.x-scala2.12"
        ],
        [
         22,
         "2025-01-21T05:02:53.000+0000",
         "6367521402730934",
         "molabantisravanth@gmail.com",
         "DELETE",
         {
          "predicate": "[\"(emp_id#961 = 100)\"]"
         },
         null,
         [
          "508200138522909"
         ],
         "0121-045452-7f69q673",
         21,
         "WriteSerializable",
         false,
         {
          "executionTimeMs": "209",
          "numAddedBytes": "0",
          "numAddedChangeFiles": "0",
          "numAddedFiles": "0",
          "numCopiedRows": "0",
          "numDeletedRows": "0",
          "numDeletionVectorsAdded": "0",
          "numDeletionVectorsRemoved": "0",
          "numRemovedBytes": "0",
          "numRemovedFiles": "0",
          "rewriteTimeMs": "0",
          "scanTimeMs": "208"
         },
         null,
         "Databricks-Runtime/12.2.x-scala2.12"
        ],
        [
         21,
         "2025-01-21T05:02:46.000+0000",
         "6367521402730934",
         "molabantisravanth@gmail.com",
         "DELETE",
         {
          "predicate": "[\"(emp_id#6511 = 100)\"]"
         },
         null,
         [
          "508200138522909"
         ],
         "0121-045452-7f69q673",
         20,
         "WriteSerializable",
         false,
         {
          "executionTimeMs": "2075",
          "numAddedBytes": "0",
          "numAddedChangeFiles": "0",
          "numAddedFiles": "0",
          "numCopiedRows": "0",
          "numDeletedRows": "3",
          "numDeletionVectorsAdded": "0",
          "numDeletionVectorsRemoved": "0",
          "numRemovedBytes": "4563",
          "numRemovedFiles": "3",
          "rewriteTimeMs": "1036",
          "scanTimeMs": "1038"
         },
         null,
         "Databricks-Runtime/12.2.x-scala2.12"
        ],
        [
         20,
         "2025-01-21T05:02:36.000+0000",
         "6367521402730934",
         "molabantisravanth@gmail.com",
         "DELETE",
         {
          "predicate": "[\"(emp_id#5576 = 200)\"]"
         },
         null,
         [
          "508200138522909"
         ],
         "0121-045452-7f69q673",
         19,
         "WriteSerializable",
         false,
         {
          "executionTimeMs": "3758",
          "numAddedBytes": "0",
          "numAddedChangeFiles": "0",
          "numAddedFiles": "0",
          "numCopiedRows": "0",
          "numDeletedRows": "4",
          "numDeletionVectorsAdded": "0",
          "numDeletionVectorsRemoved": "0",
          "numRemovedBytes": "6080",
          "numRemovedFiles": "4",
          "rewriteTimeMs": "1330",
          "scanTimeMs": "2386"
         },
         null,
         "Databricks-Runtime/12.2.x-scala2.12"
        ],
        [
         19,
         "2025-01-21T05:02:23.000+0000",
         "6367521402730934",
         "molabantisravanth@gmail.com",
         "WRITE",
         {
          "mode": "Append",
          "partitionBy": "[]"
         },
         null,
         [
          "508200138522909"
         ],
         "0121-045452-7f69q673",
         18,
         "WriteSerializable",
         true,
         {
          "numFiles": "1",
          "numOutputBytes": "1521",
          "numOutputRows": "1"
         },
         null,
         "Databricks-Runtime/12.2.x-scala2.12"
        ],
        [
         18,
         "2025-01-21T05:02:19.000+0000",
         "6367521402730934",
         "molabantisravanth@gmail.com",
         "WRITE",
         {
          "mode": "Append",
          "partitionBy": "[]"
         },
         null,
         [
          "508200138522909"
         ],
         "0121-045452-7f69q673",
         17,
         "WriteSerializable",
         true,
         {
          "numFiles": "1",
          "numOutputBytes": "1521",
          "numOutputRows": "1"
         },
         null,
         "Databricks-Runtime/12.2.x-scala2.12"
        ],
        [
         17,
         "2025-01-21T05:02:09.000+0000",
         "6367521402730934",
         "molabantisravanth@gmail.com",
         "WRITE",
         {
          "mode": "Append",
          "partitionBy": "[]"
         },
         null,
         [
          "508200138522909"
         ],
         "0121-045452-7f69q673",
         16,
         "WriteSerializable",
         true,
         {
          "numFiles": "1",
          "numOutputBytes": "1521",
          "numOutputRows": "1"
         },
         null,
         "Databricks-Runtime/12.2.x-scala2.12"
        ],
        [
         16,
         "2025-01-21T05:01:58.000+0000",
         "6367521402730934",
         "molabantisravanth@gmail.com",
         "WRITE",
         {
          "mode": "Append",
          "partitionBy": "[]"
         },
         null,
         [
          "508200138522909"
         ],
         "0121-045452-7f69q673",
         15,
         "WriteSerializable",
         true,
         {
          "numFiles": "1",
          "numOutputBytes": "1520",
          "numOutputRows": "1"
         },
         null,
         "Databricks-Runtime/12.2.x-scala2.12"
        ],
        [
         15,
         "2025-01-21T05:01:41.000+0000",
         "6367521402730934",
         "molabantisravanth@gmail.com",
         "WRITE",
         {
          "mode": "Append",
          "partitionBy": "[]"
         },
         null,
         [
          "508200138522909"
         ],
         "0121-045452-7f69q673",
         14,
         "WriteSerializable",
         true,
         {
          "numFiles": "1",
          "numOutputBytes": "1521",
          "numOutputRows": "1"
         },
         null,
         "Databricks-Runtime/12.2.x-scala2.12"
        ],
        [
         14,
         "2025-01-20T09:17:15.000+0000",
         "6367521402730934",
         "molabantisravanth@gmail.com",
         "RESTORE",
         {
          "timestamp": null,
          "version": "7"
         },
         null,
         [
          "508200138522909"
         ],
         "0120-085650-8syifd7w",
         13,
         "Serializable",
         false,
         {
          "numOfFilesAfterRestore": "7",
          "numRemovedFiles": "4",
          "numRestoredFiles": "7",
          "removedFilesSize": "6084",
          "restoredFilesSize": "10644",
          "tableSizeAfterRestore": "10644"
         },
         null,
         "Databricks-Runtime/12.2.x-scala2.12"
        ],
        [
         13,
         "2025-01-20T09:13:12.000+0000",
         "6367521402730934",
         "molabantisravanth@gmail.com",
         "UPDATE",
         {
          "predicate": "[\"(emp_name#1043 = Lara)\"]"
         },
         null,
         [
          "508200138522909"
         ],
         "0120-085650-8syifd7w",
         12,
         "WriteSerializable",
         false,
         {
          "executionTimeMs": "2861",
          "numAddedBytes": "6084",
          "numAddedChangeFiles": "0",
          "numAddedFiles": "4",
          "numCopiedRows": "0",
          "numDeletionVectorsAdded": "0",
          "numDeletionVectorsRemoved": "0",
          "numRemovedBytes": "6084",
          "numRemovedFiles": "4",
          "numUpdatedRows": "4",
          "rewriteTimeMs": "1535",
          "scanTimeMs": "1326"
         },
         null,
         "Databricks-Runtime/12.2.x-scala2.12"
        ],
        [
         12,
         "2025-01-20T09:08:08.000+0000",
         "6367521402730934",
         "molabantisravanth@gmail.com",
         "DELETE",
         {
          "predicate": "[\"(emp_id#1042 = 100)\"]"
         },
         null,
         [
          "508200138522909"
         ],
         "0120-085650-8syifd7w",
         11,
         "WriteSerializable",
         false,
         {
          "executionTimeMs": "190",
          "numAddedBytes": "0",
          "numAddedChangeFiles": "0",
          "numAddedFiles": "0",
          "numCopiedRows": "0",
          "numDeletedRows": "0",
          "numDeletionVectorsAdded": "0",
          "numDeletionVectorsRemoved": "0",
          "numRemovedBytes": "0",
          "numRemovedFiles": "0",
          "rewriteTimeMs": "0",
          "scanTimeMs": "187"
         },
         null,
         "Databricks-Runtime/12.2.x-scala2.12"
        ],
        [
         11,
         "2025-01-20T09:05:48.000+0000",
         "6367521402730934",
         "molabantisravanth@gmail.com",
         "DELETE",
         {
          "predicate": "[\"(emp_id#5453 = 100)\"]"
         },
         null,
         [
          "508200138522909"
         ],
         "0120-085650-8syifd7w",
         10,
         "WriteSerializable",
         false,
         {
          "executionTimeMs": "1936",
          "numAddedBytes": "0",
          "numAddedChangeFiles": "0",
          "numAddedFiles": "0",
          "numCopiedRows": "0",
          "numDeletedRows": "2",
          "numDeletionVectorsAdded": "0",
          "numDeletionVectorsRemoved": "0",
          "numRemovedBytes": "3042",
          "numRemovedFiles": "2",
          "rewriteTimeMs": "760",
          "scanTimeMs": "1171"
         },
         null,
         "Databricks-Runtime/12.2.x-scala2.12"
        ],
        [
         10,
         "2025-01-20T09:04:28.000+0000",
         "6367521402730934",
         "molabantisravanth@gmail.com",
         "DELETE",
         {
          "predicate": "[\"(emp_id#4653 = 200)\"]"
         },
         null,
         [
          "508200138522909"
         ],
         "0120-085650-8syifd7w",
         9,
         "WriteSerializable",
         false,
         {
          "executionTimeMs": "2953",
          "numAddedBytes": "0",
          "numAddedChangeFiles": "0",
          "numAddedFiles": "0",
          "numCopiedRows": "0",
          "numDeletedRows": "3",
          "numDeletionVectorsAdded": "0",
          "numDeletionVectorsRemoved": "0",
          "numRemovedBytes": "4560",
          "numRemovedFiles": "3",
          "rewriteTimeMs": "1083",
          "scanTimeMs": "1854"
         },
         null,
         "Databricks-Runtime/12.2.x-scala2.12"
        ],
        [
         9,
         "2025-01-20T09:02:27.000+0000",
         "6367521402730934",
         "molabantisravanth@gmail.com",
         "WRITE",
         {
          "mode": "Append",
          "partitionBy": "[]"
         },
         null,
         [
          "508200138522909"
         ],
         "0120-085650-8syifd7w",
         8,
         "WriteSerializable",
         true,
         {
          "numFiles": "1",
          "numOutputBytes": "1521",
          "numOutputRows": "1"
         },
         null,
         "Databricks-Runtime/12.2.x-scala2.12"
        ],
        [
         8,
         "2025-01-20T09:01:36.000+0000",
         "6367521402730934",
         "molabantisravanth@gmail.com",
         "WRITE",
         {
          "mode": "Append",
          "partitionBy": "[]"
         },
         null,
         [
          "508200138522909"
         ],
         "0120-085650-8syifd7w",
         7,
         "WriteSerializable",
         true,
         {
          "numFiles": "1",
          "numOutputBytes": "1521",
          "numOutputRows": "1"
         },
         null,
         "Databricks-Runtime/12.2.x-scala2.12"
        ],
        [
         7,
         "2025-01-20T09:00:46.000+0000",
         "6367521402730934",
         "molabantisravanth@gmail.com",
         "WRITE",
         {
          "mode": "Append",
          "partitionBy": "[]"
         },
         null,
         [
          "508200138522909"
         ],
         "0120-085650-8syifd7w",
         6,
         "WriteSerializable",
         true,
         {
          "numFiles": "1",
          "numOutputBytes": "1521",
          "numOutputRows": "1"
         },
         null,
         "Databricks-Runtime/12.2.x-scala2.12"
        ],
        [
         6,
         "2025-01-20T09:00:29.000+0000",
         "6367521402730934",
         "molabantisravanth@gmail.com",
         "WRITE",
         {
          "mode": "Append",
          "partitionBy": "[]"
         },
         null,
         [
          "508200138522909"
         ],
         "0120-085650-8syifd7w",
         5,
         "WriteSerializable",
         true,
         {
          "numFiles": "1",
          "numOutputBytes": "1520",
          "numOutputRows": "1"
         },
         null,
         "Databricks-Runtime/12.2.x-scala2.12"
        ],
        [
         5,
         "2025-01-20T09:00:08.000+0000",
         "6367521402730934",
         "molabantisravanth@gmail.com",
         "WRITE",
         {
          "mode": "Append",
          "partitionBy": "[]"
         },
         null,
         [
          "508200138522909"
         ],
         "0120-085650-8syifd7w",
         4,
         "WriteSerializable",
         true,
         {
          "numFiles": "1",
          "numOutputBytes": "1521",
          "numOutputRows": "1"
         },
         null,
         "Databricks-Runtime/12.2.x-scala2.12"
        ],
        [
         4,
         "2025-01-20T06:55:08.000+0000",
         "6367521402730934",
         "molabantisravanth@gmail.com",
         "WRITE",
         {
          "mode": "Append",
          "partitionBy": "[]"
         },
         null,
         [
          "508200138522909"
         ],
         "0120-060137-ckmac6d6",
         3,
         "WriteSerializable",
         true,
         {
          "numFiles": "1",
          "numOutputBytes": "1521",
          "numOutputRows": "1"
         },
         null,
         "Databricks-Runtime/12.2.x-scala2.12"
        ],
        [
         3,
         "2025-01-20T06:54:24.000+0000",
         "6367521402730934",
         "molabantisravanth@gmail.com",
         "WRITE",
         {
          "mode": "Append",
          "partitionBy": "[]"
         },
         null,
         [
          "508200138522909"
         ],
         "0120-060137-ckmac6d6",
         2,
         "WriteSerializable",
         true,
         {
          "numFiles": "1",
          "numOutputBytes": "1520",
          "numOutputRows": "1"
         },
         null,
         "Databricks-Runtime/12.2.x-scala2.12"
        ],
        [
         2,
         "2025-01-20T06:50:56.000+0000",
         "6367521402730934",
         "molabantisravanth@gmail.com",
         "WRITE",
         {
          "mode": "Append",
          "partitionBy": "[]"
         },
         null,
         [
          "508200138522909"
         ],
         "0120-060137-ckmac6d6",
         1,
         "WriteSerializable",
         true,
         {
          "numFiles": "1",
          "numOutputBytes": "1520",
          "numOutputRows": "1"
         },
         null,
         "Databricks-Runtime/12.2.x-scala2.12"
        ],
        [
         1,
         "2025-01-20T06:41:39.000+0000",
         "6367521402730934",
         "molabantisravanth@gmail.com",
         "WRITE",
         {
          "mode": "Append",
          "partitionBy": "[]"
         },
         null,
         [
          "508200138522909"
         ],
         "0120-060137-ckmac6d6",
         0,
         "WriteSerializable",
         true,
         {
          "numFiles": "1",
          "numOutputBytes": "1521",
          "numOutputRows": "1"
         },
         null,
         "Databricks-Runtime/12.2.x-scala2.12"
        ],
        [
         0,
         "2025-01-20T06:19:13.000+0000",
         "6367521402730934",
         "molabantisravanth@gmail.com",
         "CREATE TABLE",
         {
          "description": null,
          "isManaged": "false",
          "partitionBy": "[]",
          "properties": "{\"description\":\"table created for demo purpose\"}"
         },
         null,
         [
          "508200138522909"
         ],
         "0120-060137-ckmac6d6",
         null,
         "WriteSerializable",
         true,
         {},
         null,
         "Databricks-Runtime/12.2.x-scala2.12"
        ]
       ],
       "datasetInfos": [],
       "dbfsResultPath": null,
       "isJsonSchema": true,
       "metadata": {},
       "overflow": false,
       "plotOptions": {
        "customPlotOptions": {},
        "displayType": "table",
        "pivotAggregation": null,
        "pivotColumns": null,
        "xColumns": null,
        "yColumns": null
       },
       "removedWidgets": [],
       "schema": [
        {
         "metadata": "{}",
         "name": "version",
         "type": "\"long\""
        },
        {
         "metadata": "{}",
         "name": "timestamp",
         "type": "\"timestamp\""
        },
        {
         "metadata": "{}",
         "name": "userId",
         "type": "\"string\""
        },
        {
         "metadata": "{}",
         "name": "userName",
         "type": "\"string\""
        },
        {
         "metadata": "{}",
         "name": "operation",
         "type": "\"string\""
        },
        {
         "metadata": "{}",
         "name": "operationParameters",
         "type": "{\"type\":\"map\",\"keyType\":\"string\",\"valueType\":\"string\",\"valueContainsNull\":true}"
        },
        {
         "metadata": "{}",
         "name": "job",
         "type": "{\"type\":\"struct\",\"fields\":[{\"name\":\"jobId\",\"type\":\"string\",\"nullable\":true,\"metadata\":{}},{\"name\":\"jobName\",\"type\":\"string\",\"nullable\":true,\"metadata\":{}},{\"name\":\"jobRunId\",\"type\":\"string\",\"nullable\":true,\"metadata\":{}},{\"name\":\"runId\",\"type\":\"string\",\"nullable\":true,\"metadata\":{}},{\"name\":\"jobOwnerId\",\"type\":\"string\",\"nullable\":true,\"metadata\":{}},{\"name\":\"triggerType\",\"type\":\"string\",\"nullable\":true,\"metadata\":{}}]}"
        },
        {
         "metadata": "{}",
         "name": "notebook",
         "type": "{\"type\":\"struct\",\"fields\":[{\"name\":\"notebookId\",\"type\":\"string\",\"nullable\":true,\"metadata\":{}}]}"
        },
        {
         "metadata": "{}",
         "name": "clusterId",
         "type": "\"string\""
        },
        {
         "metadata": "{}",
         "name": "readVersion",
         "type": "\"long\""
        },
        {
         "metadata": "{}",
         "name": "isolationLevel",
         "type": "\"string\""
        },
        {
         "metadata": "{}",
         "name": "isBlindAppend",
         "type": "\"boolean\""
        },
        {
         "metadata": "{}",
         "name": "operationMetrics",
         "type": "{\"type\":\"map\",\"keyType\":\"string\",\"valueType\":\"string\",\"valueContainsNull\":true}"
        },
        {
         "metadata": "{}",
         "name": "userMetadata",
         "type": "\"string\""
        },
        {
         "metadata": "{}",
         "name": "engineInfo",
         "type": "\"string\""
        }
       ],
       "type": "table"
      }
     },
     "output_type": "display_data"
    }
   ],
   "source": [
    "%sql\n",
    "desc history emp_demo"
   ]
  },
  {
   "cell_type": "code",
   "execution_count": 0,
   "metadata": {
    "application/vnd.databricks.v1+cell": {
     "cellMetadata": {
      "byteLimit": 2048000,
      "implicitDf": true,
      "rowLimit": 10000
     },
     "inputWidgets": {},
     "nuid": "3420d035-64a4-481e-9ce1-66e6e0c9fd8f",
     "showTitle": false,
     "tableResultSettingsMap": {},
     "title": ""
    }
   },
   "outputs": [
    {
     "output_type": "display_data",
     "data": {
      "text/html": [
       "<style scoped>\n",
       "  .table-result-container {\n",
       "    max-height: 300px;\n",
       "    overflow: auto;\n",
       "  }\n",
       "  table, th, td {\n",
       "    border: 1px solid black;\n",
       "    border-collapse: collapse;\n",
       "  }\n",
       "  th, td {\n",
       "    padding: 5px;\n",
       "  }\n",
       "  th {\n",
       "    text-align: left;\n",
       "  }\n",
       "</style><div class='table-result-container'><table class='table-result'><thead style='background-color: white'><tr><th>emp_id</th><th>emp_name</th><th>gender</th><th>salary</th><th>dept</th></tr></thead><tbody><tr><td>100</td><td>Stephen</td><td>M</td><td>2000</td><td>IT</td></tr><tr><td>300</td><td>Lara</td><td>F</td><td>6000</td><td>SALES</td></tr><tr><td>100</td><td>Stephen</td><td>M</td><td>2000</td><td>IT</td></tr><tr><td>300</td><td>Lara</td><td>F</td><td>6000</td><td>SALES</td></tr><tr><td>200</td><td>Philips</td><td>M</td><td>8000</td><td>HR</td></tr><tr><td>200</td><td>Philips</td><td>M</td><td>8000</td><td>HR</td></tr><tr><td>200</td><td>Philips</td><td>M</td><td>8000</td><td>HR</td></tr></tbody></table></div>"
      ]
     },
     "metadata": {
      "application/vnd.databricks.v1+output": {
       "addedWidgets": {},
       "aggData": [],
       "aggError": "",
       "aggOverflow": false,
       "aggSchema": [],
       "aggSeriesLimitReached": false,
       "aggType": "",
       "arguments": {},
       "columnCustomDisplayInfos": {},
       "data": [
        [
         100,
         "Stephen",
         "M",
         2000,
         "IT"
        ],
        [
         300,
         "Lara",
         "F",
         6000,
         "SALES"
        ],
        [
         100,
         "Stephen",
         "M",
         2000,
         "IT"
        ],
        [
         300,
         "Lara",
         "F",
         6000,
         "SALES"
        ],
        [
         200,
         "Philips",
         "M",
         8000,
         "HR"
        ],
        [
         200,
         "Philips",
         "M",
         8000,
         "HR"
        ],
        [
         200,
         "Philips",
         "M",
         8000,
         "HR"
        ]
       ],
       "datasetInfos": [],
       "dbfsResultPath": null,
       "isJsonSchema": true,
       "metadata": {},
       "overflow": false,
       "plotOptions": {
        "customPlotOptions": {},
        "displayType": "table",
        "pivotAggregation": null,
        "pivotColumns": null,
        "xColumns": null,
        "yColumns": null
       },
       "removedWidgets": [],
       "schema": [
        {
         "metadata": "{}",
         "name": "emp_id",
         "type": "\"integer\""
        },
        {
         "metadata": "{}",
         "name": "emp_name",
         "type": "\"string\""
        },
        {
         "metadata": "{}",
         "name": "gender",
         "type": "\"string\""
        },
        {
         "metadata": "{}",
         "name": "salary",
         "type": "\"integer\""
        },
        {
         "metadata": "{}",
         "name": "dept",
         "type": "\"string\""
        }
       ],
       "type": "table"
      }
     },
     "output_type": "display_data"
    }
   ],
   "source": [
    "%sql\n",
    "\n",
    "select * from emp_demo version as of 7"
   ]
  },
  {
   "cell_type": "code",
   "execution_count": 0,
   "metadata": {
    "application/vnd.databricks.v1+cell": {
     "cellMetadata": {
      "byteLimit": 2048000,
      "implicitDf": true,
      "rowLimit": 10000
     },
     "inputWidgets": {},
     "nuid": "c6ef72f4-853d-4c0f-b688-4d1e18e00bb7",
     "showTitle": false,
     "tableResultSettingsMap": {},
     "title": ""
    }
   },
   "outputs": [
    {
     "output_type": "display_data",
     "data": {
      "text/html": [
       "<style scoped>\n",
       "  .table-result-container {\n",
       "    max-height: 300px;\n",
       "    overflow: auto;\n",
       "  }\n",
       "  table, th, td {\n",
       "    border: 1px solid black;\n",
       "    border-collapse: collapse;\n",
       "  }\n",
       "  th, td {\n",
       "    padding: 5px;\n",
       "  }\n",
       "  th {\n",
       "    text-align: left;\n",
       "  }\n",
       "</style><div class='table-result-container'><table class='table-result'><thead style='background-color: white'><tr><th>emp_id</th><th>emp_name</th><th>gender</th><th>salary</th><th>dept</th></tr></thead><tbody><tr><td>300</td><td>Lara</td><td>F</td><td>15000</td><td>SALES</td></tr><tr><td>300</td><td>Lara</td><td>F</td><td>15000</td><td>SALES</td></tr><tr><td>300</td><td>Lara</td><td>F</td><td>15000</td><td>SALES</td></tr><tr><td>300</td><td>Lara</td><td>F</td><td>15000</td><td>SALES</td></tr><tr><td>300</td><td>Lara</td><td>F</td><td>15000</td><td>SALES</td></tr></tbody></table></div>"
      ]
     },
     "metadata": {
      "application/vnd.databricks.v1+output": {
       "addedWidgets": {},
       "aggData": [],
       "aggError": "",
       "aggOverflow": false,
       "aggSchema": [],
       "aggSeriesLimitReached": false,
       "aggType": "",
       "arguments": {},
       "columnCustomDisplayInfos": {},
       "data": [
        [
         300,
         "Lara",
         "F",
         15000,
         "SALES"
        ],
        [
         300,
         "Lara",
         "F",
         15000,
         "SALES"
        ],
        [
         300,
         "Lara",
         "F",
         15000,
         "SALES"
        ],
        [
         300,
         "Lara",
         "F",
         15000,
         "SALES"
        ],
        [
         300,
         "Lara",
         "F",
         15000,
         "SALES"
        ]
       ],
       "datasetInfos": [],
       "dbfsResultPath": null,
       "isJsonSchema": true,
       "metadata": {},
       "overflow": false,
       "plotOptions": {
        "customPlotOptions": {},
        "displayType": "table",
        "pivotAggregation": null,
        "pivotColumns": null,
        "xColumns": null,
        "yColumns": null
       },
       "removedWidgets": [],
       "schema": [
        {
         "metadata": "{}",
         "name": "emp_id",
         "type": "\"integer\""
        },
        {
         "metadata": "{}",
         "name": "emp_name",
         "type": "\"string\""
        },
        {
         "metadata": "{}",
         "name": "gender",
         "type": "\"string\""
        },
        {
         "metadata": "{}",
         "name": "salary",
         "type": "\"integer\""
        },
        {
         "metadata": "{}",
         "name": "dept",
         "type": "\"string\""
        }
       ],
       "type": "table"
      }
     },
     "output_type": "display_data"
    }
   ],
   "source": [
    "%sql\n",
    "\n",
    "select * from emp_demo"
   ]
  },
  {
   "cell_type": "code",
   "execution_count": 0,
   "metadata": {
    "application/vnd.databricks.v1+cell": {
     "cellMetadata": {
      "byteLimit": 2048000,
      "implicitDf": true,
      "rowLimit": 10000
     },
     "inputWidgets": {},
     "nuid": "7a001b0c-2f4f-4c96-b555-e8be4ee45c5d",
     "showTitle": false,
     "tableResultSettingsMap": {},
     "title": ""
    }
   },
   "outputs": [
    {
     "output_type": "display_data",
     "data": {
      "text/html": [
       "<style scoped>\n",
       "  .table-result-container {\n",
       "    max-height: 300px;\n",
       "    overflow: auto;\n",
       "  }\n",
       "  table, th, td {\n",
       "    border: 1px solid black;\n",
       "    border-collapse: collapse;\n",
       "  }\n",
       "  th, td {\n",
       "    padding: 5px;\n",
       "  }\n",
       "  th {\n",
       "    text-align: left;\n",
       "  }\n",
       "</style><div class='table-result-container'><table class='table-result'><thead style='background-color: white'><tr><th>table_size_after_restore</th><th>num_of_files_after_restore</th><th>num_removed_files</th><th>num_restored_files</th><th>removed_files_size</th><th>restored_files_size</th></tr></thead><tbody><tr><td>10644</td><td>7</td><td>5</td><td>7</td><td>7605</td><td>10644</td></tr></tbody></table></div>"
      ]
     },
     "metadata": {
      "application/vnd.databricks.v1+output": {
       "addedWidgets": {},
       "aggData": [],
       "aggError": "",
       "aggOverflow": false,
       "aggSchema": [],
       "aggSeriesLimitReached": false,
       "aggType": "",
       "arguments": {},
       "columnCustomDisplayInfos": {},
       "data": [
        [
         10644,
         7,
         5,
         7,
         7605,
         10644
        ]
       ],
       "datasetInfos": [],
       "dbfsResultPath": null,
       "isJsonSchema": true,
       "metadata": {},
       "overflow": false,
       "plotOptions": {
        "customPlotOptions": {},
        "displayType": "table",
        "pivotAggregation": null,
        "pivotColumns": null,
        "xColumns": null,
        "yColumns": null
       },
       "removedWidgets": [],
       "schema": [
        {
         "metadata": "{}",
         "name": "table_size_after_restore",
         "type": "\"long\""
        },
        {
         "metadata": "{}",
         "name": "num_of_files_after_restore",
         "type": "\"long\""
        },
        {
         "metadata": "{}",
         "name": "num_removed_files",
         "type": "\"long\""
        },
        {
         "metadata": "{}",
         "name": "num_restored_files",
         "type": "\"long\""
        },
        {
         "metadata": "{}",
         "name": "removed_files_size",
         "type": "\"long\""
        },
        {
         "metadata": "{}",
         "name": "restored_files_size",
         "type": "\"long\""
        }
       ],
       "type": "table"
      }
     },
     "output_type": "display_data"
    }
   ],
   "source": [
    "%sql\n",
    "\n",
    "restore table emp_demo to version as of 7"
   ]
  },
  {
   "cell_type": "code",
   "execution_count": 0,
   "metadata": {
    "application/vnd.databricks.v1+cell": {
     "cellMetadata": {
      "byteLimit": 2048000,
      "rowLimit": 10000
     },
     "inputWidgets": {},
     "nuid": "285bc473-295f-416d-9bc2-7899d5428d84",
     "showTitle": false,
     "tableResultSettingsMap": {},
     "title": ""
    }
   },
   "outputs": [
    {
     "output_type": "display_data",
     "data": {
      "text/html": [
       "<style scoped>\n",
       "  .table-result-container {\n",
       "    max-height: 300px;\n",
       "    overflow: auto;\n",
       "  }\n",
       "  table, th, td {\n",
       "    border: 1px solid black;\n",
       "    border-collapse: collapse;\n",
       "  }\n",
       "  th, td {\n",
       "    padding: 5px;\n",
       "  }\n",
       "  th {\n",
       "    text-align: left;\n",
       "  }\n",
       "</style><div class='table-result-container'><table class='table-result'><thead style='background-color: white'><tr><th>emp_id</th><th>emp_name</th><th>gender</th><th>salary</th><th>dept</th></tr></thead><tbody><tr><td>100</td><td>Stephen</td><td>M</td><td>2000</td><td>IT</td></tr><tr><td>100</td><td>Stephen</td><td>M</td><td>2000</td><td>IT</td></tr><tr><td>300</td><td>Lara</td><td>F</td><td>6000</td><td>SALES</td></tr><tr><td>300</td><td>Lara</td><td>F</td><td>6000</td><td>SALES</td></tr><tr><td>200</td><td>Philips</td><td>M</td><td>8000</td><td>HR</td></tr><tr><td>200</td><td>Philips</td><td>M</td><td>8000</td><td>HR</td></tr><tr><td>200</td><td>Philips</td><td>M</td><td>8000</td><td>HR</td></tr></tbody></table></div>"
      ]
     },
     "metadata": {
      "application/vnd.databricks.v1+output": {
       "addedWidgets": {},
       "aggData": [],
       "aggError": "",
       "aggOverflow": false,
       "aggSchema": [],
       "aggSeriesLimitReached": false,
       "aggType": "",
       "arguments": {},
       "columnCustomDisplayInfos": {},
       "data": [
        [
         100,
         "Stephen",
         "M",
         2000,
         "IT"
        ],
        [
         100,
         "Stephen",
         "M",
         2000,
         "IT"
        ],
        [
         300,
         "Lara",
         "F",
         6000,
         "SALES"
        ],
        [
         300,
         "Lara",
         "F",
         6000,
         "SALES"
        ],
        [
         200,
         "Philips",
         "M",
         8000,
         "HR"
        ],
        [
         200,
         "Philips",
         "M",
         8000,
         "HR"
        ],
        [
         200,
         "Philips",
         "M",
         8000,
         "HR"
        ]
       ],
       "datasetInfos": [],
       "dbfsResultPath": null,
       "isJsonSchema": true,
       "metadata": {},
       "overflow": false,
       "plotOptions": {
        "customPlotOptions": {},
        "displayType": "table",
        "pivotAggregation": null,
        "pivotColumns": null,
        "xColumns": null,
        "yColumns": null
       },
       "removedWidgets": [],
       "schema": [
        {
         "metadata": "{}",
         "name": "emp_id",
         "type": "\"integer\""
        },
        {
         "metadata": "{}",
         "name": "emp_name",
         "type": "\"string\""
        },
        {
         "metadata": "{}",
         "name": "gender",
         "type": "\"string\""
        },
        {
         "metadata": "{}",
         "name": "salary",
         "type": "\"integer\""
        },
        {
         "metadata": "{}",
         "name": "dept",
         "type": "\"string\""
        }
       ],
       "type": "table"
      }
     },
     "output_type": "display_data"
    }
   ],
   "source": [
    "display(di.toDF())"
   ]
  },
  {
   "cell_type": "code",
   "execution_count": 0,
   "metadata": {
    "application/vnd.databricks.v1+cell": {
     "cellMetadata": {
      "byteLimit": 2048000,
      "rowLimit": 10000
     },
     "inputWidgets": {},
     "nuid": "4b48a45c-afe4-43a9-bd3e-379729b455c2",
     "showTitle": false,
     "tableResultSettingsMap": {},
     "title": ""
    }
   },
   "outputs": [
    {
     "output_type": "display_data",
     "data": {
      "text/html": [
       "<style scoped>\n",
       "  .table-result-container {\n",
       "    max-height: 300px;\n",
       "    overflow: auto;\n",
       "  }\n",
       "  table, th, td {\n",
       "    border: 1px solid black;\n",
       "    border-collapse: collapse;\n",
       "  }\n",
       "  th, td {\n",
       "    padding: 5px;\n",
       "  }\n",
       "  th {\n",
       "    text-align: left;\n",
       "  }\n",
       "</style><div class='table-result-container'><table class='table-result'><thead style='background-color: white'><tr><th>version</th><th>timestamp</th><th>userId</th><th>userName</th><th>operation</th><th>operationParameters</th><th>job</th><th>notebook</th><th>clusterId</th><th>readVersion</th><th>isolationLevel</th><th>isBlindAppend</th><th>operationMetrics</th><th>userMetadata</th><th>engineInfo</th></tr></thead><tbody><tr><td>24</td><td>2025-01-21T05:03:43.000+0000</td><td>6367521402730934</td><td>molabantisravanth@gmail.com</td><td>RESTORE</td><td>Map(version -> 7, timestamp -> null)</td><td>null</td><td>List(508200138522909)</td><td>0121-045452-7f69q673</td><td>23</td><td>Serializable</td><td>false</td><td>Map(numRestoredFiles -> 7, removedFilesSize -> 7605, numRemovedFiles -> 5, restoredFilesSize -> 10644, numOfFilesAfterRestore -> 7, tableSizeAfterRestore -> 10644)</td><td>null</td><td>Databricks-Runtime/12.2.x-scala2.12</td></tr><tr><td>23</td><td>2025-01-21T05:03:01.000+0000</td><td>6367521402730934</td><td>molabantisravanth@gmail.com</td><td>UPDATE</td><td>Map(predicate -> [\"(emp_name#962 = Lara)\"])</td><td>null</td><td>List(508200138522909)</td><td>0121-045452-7f69q673</td><td>22</td><td>WriteSerializable</td><td>false</td><td>Map(numRemovedFiles -> 5, numRemovedBytes -> 7605, numCopiedRows -> 0, numDeletionVectorsAdded -> 0, numDeletionVectorsRemoved -> 0, numAddedChangeFiles -> 0, executionTimeMs -> 2630, scanTimeMs -> 1180, numAddedFiles -> 5, numUpdatedRows -> 5, numAddedBytes -> 7605, rewriteTimeMs -> 1449)</td><td>null</td><td>Databricks-Runtime/12.2.x-scala2.12</td></tr><tr><td>22</td><td>2025-01-21T05:02:53.000+0000</td><td>6367521402730934</td><td>molabantisravanth@gmail.com</td><td>DELETE</td><td>Map(predicate -> [\"(emp_id#961 = 100)\"])</td><td>null</td><td>List(508200138522909)</td><td>0121-045452-7f69q673</td><td>21</td><td>WriteSerializable</td><td>false</td><td>Map(numRemovedFiles -> 0, numRemovedBytes -> 0, numCopiedRows -> 0, numDeletionVectorsAdded -> 0, numDeletionVectorsRemoved -> 0, numAddedChangeFiles -> 0, executionTimeMs -> 209, numDeletedRows -> 0, scanTimeMs -> 208, numAddedFiles -> 0, numAddedBytes -> 0, rewriteTimeMs -> 0)</td><td>null</td><td>Databricks-Runtime/12.2.x-scala2.12</td></tr><tr><td>21</td><td>2025-01-21T05:02:46.000+0000</td><td>6367521402730934</td><td>molabantisravanth@gmail.com</td><td>DELETE</td><td>Map(predicate -> [\"(emp_id#6511 = 100)\"])</td><td>null</td><td>List(508200138522909)</td><td>0121-045452-7f69q673</td><td>20</td><td>WriteSerializable</td><td>false</td><td>Map(numRemovedFiles -> 3, numRemovedBytes -> 4563, numCopiedRows -> 0, numDeletionVectorsAdded -> 0, numDeletionVectorsRemoved -> 0, numAddedChangeFiles -> 0, executionTimeMs -> 2075, numDeletedRows -> 3, scanTimeMs -> 1038, numAddedFiles -> 0, numAddedBytes -> 0, rewriteTimeMs -> 1036)</td><td>null</td><td>Databricks-Runtime/12.2.x-scala2.12</td></tr><tr><td>20</td><td>2025-01-21T05:02:36.000+0000</td><td>6367521402730934</td><td>molabantisravanth@gmail.com</td><td>DELETE</td><td>Map(predicate -> [\"(emp_id#5576 = 200)\"])</td><td>null</td><td>List(508200138522909)</td><td>0121-045452-7f69q673</td><td>19</td><td>WriteSerializable</td><td>false</td><td>Map(numRemovedFiles -> 4, numRemovedBytes -> 6080, numCopiedRows -> 0, numDeletionVectorsAdded -> 0, numDeletionVectorsRemoved -> 0, numAddedChangeFiles -> 0, executionTimeMs -> 3758, numDeletedRows -> 4, scanTimeMs -> 2386, numAddedFiles -> 0, numAddedBytes -> 0, rewriteTimeMs -> 1330)</td><td>null</td><td>Databricks-Runtime/12.2.x-scala2.12</td></tr><tr><td>19</td><td>2025-01-21T05:02:23.000+0000</td><td>6367521402730934</td><td>molabantisravanth@gmail.com</td><td>WRITE</td><td>Map(mode -> Append, partitionBy -> [])</td><td>null</td><td>List(508200138522909)</td><td>0121-045452-7f69q673</td><td>18</td><td>WriteSerializable</td><td>true</td><td>Map(numFiles -> 1, numOutputRows -> 1, numOutputBytes -> 1521)</td><td>null</td><td>Databricks-Runtime/12.2.x-scala2.12</td></tr><tr><td>18</td><td>2025-01-21T05:02:19.000+0000</td><td>6367521402730934</td><td>molabantisravanth@gmail.com</td><td>WRITE</td><td>Map(mode -> Append, partitionBy -> [])</td><td>null</td><td>List(508200138522909)</td><td>0121-045452-7f69q673</td><td>17</td><td>WriteSerializable</td><td>true</td><td>Map(numFiles -> 1, numOutputRows -> 1, numOutputBytes -> 1521)</td><td>null</td><td>Databricks-Runtime/12.2.x-scala2.12</td></tr><tr><td>17</td><td>2025-01-21T05:02:09.000+0000</td><td>6367521402730934</td><td>molabantisravanth@gmail.com</td><td>WRITE</td><td>Map(mode -> Append, partitionBy -> [])</td><td>null</td><td>List(508200138522909)</td><td>0121-045452-7f69q673</td><td>16</td><td>WriteSerializable</td><td>true</td><td>Map(numFiles -> 1, numOutputRows -> 1, numOutputBytes -> 1521)</td><td>null</td><td>Databricks-Runtime/12.2.x-scala2.12</td></tr><tr><td>16</td><td>2025-01-21T05:01:58.000+0000</td><td>6367521402730934</td><td>molabantisravanth@gmail.com</td><td>WRITE</td><td>Map(mode -> Append, partitionBy -> [])</td><td>null</td><td>List(508200138522909)</td><td>0121-045452-7f69q673</td><td>15</td><td>WriteSerializable</td><td>true</td><td>Map(numFiles -> 1, numOutputRows -> 1, numOutputBytes -> 1520)</td><td>null</td><td>Databricks-Runtime/12.2.x-scala2.12</td></tr><tr><td>15</td><td>2025-01-21T05:01:41.000+0000</td><td>6367521402730934</td><td>molabantisravanth@gmail.com</td><td>WRITE</td><td>Map(mode -> Append, partitionBy -> [])</td><td>null</td><td>List(508200138522909)</td><td>0121-045452-7f69q673</td><td>14</td><td>WriteSerializable</td><td>true</td><td>Map(numFiles -> 1, numOutputRows -> 1, numOutputBytes -> 1521)</td><td>null</td><td>Databricks-Runtime/12.2.x-scala2.12</td></tr><tr><td>14</td><td>2025-01-20T09:17:15.000+0000</td><td>6367521402730934</td><td>molabantisravanth@gmail.com</td><td>RESTORE</td><td>Map(version -> 7, timestamp -> null)</td><td>null</td><td>List(508200138522909)</td><td>0120-085650-8syifd7w</td><td>13</td><td>Serializable</td><td>false</td><td>Map(numRestoredFiles -> 7, removedFilesSize -> 6084, numRemovedFiles -> 4, restoredFilesSize -> 10644, numOfFilesAfterRestore -> 7, tableSizeAfterRestore -> 10644)</td><td>null</td><td>Databricks-Runtime/12.2.x-scala2.12</td></tr><tr><td>13</td><td>2025-01-20T09:13:12.000+0000</td><td>6367521402730934</td><td>molabantisravanth@gmail.com</td><td>UPDATE</td><td>Map(predicate -> [\"(emp_name#1043 = Lara)\"])</td><td>null</td><td>List(508200138522909)</td><td>0120-085650-8syifd7w</td><td>12</td><td>WriteSerializable</td><td>false</td><td>Map(numRemovedFiles -> 4, numRemovedBytes -> 6084, numCopiedRows -> 0, numDeletionVectorsAdded -> 0, numDeletionVectorsRemoved -> 0, numAddedChangeFiles -> 0, executionTimeMs -> 2861, scanTimeMs -> 1326, numAddedFiles -> 4, numUpdatedRows -> 4, numAddedBytes -> 6084, rewriteTimeMs -> 1535)</td><td>null</td><td>Databricks-Runtime/12.2.x-scala2.12</td></tr><tr><td>12</td><td>2025-01-20T09:08:08.000+0000</td><td>6367521402730934</td><td>molabantisravanth@gmail.com</td><td>DELETE</td><td>Map(predicate -> [\"(emp_id#1042 = 100)\"])</td><td>null</td><td>List(508200138522909)</td><td>0120-085650-8syifd7w</td><td>11</td><td>WriteSerializable</td><td>false</td><td>Map(numRemovedFiles -> 0, numRemovedBytes -> 0, numCopiedRows -> 0, numDeletionVectorsAdded -> 0, numDeletionVectorsRemoved -> 0, numAddedChangeFiles -> 0, executionTimeMs -> 190, numDeletedRows -> 0, scanTimeMs -> 187, numAddedFiles -> 0, numAddedBytes -> 0, rewriteTimeMs -> 0)</td><td>null</td><td>Databricks-Runtime/12.2.x-scala2.12</td></tr><tr><td>11</td><td>2025-01-20T09:05:48.000+0000</td><td>6367521402730934</td><td>molabantisravanth@gmail.com</td><td>DELETE</td><td>Map(predicate -> [\"(emp_id#5453 = 100)\"])</td><td>null</td><td>List(508200138522909)</td><td>0120-085650-8syifd7w</td><td>10</td><td>WriteSerializable</td><td>false</td><td>Map(numRemovedFiles -> 2, numRemovedBytes -> 3042, numCopiedRows -> 0, numDeletionVectorsAdded -> 0, numDeletionVectorsRemoved -> 0, numAddedChangeFiles -> 0, executionTimeMs -> 1936, numDeletedRows -> 2, scanTimeMs -> 1171, numAddedFiles -> 0, numAddedBytes -> 0, rewriteTimeMs -> 760)</td><td>null</td><td>Databricks-Runtime/12.2.x-scala2.12</td></tr><tr><td>10</td><td>2025-01-20T09:04:28.000+0000</td><td>6367521402730934</td><td>molabantisravanth@gmail.com</td><td>DELETE</td><td>Map(predicate -> [\"(emp_id#4653 = 200)\"])</td><td>null</td><td>List(508200138522909)</td><td>0120-085650-8syifd7w</td><td>9</td><td>WriteSerializable</td><td>false</td><td>Map(numRemovedFiles -> 3, numRemovedBytes -> 4560, numCopiedRows -> 0, numDeletionVectorsAdded -> 0, numDeletionVectorsRemoved -> 0, numAddedChangeFiles -> 0, executionTimeMs -> 2953, numDeletedRows -> 3, scanTimeMs -> 1854, numAddedFiles -> 0, numAddedBytes -> 0, rewriteTimeMs -> 1083)</td><td>null</td><td>Databricks-Runtime/12.2.x-scala2.12</td></tr><tr><td>9</td><td>2025-01-20T09:02:27.000+0000</td><td>6367521402730934</td><td>molabantisravanth@gmail.com</td><td>WRITE</td><td>Map(mode -> Append, partitionBy -> [])</td><td>null</td><td>List(508200138522909)</td><td>0120-085650-8syifd7w</td><td>8</td><td>WriteSerializable</td><td>true</td><td>Map(numFiles -> 1, numOutputRows -> 1, numOutputBytes -> 1521)</td><td>null</td><td>Databricks-Runtime/12.2.x-scala2.12</td></tr><tr><td>8</td><td>2025-01-20T09:01:36.000+0000</td><td>6367521402730934</td><td>molabantisravanth@gmail.com</td><td>WRITE</td><td>Map(mode -> Append, partitionBy -> [])</td><td>null</td><td>List(508200138522909)</td><td>0120-085650-8syifd7w</td><td>7</td><td>WriteSerializable</td><td>true</td><td>Map(numFiles -> 1, numOutputRows -> 1, numOutputBytes -> 1521)</td><td>null</td><td>Databricks-Runtime/12.2.x-scala2.12</td></tr><tr><td>7</td><td>2025-01-20T09:00:46.000+0000</td><td>6367521402730934</td><td>molabantisravanth@gmail.com</td><td>WRITE</td><td>Map(mode -> Append, partitionBy -> [])</td><td>null</td><td>List(508200138522909)</td><td>0120-085650-8syifd7w</td><td>6</td><td>WriteSerializable</td><td>true</td><td>Map(numFiles -> 1, numOutputRows -> 1, numOutputBytes -> 1521)</td><td>null</td><td>Databricks-Runtime/12.2.x-scala2.12</td></tr><tr><td>6</td><td>2025-01-20T09:00:29.000+0000</td><td>6367521402730934</td><td>molabantisravanth@gmail.com</td><td>WRITE</td><td>Map(mode -> Append, partitionBy -> [])</td><td>null</td><td>List(508200138522909)</td><td>0120-085650-8syifd7w</td><td>5</td><td>WriteSerializable</td><td>true</td><td>Map(numFiles -> 1, numOutputRows -> 1, numOutputBytes -> 1520)</td><td>null</td><td>Databricks-Runtime/12.2.x-scala2.12</td></tr><tr><td>5</td><td>2025-01-20T09:00:08.000+0000</td><td>6367521402730934</td><td>molabantisravanth@gmail.com</td><td>WRITE</td><td>Map(mode -> Append, partitionBy -> [])</td><td>null</td><td>List(508200138522909)</td><td>0120-085650-8syifd7w</td><td>4</td><td>WriteSerializable</td><td>true</td><td>Map(numFiles -> 1, numOutputRows -> 1, numOutputBytes -> 1521)</td><td>null</td><td>Databricks-Runtime/12.2.x-scala2.12</td></tr><tr><td>4</td><td>2025-01-20T06:55:08.000+0000</td><td>6367521402730934</td><td>molabantisravanth@gmail.com</td><td>WRITE</td><td>Map(mode -> Append, partitionBy -> [])</td><td>null</td><td>List(508200138522909)</td><td>0120-060137-ckmac6d6</td><td>3</td><td>WriteSerializable</td><td>true</td><td>Map(numFiles -> 1, numOutputRows -> 1, numOutputBytes -> 1521)</td><td>null</td><td>Databricks-Runtime/12.2.x-scala2.12</td></tr><tr><td>3</td><td>2025-01-20T06:54:24.000+0000</td><td>6367521402730934</td><td>molabantisravanth@gmail.com</td><td>WRITE</td><td>Map(mode -> Append, partitionBy -> [])</td><td>null</td><td>List(508200138522909)</td><td>0120-060137-ckmac6d6</td><td>2</td><td>WriteSerializable</td><td>true</td><td>Map(numFiles -> 1, numOutputRows -> 1, numOutputBytes -> 1520)</td><td>null</td><td>Databricks-Runtime/12.2.x-scala2.12</td></tr><tr><td>2</td><td>2025-01-20T06:50:56.000+0000</td><td>6367521402730934</td><td>molabantisravanth@gmail.com</td><td>WRITE</td><td>Map(mode -> Append, partitionBy -> [])</td><td>null</td><td>List(508200138522909)</td><td>0120-060137-ckmac6d6</td><td>1</td><td>WriteSerializable</td><td>true</td><td>Map(numFiles -> 1, numOutputRows -> 1, numOutputBytes -> 1520)</td><td>null</td><td>Databricks-Runtime/12.2.x-scala2.12</td></tr><tr><td>1</td><td>2025-01-20T06:41:39.000+0000</td><td>6367521402730934</td><td>molabantisravanth@gmail.com</td><td>WRITE</td><td>Map(mode -> Append, partitionBy -> [])</td><td>null</td><td>List(508200138522909)</td><td>0120-060137-ckmac6d6</td><td>0</td><td>WriteSerializable</td><td>true</td><td>Map(numFiles -> 1, numOutputRows -> 1, numOutputBytes -> 1521)</td><td>null</td><td>Databricks-Runtime/12.2.x-scala2.12</td></tr><tr><td>0</td><td>2025-01-20T06:19:13.000+0000</td><td>6367521402730934</td><td>molabantisravanth@gmail.com</td><td>CREATE TABLE</td><td>Map(isManaged -> false, description -> null, partitionBy -> [], properties -> {\"description\":\"table created for demo purpose\"})</td><td>null</td><td>List(508200138522909)</td><td>0120-060137-ckmac6d6</td><td>null</td><td>WriteSerializable</td><td>true</td><td>Map()</td><td>null</td><td>Databricks-Runtime/12.2.x-scala2.12</td></tr></tbody></table></div>"
      ]
     },
     "metadata": {
      "application/vnd.databricks.v1+output": {
       "addedWidgets": {},
       "aggData": [],
       "aggError": "",
       "aggOverflow": false,
       "aggSchema": [],
       "aggSeriesLimitReached": false,
       "aggType": "",
       "arguments": {},
       "columnCustomDisplayInfos": {},
       "data": [
        [
         24,
         "2025-01-21T05:03:43.000+0000",
         "6367521402730934",
         "molabantisravanth@gmail.com",
         "RESTORE",
         {
          "timestamp": null,
          "version": "7"
         },
         null,
         [
          "508200138522909"
         ],
         "0121-045452-7f69q673",
         23,
         "Serializable",
         false,
         {
          "numOfFilesAfterRestore": "7",
          "numRemovedFiles": "5",
          "numRestoredFiles": "7",
          "removedFilesSize": "7605",
          "restoredFilesSize": "10644",
          "tableSizeAfterRestore": "10644"
         },
         null,
         "Databricks-Runtime/12.2.x-scala2.12"
        ],
        [
         23,
         "2025-01-21T05:03:01.000+0000",
         "6367521402730934",
         "molabantisravanth@gmail.com",
         "UPDATE",
         {
          "predicate": "[\"(emp_name#962 = Lara)\"]"
         },
         null,
         [
          "508200138522909"
         ],
         "0121-045452-7f69q673",
         22,
         "WriteSerializable",
         false,
         {
          "executionTimeMs": "2630",
          "numAddedBytes": "7605",
          "numAddedChangeFiles": "0",
          "numAddedFiles": "5",
          "numCopiedRows": "0",
          "numDeletionVectorsAdded": "0",
          "numDeletionVectorsRemoved": "0",
          "numRemovedBytes": "7605",
          "numRemovedFiles": "5",
          "numUpdatedRows": "5",
          "rewriteTimeMs": "1449",
          "scanTimeMs": "1180"
         },
         null,
         "Databricks-Runtime/12.2.x-scala2.12"
        ],
        [
         22,
         "2025-01-21T05:02:53.000+0000",
         "6367521402730934",
         "molabantisravanth@gmail.com",
         "DELETE",
         {
          "predicate": "[\"(emp_id#961 = 100)\"]"
         },
         null,
         [
          "508200138522909"
         ],
         "0121-045452-7f69q673",
         21,
         "WriteSerializable",
         false,
         {
          "executionTimeMs": "209",
          "numAddedBytes": "0",
          "numAddedChangeFiles": "0",
          "numAddedFiles": "0",
          "numCopiedRows": "0",
          "numDeletedRows": "0",
          "numDeletionVectorsAdded": "0",
          "numDeletionVectorsRemoved": "0",
          "numRemovedBytes": "0",
          "numRemovedFiles": "0",
          "rewriteTimeMs": "0",
          "scanTimeMs": "208"
         },
         null,
         "Databricks-Runtime/12.2.x-scala2.12"
        ],
        [
         21,
         "2025-01-21T05:02:46.000+0000",
         "6367521402730934",
         "molabantisravanth@gmail.com",
         "DELETE",
         {
          "predicate": "[\"(emp_id#6511 = 100)\"]"
         },
         null,
         [
          "508200138522909"
         ],
         "0121-045452-7f69q673",
         20,
         "WriteSerializable",
         false,
         {
          "executionTimeMs": "2075",
          "numAddedBytes": "0",
          "numAddedChangeFiles": "0",
          "numAddedFiles": "0",
          "numCopiedRows": "0",
          "numDeletedRows": "3",
          "numDeletionVectorsAdded": "0",
          "numDeletionVectorsRemoved": "0",
          "numRemovedBytes": "4563",
          "numRemovedFiles": "3",
          "rewriteTimeMs": "1036",
          "scanTimeMs": "1038"
         },
         null,
         "Databricks-Runtime/12.2.x-scala2.12"
        ],
        [
         20,
         "2025-01-21T05:02:36.000+0000",
         "6367521402730934",
         "molabantisravanth@gmail.com",
         "DELETE",
         {
          "predicate": "[\"(emp_id#5576 = 200)\"]"
         },
         null,
         [
          "508200138522909"
         ],
         "0121-045452-7f69q673",
         19,
         "WriteSerializable",
         false,
         {
          "executionTimeMs": "3758",
          "numAddedBytes": "0",
          "numAddedChangeFiles": "0",
          "numAddedFiles": "0",
          "numCopiedRows": "0",
          "numDeletedRows": "4",
          "numDeletionVectorsAdded": "0",
          "numDeletionVectorsRemoved": "0",
          "numRemovedBytes": "6080",
          "numRemovedFiles": "4",
          "rewriteTimeMs": "1330",
          "scanTimeMs": "2386"
         },
         null,
         "Databricks-Runtime/12.2.x-scala2.12"
        ],
        [
         19,
         "2025-01-21T05:02:23.000+0000",
         "6367521402730934",
         "molabantisravanth@gmail.com",
         "WRITE",
         {
          "mode": "Append",
          "partitionBy": "[]"
         },
         null,
         [
          "508200138522909"
         ],
         "0121-045452-7f69q673",
         18,
         "WriteSerializable",
         true,
         {
          "numFiles": "1",
          "numOutputBytes": "1521",
          "numOutputRows": "1"
         },
         null,
         "Databricks-Runtime/12.2.x-scala2.12"
        ],
        [
         18,
         "2025-01-21T05:02:19.000+0000",
         "6367521402730934",
         "molabantisravanth@gmail.com",
         "WRITE",
         {
          "mode": "Append",
          "partitionBy": "[]"
         },
         null,
         [
          "508200138522909"
         ],
         "0121-045452-7f69q673",
         17,
         "WriteSerializable",
         true,
         {
          "numFiles": "1",
          "numOutputBytes": "1521",
          "numOutputRows": "1"
         },
         null,
         "Databricks-Runtime/12.2.x-scala2.12"
        ],
        [
         17,
         "2025-01-21T05:02:09.000+0000",
         "6367521402730934",
         "molabantisravanth@gmail.com",
         "WRITE",
         {
          "mode": "Append",
          "partitionBy": "[]"
         },
         null,
         [
          "508200138522909"
         ],
         "0121-045452-7f69q673",
         16,
         "WriteSerializable",
         true,
         {
          "numFiles": "1",
          "numOutputBytes": "1521",
          "numOutputRows": "1"
         },
         null,
         "Databricks-Runtime/12.2.x-scala2.12"
        ],
        [
         16,
         "2025-01-21T05:01:58.000+0000",
         "6367521402730934",
         "molabantisravanth@gmail.com",
         "WRITE",
         {
          "mode": "Append",
          "partitionBy": "[]"
         },
         null,
         [
          "508200138522909"
         ],
         "0121-045452-7f69q673",
         15,
         "WriteSerializable",
         true,
         {
          "numFiles": "1",
          "numOutputBytes": "1520",
          "numOutputRows": "1"
         },
         null,
         "Databricks-Runtime/12.2.x-scala2.12"
        ],
        [
         15,
         "2025-01-21T05:01:41.000+0000",
         "6367521402730934",
         "molabantisravanth@gmail.com",
         "WRITE",
         {
          "mode": "Append",
          "partitionBy": "[]"
         },
         null,
         [
          "508200138522909"
         ],
         "0121-045452-7f69q673",
         14,
         "WriteSerializable",
         true,
         {
          "numFiles": "1",
          "numOutputBytes": "1521",
          "numOutputRows": "1"
         },
         null,
         "Databricks-Runtime/12.2.x-scala2.12"
        ],
        [
         14,
         "2025-01-20T09:17:15.000+0000",
         "6367521402730934",
         "molabantisravanth@gmail.com",
         "RESTORE",
         {
          "timestamp": null,
          "version": "7"
         },
         null,
         [
          "508200138522909"
         ],
         "0120-085650-8syifd7w",
         13,
         "Serializable",
         false,
         {
          "numOfFilesAfterRestore": "7",
          "numRemovedFiles": "4",
          "numRestoredFiles": "7",
          "removedFilesSize": "6084",
          "restoredFilesSize": "10644",
          "tableSizeAfterRestore": "10644"
         },
         null,
         "Databricks-Runtime/12.2.x-scala2.12"
        ],
        [
         13,
         "2025-01-20T09:13:12.000+0000",
         "6367521402730934",
         "molabantisravanth@gmail.com",
         "UPDATE",
         {
          "predicate": "[\"(emp_name#1043 = Lara)\"]"
         },
         null,
         [
          "508200138522909"
         ],
         "0120-085650-8syifd7w",
         12,
         "WriteSerializable",
         false,
         {
          "executionTimeMs": "2861",
          "numAddedBytes": "6084",
          "numAddedChangeFiles": "0",
          "numAddedFiles": "4",
          "numCopiedRows": "0",
          "numDeletionVectorsAdded": "0",
          "numDeletionVectorsRemoved": "0",
          "numRemovedBytes": "6084",
          "numRemovedFiles": "4",
          "numUpdatedRows": "4",
          "rewriteTimeMs": "1535",
          "scanTimeMs": "1326"
         },
         null,
         "Databricks-Runtime/12.2.x-scala2.12"
        ],
        [
         12,
         "2025-01-20T09:08:08.000+0000",
         "6367521402730934",
         "molabantisravanth@gmail.com",
         "DELETE",
         {
          "predicate": "[\"(emp_id#1042 = 100)\"]"
         },
         null,
         [
          "508200138522909"
         ],
         "0120-085650-8syifd7w",
         11,
         "WriteSerializable",
         false,
         {
          "executionTimeMs": "190",
          "numAddedBytes": "0",
          "numAddedChangeFiles": "0",
          "numAddedFiles": "0",
          "numCopiedRows": "0",
          "numDeletedRows": "0",
          "numDeletionVectorsAdded": "0",
          "numDeletionVectorsRemoved": "0",
          "numRemovedBytes": "0",
          "numRemovedFiles": "0",
          "rewriteTimeMs": "0",
          "scanTimeMs": "187"
         },
         null,
         "Databricks-Runtime/12.2.x-scala2.12"
        ],
        [
         11,
         "2025-01-20T09:05:48.000+0000",
         "6367521402730934",
         "molabantisravanth@gmail.com",
         "DELETE",
         {
          "predicate": "[\"(emp_id#5453 = 100)\"]"
         },
         null,
         [
          "508200138522909"
         ],
         "0120-085650-8syifd7w",
         10,
         "WriteSerializable",
         false,
         {
          "executionTimeMs": "1936",
          "numAddedBytes": "0",
          "numAddedChangeFiles": "0",
          "numAddedFiles": "0",
          "numCopiedRows": "0",
          "numDeletedRows": "2",
          "numDeletionVectorsAdded": "0",
          "numDeletionVectorsRemoved": "0",
          "numRemovedBytes": "3042",
          "numRemovedFiles": "2",
          "rewriteTimeMs": "760",
          "scanTimeMs": "1171"
         },
         null,
         "Databricks-Runtime/12.2.x-scala2.12"
        ],
        [
         10,
         "2025-01-20T09:04:28.000+0000",
         "6367521402730934",
         "molabantisravanth@gmail.com",
         "DELETE",
         {
          "predicate": "[\"(emp_id#4653 = 200)\"]"
         },
         null,
         [
          "508200138522909"
         ],
         "0120-085650-8syifd7w",
         9,
         "WriteSerializable",
         false,
         {
          "executionTimeMs": "2953",
          "numAddedBytes": "0",
          "numAddedChangeFiles": "0",
          "numAddedFiles": "0",
          "numCopiedRows": "0",
          "numDeletedRows": "3",
          "numDeletionVectorsAdded": "0",
          "numDeletionVectorsRemoved": "0",
          "numRemovedBytes": "4560",
          "numRemovedFiles": "3",
          "rewriteTimeMs": "1083",
          "scanTimeMs": "1854"
         },
         null,
         "Databricks-Runtime/12.2.x-scala2.12"
        ],
        [
         9,
         "2025-01-20T09:02:27.000+0000",
         "6367521402730934",
         "molabantisravanth@gmail.com",
         "WRITE",
         {
          "mode": "Append",
          "partitionBy": "[]"
         },
         null,
         [
          "508200138522909"
         ],
         "0120-085650-8syifd7w",
         8,
         "WriteSerializable",
         true,
         {
          "numFiles": "1",
          "numOutputBytes": "1521",
          "numOutputRows": "1"
         },
         null,
         "Databricks-Runtime/12.2.x-scala2.12"
        ],
        [
         8,
         "2025-01-20T09:01:36.000+0000",
         "6367521402730934",
         "molabantisravanth@gmail.com",
         "WRITE",
         {
          "mode": "Append",
          "partitionBy": "[]"
         },
         null,
         [
          "508200138522909"
         ],
         "0120-085650-8syifd7w",
         7,
         "WriteSerializable",
         true,
         {
          "numFiles": "1",
          "numOutputBytes": "1521",
          "numOutputRows": "1"
         },
         null,
         "Databricks-Runtime/12.2.x-scala2.12"
        ],
        [
         7,
         "2025-01-20T09:00:46.000+0000",
         "6367521402730934",
         "molabantisravanth@gmail.com",
         "WRITE",
         {
          "mode": "Append",
          "partitionBy": "[]"
         },
         null,
         [
          "508200138522909"
         ],
         "0120-085650-8syifd7w",
         6,
         "WriteSerializable",
         true,
         {
          "numFiles": "1",
          "numOutputBytes": "1521",
          "numOutputRows": "1"
         },
         null,
         "Databricks-Runtime/12.2.x-scala2.12"
        ],
        [
         6,
         "2025-01-20T09:00:29.000+0000",
         "6367521402730934",
         "molabantisravanth@gmail.com",
         "WRITE",
         {
          "mode": "Append",
          "partitionBy": "[]"
         },
         null,
         [
          "508200138522909"
         ],
         "0120-085650-8syifd7w",
         5,
         "WriteSerializable",
         true,
         {
          "numFiles": "1",
          "numOutputBytes": "1520",
          "numOutputRows": "1"
         },
         null,
         "Databricks-Runtime/12.2.x-scala2.12"
        ],
        [
         5,
         "2025-01-20T09:00:08.000+0000",
         "6367521402730934",
         "molabantisravanth@gmail.com",
         "WRITE",
         {
          "mode": "Append",
          "partitionBy": "[]"
         },
         null,
         [
          "508200138522909"
         ],
         "0120-085650-8syifd7w",
         4,
         "WriteSerializable",
         true,
         {
          "numFiles": "1",
          "numOutputBytes": "1521",
          "numOutputRows": "1"
         },
         null,
         "Databricks-Runtime/12.2.x-scala2.12"
        ],
        [
         4,
         "2025-01-20T06:55:08.000+0000",
         "6367521402730934",
         "molabantisravanth@gmail.com",
         "WRITE",
         {
          "mode": "Append",
          "partitionBy": "[]"
         },
         null,
         [
          "508200138522909"
         ],
         "0120-060137-ckmac6d6",
         3,
         "WriteSerializable",
         true,
         {
          "numFiles": "1",
          "numOutputBytes": "1521",
          "numOutputRows": "1"
         },
         null,
         "Databricks-Runtime/12.2.x-scala2.12"
        ],
        [
         3,
         "2025-01-20T06:54:24.000+0000",
         "6367521402730934",
         "molabantisravanth@gmail.com",
         "WRITE",
         {
          "mode": "Append",
          "partitionBy": "[]"
         },
         null,
         [
          "508200138522909"
         ],
         "0120-060137-ckmac6d6",
         2,
         "WriteSerializable",
         true,
         {
          "numFiles": "1",
          "numOutputBytes": "1520",
          "numOutputRows": "1"
         },
         null,
         "Databricks-Runtime/12.2.x-scala2.12"
        ],
        [
         2,
         "2025-01-20T06:50:56.000+0000",
         "6367521402730934",
         "molabantisravanth@gmail.com",
         "WRITE",
         {
          "mode": "Append",
          "partitionBy": "[]"
         },
         null,
         [
          "508200138522909"
         ],
         "0120-060137-ckmac6d6",
         1,
         "WriteSerializable",
         true,
         {
          "numFiles": "1",
          "numOutputBytes": "1520",
          "numOutputRows": "1"
         },
         null,
         "Databricks-Runtime/12.2.x-scala2.12"
        ],
        [
         1,
         "2025-01-20T06:41:39.000+0000",
         "6367521402730934",
         "molabantisravanth@gmail.com",
         "WRITE",
         {
          "mode": "Append",
          "partitionBy": "[]"
         },
         null,
         [
          "508200138522909"
         ],
         "0120-060137-ckmac6d6",
         0,
         "WriteSerializable",
         true,
         {
          "numFiles": "1",
          "numOutputBytes": "1521",
          "numOutputRows": "1"
         },
         null,
         "Databricks-Runtime/12.2.x-scala2.12"
        ],
        [
         0,
         "2025-01-20T06:19:13.000+0000",
         "6367521402730934",
         "molabantisravanth@gmail.com",
         "CREATE TABLE",
         {
          "description": null,
          "isManaged": "false",
          "partitionBy": "[]",
          "properties": "{\"description\":\"table created for demo purpose\"}"
         },
         null,
         [
          "508200138522909"
         ],
         "0120-060137-ckmac6d6",
         null,
         "WriteSerializable",
         true,
         {},
         null,
         "Databricks-Runtime/12.2.x-scala2.12"
        ]
       ],
       "datasetInfos": [],
       "dbfsResultPath": null,
       "isJsonSchema": true,
       "metadata": {},
       "overflow": false,
       "plotOptions": {
        "customPlotOptions": {},
        "displayType": "table",
        "pivotAggregation": null,
        "pivotColumns": null,
        "xColumns": null,
        "yColumns": null
       },
       "removedWidgets": [],
       "schema": [
        {
         "metadata": "{}",
         "name": "version",
         "type": "\"long\""
        },
        {
         "metadata": "{}",
         "name": "timestamp",
         "type": "\"timestamp\""
        },
        {
         "metadata": "{}",
         "name": "userId",
         "type": "\"string\""
        },
        {
         "metadata": "{}",
         "name": "userName",
         "type": "\"string\""
        },
        {
         "metadata": "{}",
         "name": "operation",
         "type": "\"string\""
        },
        {
         "metadata": "{}",
         "name": "operationParameters",
         "type": "{\"type\":\"map\",\"keyType\":\"string\",\"valueType\":\"string\",\"valueContainsNull\":true}"
        },
        {
         "metadata": "{}",
         "name": "job",
         "type": "{\"type\":\"struct\",\"fields\":[{\"name\":\"jobId\",\"type\":\"string\",\"nullable\":true,\"metadata\":{}},{\"name\":\"jobName\",\"type\":\"string\",\"nullable\":true,\"metadata\":{}},{\"name\":\"jobRunId\",\"type\":\"string\",\"nullable\":true,\"metadata\":{}},{\"name\":\"runId\",\"type\":\"string\",\"nullable\":true,\"metadata\":{}},{\"name\":\"jobOwnerId\",\"type\":\"string\",\"nullable\":true,\"metadata\":{}},{\"name\":\"triggerType\",\"type\":\"string\",\"nullable\":true,\"metadata\":{}}]}"
        },
        {
         "metadata": "{}",
         "name": "notebook",
         "type": "{\"type\":\"struct\",\"fields\":[{\"name\":\"notebookId\",\"type\":\"string\",\"nullable\":true,\"metadata\":{}}]}"
        },
        {
         "metadata": "{}",
         "name": "clusterId",
         "type": "\"string\""
        },
        {
         "metadata": "{}",
         "name": "readVersion",
         "type": "\"long\""
        },
        {
         "metadata": "{}",
         "name": "isolationLevel",
         "type": "\"string\""
        },
        {
         "metadata": "{}",
         "name": "isBlindAppend",
         "type": "\"boolean\""
        },
        {
         "metadata": "{}",
         "name": "operationMetrics",
         "type": "{\"type\":\"map\",\"keyType\":\"string\",\"valueType\":\"string\",\"valueContainsNull\":true}"
        },
        {
         "metadata": "{}",
         "name": "userMetadata",
         "type": "\"string\""
        },
        {
         "metadata": "{}",
         "name": "engineInfo",
         "type": "\"string\""
        }
       ],
       "type": "table"
      }
     },
     "output_type": "display_data"
    }
   ],
   "source": [
    "\n",
    "fullHistoryDF = di.history()    # get the full history of the table\n",
    "display(fullHistoryDF)"
   ]
  },
  {
   "cell_type": "code",
   "execution_count": 0,
   "metadata": {
    "application/vnd.databricks.v1+cell": {
     "cellMetadata": {
      "byteLimit": 2048000,
      "rowLimit": 10000
     },
     "inputWidgets": {},
     "nuid": "7bf66e10-85ad-4068-bb93-3a3ecfbc35d6",
     "showTitle": false,
     "tableResultSettingsMap": {},
     "title": ""
    }
   },
   "outputs": [],
   "source": [
    "from pyspark.sql.types import *\n",
    "from pyspark.sql.functions import *\n",
    "\n",
    "schema=StructType([\n",
    "    StructField(\"emp_id\",IntegerType(),True),\n",
    "    StructField(\"name\",StringType(),True),\n",
    "    StructField(\"city\",StringType(),True),\n",
    "    StructField(\"country\",StringType(),True),\n",
    "    StructField(\"contact_no\",IntegerType(),True),\n",
    "])"
   ]
  },
  {
   "cell_type": "code",
   "execution_count": 0,
   "metadata": {
    "application/vnd.databricks.v1+cell": {
     "cellMetadata": {
      "byteLimit": 2048000,
      "rowLimit": 10000
     },
     "inputWidgets": {},
     "nuid": "596f198e-5c50-46e3-83fa-74cc709658d4",
     "showTitle": false,
     "tableResultSettingsMap": {},
     "title": ""
    }
   },
   "outputs": [
    {
     "output_type": "display_data",
     "data": {
      "text/html": [
       "<style scoped>\n",
       "  .table-result-container {\n",
       "    max-height: 300px;\n",
       "    overflow: auto;\n",
       "  }\n",
       "  table, th, td {\n",
       "    border: 1px solid black;\n",
       "    border-collapse: collapse;\n",
       "  }\n",
       "  th, td {\n",
       "    padding: 5px;\n",
       "  }\n",
       "  th {\n",
       "    text-align: left;\n",
       "  }\n",
       "</style><div class='table-result-container'><table class='table-result'><thead style='background-color: white'><tr><th>emp_id</th><th>name</th><th>city</th><th>country</th><th>contact_no</th></tr></thead><tbody><tr><td>1000</td><td>Michael</td><td>Columbus</td><td>USA</td><td>689546323</td></tr></tbody></table></div>"
      ]
     },
     "metadata": {
      "application/vnd.databricks.v1+output": {
       "addedWidgets": {},
       "aggData": [],
       "aggError": "",
       "aggOverflow": false,
       "aggSchema": [],
       "aggSeriesLimitReached": false,
       "aggType": "",
       "arguments": {},
       "columnCustomDisplayInfos": {},
       "data": [
        [
         1000,
         "Michael",
         "Columbus",
         "USA",
         689546323
        ]
       ],
       "datasetInfos": [],
       "dbfsResultPath": null,
       "isJsonSchema": true,
       "metadata": {},
       "overflow": false,
       "plotOptions": {
        "customPlotOptions": {},
        "displayType": "table",
        "pivotAggregation": null,
        "pivotColumns": null,
        "xColumns": null,
        "yColumns": null
       },
       "removedWidgets": [],
       "schema": [
        {
         "metadata": "{}",
         "name": "emp_id",
         "type": "\"integer\""
        },
        {
         "metadata": "{}",
         "name": "name",
         "type": "\"string\""
        },
        {
         "metadata": "{}",
         "name": "city",
         "type": "\"string\""
        },
        {
         "metadata": "{}",
         "name": "country",
         "type": "\"string\""
        },
        {
         "metadata": "{}",
         "name": "contact_no",
         "type": "\"integer\""
        }
       ],
       "type": "table"
      }
     },
     "output_type": "display_data"
    }
   ],
   "source": [
    "data=[(1000,\"Michael\",\"Columbus\",\"USA\",689546323)]\n",
    "df2=spark.createDataFrame(data=data,schema=schema)\n",
    "display(df2)"
   ]
  },
  {
   "cell_type": "code",
   "execution_count": 0,
   "metadata": {
    "application/vnd.databricks.v1+cell": {
     "cellMetadata": {
      "byteLimit": 2048000,
      "implicitDf": true,
      "rowLimit": 10000
     },
     "inputWidgets": {},
     "nuid": "3d45bd91-06c1-4abe-9adb-cec5e1c603cf",
     "showTitle": false,
     "tableResultSettingsMap": {},
     "title": ""
    }
   },
   "outputs": [
    {
     "output_type": "display_data",
     "data": {
      "text/html": [
       "<style scoped>\n",
       "  .table-result-container {\n",
       "    max-height: 300px;\n",
       "    overflow: auto;\n",
       "  }\n",
       "  table, th, td {\n",
       "    border: 1px solid black;\n",
       "    border-collapse: collapse;\n",
       "  }\n",
       "  th, td {\n",
       "    padding: 5px;\n",
       "  }\n",
       "  th {\n",
       "    text-align: left;\n",
       "  }\n",
       "</style><div class='table-result-container'><table class='table-result'><thead style='background-color: white'><tr></tr></thead><tbody></tbody></table></div>"
      ]
     },
     "metadata": {
      "application/vnd.databricks.v1+output": {
       "addedWidgets": {},
       "aggData": [],
       "aggError": "",
       "aggOverflow": false,
       "aggSchema": [],
       "aggSeriesLimitReached": false,
       "aggType": "",
       "arguments": {},
       "columnCustomDisplayInfos": {},
       "data": [],
       "datasetInfos": [],
       "dbfsResultPath": null,
       "isJsonSchema": true,
       "metadata": {},
       "overflow": false,
       "plotOptions": {
        "customPlotOptions": {},
        "displayType": "table",
        "pivotAggregation": null,
        "pivotColumns": null,
        "xColumns": null,
        "yColumns": null
       },
       "removedWidgets": [],
       "schema": [],
       "type": "table"
      }
     },
     "output_type": "display_data"
    }
   ],
   "source": [
    "%sql\n",
    "\n",
    "CREATE OR REPLACE TABLE dim_emp(\n",
    "  emp_id INT,\n",
    "  name STRING,\n",
    "  city STRING,\n",
    "  country STRING,\n",
    "  contact_no INTEGER\n",
    ")\n",
    "USING DELTA\n",
    "LOCATION \"/FileStore/tables/delta_merge\""
   ]
  },
  {
   "cell_type": "code",
   "execution_count": 0,
   "metadata": {
    "application/vnd.databricks.v1+cell": {
     "cellMetadata": {
      "byteLimit": 2048000,
      "implicitDf": true,
      "rowLimit": 10000
     },
     "inputWidgets": {},
     "nuid": "727ab4e1-7d4a-4278-8cb2-dc8175a124c1",
     "showTitle": false,
     "tableResultSettingsMap": {},
     "title": ""
    }
   },
   "outputs": [
    {
     "output_type": "display_data",
     "data": {
      "text/html": [
       "<style scoped>\n",
       "  .table-result-container {\n",
       "    max-height: 300px;\n",
       "    overflow: auto;\n",
       "  }\n",
       "  table, th, td {\n",
       "    border: 1px solid black;\n",
       "    border-collapse: collapse;\n",
       "  }\n",
       "  th, td {\n",
       "    padding: 5px;\n",
       "  }\n",
       "  th {\n",
       "    text-align: left;\n",
       "  }\n",
       "</style><div class='table-result-container'><table class='table-result'><thead style='background-color: white'><tr><th>emp_id</th><th>name</th><th>city</th><th>country</th><th>contact_no</th></tr></thead><tbody></tbody></table></div>"
      ]
     },
     "metadata": {
      "application/vnd.databricks.v1+output": {
       "addedWidgets": {},
       "aggData": [],
       "aggError": "",
       "aggOverflow": false,
       "aggSchema": [],
       "aggSeriesLimitReached": false,
       "aggType": "",
       "arguments": {},
       "columnCustomDisplayInfos": {},
       "data": [],
       "datasetInfos": [],
       "dbfsResultPath": null,
       "isJsonSchema": true,
       "metadata": {},
       "overflow": false,
       "plotOptions": {
        "customPlotOptions": {},
        "displayType": "table",
        "pivotAggregation": null,
        "pivotColumns": null,
        "xColumns": null,
        "yColumns": null
       },
       "removedWidgets": [],
       "schema": [
        {
         "metadata": "{}",
         "name": "emp_id",
         "type": "\"integer\""
        },
        {
         "metadata": "{}",
         "name": "name",
         "type": "\"string\""
        },
        {
         "metadata": "{}",
         "name": "city",
         "type": "\"string\""
        },
        {
         "metadata": "{}",
         "name": "country",
         "type": "\"string\""
        },
        {
         "metadata": "{}",
         "name": "contact_no",
         "type": "\"integer\""
        }
       ],
       "type": "table"
      }
     },
     "output_type": "display_data"
    }
   ],
   "source": [
    "%sql\n",
    "\n",
    "select * from dim_emp"
   ]
  },
  {
   "cell_type": "code",
   "execution_count": 0,
   "metadata": {
    "application/vnd.databricks.v1+cell": {
     "cellMetadata": {
      "byteLimit": 2048000,
      "rowLimit": 10000
     },
     "inputWidgets": {},
     "nuid": "f77d2b83-76d4-4b9d-b495-bd458d382e92",
     "showTitle": false,
     "tableResultSettingsMap": {},
     "title": ""
    }
   },
   "outputs": [],
   "source": [
    "df2.createOrReplaceTempView(\"source_view\")"
   ]
  },
  {
   "cell_type": "code",
   "execution_count": 0,
   "metadata": {
    "application/vnd.databricks.v1+cell": {
     "cellMetadata": {
      "byteLimit": 2048000,
      "implicitDf": true,
      "rowLimit": 10000
     },
     "inputWidgets": {},
     "nuid": "4192aeff-67b8-4fa0-8917-70755e0493d7",
     "showTitle": false,
     "tableResultSettingsMap": {},
     "title": ""
    }
   },
   "outputs": [
    {
     "output_type": "display_data",
     "data": {
      "text/html": [
       "<style scoped>\n",
       "  .table-result-container {\n",
       "    max-height: 300px;\n",
       "    overflow: auto;\n",
       "  }\n",
       "  table, th, td {\n",
       "    border: 1px solid black;\n",
       "    border-collapse: collapse;\n",
       "  }\n",
       "  th, td {\n",
       "    padding: 5px;\n",
       "  }\n",
       "  th {\n",
       "    text-align: left;\n",
       "  }\n",
       "</style><div class='table-result-container'><table class='table-result'><thead style='background-color: white'><tr><th>emp_id</th><th>name</th><th>city</th><th>country</th><th>contact_no</th></tr></thead><tbody><tr><td>1000</td><td>Michael</td><td>Columbus</td><td>USA</td><td>689546323</td></tr></tbody></table></div>"
      ]
     },
     "metadata": {
      "application/vnd.databricks.v1+output": {
       "addedWidgets": {},
       "aggData": [],
       "aggError": "",
       "aggOverflow": false,
       "aggSchema": [],
       "aggSeriesLimitReached": false,
       "aggType": "",
       "arguments": {},
       "columnCustomDisplayInfos": {},
       "data": [
        [
         1000,
         "Michael",
         "Columbus",
         "USA",
         689546323
        ]
       ],
       "datasetInfos": [],
       "dbfsResultPath": null,
       "isJsonSchema": true,
       "metadata": {},
       "overflow": false,
       "plotOptions": {
        "customPlotOptions": {},
        "displayType": "table",
        "pivotAggregation": null,
        "pivotColumns": null,
        "xColumns": null,
        "yColumns": null
       },
       "removedWidgets": [],
       "schema": [
        {
         "metadata": "{}",
         "name": "emp_id",
         "type": "\"integer\""
        },
        {
         "metadata": "{}",
         "name": "name",
         "type": "\"string\""
        },
        {
         "metadata": "{}",
         "name": "city",
         "type": "\"string\""
        },
        {
         "metadata": "{}",
         "name": "country",
         "type": "\"string\""
        },
        {
         "metadata": "{}",
         "name": "contact_no",
         "type": "\"integer\""
        }
       ],
       "type": "table"
      }
     },
     "output_type": "display_data"
    }
   ],
   "source": [
    "%sql\n",
    "\n",
    "select * from source_view"
   ]
  },
  {
   "cell_type": "code",
   "execution_count": 0,
   "metadata": {
    "application/vnd.databricks.v1+cell": {
     "cellMetadata": {
      "byteLimit": 2048000,
      "implicitDf": true,
      "rowLimit": 10000
     },
     "inputWidgets": {},
     "nuid": "c654ab09-30f9-4ccf-81f6-2efb06faf9e8",
     "showTitle": false,
     "tableResultSettingsMap": {},
     "title": ""
    }
   },
   "outputs": [
    {
     "output_type": "display_data",
     "data": {
      "text/html": [
       "<style scoped>\n",
       "  .table-result-container {\n",
       "    max-height: 300px;\n",
       "    overflow: auto;\n",
       "  }\n",
       "  table, th, td {\n",
       "    border: 1px solid black;\n",
       "    border-collapse: collapse;\n",
       "  }\n",
       "  th, td {\n",
       "    padding: 5px;\n",
       "  }\n",
       "  th {\n",
       "    text-align: left;\n",
       "  }\n",
       "</style><div class='table-result-container'><table class='table-result'><thead style='background-color: white'><tr><th>emp_id</th><th>name</th><th>city</th><th>country</th><th>contact_no</th></tr></thead><tbody></tbody></table></div>"
      ]
     },
     "metadata": {
      "application/vnd.databricks.v1+output": {
       "addedWidgets": {},
       "aggData": [],
       "aggError": "",
       "aggOverflow": false,
       "aggSchema": [],
       "aggSeriesLimitReached": false,
       "aggType": "",
       "arguments": {},
       "columnCustomDisplayInfos": {},
       "data": [],
       "datasetInfos": [],
       "dbfsResultPath": null,
       "isJsonSchema": true,
       "metadata": {},
       "overflow": false,
       "plotOptions": {
        "customPlotOptions": {},
        "displayType": "table",
        "pivotAggregation": null,
        "pivotColumns": null,
        "xColumns": null,
        "yColumns": null
       },
       "removedWidgets": [],
       "schema": [
        {
         "metadata": "{}",
         "name": "emp_id",
         "type": "\"integer\""
        },
        {
         "metadata": "{}",
         "name": "name",
         "type": "\"string\""
        },
        {
         "metadata": "{}",
         "name": "city",
         "type": "\"string\""
        },
        {
         "metadata": "{}",
         "name": "country",
         "type": "\"string\""
        },
        {
         "metadata": "{}",
         "name": "contact_no",
         "type": "\"integer\""
        }
       ],
       "type": "table"
      }
     },
     "output_type": "display_data"
    }
   ],
   "source": [
    "%sql\n",
    "select * from dim_emp"
   ]
  },
  {
   "cell_type": "code",
   "execution_count": 0,
   "metadata": {
    "application/vnd.databricks.v1+cell": {
     "cellMetadata": {
      "byteLimit": 2048000,
      "implicitDf": true,
      "rowLimit": 10000
     },
     "inputWidgets": {},
     "nuid": "d21f1df4-949e-4d8f-89f7-11c5c5106591",
     "showTitle": false,
     "tableResultSettingsMap": {},
     "title": ""
    }
   },
   "outputs": [
    {
     "output_type": "display_data",
     "data": {
      "text/html": [
       "<style scoped>\n",
       "  .table-result-container {\n",
       "    max-height: 300px;\n",
       "    overflow: auto;\n",
       "  }\n",
       "  table, th, td {\n",
       "    border: 1px solid black;\n",
       "    border-collapse: collapse;\n",
       "  }\n",
       "  th, td {\n",
       "    padding: 5px;\n",
       "  }\n",
       "  th {\n",
       "    text-align: left;\n",
       "  }\n",
       "</style><div class='table-result-container'><table class='table-result'><thead style='background-color: white'><tr><th>num_affected_rows</th><th>num_updated_rows</th><th>num_deleted_rows</th><th>num_inserted_rows</th></tr></thead><tbody><tr><td>1</td><td>0</td><td>0</td><td>1</td></tr></tbody></table></div>"
      ]
     },
     "metadata": {
      "application/vnd.databricks.v1+output": {
       "addedWidgets": {},
       "aggData": [],
       "aggError": "",
       "aggOverflow": false,
       "aggSchema": [],
       "aggSeriesLimitReached": false,
       "aggType": "",
       "arguments": {},
       "columnCustomDisplayInfos": {},
       "data": [
        [
         1,
         0,
         0,
         1
        ]
       ],
       "datasetInfos": [],
       "dbfsResultPath": null,
       "isJsonSchema": true,
       "metadata": {},
       "overflow": false,
       "plotOptions": {
        "customPlotOptions": {},
        "displayType": "table",
        "pivotAggregation": null,
        "pivotColumns": null,
        "xColumns": null,
        "yColumns": null
       },
       "removedWidgets": [],
       "schema": [
        {
         "metadata": "{}",
         "name": "num_affected_rows",
         "type": "\"long\""
        },
        {
         "metadata": "{}",
         "name": "num_updated_rows",
         "type": "\"long\""
        },
        {
         "metadata": "{}",
         "name": "num_deleted_rows",
         "type": "\"long\""
        },
        {
         "metadata": "{}",
         "name": "num_inserted_rows",
         "type": "\"long\""
        }
       ],
       "type": "table"
      }
     },
     "output_type": "display_data"
    }
   ],
   "source": [
    "%sql\n",
    "\n",
    "MERGE INTO dim_emp as target\n",
    "USING source_view as source\n",
    "ON target.emp_id=source.emp_id\n",
    "WHEN MATCHED\n",
    "THEN UPDATE SET\n",
    "target.name=source.name,\n",
    "target.city=source.city,\n",
    "target.country=source.country,\n",
    "target.contact_no=source.contact_no\n",
    "WHEN NOT MATCHED THEN\n",
    "INSERT (emp_id,name,city,country,contact_no) VALUES (emp_id,name,city,country,contact_no)\n"
   ]
  },
  {
   "cell_type": "code",
   "execution_count": 0,
   "metadata": {
    "application/vnd.databricks.v1+cell": {
     "cellMetadata": {
      "byteLimit": 2048000,
      "implicitDf": true,
      "rowLimit": 10000
     },
     "inputWidgets": {},
     "nuid": "bba2226f-edf2-4b29-9045-8701b8895aeb",
     "showTitle": false,
     "tableResultSettingsMap": {},
     "title": ""
    }
   },
   "outputs": [
    {
     "output_type": "display_data",
     "data": {
      "text/html": [
       "<style scoped>\n",
       "  .table-result-container {\n",
       "    max-height: 300px;\n",
       "    overflow: auto;\n",
       "  }\n",
       "  table, th, td {\n",
       "    border: 1px solid black;\n",
       "    border-collapse: collapse;\n",
       "  }\n",
       "  th, td {\n",
       "    padding: 5px;\n",
       "  }\n",
       "  th {\n",
       "    text-align: left;\n",
       "  }\n",
       "</style><div class='table-result-container'><table class='table-result'><thead style='background-color: white'><tr><th>emp_id</th><th>name</th><th>city</th><th>country</th><th>contact_no</th></tr></thead><tbody><tr><td>1000</td><td>Michael</td><td>Columbus</td><td>USA</td><td>689546323</td></tr></tbody></table></div>"
      ]
     },
     "metadata": {
      "application/vnd.databricks.v1+output": {
       "addedWidgets": {},
       "aggData": [],
       "aggError": "",
       "aggOverflow": false,
       "aggSchema": [],
       "aggSeriesLimitReached": false,
       "aggType": "",
       "arguments": {},
       "columnCustomDisplayInfos": {},
       "data": [
        [
         1000,
         "Michael",
         "Columbus",
         "USA",
         689546323
        ]
       ],
       "datasetInfos": [],
       "dbfsResultPath": null,
       "isJsonSchema": true,
       "metadata": {},
       "overflow": false,
       "plotOptions": {
        "customPlotOptions": {},
        "displayType": "table",
        "pivotAggregation": null,
        "pivotColumns": null,
        "xColumns": null,
        "yColumns": null
       },
       "removedWidgets": [],
       "schema": [
        {
         "metadata": "{}",
         "name": "emp_id",
         "type": "\"integer\""
        },
        {
         "metadata": "{}",
         "name": "name",
         "type": "\"string\""
        },
        {
         "metadata": "{}",
         "name": "city",
         "type": "\"string\""
        },
        {
         "metadata": "{}",
         "name": "country",
         "type": "\"string\""
        },
        {
         "metadata": "{}",
         "name": "contact_no",
         "type": "\"integer\""
        }
       ],
       "type": "table"
      }
     },
     "output_type": "display_data"
    }
   ],
   "source": [
    "%sql\n",
    "\n",
    "select * from dim_emp"
   ]
  },
  {
   "cell_type": "code",
   "execution_count": 0,
   "metadata": {
    "application/vnd.databricks.v1+cell": {
     "cellMetadata": {
      "byteLimit": 2048000,
      "rowLimit": 10000
     },
     "inputWidgets": {},
     "nuid": "62835813-c8e7-43da-bf25-ef7f8ebcde32",
     "showTitle": false,
     "tableResultSettingsMap": {},
     "title": ""
    }
   },
   "outputs": [
    {
     "output_type": "display_data",
     "data": {
      "text/html": [
       "<style scoped>\n",
       "  .table-result-container {\n",
       "    max-height: 300px;\n",
       "    overflow: auto;\n",
       "  }\n",
       "  table, th, td {\n",
       "    border: 1px solid black;\n",
       "    border-collapse: collapse;\n",
       "  }\n",
       "  th, td {\n",
       "    padding: 5px;\n",
       "  }\n",
       "  th {\n",
       "    text-align: left;\n",
       "  }\n",
       "</style><div class='table-result-container'><table class='table-result'><thead style='background-color: white'><tr><th>emp_id</th><th>name</th><th>city</th><th>country</th><th>contact_no</th></tr></thead><tbody><tr><td>1000</td><td>Michael</td><td>Chicago</td><td>USA</td><td>689546323</td></tr><tr><td>2000</td><td>Nancy</td><td>New york</td><td>USA</td><td>765234098</td></tr></tbody></table></div>"
      ]
     },
     "metadata": {
      "application/vnd.databricks.v1+output": {
       "addedWidgets": {},
       "aggData": [],
       "aggError": "",
       "aggOverflow": false,
       "aggSchema": [],
       "aggSeriesLimitReached": false,
       "aggType": "",
       "arguments": {},
       "columnCustomDisplayInfos": {},
       "data": [
        [
         1000,
         "Michael",
         "Chicago",
         "USA",
         689546323
        ],
        [
         2000,
         "Nancy",
         "New york",
         "USA",
         765234098
        ]
       ],
       "datasetInfos": [],
       "dbfsResultPath": null,
       "isJsonSchema": true,
       "metadata": {},
       "overflow": false,
       "plotOptions": {
        "customPlotOptions": {},
        "displayType": "table",
        "pivotAggregation": null,
        "pivotColumns": null,
        "xColumns": null,
        "yColumns": null
       },
       "removedWidgets": [],
       "schema": [
        {
         "metadata": "{}",
         "name": "emp_id",
         "type": "\"integer\""
        },
        {
         "metadata": "{}",
         "name": "name",
         "type": "\"string\""
        },
        {
         "metadata": "{}",
         "name": "city",
         "type": "\"string\""
        },
        {
         "metadata": "{}",
         "name": "country",
         "type": "\"string\""
        },
        {
         "metadata": "{}",
         "name": "contact_no",
         "type": "\"integer\""
        }
       ],
       "type": "table"
      }
     },
     "output_type": "display_data"
    }
   ],
   "source": [
    "data=[(1000,\"Michael\",\"Chicago\",\"USA\",689546323),(2000,\"Nancy\",\"New york\",\"USA\",765234098)]\n",
    "\n",
    "df=spark.createDataFrame(data=data,schema=schema)\n",
    "\n",
    "display(df)"
   ]
  },
  {
   "cell_type": "code",
   "execution_count": 0,
   "metadata": {
    "application/vnd.databricks.v1+cell": {
     "cellMetadata": {
      "byteLimit": 2048000,
      "rowLimit": 10000
     },
     "inputWidgets": {},
     "nuid": "1e028d02-8f67-49df-8c57-8f940e1fe536",
     "showTitle": false,
     "tableResultSettingsMap": {},
     "title": ""
    }
   },
   "outputs": [],
   "source": [
    "df.createOrReplaceTempView(\"source_view\")"
   ]
  },
  {
   "cell_type": "code",
   "execution_count": 0,
   "metadata": {
    "application/vnd.databricks.v1+cell": {
     "cellMetadata": {
      "byteLimit": 2048000,
      "implicitDf": true,
      "rowLimit": 10000
     },
     "inputWidgets": {},
     "nuid": "03170a9c-d1c2-4b53-aefe-6c1e80c1472c",
     "showTitle": false,
     "tableResultSettingsMap": {},
     "title": ""
    }
   },
   "outputs": [
    {
     "output_type": "display_data",
     "data": {
      "text/html": [
       "<style scoped>\n",
       "  .table-result-container {\n",
       "    max-height: 300px;\n",
       "    overflow: auto;\n",
       "  }\n",
       "  table, th, td {\n",
       "    border: 1px solid black;\n",
       "    border-collapse: collapse;\n",
       "  }\n",
       "  th, td {\n",
       "    padding: 5px;\n",
       "  }\n",
       "  th {\n",
       "    text-align: left;\n",
       "  }\n",
       "</style><div class='table-result-container'><table class='table-result'><thead style='background-color: white'><tr><th>emp_id</th><th>name</th><th>city</th><th>country</th><th>contact_no</th></tr></thead><tbody><tr><td>1000</td><td>Michael</td><td>Chicago</td><td>USA</td><td>689546323</td></tr><tr><td>2000</td><td>Nancy</td><td>New york</td><td>USA</td><td>765234098</td></tr></tbody></table></div>"
      ]
     },
     "metadata": {
      "application/vnd.databricks.v1+output": {
       "addedWidgets": {},
       "aggData": [],
       "aggError": "",
       "aggOverflow": false,
       "aggSchema": [],
       "aggSeriesLimitReached": false,
       "aggType": "",
       "arguments": {},
       "columnCustomDisplayInfos": {},
       "data": [
        [
         1000,
         "Michael",
         "Chicago",
         "USA",
         689546323
        ],
        [
         2000,
         "Nancy",
         "New york",
         "USA",
         765234098
        ]
       ],
       "datasetInfos": [],
       "dbfsResultPath": null,
       "isJsonSchema": true,
       "metadata": {},
       "overflow": false,
       "plotOptions": {
        "customPlotOptions": {},
        "displayType": "table",
        "pivotAggregation": null,
        "pivotColumns": null,
        "xColumns": null,
        "yColumns": null
       },
       "removedWidgets": [],
       "schema": [
        {
         "metadata": "{}",
         "name": "emp_id",
         "type": "\"integer\""
        },
        {
         "metadata": "{}",
         "name": "name",
         "type": "\"string\""
        },
        {
         "metadata": "{}",
         "name": "city",
         "type": "\"string\""
        },
        {
         "metadata": "{}",
         "name": "country",
         "type": "\"string\""
        },
        {
         "metadata": "{}",
         "name": "contact_no",
         "type": "\"integer\""
        }
       ],
       "type": "table"
      }
     },
     "output_type": "display_data"
    }
   ],
   "source": [
    "%sql\n",
    "\n",
    "select * from source_view"
   ]
  },
  {
   "cell_type": "code",
   "execution_count": 0,
   "metadata": {
    "application/vnd.databricks.v1+cell": {
     "cellMetadata": {
      "byteLimit": 2048000,
      "implicitDf": true,
      "rowLimit": 10000
     },
     "inputWidgets": {},
     "nuid": "fe31d877-d9e3-4435-a790-a88f89cf6b0b",
     "showTitle": false,
     "tableResultSettingsMap": {},
     "title": ""
    }
   },
   "outputs": [
    {
     "output_type": "display_data",
     "data": {
      "text/html": [
       "<style scoped>\n",
       "  .table-result-container {\n",
       "    max-height: 300px;\n",
       "    overflow: auto;\n",
       "  }\n",
       "  table, th, td {\n",
       "    border: 1px solid black;\n",
       "    border-collapse: collapse;\n",
       "  }\n",
       "  th, td {\n",
       "    padding: 5px;\n",
       "  }\n",
       "  th {\n",
       "    text-align: left;\n",
       "  }\n",
       "</style><div class='table-result-container'><table class='table-result'><thead style='background-color: white'><tr><th>emp_id</th><th>name</th><th>city</th><th>country</th><th>contact_no</th></tr></thead><tbody><tr><td>1000</td><td>Michael</td><td>Columbus</td><td>USA</td><td>689546323</td></tr></tbody></table></div>"
      ]
     },
     "metadata": {
      "application/vnd.databricks.v1+output": {
       "addedWidgets": {},
       "aggData": [],
       "aggError": "",
       "aggOverflow": false,
       "aggSchema": [],
       "aggSeriesLimitReached": false,
       "aggType": "",
       "arguments": {},
       "columnCustomDisplayInfos": {},
       "data": [
        [
         1000,
         "Michael",
         "Columbus",
         "USA",
         689546323
        ]
       ],
       "datasetInfos": [],
       "dbfsResultPath": null,
       "isJsonSchema": true,
       "metadata": {},
       "overflow": false,
       "plotOptions": {
        "customPlotOptions": {},
        "displayType": "table",
        "pivotAggregation": null,
        "pivotColumns": null,
        "xColumns": null,
        "yColumns": null
       },
       "removedWidgets": [],
       "schema": [
        {
         "metadata": "{}",
         "name": "emp_id",
         "type": "\"integer\""
        },
        {
         "metadata": "{}",
         "name": "name",
         "type": "\"string\""
        },
        {
         "metadata": "{}",
         "name": "city",
         "type": "\"string\""
        },
        {
         "metadata": "{}",
         "name": "country",
         "type": "\"string\""
        },
        {
         "metadata": "{}",
         "name": "contact_no",
         "type": "\"integer\""
        }
       ],
       "type": "table"
      }
     },
     "output_type": "display_data"
    }
   ],
   "source": [
    "%sql\n",
    "\n",
    "select * from dim_emp"
   ]
  },
  {
   "cell_type": "code",
   "execution_count": 0,
   "metadata": {
    "application/vnd.databricks.v1+cell": {
     "cellMetadata": {
      "byteLimit": 2048000,
      "implicitDf": true,
      "rowLimit": 10000
     },
     "inputWidgets": {},
     "nuid": "3b0b618d-4a19-474f-9ae3-d74ca4d8c120",
     "showTitle": false,
     "tableResultSettingsMap": {},
     "title": ""
    }
   },
   "outputs": [
    {
     "output_type": "display_data",
     "data": {
      "text/html": [
       "<style scoped>\n",
       "  .table-result-container {\n",
       "    max-height: 300px;\n",
       "    overflow: auto;\n",
       "  }\n",
       "  table, th, td {\n",
       "    border: 1px solid black;\n",
       "    border-collapse: collapse;\n",
       "  }\n",
       "  th, td {\n",
       "    padding: 5px;\n",
       "  }\n",
       "  th {\n",
       "    text-align: left;\n",
       "  }\n",
       "</style><div class='table-result-container'><table class='table-result'><thead style='background-color: white'><tr><th>num_affected_rows</th><th>num_updated_rows</th><th>num_deleted_rows</th><th>num_inserted_rows</th></tr></thead><tbody><tr><td>2</td><td>1</td><td>0</td><td>1</td></tr></tbody></table></div>"
      ]
     },
     "metadata": {
      "application/vnd.databricks.v1+output": {
       "addedWidgets": {},
       "aggData": [],
       "aggError": "",
       "aggOverflow": false,
       "aggSchema": [],
       "aggSeriesLimitReached": false,
       "aggType": "",
       "arguments": {},
       "columnCustomDisplayInfos": {},
       "data": [
        [
         2,
         1,
         0,
         1
        ]
       ],
       "datasetInfos": [],
       "dbfsResultPath": null,
       "isJsonSchema": true,
       "metadata": {},
       "overflow": false,
       "plotOptions": {
        "customPlotOptions": {},
        "displayType": "table",
        "pivotAggregation": null,
        "pivotColumns": null,
        "xColumns": null,
        "yColumns": null
       },
       "removedWidgets": [],
       "schema": [
        {
         "metadata": "{}",
         "name": "num_affected_rows",
         "type": "\"long\""
        },
        {
         "metadata": "{}",
         "name": "num_updated_rows",
         "type": "\"long\""
        },
        {
         "metadata": "{}",
         "name": "num_deleted_rows",
         "type": "\"long\""
        },
        {
         "metadata": "{}",
         "name": "num_inserted_rows",
         "type": "\"long\""
        }
       ],
       "type": "table"
      }
     },
     "output_type": "display_data"
    }
   ],
   "source": [
    "%sql\n",
    "\n",
    "MERGE INTO dim_emp as target\n",
    "USING source_view as source\n",
    "ON target.emp_id=source.emp_id\n",
    "WHEN MATCHED\n",
    "THEN UPDATE SET\n",
    "target.name=source.name,\n",
    "target.city=source.city,\n",
    "target.country=source.country,\n",
    "target.contact_no=source.contact_no\n",
    "WHEN NOT MATCHED THEN\n",
    "INSERT (emp_id,name,city,country,contact_no) VALUES (emp_id,name,city,country,contact_no)\n"
   ]
  },
  {
   "cell_type": "code",
   "execution_count": 0,
   "metadata": {
    "application/vnd.databricks.v1+cell": {
     "cellMetadata": {
      "byteLimit": 2048000,
      "implicitDf": true,
      "rowLimit": 10000
     },
     "inputWidgets": {},
     "nuid": "4254be73-85f1-47d9-9bc1-4fe0d5062fa5",
     "showTitle": false,
     "tableResultSettingsMap": {},
     "title": ""
    }
   },
   "outputs": [
    {
     "output_type": "display_data",
     "data": {
      "text/html": [
       "<style scoped>\n",
       "  .table-result-container {\n",
       "    max-height: 300px;\n",
       "    overflow: auto;\n",
       "  }\n",
       "  table, th, td {\n",
       "    border: 1px solid black;\n",
       "    border-collapse: collapse;\n",
       "  }\n",
       "  th, td {\n",
       "    padding: 5px;\n",
       "  }\n",
       "  th {\n",
       "    text-align: left;\n",
       "  }\n",
       "</style><div class='table-result-container'><table class='table-result'><thead style='background-color: white'><tr><th>emp_id</th><th>name</th><th>city</th><th>country</th><th>contact_no</th></tr></thead><tbody><tr><td>1000</td><td>Michael</td><td>Chicago</td><td>USA</td><td>689546323</td></tr><tr><td>2000</td><td>Nancy</td><td>New york</td><td>USA</td><td>765234098</td></tr></tbody></table></div>"
      ]
     },
     "metadata": {
      "application/vnd.databricks.v1+output": {
       "addedWidgets": {},
       "aggData": [],
       "aggError": "",
       "aggOverflow": false,
       "aggSchema": [],
       "aggSeriesLimitReached": false,
       "aggType": "",
       "arguments": {},
       "columnCustomDisplayInfos": {},
       "data": [
        [
         1000,
         "Michael",
         "Chicago",
         "USA",
         689546323
        ],
        [
         2000,
         "Nancy",
         "New york",
         "USA",
         765234098
        ]
       ],
       "datasetInfos": [],
       "dbfsResultPath": null,
       "isJsonSchema": true,
       "metadata": {},
       "overflow": false,
       "plotOptions": {
        "customPlotOptions": {},
        "displayType": "table",
        "pivotAggregation": null,
        "pivotColumns": null,
        "xColumns": null,
        "yColumns": null
       },
       "removedWidgets": [],
       "schema": [
        {
         "metadata": "{}",
         "name": "emp_id",
         "type": "\"integer\""
        },
        {
         "metadata": "{}",
         "name": "name",
         "type": "\"string\""
        },
        {
         "metadata": "{}",
         "name": "city",
         "type": "\"string\""
        },
        {
         "metadata": "{}",
         "name": "country",
         "type": "\"string\""
        },
        {
         "metadata": "{}",
         "name": "contact_no",
         "type": "\"integer\""
        }
       ],
       "type": "table"
      }
     },
     "output_type": "display_data"
    }
   ],
   "source": [
    "%sql\n",
    "\n",
    "select * from dim_emp"
   ]
  },
  {
   "cell_type": "code",
   "execution_count": 0,
   "metadata": {
    "application/vnd.databricks.v1+cell": {
     "cellMetadata": {
      "byteLimit": 2048000,
      "implicitDf": true,
      "rowLimit": 10000
     },
     "inputWidgets": {},
     "nuid": "3d4eac3a-a5a4-4d22-83f5-1f2a38343449",
     "showTitle": false,
     "tableResultSettingsMap": {},
     "title": ""
    }
   },
   "outputs": [
    {
     "output_type": "display_data",
     "data": {
      "text/html": [
       "<style scoped>\n",
       "  .table-result-container {\n",
       "    max-height: 300px;\n",
       "    overflow: auto;\n",
       "  }\n",
       "  table, th, td {\n",
       "    border: 1px solid black;\n",
       "    border-collapse: collapse;\n",
       "  }\n",
       "  th, td {\n",
       "    padding: 5px;\n",
       "  }\n",
       "  th {\n",
       "    text-align: left;\n",
       "  }\n",
       "</style><div class='table-result-container'><table class='table-result'><thead style='background-color: white'><tr><th>version</th><th>timestamp</th><th>userId</th><th>userName</th><th>operation</th><th>operationParameters</th><th>job</th><th>notebook</th><th>clusterId</th><th>readVersion</th><th>isolationLevel</th><th>isBlindAppend</th><th>operationMetrics</th><th>userMetadata</th><th>engineInfo</th></tr></thead><tbody><tr><td>24</td><td>2025-01-21T05:03:43.000+0000</td><td>6367521402730934</td><td>molabantisravanth@gmail.com</td><td>RESTORE</td><td>Map(version -> 7, timestamp -> null)</td><td>null</td><td>List(508200138522909)</td><td>0121-045452-7f69q673</td><td>23</td><td>Serializable</td><td>false</td><td>Map(numRestoredFiles -> 7, removedFilesSize -> 7605, numRemovedFiles -> 5, restoredFilesSize -> 10644, numOfFilesAfterRestore -> 7, tableSizeAfterRestore -> 10644)</td><td>null</td><td>Databricks-Runtime/12.2.x-scala2.12</td></tr><tr><td>23</td><td>2025-01-21T05:03:01.000+0000</td><td>6367521402730934</td><td>molabantisravanth@gmail.com</td><td>UPDATE</td><td>Map(predicate -> [\"(emp_name#962 = Lara)\"])</td><td>null</td><td>List(508200138522909)</td><td>0121-045452-7f69q673</td><td>22</td><td>WriteSerializable</td><td>false</td><td>Map(numRemovedFiles -> 5, numRemovedBytes -> 7605, numCopiedRows -> 0, numDeletionVectorsAdded -> 0, numDeletionVectorsRemoved -> 0, numAddedChangeFiles -> 0, executionTimeMs -> 2630, scanTimeMs -> 1180, numAddedFiles -> 5, numUpdatedRows -> 5, numAddedBytes -> 7605, rewriteTimeMs -> 1449)</td><td>null</td><td>Databricks-Runtime/12.2.x-scala2.12</td></tr><tr><td>22</td><td>2025-01-21T05:02:53.000+0000</td><td>6367521402730934</td><td>molabantisravanth@gmail.com</td><td>DELETE</td><td>Map(predicate -> [\"(emp_id#961 = 100)\"])</td><td>null</td><td>List(508200138522909)</td><td>0121-045452-7f69q673</td><td>21</td><td>WriteSerializable</td><td>false</td><td>Map(numRemovedFiles -> 0, numRemovedBytes -> 0, numCopiedRows -> 0, numDeletionVectorsAdded -> 0, numDeletionVectorsRemoved -> 0, numAddedChangeFiles -> 0, executionTimeMs -> 209, numDeletedRows -> 0, scanTimeMs -> 208, numAddedFiles -> 0, numAddedBytes -> 0, rewriteTimeMs -> 0)</td><td>null</td><td>Databricks-Runtime/12.2.x-scala2.12</td></tr><tr><td>21</td><td>2025-01-21T05:02:46.000+0000</td><td>6367521402730934</td><td>molabantisravanth@gmail.com</td><td>DELETE</td><td>Map(predicate -> [\"(emp_id#6511 = 100)\"])</td><td>null</td><td>List(508200138522909)</td><td>0121-045452-7f69q673</td><td>20</td><td>WriteSerializable</td><td>false</td><td>Map(numRemovedFiles -> 3, numRemovedBytes -> 4563, numCopiedRows -> 0, numDeletionVectorsAdded -> 0, numDeletionVectorsRemoved -> 0, numAddedChangeFiles -> 0, executionTimeMs -> 2075, numDeletedRows -> 3, scanTimeMs -> 1038, numAddedFiles -> 0, numAddedBytes -> 0, rewriteTimeMs -> 1036)</td><td>null</td><td>Databricks-Runtime/12.2.x-scala2.12</td></tr><tr><td>20</td><td>2025-01-21T05:02:36.000+0000</td><td>6367521402730934</td><td>molabantisravanth@gmail.com</td><td>DELETE</td><td>Map(predicate -> [\"(emp_id#5576 = 200)\"])</td><td>null</td><td>List(508200138522909)</td><td>0121-045452-7f69q673</td><td>19</td><td>WriteSerializable</td><td>false</td><td>Map(numRemovedFiles -> 4, numRemovedBytes -> 6080, numCopiedRows -> 0, numDeletionVectorsAdded -> 0, numDeletionVectorsRemoved -> 0, numAddedChangeFiles -> 0, executionTimeMs -> 3758, numDeletedRows -> 4, scanTimeMs -> 2386, numAddedFiles -> 0, numAddedBytes -> 0, rewriteTimeMs -> 1330)</td><td>null</td><td>Databricks-Runtime/12.2.x-scala2.12</td></tr><tr><td>19</td><td>2025-01-21T05:02:23.000+0000</td><td>6367521402730934</td><td>molabantisravanth@gmail.com</td><td>WRITE</td><td>Map(mode -> Append, partitionBy -> [])</td><td>null</td><td>List(508200138522909)</td><td>0121-045452-7f69q673</td><td>18</td><td>WriteSerializable</td><td>true</td><td>Map(numFiles -> 1, numOutputRows -> 1, numOutputBytes -> 1521)</td><td>null</td><td>Databricks-Runtime/12.2.x-scala2.12</td></tr><tr><td>18</td><td>2025-01-21T05:02:19.000+0000</td><td>6367521402730934</td><td>molabantisravanth@gmail.com</td><td>WRITE</td><td>Map(mode -> Append, partitionBy -> [])</td><td>null</td><td>List(508200138522909)</td><td>0121-045452-7f69q673</td><td>17</td><td>WriteSerializable</td><td>true</td><td>Map(numFiles -> 1, numOutputRows -> 1, numOutputBytes -> 1521)</td><td>null</td><td>Databricks-Runtime/12.2.x-scala2.12</td></tr><tr><td>17</td><td>2025-01-21T05:02:09.000+0000</td><td>6367521402730934</td><td>molabantisravanth@gmail.com</td><td>WRITE</td><td>Map(mode -> Append, partitionBy -> [])</td><td>null</td><td>List(508200138522909)</td><td>0121-045452-7f69q673</td><td>16</td><td>WriteSerializable</td><td>true</td><td>Map(numFiles -> 1, numOutputRows -> 1, numOutputBytes -> 1521)</td><td>null</td><td>Databricks-Runtime/12.2.x-scala2.12</td></tr><tr><td>16</td><td>2025-01-21T05:01:58.000+0000</td><td>6367521402730934</td><td>molabantisravanth@gmail.com</td><td>WRITE</td><td>Map(mode -> Append, partitionBy -> [])</td><td>null</td><td>List(508200138522909)</td><td>0121-045452-7f69q673</td><td>15</td><td>WriteSerializable</td><td>true</td><td>Map(numFiles -> 1, numOutputRows -> 1, numOutputBytes -> 1520)</td><td>null</td><td>Databricks-Runtime/12.2.x-scala2.12</td></tr><tr><td>15</td><td>2025-01-21T05:01:41.000+0000</td><td>6367521402730934</td><td>molabantisravanth@gmail.com</td><td>WRITE</td><td>Map(mode -> Append, partitionBy -> [])</td><td>null</td><td>List(508200138522909)</td><td>0121-045452-7f69q673</td><td>14</td><td>WriteSerializable</td><td>true</td><td>Map(numFiles -> 1, numOutputRows -> 1, numOutputBytes -> 1521)</td><td>null</td><td>Databricks-Runtime/12.2.x-scala2.12</td></tr><tr><td>14</td><td>2025-01-20T09:17:15.000+0000</td><td>6367521402730934</td><td>molabantisravanth@gmail.com</td><td>RESTORE</td><td>Map(version -> 7, timestamp -> null)</td><td>null</td><td>List(508200138522909)</td><td>0120-085650-8syifd7w</td><td>13</td><td>Serializable</td><td>false</td><td>Map(numRestoredFiles -> 7, removedFilesSize -> 6084, numRemovedFiles -> 4, restoredFilesSize -> 10644, numOfFilesAfterRestore -> 7, tableSizeAfterRestore -> 10644)</td><td>null</td><td>Databricks-Runtime/12.2.x-scala2.12</td></tr><tr><td>13</td><td>2025-01-20T09:13:12.000+0000</td><td>6367521402730934</td><td>molabantisravanth@gmail.com</td><td>UPDATE</td><td>Map(predicate -> [\"(emp_name#1043 = Lara)\"])</td><td>null</td><td>List(508200138522909)</td><td>0120-085650-8syifd7w</td><td>12</td><td>WriteSerializable</td><td>false</td><td>Map(numRemovedFiles -> 4, numRemovedBytes -> 6084, numCopiedRows -> 0, numDeletionVectorsAdded -> 0, numDeletionVectorsRemoved -> 0, numAddedChangeFiles -> 0, executionTimeMs -> 2861, scanTimeMs -> 1326, numAddedFiles -> 4, numUpdatedRows -> 4, numAddedBytes -> 6084, rewriteTimeMs -> 1535)</td><td>null</td><td>Databricks-Runtime/12.2.x-scala2.12</td></tr><tr><td>12</td><td>2025-01-20T09:08:08.000+0000</td><td>6367521402730934</td><td>molabantisravanth@gmail.com</td><td>DELETE</td><td>Map(predicate -> [\"(emp_id#1042 = 100)\"])</td><td>null</td><td>List(508200138522909)</td><td>0120-085650-8syifd7w</td><td>11</td><td>WriteSerializable</td><td>false</td><td>Map(numRemovedFiles -> 0, numRemovedBytes -> 0, numCopiedRows -> 0, numDeletionVectorsAdded -> 0, numDeletionVectorsRemoved -> 0, numAddedChangeFiles -> 0, executionTimeMs -> 190, numDeletedRows -> 0, scanTimeMs -> 187, numAddedFiles -> 0, numAddedBytes -> 0, rewriteTimeMs -> 0)</td><td>null</td><td>Databricks-Runtime/12.2.x-scala2.12</td></tr><tr><td>11</td><td>2025-01-20T09:05:48.000+0000</td><td>6367521402730934</td><td>molabantisravanth@gmail.com</td><td>DELETE</td><td>Map(predicate -> [\"(emp_id#5453 = 100)\"])</td><td>null</td><td>List(508200138522909)</td><td>0120-085650-8syifd7w</td><td>10</td><td>WriteSerializable</td><td>false</td><td>Map(numRemovedFiles -> 2, numRemovedBytes -> 3042, numCopiedRows -> 0, numDeletionVectorsAdded -> 0, numDeletionVectorsRemoved -> 0, numAddedChangeFiles -> 0, executionTimeMs -> 1936, numDeletedRows -> 2, scanTimeMs -> 1171, numAddedFiles -> 0, numAddedBytes -> 0, rewriteTimeMs -> 760)</td><td>null</td><td>Databricks-Runtime/12.2.x-scala2.12</td></tr><tr><td>10</td><td>2025-01-20T09:04:28.000+0000</td><td>6367521402730934</td><td>molabantisravanth@gmail.com</td><td>DELETE</td><td>Map(predicate -> [\"(emp_id#4653 = 200)\"])</td><td>null</td><td>List(508200138522909)</td><td>0120-085650-8syifd7w</td><td>9</td><td>WriteSerializable</td><td>false</td><td>Map(numRemovedFiles -> 3, numRemovedBytes -> 4560, numCopiedRows -> 0, numDeletionVectorsAdded -> 0, numDeletionVectorsRemoved -> 0, numAddedChangeFiles -> 0, executionTimeMs -> 2953, numDeletedRows -> 3, scanTimeMs -> 1854, numAddedFiles -> 0, numAddedBytes -> 0, rewriteTimeMs -> 1083)</td><td>null</td><td>Databricks-Runtime/12.2.x-scala2.12</td></tr><tr><td>9</td><td>2025-01-20T09:02:27.000+0000</td><td>6367521402730934</td><td>molabantisravanth@gmail.com</td><td>WRITE</td><td>Map(mode -> Append, partitionBy -> [])</td><td>null</td><td>List(508200138522909)</td><td>0120-085650-8syifd7w</td><td>8</td><td>WriteSerializable</td><td>true</td><td>Map(numFiles -> 1, numOutputRows -> 1, numOutputBytes -> 1521)</td><td>null</td><td>Databricks-Runtime/12.2.x-scala2.12</td></tr><tr><td>8</td><td>2025-01-20T09:01:36.000+0000</td><td>6367521402730934</td><td>molabantisravanth@gmail.com</td><td>WRITE</td><td>Map(mode -> Append, partitionBy -> [])</td><td>null</td><td>List(508200138522909)</td><td>0120-085650-8syifd7w</td><td>7</td><td>WriteSerializable</td><td>true</td><td>Map(numFiles -> 1, numOutputRows -> 1, numOutputBytes -> 1521)</td><td>null</td><td>Databricks-Runtime/12.2.x-scala2.12</td></tr><tr><td>7</td><td>2025-01-20T09:00:46.000+0000</td><td>6367521402730934</td><td>molabantisravanth@gmail.com</td><td>WRITE</td><td>Map(mode -> Append, partitionBy -> [])</td><td>null</td><td>List(508200138522909)</td><td>0120-085650-8syifd7w</td><td>6</td><td>WriteSerializable</td><td>true</td><td>Map(numFiles -> 1, numOutputRows -> 1, numOutputBytes -> 1521)</td><td>null</td><td>Databricks-Runtime/12.2.x-scala2.12</td></tr><tr><td>6</td><td>2025-01-20T09:00:29.000+0000</td><td>6367521402730934</td><td>molabantisravanth@gmail.com</td><td>WRITE</td><td>Map(mode -> Append, partitionBy -> [])</td><td>null</td><td>List(508200138522909)</td><td>0120-085650-8syifd7w</td><td>5</td><td>WriteSerializable</td><td>true</td><td>Map(numFiles -> 1, numOutputRows -> 1, numOutputBytes -> 1520)</td><td>null</td><td>Databricks-Runtime/12.2.x-scala2.12</td></tr><tr><td>5</td><td>2025-01-20T09:00:08.000+0000</td><td>6367521402730934</td><td>molabantisravanth@gmail.com</td><td>WRITE</td><td>Map(mode -> Append, partitionBy -> [])</td><td>null</td><td>List(508200138522909)</td><td>0120-085650-8syifd7w</td><td>4</td><td>WriteSerializable</td><td>true</td><td>Map(numFiles -> 1, numOutputRows -> 1, numOutputBytes -> 1521)</td><td>null</td><td>Databricks-Runtime/12.2.x-scala2.12</td></tr><tr><td>4</td><td>2025-01-20T06:55:08.000+0000</td><td>6367521402730934</td><td>molabantisravanth@gmail.com</td><td>WRITE</td><td>Map(mode -> Append, partitionBy -> [])</td><td>null</td><td>List(508200138522909)</td><td>0120-060137-ckmac6d6</td><td>3</td><td>WriteSerializable</td><td>true</td><td>Map(numFiles -> 1, numOutputRows -> 1, numOutputBytes -> 1521)</td><td>null</td><td>Databricks-Runtime/12.2.x-scala2.12</td></tr><tr><td>3</td><td>2025-01-20T06:54:24.000+0000</td><td>6367521402730934</td><td>molabantisravanth@gmail.com</td><td>WRITE</td><td>Map(mode -> Append, partitionBy -> [])</td><td>null</td><td>List(508200138522909)</td><td>0120-060137-ckmac6d6</td><td>2</td><td>WriteSerializable</td><td>true</td><td>Map(numFiles -> 1, numOutputRows -> 1, numOutputBytes -> 1520)</td><td>null</td><td>Databricks-Runtime/12.2.x-scala2.12</td></tr><tr><td>2</td><td>2025-01-20T06:50:56.000+0000</td><td>6367521402730934</td><td>molabantisravanth@gmail.com</td><td>WRITE</td><td>Map(mode -> Append, partitionBy -> [])</td><td>null</td><td>List(508200138522909)</td><td>0120-060137-ckmac6d6</td><td>1</td><td>WriteSerializable</td><td>true</td><td>Map(numFiles -> 1, numOutputRows -> 1, numOutputBytes -> 1520)</td><td>null</td><td>Databricks-Runtime/12.2.x-scala2.12</td></tr><tr><td>1</td><td>2025-01-20T06:41:39.000+0000</td><td>6367521402730934</td><td>molabantisravanth@gmail.com</td><td>WRITE</td><td>Map(mode -> Append, partitionBy -> [])</td><td>null</td><td>List(508200138522909)</td><td>0120-060137-ckmac6d6</td><td>0</td><td>WriteSerializable</td><td>true</td><td>Map(numFiles -> 1, numOutputRows -> 1, numOutputBytes -> 1521)</td><td>null</td><td>Databricks-Runtime/12.2.x-scala2.12</td></tr><tr><td>0</td><td>2025-01-20T06:19:13.000+0000</td><td>6367521402730934</td><td>molabantisravanth@gmail.com</td><td>CREATE TABLE</td><td>Map(isManaged -> false, description -> null, partitionBy -> [], properties -> {\"description\":\"table created for demo purpose\"})</td><td>null</td><td>List(508200138522909)</td><td>0120-060137-ckmac6d6</td><td>null</td><td>WriteSerializable</td><td>true</td><td>Map()</td><td>null</td><td>Databricks-Runtime/12.2.x-scala2.12</td></tr></tbody></table></div>"
      ]
     },
     "metadata": {
      "application/vnd.databricks.v1+output": {
       "addedWidgets": {},
       "aggData": [],
       "aggError": "",
       "aggOverflow": false,
       "aggSchema": [],
       "aggSeriesLimitReached": false,
       "aggType": "",
       "arguments": {},
       "columnCustomDisplayInfos": {},
       "data": [
        [
         24,
         "2025-01-21T05:03:43.000+0000",
         "6367521402730934",
         "molabantisravanth@gmail.com",
         "RESTORE",
         {
          "timestamp": null,
          "version": "7"
         },
         null,
         [
          "508200138522909"
         ],
         "0121-045452-7f69q673",
         23,
         "Serializable",
         false,
         {
          "numOfFilesAfterRestore": "7",
          "numRemovedFiles": "5",
          "numRestoredFiles": "7",
          "removedFilesSize": "7605",
          "restoredFilesSize": "10644",
          "tableSizeAfterRestore": "10644"
         },
         null,
         "Databricks-Runtime/12.2.x-scala2.12"
        ],
        [
         23,
         "2025-01-21T05:03:01.000+0000",
         "6367521402730934",
         "molabantisravanth@gmail.com",
         "UPDATE",
         {
          "predicate": "[\"(emp_name#962 = Lara)\"]"
         },
         null,
         [
          "508200138522909"
         ],
         "0121-045452-7f69q673",
         22,
         "WriteSerializable",
         false,
         {
          "executionTimeMs": "2630",
          "numAddedBytes": "7605",
          "numAddedChangeFiles": "0",
          "numAddedFiles": "5",
          "numCopiedRows": "0",
          "numDeletionVectorsAdded": "0",
          "numDeletionVectorsRemoved": "0",
          "numRemovedBytes": "7605",
          "numRemovedFiles": "5",
          "numUpdatedRows": "5",
          "rewriteTimeMs": "1449",
          "scanTimeMs": "1180"
         },
         null,
         "Databricks-Runtime/12.2.x-scala2.12"
        ],
        [
         22,
         "2025-01-21T05:02:53.000+0000",
         "6367521402730934",
         "molabantisravanth@gmail.com",
         "DELETE",
         {
          "predicate": "[\"(emp_id#961 = 100)\"]"
         },
         null,
         [
          "508200138522909"
         ],
         "0121-045452-7f69q673",
         21,
         "WriteSerializable",
         false,
         {
          "executionTimeMs": "209",
          "numAddedBytes": "0",
          "numAddedChangeFiles": "0",
          "numAddedFiles": "0",
          "numCopiedRows": "0",
          "numDeletedRows": "0",
          "numDeletionVectorsAdded": "0",
          "numDeletionVectorsRemoved": "0",
          "numRemovedBytes": "0",
          "numRemovedFiles": "0",
          "rewriteTimeMs": "0",
          "scanTimeMs": "208"
         },
         null,
         "Databricks-Runtime/12.2.x-scala2.12"
        ],
        [
         21,
         "2025-01-21T05:02:46.000+0000",
         "6367521402730934",
         "molabantisravanth@gmail.com",
         "DELETE",
         {
          "predicate": "[\"(emp_id#6511 = 100)\"]"
         },
         null,
         [
          "508200138522909"
         ],
         "0121-045452-7f69q673",
         20,
         "WriteSerializable",
         false,
         {
          "executionTimeMs": "2075",
          "numAddedBytes": "0",
          "numAddedChangeFiles": "0",
          "numAddedFiles": "0",
          "numCopiedRows": "0",
          "numDeletedRows": "3",
          "numDeletionVectorsAdded": "0",
          "numDeletionVectorsRemoved": "0",
          "numRemovedBytes": "4563",
          "numRemovedFiles": "3",
          "rewriteTimeMs": "1036",
          "scanTimeMs": "1038"
         },
         null,
         "Databricks-Runtime/12.2.x-scala2.12"
        ],
        [
         20,
         "2025-01-21T05:02:36.000+0000",
         "6367521402730934",
         "molabantisravanth@gmail.com",
         "DELETE",
         {
          "predicate": "[\"(emp_id#5576 = 200)\"]"
         },
         null,
         [
          "508200138522909"
         ],
         "0121-045452-7f69q673",
         19,
         "WriteSerializable",
         false,
         {
          "executionTimeMs": "3758",
          "numAddedBytes": "0",
          "numAddedChangeFiles": "0",
          "numAddedFiles": "0",
          "numCopiedRows": "0",
          "numDeletedRows": "4",
          "numDeletionVectorsAdded": "0",
          "numDeletionVectorsRemoved": "0",
          "numRemovedBytes": "6080",
          "numRemovedFiles": "4",
          "rewriteTimeMs": "1330",
          "scanTimeMs": "2386"
         },
         null,
         "Databricks-Runtime/12.2.x-scala2.12"
        ],
        [
         19,
         "2025-01-21T05:02:23.000+0000",
         "6367521402730934",
         "molabantisravanth@gmail.com",
         "WRITE",
         {
          "mode": "Append",
          "partitionBy": "[]"
         },
         null,
         [
          "508200138522909"
         ],
         "0121-045452-7f69q673",
         18,
         "WriteSerializable",
         true,
         {
          "numFiles": "1",
          "numOutputBytes": "1521",
          "numOutputRows": "1"
         },
         null,
         "Databricks-Runtime/12.2.x-scala2.12"
        ],
        [
         18,
         "2025-01-21T05:02:19.000+0000",
         "6367521402730934",
         "molabantisravanth@gmail.com",
         "WRITE",
         {
          "mode": "Append",
          "partitionBy": "[]"
         },
         null,
         [
          "508200138522909"
         ],
         "0121-045452-7f69q673",
         17,
         "WriteSerializable",
         true,
         {
          "numFiles": "1",
          "numOutputBytes": "1521",
          "numOutputRows": "1"
         },
         null,
         "Databricks-Runtime/12.2.x-scala2.12"
        ],
        [
         17,
         "2025-01-21T05:02:09.000+0000",
         "6367521402730934",
         "molabantisravanth@gmail.com",
         "WRITE",
         {
          "mode": "Append",
          "partitionBy": "[]"
         },
         null,
         [
          "508200138522909"
         ],
         "0121-045452-7f69q673",
         16,
         "WriteSerializable",
         true,
         {
          "numFiles": "1",
          "numOutputBytes": "1521",
          "numOutputRows": "1"
         },
         null,
         "Databricks-Runtime/12.2.x-scala2.12"
        ],
        [
         16,
         "2025-01-21T05:01:58.000+0000",
         "6367521402730934",
         "molabantisravanth@gmail.com",
         "WRITE",
         {
          "mode": "Append",
          "partitionBy": "[]"
         },
         null,
         [
          "508200138522909"
         ],
         "0121-045452-7f69q673",
         15,
         "WriteSerializable",
         true,
         {
          "numFiles": "1",
          "numOutputBytes": "1520",
          "numOutputRows": "1"
         },
         null,
         "Databricks-Runtime/12.2.x-scala2.12"
        ],
        [
         15,
         "2025-01-21T05:01:41.000+0000",
         "6367521402730934",
         "molabantisravanth@gmail.com",
         "WRITE",
         {
          "mode": "Append",
          "partitionBy": "[]"
         },
         null,
         [
          "508200138522909"
         ],
         "0121-045452-7f69q673",
         14,
         "WriteSerializable",
         true,
         {
          "numFiles": "1",
          "numOutputBytes": "1521",
          "numOutputRows": "1"
         },
         null,
         "Databricks-Runtime/12.2.x-scala2.12"
        ],
        [
         14,
         "2025-01-20T09:17:15.000+0000",
         "6367521402730934",
         "molabantisravanth@gmail.com",
         "RESTORE",
         {
          "timestamp": null,
          "version": "7"
         },
         null,
         [
          "508200138522909"
         ],
         "0120-085650-8syifd7w",
         13,
         "Serializable",
         false,
         {
          "numOfFilesAfterRestore": "7",
          "numRemovedFiles": "4",
          "numRestoredFiles": "7",
          "removedFilesSize": "6084",
          "restoredFilesSize": "10644",
          "tableSizeAfterRestore": "10644"
         },
         null,
         "Databricks-Runtime/12.2.x-scala2.12"
        ],
        [
         13,
         "2025-01-20T09:13:12.000+0000",
         "6367521402730934",
         "molabantisravanth@gmail.com",
         "UPDATE",
         {
          "predicate": "[\"(emp_name#1043 = Lara)\"]"
         },
         null,
         [
          "508200138522909"
         ],
         "0120-085650-8syifd7w",
         12,
         "WriteSerializable",
         false,
         {
          "executionTimeMs": "2861",
          "numAddedBytes": "6084",
          "numAddedChangeFiles": "0",
          "numAddedFiles": "4",
          "numCopiedRows": "0",
          "numDeletionVectorsAdded": "0",
          "numDeletionVectorsRemoved": "0",
          "numRemovedBytes": "6084",
          "numRemovedFiles": "4",
          "numUpdatedRows": "4",
          "rewriteTimeMs": "1535",
          "scanTimeMs": "1326"
         },
         null,
         "Databricks-Runtime/12.2.x-scala2.12"
        ],
        [
         12,
         "2025-01-20T09:08:08.000+0000",
         "6367521402730934",
         "molabantisravanth@gmail.com",
         "DELETE",
         {
          "predicate": "[\"(emp_id#1042 = 100)\"]"
         },
         null,
         [
          "508200138522909"
         ],
         "0120-085650-8syifd7w",
         11,
         "WriteSerializable",
         false,
         {
          "executionTimeMs": "190",
          "numAddedBytes": "0",
          "numAddedChangeFiles": "0",
          "numAddedFiles": "0",
          "numCopiedRows": "0",
          "numDeletedRows": "0",
          "numDeletionVectorsAdded": "0",
          "numDeletionVectorsRemoved": "0",
          "numRemovedBytes": "0",
          "numRemovedFiles": "0",
          "rewriteTimeMs": "0",
          "scanTimeMs": "187"
         },
         null,
         "Databricks-Runtime/12.2.x-scala2.12"
        ],
        [
         11,
         "2025-01-20T09:05:48.000+0000",
         "6367521402730934",
         "molabantisravanth@gmail.com",
         "DELETE",
         {
          "predicate": "[\"(emp_id#5453 = 100)\"]"
         },
         null,
         [
          "508200138522909"
         ],
         "0120-085650-8syifd7w",
         10,
         "WriteSerializable",
         false,
         {
          "executionTimeMs": "1936",
          "numAddedBytes": "0",
          "numAddedChangeFiles": "0",
          "numAddedFiles": "0",
          "numCopiedRows": "0",
          "numDeletedRows": "2",
          "numDeletionVectorsAdded": "0",
          "numDeletionVectorsRemoved": "0",
          "numRemovedBytes": "3042",
          "numRemovedFiles": "2",
          "rewriteTimeMs": "760",
          "scanTimeMs": "1171"
         },
         null,
         "Databricks-Runtime/12.2.x-scala2.12"
        ],
        [
         10,
         "2025-01-20T09:04:28.000+0000",
         "6367521402730934",
         "molabantisravanth@gmail.com",
         "DELETE",
         {
          "predicate": "[\"(emp_id#4653 = 200)\"]"
         },
         null,
         [
          "508200138522909"
         ],
         "0120-085650-8syifd7w",
         9,
         "WriteSerializable",
         false,
         {
          "executionTimeMs": "2953",
          "numAddedBytes": "0",
          "numAddedChangeFiles": "0",
          "numAddedFiles": "0",
          "numCopiedRows": "0",
          "numDeletedRows": "3",
          "numDeletionVectorsAdded": "0",
          "numDeletionVectorsRemoved": "0",
          "numRemovedBytes": "4560",
          "numRemovedFiles": "3",
          "rewriteTimeMs": "1083",
          "scanTimeMs": "1854"
         },
         null,
         "Databricks-Runtime/12.2.x-scala2.12"
        ],
        [
         9,
         "2025-01-20T09:02:27.000+0000",
         "6367521402730934",
         "molabantisravanth@gmail.com",
         "WRITE",
         {
          "mode": "Append",
          "partitionBy": "[]"
         },
         null,
         [
          "508200138522909"
         ],
         "0120-085650-8syifd7w",
         8,
         "WriteSerializable",
         true,
         {
          "numFiles": "1",
          "numOutputBytes": "1521",
          "numOutputRows": "1"
         },
         null,
         "Databricks-Runtime/12.2.x-scala2.12"
        ],
        [
         8,
         "2025-01-20T09:01:36.000+0000",
         "6367521402730934",
         "molabantisravanth@gmail.com",
         "WRITE",
         {
          "mode": "Append",
          "partitionBy": "[]"
         },
         null,
         [
          "508200138522909"
         ],
         "0120-085650-8syifd7w",
         7,
         "WriteSerializable",
         true,
         {
          "numFiles": "1",
          "numOutputBytes": "1521",
          "numOutputRows": "1"
         },
         null,
         "Databricks-Runtime/12.2.x-scala2.12"
        ],
        [
         7,
         "2025-01-20T09:00:46.000+0000",
         "6367521402730934",
         "molabantisravanth@gmail.com",
         "WRITE",
         {
          "mode": "Append",
          "partitionBy": "[]"
         },
         null,
         [
          "508200138522909"
         ],
         "0120-085650-8syifd7w",
         6,
         "WriteSerializable",
         true,
         {
          "numFiles": "1",
          "numOutputBytes": "1521",
          "numOutputRows": "1"
         },
         null,
         "Databricks-Runtime/12.2.x-scala2.12"
        ],
        [
         6,
         "2025-01-20T09:00:29.000+0000",
         "6367521402730934",
         "molabantisravanth@gmail.com",
         "WRITE",
         {
          "mode": "Append",
          "partitionBy": "[]"
         },
         null,
         [
          "508200138522909"
         ],
         "0120-085650-8syifd7w",
         5,
         "WriteSerializable",
         true,
         {
          "numFiles": "1",
          "numOutputBytes": "1520",
          "numOutputRows": "1"
         },
         null,
         "Databricks-Runtime/12.2.x-scala2.12"
        ],
        [
         5,
         "2025-01-20T09:00:08.000+0000",
         "6367521402730934",
         "molabantisravanth@gmail.com",
         "WRITE",
         {
          "mode": "Append",
          "partitionBy": "[]"
         },
         null,
         [
          "508200138522909"
         ],
         "0120-085650-8syifd7w",
         4,
         "WriteSerializable",
         true,
         {
          "numFiles": "1",
          "numOutputBytes": "1521",
          "numOutputRows": "1"
         },
         null,
         "Databricks-Runtime/12.2.x-scala2.12"
        ],
        [
         4,
         "2025-01-20T06:55:08.000+0000",
         "6367521402730934",
         "molabantisravanth@gmail.com",
         "WRITE",
         {
          "mode": "Append",
          "partitionBy": "[]"
         },
         null,
         [
          "508200138522909"
         ],
         "0120-060137-ckmac6d6",
         3,
         "WriteSerializable",
         true,
         {
          "numFiles": "1",
          "numOutputBytes": "1521",
          "numOutputRows": "1"
         },
         null,
         "Databricks-Runtime/12.2.x-scala2.12"
        ],
        [
         3,
         "2025-01-20T06:54:24.000+0000",
         "6367521402730934",
         "molabantisravanth@gmail.com",
         "WRITE",
         {
          "mode": "Append",
          "partitionBy": "[]"
         },
         null,
         [
          "508200138522909"
         ],
         "0120-060137-ckmac6d6",
         2,
         "WriteSerializable",
         true,
         {
          "numFiles": "1",
          "numOutputBytes": "1520",
          "numOutputRows": "1"
         },
         null,
         "Databricks-Runtime/12.2.x-scala2.12"
        ],
        [
         2,
         "2025-01-20T06:50:56.000+0000",
         "6367521402730934",
         "molabantisravanth@gmail.com",
         "WRITE",
         {
          "mode": "Append",
          "partitionBy": "[]"
         },
         null,
         [
          "508200138522909"
         ],
         "0120-060137-ckmac6d6",
         1,
         "WriteSerializable",
         true,
         {
          "numFiles": "1",
          "numOutputBytes": "1520",
          "numOutputRows": "1"
         },
         null,
         "Databricks-Runtime/12.2.x-scala2.12"
        ],
        [
         1,
         "2025-01-20T06:41:39.000+0000",
         "6367521402730934",
         "molabantisravanth@gmail.com",
         "WRITE",
         {
          "mode": "Append",
          "partitionBy": "[]"
         },
         null,
         [
          "508200138522909"
         ],
         "0120-060137-ckmac6d6",
         0,
         "WriteSerializable",
         true,
         {
          "numFiles": "1",
          "numOutputBytes": "1521",
          "numOutputRows": "1"
         },
         null,
         "Databricks-Runtime/12.2.x-scala2.12"
        ],
        [
         0,
         "2025-01-20T06:19:13.000+0000",
         "6367521402730934",
         "molabantisravanth@gmail.com",
         "CREATE TABLE",
         {
          "description": null,
          "isManaged": "false",
          "partitionBy": "[]",
          "properties": "{\"description\":\"table created for demo purpose\"}"
         },
         null,
         [
          "508200138522909"
         ],
         "0120-060137-ckmac6d6",
         null,
         "WriteSerializable",
         true,
         {},
         null,
         "Databricks-Runtime/12.2.x-scala2.12"
        ]
       ],
       "datasetInfos": [],
       "dbfsResultPath": null,
       "isJsonSchema": true,
       "metadata": {},
       "overflow": false,
       "plotOptions": {
        "customPlotOptions": {},
        "displayType": "table",
        "pivotAggregation": null,
        "pivotColumns": null,
        "xColumns": null,
        "yColumns": null
       },
       "removedWidgets": [],
       "schema": [
        {
         "metadata": "{}",
         "name": "version",
         "type": "\"long\""
        },
        {
         "metadata": "{}",
         "name": "timestamp",
         "type": "\"timestamp\""
        },
        {
         "metadata": "{}",
         "name": "userId",
         "type": "\"string\""
        },
        {
         "metadata": "{}",
         "name": "userName",
         "type": "\"string\""
        },
        {
         "metadata": "{}",
         "name": "operation",
         "type": "\"string\""
        },
        {
         "metadata": "{}",
         "name": "operationParameters",
         "type": "{\"type\":\"map\",\"keyType\":\"string\",\"valueType\":\"string\",\"valueContainsNull\":true}"
        },
        {
         "metadata": "{}",
         "name": "job",
         "type": "{\"type\":\"struct\",\"fields\":[{\"name\":\"jobId\",\"type\":\"string\",\"nullable\":true,\"metadata\":{}},{\"name\":\"jobName\",\"type\":\"string\",\"nullable\":true,\"metadata\":{}},{\"name\":\"jobRunId\",\"type\":\"string\",\"nullable\":true,\"metadata\":{}},{\"name\":\"runId\",\"type\":\"string\",\"nullable\":true,\"metadata\":{}},{\"name\":\"jobOwnerId\",\"type\":\"string\",\"nullable\":true,\"metadata\":{}},{\"name\":\"triggerType\",\"type\":\"string\",\"nullable\":true,\"metadata\":{}}]}"
        },
        {
         "metadata": "{}",
         "name": "notebook",
         "type": "{\"type\":\"struct\",\"fields\":[{\"name\":\"notebookId\",\"type\":\"string\",\"nullable\":true,\"metadata\":{}}]}"
        },
        {
         "metadata": "{}",
         "name": "clusterId",
         "type": "\"string\""
        },
        {
         "metadata": "{}",
         "name": "readVersion",
         "type": "\"long\""
        },
        {
         "metadata": "{}",
         "name": "isolationLevel",
         "type": "\"string\""
        },
        {
         "metadata": "{}",
         "name": "isBlindAppend",
         "type": "\"boolean\""
        },
        {
         "metadata": "{}",
         "name": "operationMetrics",
         "type": "{\"type\":\"map\",\"keyType\":\"string\",\"valueType\":\"string\",\"valueContainsNull\":true}"
        },
        {
         "metadata": "{}",
         "name": "userMetadata",
         "type": "\"string\""
        },
        {
         "metadata": "{}",
         "name": "engineInfo",
         "type": "\"string\""
        }
       ],
       "type": "table"
      }
     },
     "output_type": "display_data"
    }
   ],
   "source": [
    "%sql\n",
    "\n",
    "desc history emp_demo"
   ]
  },
  {
   "cell_type": "code",
   "execution_count": 0,
   "metadata": {
    "application/vnd.databricks.v1+cell": {
     "cellMetadata": {
      "byteLimit": 2048000,
      "implicitDf": true,
      "rowLimit": 10000
     },
     "inputWidgets": {},
     "nuid": "ab5b3ba0-485b-4dbe-9a90-3dc811ab78b4",
     "showTitle": false,
     "tableResultSettingsMap": {},
     "title": ""
    }
   },
   "outputs": [
    {
     "output_type": "display_data",
     "data": {
      "text/html": [
       "<style scoped>\n",
       "  .table-result-container {\n",
       "    max-height: 300px;\n",
       "    overflow: auto;\n",
       "  }\n",
       "  table, th, td {\n",
       "    border: 1px solid black;\n",
       "    border-collapse: collapse;\n",
       "  }\n",
       "  th, td {\n",
       "    padding: 5px;\n",
       "  }\n",
       "  th {\n",
       "    text-align: left;\n",
       "  }\n",
       "</style><div class='table-result-container'><table class='table-result'><thead style='background-color: white'><tr></tr></thead><tbody></tbody></table></div>"
      ]
     },
     "metadata": {
      "application/vnd.databricks.v1+output": {
       "addedWidgets": {},
       "aggData": [],
       "aggError": "",
       "aggOverflow": false,
       "aggSchema": [],
       "aggSeriesLimitReached": false,
       "aggType": "",
       "arguments": {},
       "columnCustomDisplayInfos": {},
       "data": [],
       "datasetInfos": [],
       "dbfsResultPath": null,
       "isJsonSchema": true,
       "metadata": {},
       "overflow": false,
       "plotOptions": {
        "customPlotOptions": {},
        "displayType": "table",
        "pivotAggregation": null,
        "pivotColumns": null,
        "xColumns": null,
        "yColumns": null
       },
       "removedWidgets": [],
       "schema": [],
       "type": "table"
      }
     },
     "output_type": "display_data"
    }
   ],
   "source": [
    "%sql\n",
    "\n",
    "CREATE OR REPLACE TABLE scd2Demo(\n",
    "  pk1 INT,\n",
    "  pk2 STRING,\n",
    "  dim1 INT,\n",
    "  dim2 INT,\n",
    "  dim3 INT,\n",
    "  dim4 INT,\n",
    "  active_status STRING,\n",
    "  start_date TIMESTAMP,\n",
    "  end_date TIMESTAMP\n",
    ")\n",
    "USING DELTA\n",
    "LOCATION '/FileStore/tables/scd2Demo'"
   ]
  },
  {
   "cell_type": "code",
   "execution_count": 0,
   "metadata": {
    "application/vnd.databricks.v1+cell": {
     "cellMetadata": {
      "byteLimit": 2048000,
      "implicitDf": true,
      "rowLimit": 10000
     },
     "inputWidgets": {},
     "nuid": "b2b2d43a-36fa-415c-b4fb-336b75898677",
     "showTitle": false,
     "tableResultSettingsMap": {},
     "title": ""
    }
   },
   "outputs": [
    {
     "output_type": "display_data",
     "data": {
      "text/html": [
       "<style scoped>\n",
       "  .table-result-container {\n",
       "    max-height: 300px;\n",
       "    overflow: auto;\n",
       "  }\n",
       "  table, th, td {\n",
       "    border: 1px solid black;\n",
       "    border-collapse: collapse;\n",
       "  }\n",
       "  th, td {\n",
       "    padding: 5px;\n",
       "  }\n",
       "  th {\n",
       "    text-align: left;\n",
       "  }\n",
       "</style><div class='table-result-container'><table class='table-result'><thead style='background-color: white'><tr><th>pk1</th><th>pk2</th><th>dim1</th><th>dim2</th><th>dim3</th><th>dim4</th><th>active_status</th><th>start_date</th><th>end_date</th></tr></thead><tbody></tbody></table></div>"
      ]
     },
     "metadata": {
      "application/vnd.databricks.v1+output": {
       "addedWidgets": {},
       "aggData": [],
       "aggError": "",
       "aggOverflow": false,
       "aggSchema": [],
       "aggSeriesLimitReached": false,
       "aggType": "",
       "arguments": {},
       "columnCustomDisplayInfos": {},
       "data": [],
       "datasetInfos": [],
       "dbfsResultPath": null,
       "isJsonSchema": true,
       "metadata": {},
       "overflow": false,
       "plotOptions": {
        "customPlotOptions": {},
        "displayType": "table",
        "pivotAggregation": null,
        "pivotColumns": null,
        "xColumns": null,
        "yColumns": null
       },
       "removedWidgets": [],
       "schema": [
        {
         "metadata": "{}",
         "name": "pk1",
         "type": "\"integer\""
        },
        {
         "metadata": "{}",
         "name": "pk2",
         "type": "\"string\""
        },
        {
         "metadata": "{}",
         "name": "dim1",
         "type": "\"integer\""
        },
        {
         "metadata": "{}",
         "name": "dim2",
         "type": "\"integer\""
        },
        {
         "metadata": "{}",
         "name": "dim3",
         "type": "\"integer\""
        },
        {
         "metadata": "{}",
         "name": "dim4",
         "type": "\"integer\""
        },
        {
         "metadata": "{}",
         "name": "active_status",
         "type": "\"string\""
        },
        {
         "metadata": "{}",
         "name": "start_date",
         "type": "\"timestamp\""
        },
        {
         "metadata": "{}",
         "name": "end_date",
         "type": "\"timestamp\""
        }
       ],
       "type": "table"
      }
     },
     "output_type": "display_data"
    }
   ],
   "source": [
    "%sql\n",
    "\n",
    "select * from scd2Demo"
   ]
  },
  {
   "cell_type": "code",
   "execution_count": 0,
   "metadata": {
    "application/vnd.databricks.v1+cell": {
     "cellMetadata": {
      "byteLimit": 2048000,
      "implicitDf": true,
      "rowLimit": 10000
     },
     "inputWidgets": {},
     "nuid": "64098860-4ba6-40be-8376-ca6d2069c33b",
     "showTitle": false,
     "tableResultSettingsMap": {},
     "title": ""
    }
   },
   "outputs": [
    {
     "output_type": "display_data",
     "data": {
      "text/html": [
       "<style scoped>\n",
       "  .table-result-container {\n",
       "    max-height: 300px;\n",
       "    overflow: auto;\n",
       "  }\n",
       "  table, th, td {\n",
       "    border: 1px solid black;\n",
       "    border-collapse: collapse;\n",
       "  }\n",
       "  th, td {\n",
       "    padding: 5px;\n",
       "  }\n",
       "  th {\n",
       "    text-align: left;\n",
       "  }\n",
       "</style><div class='table-result-container'><table class='table-result'><thead style='background-color: white'><tr><th>version</th><th>timestamp</th><th>userId</th><th>userName</th><th>operation</th><th>operationParameters</th><th>job</th><th>notebook</th><th>clusterId</th><th>readVersion</th><th>isolationLevel</th><th>isBlindAppend</th><th>operationMetrics</th><th>userMetadata</th><th>engineInfo</th></tr></thead><tbody><tr><td>0</td><td>2025-01-21T05:48:47.000+0000</td><td>6367521402730934</td><td>molabantisravanth@gmail.com</td><td>CREATE OR REPLACE TABLE</td><td>Map(isManaged -> false, description -> null, partitionBy -> [], properties -> {})</td><td>null</td><td>List(508200138522909)</td><td>0121-045452-7f69q673</td><td>null</td><td>WriteSerializable</td><td>true</td><td>Map()</td><td>null</td><td>Databricks-Runtime/12.2.x-scala2.12</td></tr></tbody></table></div>"
      ]
     },
     "metadata": {
      "application/vnd.databricks.v1+output": {
       "addedWidgets": {},
       "aggData": [],
       "aggError": "",
       "aggOverflow": false,
       "aggSchema": [],
       "aggSeriesLimitReached": false,
       "aggType": "",
       "arguments": {},
       "columnCustomDisplayInfos": {},
       "data": [
        [
         0,
         "2025-01-21T05:48:47.000+0000",
         "6367521402730934",
         "molabantisravanth@gmail.com",
         "CREATE OR REPLACE TABLE",
         {
          "description": null,
          "isManaged": "false",
          "partitionBy": "[]",
          "properties": "{}"
         },
         null,
         [
          "508200138522909"
         ],
         "0121-045452-7f69q673",
         null,
         "WriteSerializable",
         true,
         {},
         null,
         "Databricks-Runtime/12.2.x-scala2.12"
        ]
       ],
       "datasetInfos": [],
       "dbfsResultPath": null,
       "isJsonSchema": true,
       "metadata": {},
       "overflow": false,
       "plotOptions": {
        "customPlotOptions": {},
        "displayType": "table",
        "pivotAggregation": null,
        "pivotColumns": null,
        "xColumns": null,
        "yColumns": null
       },
       "removedWidgets": [],
       "schema": [
        {
         "metadata": "{}",
         "name": "version",
         "type": "\"long\""
        },
        {
         "metadata": "{}",
         "name": "timestamp",
         "type": "\"timestamp\""
        },
        {
         "metadata": "{}",
         "name": "userId",
         "type": "\"string\""
        },
        {
         "metadata": "{}",
         "name": "userName",
         "type": "\"string\""
        },
        {
         "metadata": "{}",
         "name": "operation",
         "type": "\"string\""
        },
        {
         "metadata": "{}",
         "name": "operationParameters",
         "type": "{\"type\":\"map\",\"keyType\":\"string\",\"valueType\":\"string\",\"valueContainsNull\":true}"
        },
        {
         "metadata": "{}",
         "name": "job",
         "type": "{\"type\":\"struct\",\"fields\":[{\"name\":\"jobId\",\"type\":\"string\",\"nullable\":true,\"metadata\":{}},{\"name\":\"jobName\",\"type\":\"string\",\"nullable\":true,\"metadata\":{}},{\"name\":\"jobRunId\",\"type\":\"string\",\"nullable\":true,\"metadata\":{}},{\"name\":\"runId\",\"type\":\"string\",\"nullable\":true,\"metadata\":{}},{\"name\":\"jobOwnerId\",\"type\":\"string\",\"nullable\":true,\"metadata\":{}},{\"name\":\"triggerType\",\"type\":\"string\",\"nullable\":true,\"metadata\":{}}]}"
        },
        {
         "metadata": "{}",
         "name": "notebook",
         "type": "{\"type\":\"struct\",\"fields\":[{\"name\":\"notebookId\",\"type\":\"string\",\"nullable\":true,\"metadata\":{}}]}"
        },
        {
         "metadata": "{}",
         "name": "clusterId",
         "type": "\"string\""
        },
        {
         "metadata": "{}",
         "name": "readVersion",
         "type": "\"long\""
        },
        {
         "metadata": "{}",
         "name": "isolationLevel",
         "type": "\"string\""
        },
        {
         "metadata": "{}",
         "name": "isBlindAppend",
         "type": "\"boolean\""
        },
        {
         "metadata": "{}",
         "name": "operationMetrics",
         "type": "{\"type\":\"map\",\"keyType\":\"string\",\"valueType\":\"string\",\"valueContainsNull\":true}"
        },
        {
         "metadata": "{}",
         "name": "userMetadata",
         "type": "\"string\""
        },
        {
         "metadata": "{}",
         "name": "engineInfo",
         "type": "\"string\""
        }
       ],
       "type": "table"
      }
     },
     "output_type": "display_data"
    }
   ],
   "source": [
    "%sql\n",
    "\n",
    "desc history scd2Demo"
   ]
  },
  {
   "cell_type": "code",
   "execution_count": 0,
   "metadata": {
    "application/vnd.databricks.v1+cell": {
     "cellMetadata": {},
     "inputWidgets": {},
     "nuid": "bb3eda3c-a9f5-4e40-8921-ca326cb07242",
     "showTitle": false,
     "tableResultSettingsMap": {},
     "title": ""
    }
   },
   "outputs": [],
   "source": []
  }
 ],
 "metadata": {
  "application/vnd.databricks.v1+notebook": {
   "computePreferences": null,
   "dashboards": [],
   "environmentMetadata": {
    "base_environment": "",
    "client": "1"
   },
   "language": "python",
   "notebookMetadata": {
    "mostRecentlyExecutedCommandWithImplicitDF": {
     "commandId": 1046823022822594,
     "dataframes": [
      "_sqldf"
     ]
    },
    "pythonIndentUnit": 4
   },
   "notebookName": "Delta Lake -v2 2025-01-20 11:31:12",
   "widgets": {}
  }
 },
 "nbformat": 4,
 "nbformat_minor": 0
}
